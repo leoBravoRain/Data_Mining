{
 "cells": [
  {
   "cell_type": "code",
   "execution_count": 19,
   "metadata": {},
   "outputs": [
    {
     "data": {
      "text/plain": [
       "(50, 2)"
      ]
     },
     "execution_count": 19,
     "metadata": {},
     "output_type": "execute_result"
    }
   ],
   "source": [
    "import pandas as pd\n",
    "\n",
    "# file name\n",
    "file = 'MAD_tecnologia1.csv'\n",
    "\n",
    "# load data\n",
    "df = pd.read_csv(file,sep='|',error_bad_lines=False,header=None)\n",
    "\n",
    "# format to date time\n",
    "df[0] = pd.to_datetime(df[0])\n",
    "\n",
    "# Define news dataframe\n",
    "news = df[[0,3]]\n",
    "\n",
    "# take first 50\n",
    "news = news.loc[1:50]\n",
    "\n",
    "# add column names\n",
    "news.columns = ['date','new']"
   ]
  },
  {
   "cell_type": "code",
   "execution_count": 20,
   "metadata": {},
   "outputs": [],
   "source": [
    "# Create tokenizer\n",
    "\n",
    "import spacy\n",
    "nlp = spacy.load(\"es_core_news_sm\")\n",
    "\n",
    "\n",
    "def spacy_tokenizer(sentence):\n",
    "    # Creating our token object, which is used to create documents with linguistic annotations.\n",
    "    mytokens = []\n",
    "    doc = nlp(sentence.lower().strip())\n",
    "    for token in doc:\n",
    "        if not token.is_stop and not token.is_punct and not token.is_digit and not token.like_num:\n",
    "            mytokens.append(token.lemma_)\n",
    "    return mytokens\n"
   ]
  }
 ],
 "metadata": {
  "kernelspec": {
   "display_name": "Python 3",
   "language": "python",
   "name": "python3"
  },
  "language_info": {
   "codemirror_mode": {
    "name": "ipython",
    "version": 3
   },
   "file_extension": ".py",
   "mimetype": "text/x-python",
   "name": "python",
   "nbconvert_exporter": "python",
   "pygments_lexer": "ipython3",
   "version": "3.5.2"
  }
 },
 "nbformat": 4,
 "nbformat_minor": 2
}
