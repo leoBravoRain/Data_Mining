{
 "cells": [
  {
   "cell_type": "markdown",
   "metadata": {},
   "source": [
    "### Análisis Realizado\n",
    "\n",
    "Al analizar los documentos, se buscan responder las siguientes preguntas:\n",
    "\n",
    "1) <b> ¿Cuales son los temas mas relevantes que se expusieron en los medios duante 2017 sobre la temática violencia? </b>\n",
    "\n",
    "2) <b> ¿De qué temas relacionados a la violencia hablan los 5 medios con más noticias en Chile? </b>\n",
    "\n",
    "Para esto, se realiza el siguiente analisis:\n",
    "\n",
    "1) Se analizan distribuciones por fecha de noticias y por cantidad de noticias por cada medio, con la intención de encontrar los 5 medios con más noticias.\n",
    "\n",
    "2) Se implementa modelo de clustering K-means, analizando los tópicos encontrados.\n",
    "\n",
    "3) Se implementa modelo LDA utilizando Inferencia Bayesiana, analizando los tópicos encontrados.\n",
    "\n",
    "4) Tomando como modelo el LDA Bayesiano, se responden preguntas de investigación planteadas:\n",
    "\n",
    "    a) Se identifican tópicos identificados en los documentos para el año 2017.\n",
    "    b) Se identifica la distribución de tópicos para cada uno de los 5 medios escogidos, analizando su distribución.\n",
    "    \n",
    "5) Se implementa modelo LDA utilizando Gibbs Sampling, analizando los tópicos encontrados.\n",
    "\n",
    "6) Comparación resultados obtenidos por modelos"
   ]
  },
  {
   "cell_type": "code",
   "execution_count": 1,
   "metadata": {},
   "outputs": [],
   "source": [
    "import matplotlib.pyplot as plt\n",
    "import pandas as pd\n",
    "import numpy as np\n",
    "from IPython.display import display, HTML\n",
    "import spacy\n",
    "from sklearn.feature_extraction.text import CountVectorizer, TfidfVectorizer\n",
    "from sklearn.decomposition import LatentDirichletAllocation\n",
    "from sklearn.cluster import KMeans\n",
    "#%matplotlib notebook\n"
   ]
  },
  {
   "cell_type": "markdown",
   "metadata": {},
   "source": [
    "### Importar datos"
   ]
  },
  {
   "cell_type": "code",
   "execution_count": 29,
   "metadata": {},
   "outputs": [
    {
     "data": {
      "text/html": [
       "<div>\n",
       "<style scoped>\n",
       "    .dataframe tbody tr th:only-of-type {\n",
       "        vertical-align: middle;\n",
       "    }\n",
       "\n",
       "    .dataframe tbody tr th {\n",
       "        vertical-align: top;\n",
       "    }\n",
       "\n",
       "    .dataframe thead th {\n",
       "        text-align: right;\n",
       "    }\n",
       "</style>\n",
       "<table border=\"1\" class=\"dataframe\">\n",
       "  <thead>\n",
       "    <tr style=\"text-align: right;\">\n",
       "      <th></th>\n",
       "      <th>0</th>\n",
       "      <th>1</th>\n",
       "      <th>2</th>\n",
       "      <th>3</th>\n",
       "    </tr>\n",
       "  </thead>\n",
       "  <tbody>\n",
       "    <tr>\n",
       "      <th>0</th>\n",
       "      <td>2017-05-23 10:40:09</td>\n",
       "      <td>lacuarta</td>\n",
       "      <td>¡Sea solidario y póngase con las mamitas de C...</td>\n",
       "      <td>Esto te interesa... 22/05/2017 - Autor: La Cu...</td>\n",
       "    </tr>\n",
       "    <tr>\n",
       "      <th>1</th>\n",
       "      <td>2017-05-18 12:59:58</td>\n",
       "      <td>RadioValparaiso</td>\n",
       "      <td>Radio Valparaíso PDI DETIENE A AUTOR DE ROBO ...</td>\n",
       "      <td>Portada » CIUDADES » Valparaíso » PDI DETIENE...</td>\n",
       "    </tr>\n",
       "    <tr>\n",
       "      <th>2</th>\n",
       "      <td>2017-06-01 22:40:30</td>\n",
       "      <td>araucanianews</td>\n",
       "      <td>SOFO y SNA cuestionaron cuenta pública de Bac...</td>\n",
       "      <td>Jueves, 1 Junio, 2017 a las 22:39 Editor Actu...</td>\n",
       "    </tr>\n",
       "    <tr>\n",
       "      <th>3</th>\n",
       "      <td>2017-06-01 08:20:07</td>\n",
       "      <td>chilevision</td>\n",
       "      <td>Detuvieron a hombre que intentó asesinar a su...</td>\n",
       "      <td>La Policía de Investigaciones detuvo a un hom...</td>\n",
       "    </tr>\n",
       "    <tr>\n",
       "      <th>4</th>\n",
       "      <td>2017-06-01 19:10:00</td>\n",
       "      <td>PublimetroChile</td>\n",
       "      <td>Feminicidio en Argentina: mujeres se desnudan...</td>\n",
       "      <td>La Fuerza Artística de Choque Comunicativo or...</td>\n",
       "    </tr>\n",
       "  </tbody>\n",
       "</table>\n",
       "</div>"
      ],
      "text/plain": [
       "                    0                  1  \\\n",
       "0 2017-05-23 10:40:09          lacuarta    \n",
       "1 2017-05-18 12:59:58   RadioValparaiso    \n",
       "2 2017-06-01 22:40:30     araucanianews    \n",
       "3 2017-06-01 08:20:07       chilevision    \n",
       "4 2017-06-01 19:10:00   PublimetroChile    \n",
       "\n",
       "                                                   2  \\\n",
       "0   ¡Sea solidario y póngase con las mamitas de C...   \n",
       "1   Radio Valparaíso PDI DETIENE A AUTOR DE ROBO ...   \n",
       "2   SOFO y SNA cuestionaron cuenta pública de Bac...   \n",
       "3   Detuvieron a hombre que intentó asesinar a su...   \n",
       "4   Feminicidio en Argentina: mujeres se desnudan...   \n",
       "\n",
       "                                                   3  \n",
       "0   Esto te interesa... 22/05/2017 - Autor: La Cu...  \n",
       "1   Portada » CIUDADES » Valparaíso » PDI DETIENE...  \n",
       "2   Jueves, 1 Junio, 2017 a las 22:39 Editor Actu...  \n",
       "3   La Policía de Investigaciones detuvo a un hom...  \n",
       "4   La Fuerza Artística de Choque Comunicativo or...  "
      ]
     },
     "metadata": {},
     "output_type": "display_data"
    },
    {
     "data": {
      "text/plain": [
       "'Total news: 4468'"
      ]
     },
     "metadata": {},
     "output_type": "display_data"
    },
    {
     "data": {
      "text/html": [
       "<div>\n",
       "<style scoped>\n",
       "    .dataframe tbody tr th:only-of-type {\n",
       "        vertical-align: middle;\n",
       "    }\n",
       "\n",
       "    .dataframe tbody tr th {\n",
       "        vertical-align: top;\n",
       "    }\n",
       "\n",
       "    .dataframe thead th {\n",
       "        text-align: right;\n",
       "    }\n",
       "</style>\n",
       "<table border=\"1\" class=\"dataframe\">\n",
       "  <thead>\n",
       "    <tr style=\"text-align: right;\">\n",
       "      <th></th>\n",
       "      <th>date</th>\n",
       "      <th>company</th>\n",
       "      <th>news</th>\n",
       "    </tr>\n",
       "  </thead>\n",
       "  <tbody>\n",
       "    <tr>\n",
       "      <th>0</th>\n",
       "      <td>2017-05-23 10:40:09</td>\n",
       "      <td>lacuarta</td>\n",
       "      <td>Esto te interesa... 22/05/2017 - Autor: La Cu...</td>\n",
       "    </tr>\n",
       "    <tr>\n",
       "      <th>1</th>\n",
       "      <td>2017-05-18 12:59:58</td>\n",
       "      <td>RadioValparaiso</td>\n",
       "      <td>Portada » CIUDADES » Valparaíso » PDI DETIENE...</td>\n",
       "    </tr>\n",
       "    <tr>\n",
       "      <th>2</th>\n",
       "      <td>2017-06-01 22:40:30</td>\n",
       "      <td>araucanianews</td>\n",
       "      <td>Jueves, 1 Junio, 2017 a las 22:39 Editor Actu...</td>\n",
       "    </tr>\n",
       "    <tr>\n",
       "      <th>3</th>\n",
       "      <td>2017-06-01 08:20:07</td>\n",
       "      <td>chilevision</td>\n",
       "      <td>La Policía de Investigaciones detuvo a un hom...</td>\n",
       "    </tr>\n",
       "    <tr>\n",
       "      <th>4</th>\n",
       "      <td>2017-06-01 19:10:00</td>\n",
       "      <td>PublimetroChile</td>\n",
       "      <td>La Fuerza Artística de Choque Comunicativo or...</td>\n",
       "    </tr>\n",
       "  </tbody>\n",
       "</table>\n",
       "</div>"
      ],
      "text/plain": [
       "                 date            company  \\\n",
       "0 2017-05-23 10:40:09          lacuarta    \n",
       "1 2017-05-18 12:59:58   RadioValparaiso    \n",
       "2 2017-06-01 22:40:30     araucanianews    \n",
       "3 2017-06-01 08:20:07       chilevision    \n",
       "4 2017-06-01 19:10:00   PublimetroChile    \n",
       "\n",
       "                                                news  \n",
       "0   Esto te interesa... 22/05/2017 - Autor: La Cu...  \n",
       "1   Portada » CIUDADES » Valparaíso » PDI DETIENE...  \n",
       "2   Jueves, 1 Junio, 2017 a las 22:39 Editor Actu...  \n",
       "3   La Policía de Investigaciones detuvo a un hom...  \n",
       "4   La Fuerza Artística de Choque Comunicativo or...  "
      ]
     },
     "execution_count": 29,
     "metadata": {},
     "output_type": "execute_result"
    }
   ],
   "source": [
    "# Get data\n",
    "\n",
    "# Import data\n",
    "\n",
    "# file name\n",
    "file = 'MAD_violencia1.csv'\n",
    "\n",
    "# load data\n",
    "df = pd.read_csv(file, sep = '|', error_bad_lines = False, header = None)\n",
    "\n",
    "# Parse to datetime format\n",
    "df[0] = pd.to_datetime(df[0])\n",
    "\n",
    "display(df.head())\n",
    "\n",
    "# Get date and news text\n",
    "news = df[[0,1,3]]\n",
    "\n",
    "# Shape of dataframe\n",
    "display('Total news: ' + str(news.shape[0]))\n",
    "\n",
    "# Columns\n",
    "news.columns = ['date', 'company', 'news']\n",
    "\n",
    "# text\n",
    "# news = news[0:100]\n",
    "# n = 10\n",
    "# n = 100\n",
    "# n = 1500 # tooooo slow\n",
    "#n = 1000 # too slow\n",
    "#n = 500 # good in velocity, bad in clustering with LDA\n",
    "#n = 700 # bad in velocity, bad in clustering with LDA\n",
    "#news = news.sample(n)\n",
    "\n",
    "news.head()"
   ]
  },
  {
   "cell_type": "markdown",
   "metadata": {},
   "source": [
    "### Analizado data por fecha y por medio"
   ]
  },
  {
   "cell_type": "code",
   "execution_count": 30,
   "metadata": {
    "scrolled": false
   },
   "outputs": [
    {
     "data": {
      "image/png": "[encoded data removed]",
      "text/plain": [
       "<Figure size 576x432 with 2 Axes>"
      ]
     },
     "metadata": {
      "needs_background": "light"
     },
     "output_type": "display_data"
    }
   ],
   "source": [
    "# Analize news by date\n",
    "news_grouped_by_month = news.groupby(news.date.dt.to_period(\"M\")).count()\n",
    "news_per_month = news_grouped_by_month.news\n",
    "\n",
    "#display(news_per_month)\n",
    "fig1, axes = plt.subplots(2,1, figsize = (8,6))\n",
    "\n",
    "ax1 = news_per_month.plot.bar(ax = axes[0], x = 'date', y = 'news')\n",
    "ax1.set_xlabel(\"Date\")\n",
    "ax1.set_ylabel('N° News')\n",
    "ax1.title.set_text('News by Date')\n",
    "plt.tight_layout()\n",
    "\n",
    "# Analize news by company\n",
    "news_grouped_by_company = news.groupby(news.company).count()\n",
    "#print(news_grouped_by_company.sort(['news']))\n",
    "\n",
    "# Sort by number of news\n",
    "news_grouped_by_company.sort_values(['date'], ascending=False, inplace = True)\n",
    "\n",
    "top_companies = 5\n",
    "\n",
    "news_per_company = news_grouped_by_company.news[0:top_companies]\n",
    "\n",
    "top_20_companies = news_per_company.index\n",
    "\n",
    "ax2 = news_per_company.plot.bar(ax = axes[1], x = 'company', y = 'News')\n",
    "ax2.set_xlabel(\"Company\")\n",
    "ax2.set_ylabel('N° News')\n",
    "ax2.title.set_text('News by Company (5 with more news)')\n",
    "plt.tight_layout()"
   ]
  },
  {
   "cell_type": "markdown",
   "metadata": {},
   "source": [
    "Del gráfico de noticias en función de la fecha, se tiene que para Julio existe un máximo número de noticias (Otra posible arista de exploración es analizar que sucede en esa fecha, probablemente haya ocurrido algún evento mediático).\n",
    "\n",
    "Del gráfico de las noticias en función de la compañia, se tiene que el medio Bío Bío es quien posee más número de noticias de violencia comparado con los demás medios."
   ]
  },
  {
   "cell_type": "markdown",
   "metadata": {},
   "source": [
    "### Tokenizer"
   ]
  },
  {
   "cell_type": "code",
   "execution_count": 31,
   "metadata": {},
   "outputs": [],
   "source": [
    "# Tokenizador\n",
    "\n",
    "# Define own tokenizer\n",
    "#import spacy\n",
    "\n",
    "nlp = spacy.load('es_core_news_sm')\n",
    "\n",
    "def own_tokenizer(sentence):\n",
    "    \n",
    "    tokens = []\n",
    "    \n",
    "    doc = nlp(sentence.lower().strip())\n",
    "    \n",
    "    for token in doc:\n",
    "        \n",
    "        # Filtering\n",
    "        if not token.is_space and not token.is_stop and not token.is_punct and not token.is_digit and not token.like_num:\n",
    "            \n",
    "            # add token to list in lemma form\n",
    "            tokens.append(token.lemma_)\n",
    "            \n",
    "    return tokens"
   ]
  },
  {
   "cell_type": "code",
   "execution_count": 32,
   "metadata": {},
   "outputs": [],
   "source": [
    "# Stop words (not has information)\n",
    "stop_words = ['a','e','i','o','u',' ','  ','   ','  ','$','  ','y', '-', 'c', 'nna', 'e', 'l', '=', '<', '>','x','href','/']"
   ]
  },
  {
   "cell_type": "markdown",
   "metadata": {},
   "source": [
    "### Representación vectorial utilizando TFIDF Vectorizer"
   ]
  },
  {
   "cell_type": "code",
   "execution_count": 33,
   "metadata": {},
   "outputs": [
    {
     "name": "stderr",
     "output_type": "stream",
     "text": [
      "/home/leo/Desktop/master_UACH/env/lib/python3.6/site-packages/sklearn/feature_extraction/text.py:300: UserWarning: Your stop_words may be inconsistent with your preprocessing. Tokenizing the stop words generated tokens ['litro'] not in stop_words.\n",
      "  'stop_words.' % sorted(inconsistent))\n"
     ]
    }
   ],
   "source": [
    "# Vectorizator\n",
    "tfid_vectorizer = TfidfVectorizer(tokenizer = own_tokenizer, stop_words = stop_words, ngram_range = (1,1))\n",
    "\n",
    "news_vector_tfidf = tfid_vectorizer.fit_transform(news['news'])\n",
    "\n",
    "# Get features names\n",
    "news_vector_features = tfid_vectorizer.get_feature_names()"
   ]
  },
  {
   "cell_type": "markdown",
   "metadata": {},
   "source": [
    "Se utiliza TF-IDF debido a mejor representación de documentos, ya que permite identificar palabras claves que permiten diferenciar claramente de los otros documentos."
   ]
  },
  {
   "cell_type": "markdown",
   "metadata": {},
   "source": [
    "### Clustering utilizando K-means"
   ]
  },
  {
   "cell_type": "code",
   "execution_count": 34,
   "metadata": {},
   "outputs": [
    {
     "name": "stdout",
     "output_type": "stream",
     "text": [
      "Iter: 1\n",
      "Iter: 2\n",
      "Iter: 3\n",
      "Iter: 4\n",
      "Iter: 5\n",
      "Iter: 6\n",
      "Iter: 7\n",
      "Iter: 8\n",
      "Iter: 9\n"
     ]
    }
   ],
   "source": [
    "# Find optimal value of n° of clusters\n",
    "\n",
    "# Training model\n",
    "\n",
    "#from sklearn.cluster import KMeans\n",
    "\n",
    "# Number of clusters\n",
    "num_k = range(1,10)\n",
    "\n",
    "# Inertia list\n",
    "inertia = []\n",
    "\n",
    "# Iter over each k value\n",
    "for i in num_k:\n",
    "    \n",
    "    print('Iter: {0}'.format(i))\n",
    "    \n",
    "    # Set model\n",
    "    model = KMeans(n_clusters = i, n_init=5)\n",
    "    \n",
    "    # Fit model\n",
    "    model.fit(news_vector_tfidf)\n",
    "    \n",
    "    # add intertia of model\n",
    "    inertia.append(model.inertia_)"
   ]
  },
  {
   "cell_type": "code",
   "execution_count": 35,
   "metadata": {},
   "outputs": [
    {
     "name": "stderr",
     "output_type": "stream",
     "text": [
      "WARNING:matplotlib.legend:No handles with labels found to put in legend.\n"
     ]
    },
    {
     "data": {
      "text/plain": [
       "<matplotlib.legend.Legend at 0x7f30a2268e10>"
      ]
     },
     "execution_count": 35,
     "metadata": {},
     "output_type": "execute_result"
    },
    {
     "data": {
      "image/png": "[encoded data removed]",
      "text/plain": [
       "<Figure size 864x288 with 1 Axes>"
      ]
     },
     "metadata": {
      "needs_background": "light"
     },
     "output_type": "display_data"
    }
   ],
   "source": [
    "# plot inertia values\n",
    "\n",
    "#import matplotlib.pyplot as plt\n",
    "\n",
    "f, (ax) = plt.subplots(figsize = (12,4))\n",
    "ax.plot(num_k, inertia, '-o', linewidth = 3)\n",
    "ax.set_xlabel('n° k')\n",
    "ax.set_ylabel('Inertia')\n",
    "ax.title.set_text('Inertia v/s Clusters')\n",
    "ax.legend()"
   ]
  },
  {
   "cell_type": "markdown",
   "metadata": {},
   "source": [
    "Observando el gráfico, se tienen varios valores en donde la tasa de disminución disminuye, en donde el menor valor corresponde a 2, sin embargo, considerando el volumen de documentos, agrupar en sólo 2 cluster no sería óptimo, por lo que se definen 5 de clusters, ya que es el siguiente valor en donde se produce una disminución de la tasa de disminución."
   ]
  },
  {
   "cell_type": "code",
   "execution_count": 9,
   "metadata": {},
   "outputs": [],
   "source": [
    "# N° of clusters\n",
    "k_k_means = 5"
   ]
  },
  {
   "cell_type": "code",
   "execution_count": 10,
   "metadata": {},
   "outputs": [
    {
     "data": {
      "text/plain": [
       "KMeans(algorithm='auto', copy_x=True, init='k-means++', max_iter=10,\n",
       "       n_clusters=5, n_init=10, n_jobs=None, precompute_distances='auto',\n",
       "       random_state=None, tol=0.0001, verbose=0)"
      ]
     },
     "execution_count": 10,
     "metadata": {},
     "output_type": "execute_result"
    }
   ],
   "source": [
    "# Train model\n",
    "\n",
    "# Set model\n",
    "model = KMeans(n_clusters = k_k_means, init = 'k-means++', max_iter = 10, n_init = 10)\n",
    "\n",
    "# Fit model\n",
    "model.fit(news_vector_tfidf)"
   ]
  },
  {
   "cell_type": "code",
   "execution_count": 11,
   "metadata": {},
   "outputs": [
    {
     "name": "stdout",
     "output_type": "stream",
     "text": [
      "Top Words per Topic: \n",
      "\n",
      "centroid 0: \n",
      " \n",
      " mujer  ,  violencia  ,  denunciar  ,  género  ,  año  ,  chile  ,  derecho  ,  víctima  ,  casar  ,  condenar  ,  país  ,  parejo  ,  social  ,  tipo  ,  sexual \n",
      "\n",
      "centroid 1: \n",
      " \n",
      " ciudad  ,  newsletter  ,  recibir  ,  correo  ,  guioteca  ,  soychile.cl  ,  farox  ,  inmobiliario  ,  entérate  ,  contáctenos  ,  hoyxhoy.cl  ,  suscríbete  ,  futuro  ,  emol  ,  propiedad \n",
      "\n",
      "centroid 2: \n",
      " \n",
      " loading  ,  working  ,  playlists  ,  natural  ,  acontecimiento  ,  postal  ,  desastre  ,  selección  ,  meteorológico  ,  seminario  ,  https://www.facebook.com/girovisualtv  ,  https://twitter.com/girovisualtv  ,  golf  ,  http://www.girovisual.cl  ,  captar \n",
      "\n",
      "centroid 3: \n",
      " \n",
      " mujer  ,  rincón  ,  violencia  ,  intrafamiliar  ,  diputar  ,  carolina  ,  comuna  ,  goic  ,  candidatura  ,  dc  ,  ley  ,  ricardo  ,  chilevisión  ,  partir  ,  medir \n",
      "\n",
      "centroid 4: \n",
      " \n",
      " robar  ,  violencia  ,  detener  ,  registrar  ,  policial  ,  sustraer  ,  región  ,  policía  ,  interior  ,  fuego  ,  gracia  ,  hurtar  ,  año  ,  amplio  ,  armar \n",
      "\n"
     ]
    },
    {
     "data": {
      "image/png": "[encoded data removed]",
      "text/plain": [
       "<Figure size 432x288 with 1 Axes>"
      ]
     },
     "metadata": {
      "needs_background": "light"
     },
     "output_type": "display_data"
    }
   ],
   "source": [
    "# Display top words\n",
    "\n",
    "# Get order centroids\n",
    "order_centroids = model.cluster_centers_.argsort()[:,::-1]\n",
    "\n",
    "n_top_words = 15\n",
    "\n",
    "print('Top Words per Topic: \\n')\n",
    "\n",
    "# Get principal words of each centroid\n",
    "for i in range(0,k_k_means):\n",
    "    \n",
    "    centroid_words = np.array(news_vector_features)[order_centroids[i, 0:n_top_words]]\n",
    "    \n",
    "    print('centroid {0}: \\n \\n {1} \\n'.format(i, '  ,  '.join(centroid_words)))\n",
    "\n",
    "# Ploting results\n",
    "labels = model.predict(news_vector_tfidf)\n",
    "\n",
    "fig, ax = plt.subplots()\n",
    "\n",
    "# TFIDF\n",
    "#ax.scatter(range(labels.shape[0]),labels,c=labels)\n",
    "ax.hist(labels)\n",
    "ax.set_ylabel('Topic')\n",
    "ax.set_xlabel('N° cluster')\n",
    "ax.title.set_text('Distribution of topics')"
   ]
  },
  {
   "cell_type": "markdown",
   "metadata": {},
   "source": [
    "Desde los tops words obtenidos por cada cluster, se puede inferir los siguientes tópicos asociados a cada cluster:\n",
    "\n",
    "- Tópico 0: Llamado a suscripción al medio\n",
    "- Tópico 1: Violencia contra la mujer\n",
    "- Tópico 2: Episodio de violencia de vocalista de grupo \"Los Tetas\"\n",
    "- Tópico 3: Llamado a suscripción al medio\n",
    "- Tópico 4: Violencia deportiva en estadios\n",
    "\n",
    "Además, desde el gráfico de distribución de tópicos se tiene que la gran mayoría de las noticias corresponden a \"Violencia contra la mujer\".\n"
   ]
  },
  {
   "cell_type": "markdown",
   "metadata": {},
   "source": [
    "### Representación vectorial de documentos utilizando Count Vectorizer"
   ]
  },
  {
   "cell_type": "code",
   "execution_count": 12,
   "metadata": {},
   "outputs": [
    {
     "name": "stderr",
     "output_type": "stream",
     "text": [
      "/home/leo/Desktop/master_UACH/env/lib/python3.6/site-packages/sklearn/feature_extraction/text.py:300: UserWarning: Your stop_words may be inconsistent with your preprocessing. Tokenizing the stop words generated tokens ['litro'] not in stop_words.\n",
      "  'stop_words.' % sorted(inconsistent))\n"
     ]
    }
   ],
   "source": [
    "# Vectorizacion de textos usando Count vectorizer\n",
    "\n",
    "# from sklearn.feature_extraction.text import CountVectorizer\n",
    "# Vector representation of news\n",
    "count_vectorizer = CountVectorizer(tokenizer = own_tokenizer, stop_words = stop_words, ngram_range = (1,1))\n",
    "\n",
    "# Count vectorizer\n",
    "news_vector_count = count_vectorizer.fit_transform(news['news'])\n",
    "\n",
    "# Get features names\n",
    "news_vector_features = count_vectorizer.get_feature_names()"
   ]
  },
  {
   "cell_type": "markdown",
   "metadata": {},
   "source": [
    "### Implementación modelo LDA utilizando Inferencia Variacional "
   ]
  },
  {
   "cell_type": "code",
   "execution_count": 13,
   "metadata": {
    "scrolled": true
   },
   "outputs": [
    {
     "name": "stdout",
     "output_type": "stream",
     "text": [
      "Topic number 1 \n",
      "\n",
      "Topic number 2 \n",
      "\n",
      "Topic number 3 \n",
      "\n",
      "Topic number 4 \n",
      "\n",
      "Topic number 5 \n",
      "\n",
      "Topic number 6 \n",
      "\n",
      "Topic number 7 \n",
      "\n",
      "Topic number 8 \n",
      "\n",
      "Topic number 9 \n",
      "\n"
     ]
    },
    {
     "data": {
      "image/png": "[encoded data removed]",
      "text/plain": [
       "<Figure size 360x216 with 1 Axes>"
      ]
     },
     "metadata": {
      "needs_background": "light"
     },
     "output_type": "display_data"
    }
   ],
   "source": [
    "# find optimal number of topics\n",
    "\n",
    "#from sklearn.decomposition import LatentDirichletAllocation\n",
    "#import matplotlib.pyplot as plt\n",
    "\n",
    "# Perplexity list\n",
    "perp = []\n",
    "\n",
    "# number of topics\n",
    "num_topic = range(1,10)\n",
    "\n",
    "# Iter over each value of topic\n",
    "for topic in num_topic:\n",
    "    \n",
    "    print('Topic number {0} \\n'.format(topic))\n",
    "    \n",
    "    # Define lda model\n",
    "    lda = LatentDirichletAllocation(n_components = topic, max_iter = 10,\n",
    "      learning_method = 'online',\n",
    "      learning_offset = 50,\n",
    "      random_state = 0)\n",
    "    \n",
    "    # Fit model\n",
    "    lda.fit(news_vector_count)\n",
    "    \n",
    "    # add perplexity\n",
    "    perp.append(lda.perplexity(news_vector_count))\n",
    "    \n",
    "# Plot all k values\n",
    "fig2, ax = plt.subplots(figsize = (5,3))\n",
    "ax.plot(num_topic, perp, '-o')\n",
    "ax.set_xlabel('num topics')\n",
    "ax.set_ylabel('Perplexity')\n",
    "ax.title.set_text('Perplexity v/s Number of topics')"
   ]
  },
  {
   "cell_type": "markdown",
   "metadata": {},
   "source": [
    "Del gráfico se tiene que se definen 7 topicos, ya que para el 8 se observa aumento mayor en tasa de crecimiento de perplexity."
   ]
  },
  {
   "cell_type": "code",
   "execution_count": 14,
   "metadata": {},
   "outputs": [],
   "source": [
    "# Define topics\n",
    "topics = 7"
   ]
  },
  {
   "cell_type": "code",
   "execution_count": 15,
   "metadata": {},
   "outputs": [
    {
     "name": "stdout",
     "output_type": "stream",
     "text": [
      "Model fitted\n",
      "\n"
     ]
    },
    {
     "data": {
      "image/png": "[encoded data removed]",
      "text/plain": [
       "<Figure size 432x288 with 1 Axes>"
      ]
     },
     "metadata": {
      "needs_background": "light"
     },
     "output_type": "display_data"
    },
    {
     "data": {
      "image/png": "[encoded data removed]",
      "text/plain": [
       "<Figure size 432x288 with 1 Axes>"
      ]
     },
     "metadata": {
      "needs_background": "light"
     },
     "output_type": "display_data"
    },
    {
     "data": {
      "image/png": "[encoded data removed]",
      "text/plain": [
       "<Figure size 432x288 with 1 Axes>"
      ]
     },
     "metadata": {
      "needs_background": "light"
     },
     "output_type": "display_data"
    },
    {
     "data": {
      "image/png": "[encoded data removed]",
      "text/plain": [
       "<Figure size 432x288 with 1 Axes>"
      ]
     },
     "metadata": {
      "needs_background": "light"
     },
     "output_type": "display_data"
    },
    {
     "data": {
      "image/png": "[encoded data removed]",
      "text/plain": [
       "<Figure size 432x288 with 1 Axes>"
      ]
     },
     "metadata": {
      "needs_background": "light"
     },
     "output_type": "display_data"
    },
    {
     "data": {
      "image/png": "[encoded data removed]",
      "text/plain": [
       "<Figure size 432x288 with 1 Axes>"
      ]
     },
     "metadata": {
      "needs_background": "light"
     },
     "output_type": "display_data"
    },
    {
     "data": {
      "image/png": "[encoded data removed]",
      "text/plain": [
       "<Figure size 432x288 with 1 Axes>"
      ]
     },
     "metadata": {
      "needs_background": "light"
     },
     "output_type": "display_data"
    },
    {
     "data": {
      "image/png": "[encoded data removed]",
      "text/plain": [
       "<Figure size 432x288 with 1 Axes>"
      ]
     },
     "metadata": {
      "needs_background": "light"
     },
     "output_type": "display_data"
    }
   ],
   "source": [
    "# Training defined model \n",
    "#Generando algunos gráficos de los resultados\n",
    "\n",
    "lda = LatentDirichletAllocation(n_components=topics, max_iter=50,\n",
    "                                learning_method='online',\n",
    "                                learning_offset=50.,\n",
    "                                random_state=0)\n",
    "\n",
    "# (100, 7)\n",
    "topic_distribution_per_documents = lda.fit_transform(news_vector_count)\n",
    "\n",
    "print('Model fitted\\n')\n",
    "\n",
    "#distribución de tópicos en todos los documentos\n",
    "dist_per_topic = sum(topic_distribution_per_documents)/len(news.news)\n",
    "\n",
    "topics_array = np.arange(0,topics)\n",
    "\n",
    "#plotting disttribution\n",
    "fig, ax = plt.subplots()\n",
    "ax.bar(topics_array, dist_per_topic)\n",
    "ax.set_xlabel('Topic')\n",
    "ax.set_ylabel('N° news')\n",
    "ax.title.set_text('Distribution of topics')\n",
    "\n",
    "#distribución de tópicos en el documento 100\n",
    "#plt.bar(topics_array,height=dist_per_topic,alpha=0.5,tick_label=topics_array)\n",
    "#show()\n",
    "\n",
    "#print(lda.components_.shape)\n",
    "#frecuencia de palabras por tópico\n",
    "n_top_words=20\n",
    "numo =np.arange(0,n_top_words)\n",
    "for idx,topic in enumerate(lda.components_):\n",
    "    d =[]\n",
    "    s = []\n",
    "    for i in topic.argsort()[:-n_top_words - 1:-1]:\n",
    "          s.append(news_vector_features[i])\n",
    "          d.append(topic[i])\n",
    "    plt.figure()\n",
    "    plt.barh(numo,width=d,alpha=0.5,tick_label=s)\n",
    "    plt.title('Topic ' + str(idx))\n",
    "    plt.tight_layout()\n",
    "    plt.show()\n"
   ]
  },
  {
   "cell_type": "markdown",
   "metadata": {},
   "source": [
    "#### Respuesta a pregunta de investigación:\n",
    "\n",
    "##### ¿Cuales son los temas mas relevantes que se expusieron en los medios durante 2017 sobre la temática violencia?\n",
    "\n",
    "De las top-words de cada tópico, se logra indentificar los siguientes temas:\n",
    "\n",
    "- Topic 0: Juicio legal asociados a Violencia\n",
    "- Topic 1: Donald Trump - Asesinato en marcha en USA (Las Vegas).\n",
    "- Topic 2: Violencia contra la mujer.\n",
    "- Topic 3: Suscripción al medio.\n",
    "- Topic 4: Crimen en estadio fubtol.\n",
    "- Topic 5: Violencia Machismo.\n",
    "- Topic 6: Violencia y Mapuches.\n",
    "\n",
    "Desde el gráfico de distribución de tópicos, se tiene que los mayores temas desarrollados por los medios corresponden a:\n",
    "\n",
    "1) Violencia contra la mujer.\n",
    "\n",
    "2) Suscripción al medio.\n",
    "\n",
    "3) Violencia y Mapuches\n",
    "\n",
    "Se destaca que el tema \"Suscripción al medio\" no corresponde a un tema asociado a violencia, sin embargo se mantiene en el análisis debido a que demuestran el interés de los medios por lograr nuevos suscriptores através del uso de noticias de violencia."
   ]
  },
  {
   "cell_type": "markdown",
   "metadata": {},
   "source": [
    "### Respuesta a pregunta de Investigación\n",
    "\n",
    "##### ¿De qué temas relacionados a la violencia hablan los 5 medios con más noticias en Chile?"
   ]
  },
  {
   "cell_type": "code",
   "execution_count": 16,
   "metadata": {},
   "outputs": [],
   "source": [
    "# Name to topic\n",
    "topic_name = ['Juicio legal asociados a violencia',\n",
    "             'Asesinato marcha en USA',\n",
    "              'Violencia contra la mujer',\n",
    "              'Suscripción al medio',\n",
    "              'Crimen en estadio fubtol',\n",
    "              'Violencia Machismo',\n",
    "              'Violencia y Mapuches',\n",
    "             ]"
   ]
  },
  {
   "cell_type": "code",
   "execution_count": 17,
   "metadata": {
    "scrolled": false
   },
   "outputs": [
    {
     "data": {
      "image/png": "[encoded data removed]",
      "text/plain": [
       "<Figure size 432x288 with 1 Axes>"
      ]
     },
     "metadata": {
      "needs_background": "light"
     },
     "output_type": "display_data"
    },
    {
     "data": {
      "image/png": "[encoded data removed]",
      "text/plain": [
       "<Figure size 432x288 with 1 Axes>"
      ]
     },
     "metadata": {
      "needs_background": "light"
     },
     "output_type": "display_data"
    },
    {
     "data": {
      "image/png": "[encoded data removed]",
      "text/plain": [
       "<Figure size 432x288 with 1 Axes>"
      ]
     },
     "metadata": {
      "needs_background": "light"
     },
     "output_type": "display_data"
    },
    {
     "data": {
      "image/png": "[encoded data removed]",
      "text/plain": [
       "<Figure size 432x288 with 1 Axes>"
      ]
     },
     "metadata": {
      "needs_background": "light"
     },
     "output_type": "display_data"
    },
    {
     "data": {
      "image/png": "[encoded data removed]",
      "text/plain": [
       "<Figure size 432x288 with 1 Axes>"
      ]
     },
     "metadata": {
      "needs_background": "light"
     },
     "output_type": "display_data"
    },
    {
     "data": {
      "image/png": "[encoded data removed]",
      "text/plain": [
       "<Figure size 432x288 with 1 Axes>"
      ]
     },
     "metadata": {
      "needs_background": "light"
     },
     "output_type": "display_data"
    },
    {
     "data": {
      "image/png": "[encoded data removed]",
      "text/plain": [
       "<Figure size 432x288 with 1 Axes>"
      ]
     },
     "metadata": {
      "needs_background": "light"
     },
     "output_type": "display_data"
    }
   ],
   "source": [
    "# Assign to each document the most frecuent topic\n",
    "z=[]\n",
    "for i in range(len(news.news)):\n",
    "    z.append(np.argmax(topic_distribution_per_documents[i]))\n",
    "\n",
    "# add a new variable to dataframe\n",
    "news['topic'] = z\n",
    "\n",
    "# iterate over each topic\n",
    "for topic_num in range(0,topics):\n",
    "    \n",
    "    companies_per_topic = news[(news['company'].isin(top_20_companies)) & (news['topic'] == topic_num)].groupby('company').count().sort_values(['news'], ascending=False)\n",
    "    plt.figure()\n",
    "    plt.barh(y = companies_per_topic.index.values, width = companies_per_topic.news)\n",
    "    plt.xlabel('N° News')\n",
    "    plt.ylabel('Company')\n",
    "    plt.title(str(topic_name[topic_num]))\n",
    "    plt.tight_layout()\n"
   ]
  },
  {
   "cell_type": "markdown",
   "metadata": {},
   "source": [
    "De los gráficos se observa que los medios que más hablan por cada tópico corresponden a:\n",
    "\n",
    "- Asesinato marcha en USA: La Tercera.\n",
    "- Violencia contra la mujer: BioBio, El Desconcierto, ADN Radio, La Tercera,\n",
    "- Suscripción al medio: El Mercurio.\n",
    "- Crimen Estadio de Fubtol: ADN Radio.\n",
    "\n",
    "Cabe destacar que existen gráficos sin datos ya que se tomaron solamente los 5 medios con más noticias, por lo que otros medios sean quienes tengan asociados esos tópicos."
   ]
  },
  {
   "cell_type": "code",
   "execution_count": 18,
   "metadata": {
    "scrolled": true
   },
   "outputs": [
    {
     "data": {
      "image/png": "[encoded data removed]",
      "text/plain": [
       "<Figure size 432x288 with 1 Axes>"
      ]
     },
     "metadata": {
      "needs_background": "light"
     },
     "output_type": "display_data"
    },
    {
     "data": {
      "image/png": "[encoded data removed]",
      "text/plain": [
       "<Figure size 432x288 with 1 Axes>"
      ]
     },
     "metadata": {
      "needs_background": "light"
     },
     "output_type": "display_data"
    },
    {
     "data": {
      "image/png": "[encoded data removed]",
      "text/plain": [
       "<Figure size 432x288 with 1 Axes>"
      ]
     },
     "metadata": {
      "needs_background": "light"
     },
     "output_type": "display_data"
    },
    {
     "data": {
      "image/png": "[encoded data removed]",
      "text/plain": [
       "<Figure size 432x288 with 1 Axes>"
      ]
     },
     "metadata": {
      "needs_background": "light"
     },
     "output_type": "display_data"
    },
    {
     "data": {
      "image/png": "[encoded data removed]",
      "text/plain": [
       "<Figure size 432x288 with 1 Axes>"
      ]
     },
     "metadata": {
      "needs_background": "light"
     },
     "output_type": "display_data"
    }
   ],
   "source": [
    "# Print distribution per medium\n",
    "\n",
    "# for idx, medium in top_20_companies:\n",
    "for num, medium in enumerate(top_20_companies):\n",
    "    \n",
    "    asd = news[(news['company'].isin(top_20_companies)) & (news.company == medium)].groupby('topic').count()\n",
    "    \n",
    "    plt.figure()\n",
    "    \n",
    "    plt.barh(y = asd.index.values, width = asd.news)\n",
    "    \n",
    "    plt.xlabel('Distribucion')\n",
    "    \n",
    "    plt.title(medium)"
   ]
  },
  {
   "cell_type": "markdown",
   "metadata": {},
   "source": [
    "De los gráficos se observa que cada medio habla principalmente de los siguientes temas:\n",
    "\n",
    "- Bio Bio: Violencia contra la mujer.\n",
    "- El Desconcierto: Violencia contra la mujer.\n",
    "- Mercurio Valpo: Suscripción.\n",
    "- ADN Radio: Crimen Estadio de Futbol, Violencia contra la mujer.\n",
    "- La Tercera: Violencia contra la mujer, Asesinato en USA (Las Vegas)."
   ]
  },
  {
   "cell_type": "markdown",
   "metadata": {},
   "source": [
    "### Implementación modelo LDA utilizando Gibbs Sampling"
   ]
  },
  {
   "cell_type": "code",
   "execution_count": 19,
   "metadata": {},
   "outputs": [
    {
     "name": "stderr",
     "output_type": "stream",
     "text": [
      "INFO:lda:n_documents: 100\n",
      "INFO:lda:vocab_size: 3763\n",
      "INFO:lda:n_words: 13455\n",
      "INFO:lda:n_topics: 7\n",
      "INFO:lda:n_iter: 10000\n",
      "/home/leo/Desktop/master_UACH/env/lib/python3.6/site-packages/lda/utils.py:55: FutureWarning: Conversion of the second argument of issubdtype from `int` to `np.signedinteger` is deprecated. In future, it will be treated as `np.int64 == np.dtype(int).type`.\n",
      "  if sparse and not np.issubdtype(doc_word.dtype, int):\n",
      "INFO:lda:<0> log likelihood: -138733\n",
      "INFO:lda:<10> log likelihood: -113785\n",
      "INFO:lda:<20> log likelihood: -109992\n",
      "INFO:lda:<30> log likelihood: -109202\n",
      "INFO:lda:<40> log likelihood: -108720\n",
      "INFO:lda:<50> log likelihood: -108781\n",
      "INFO:lda:<60> log likelihood: -108715\n",
      "INFO:lda:<70> log likelihood: -108961\n",
      "INFO:lda:<80> log likelihood: -108634\n",
      "INFO:lda:<90> log likelihood: -108770\n",
      "INFO:lda:<100> log likelihood: -108773\n",
      "INFO:lda:<110> log likelihood: -108758\n",
      "INFO:lda:<120> log likelihood: -108874\n",
      "INFO:lda:<130> log likelihood: -108697\n",
      "INFO:lda:<140> log likelihood: -108782\n",
      "INFO:lda:<150> log likelihood: -108484\n",
      "INFO:lda:<160> log likelihood: -108575\n",
      "INFO:lda:<170> log likelihood: -108642\n",
      "INFO:lda:<180> log likelihood: -108470\n",
      "INFO:lda:<190> log likelihood: -108669\n",
      "INFO:lda:<200> log likelihood: -108551\n",
      "INFO:lda:<210> log likelihood: -108613\n",
      "INFO:lda:<220> log likelihood: -108535\n",
      "INFO:lda:<230> log likelihood: -108473\n",
      "INFO:lda:<240> log likelihood: -108488\n",
      "INFO:lda:<250> log likelihood: -108499\n",
      "INFO:lda:<260> log likelihood: -108575\n",
      "INFO:lda:<270> log likelihood: -108773\n",
      "INFO:lda:<280> log likelihood: -108751\n",
      "INFO:lda:<290> log likelihood: -108697\n",
      "INFO:lda:<300> log likelihood: -108860\n",
      "INFO:lda:<310> log likelihood: -108491\n",
      "INFO:lda:<320> log likelihood: -108649\n",
      "INFO:lda:<330> log likelihood: -108392\n",
      "INFO:lda:<340> log likelihood: -108433\n",
      "INFO:lda:<350> log likelihood: -108626\n",
      "INFO:lda:<360> log likelihood: -108688\n",
      "INFO:lda:<370> log likelihood: -109047\n",
      "INFO:lda:<380> log likelihood: -108464\n",
      "INFO:lda:<390> log likelihood: -108585\n",
      "INFO:lda:<400> log likelihood: -108719\n",
      "INFO:lda:<410> log likelihood: -108579\n",
      "INFO:lda:<420> log likelihood: -108935\n",
      "INFO:lda:<430> log likelihood: -108696\n",
      "INFO:lda:<440> log likelihood: -108627\n",
      "INFO:lda:<450> log likelihood: -108972\n",
      "INFO:lda:<460> log likelihood: -108493\n",
      "INFO:lda:<470> log likelihood: -108785\n",
      "INFO:lda:<480> log likelihood: -108749\n",
      "INFO:lda:<490> log likelihood: -108388\n",
      "INFO:lda:<500> log likelihood: -108218\n",
      "INFO:lda:<510> log likelihood: -108340\n",
      "INFO:lda:<520> log likelihood: -108539\n",
      "INFO:lda:<530> log likelihood: -108572\n",
      "INFO:lda:<540> log likelihood: -108316\n",
      "INFO:lda:<550> log likelihood: -108685\n",
      "INFO:lda:<560> log likelihood: -108507\n",
      "INFO:lda:<570> log likelihood: -108439\n",
      "INFO:lda:<580> log likelihood: -108566\n",
      "INFO:lda:<590> log likelihood: -108651\n",
      "INFO:lda:<600> log likelihood: -108512\n",
      "INFO:lda:<610> log likelihood: -108593\n",
      "INFO:lda:<620> log likelihood: -108750\n",
      "INFO:lda:<630> log likelihood: -108720\n",
      "INFO:lda:<640> log likelihood: -108573\n",
      "INFO:lda:<650> log likelihood: -108680\n",
      "INFO:lda:<660> log likelihood: -108475\n",
      "INFO:lda:<670> log likelihood: -108709\n",
      "INFO:lda:<680> log likelihood: -108828\n",
      "INFO:lda:<690> log likelihood: -108620\n",
      "INFO:lda:<700> log likelihood: -108301\n",
      "INFO:lda:<710> log likelihood: -108632\n",
      "INFO:lda:<720> log likelihood: -108347\n",
      "INFO:lda:<730> log likelihood: -108397\n",
      "INFO:lda:<740> log likelihood: -108728\n",
      "INFO:lda:<750> log likelihood: -108641\n",
      "INFO:lda:<760> log likelihood: -108340\n",
      "INFO:lda:<770> log likelihood: -108591\n",
      "INFO:lda:<780> log likelihood: -108582\n",
      "INFO:lda:<790> log likelihood: -108473\n",
      "INFO:lda:<800> log likelihood: -108742\n",
      "INFO:lda:<810> log likelihood: -108189\n",
      "INFO:lda:<820> log likelihood: -108542\n",
      "INFO:lda:<830> log likelihood: -108509\n",
      "INFO:lda:<840> log likelihood: -108488\n",
      "INFO:lda:<850> log likelihood: -108563\n",
      "INFO:lda:<860> log likelihood: -108790\n",
      "INFO:lda:<870> log likelihood: -108586\n",
      "INFO:lda:<880> log likelihood: -108542\n",
      "INFO:lda:<890> log likelihood: -108548\n",
      "INFO:lda:<900> log likelihood: -108395\n",
      "INFO:lda:<910> log likelihood: -108347\n",
      "INFO:lda:<920> log likelihood: -108651\n",
      "INFO:lda:<930> log likelihood: -108502\n",
      "INFO:lda:<940> log likelihood: -108569\n",
      "INFO:lda:<950> log likelihood: -108390\n",
      "INFO:lda:<960> log likelihood: -108711\n",
      "INFO:lda:<970> log likelihood: -108669\n",
      "INFO:lda:<980> log likelihood: -108398\n",
      "INFO:lda:<990> log likelihood: -108616\n",
      "INFO:lda:<1000> log likelihood: -108639\n",
      "INFO:lda:<1010> log likelihood: -108629\n",
      "INFO:lda:<1020> log likelihood: -108719\n",
      "INFO:lda:<1030> log likelihood: -108376\n",
      "INFO:lda:<1040> log likelihood: -108796\n",
      "INFO:lda:<1050> log likelihood: -108535\n",
      "INFO:lda:<1060> log likelihood: -108613\n",
      "INFO:lda:<1070> log likelihood: -108590\n",
      "INFO:lda:<1080> log likelihood: -108791\n",
      "INFO:lda:<1090> log likelihood: -108505\n",
      "INFO:lda:<1100> log likelihood: -108576\n",
      "INFO:lda:<1110> log likelihood: -108596\n",
      "INFO:lda:<1120> log likelihood: -108554\n",
      "INFO:lda:<1130> log likelihood: -108448\n",
      "INFO:lda:<1140> log likelihood: -108338\n",
      "INFO:lda:<1150> log likelihood: -108699\n",
      "INFO:lda:<1160> log likelihood: -108461\n",
      "INFO:lda:<1170> log likelihood: -108846\n",
      "INFO:lda:<1180> log likelihood: -109003\n",
      "INFO:lda:<1190> log likelihood: -108802\n",
      "INFO:lda:<1200> log likelihood: -108774\n",
      "INFO:lda:<1210> log likelihood: -108573\n",
      "INFO:lda:<1220> log likelihood: -108442\n",
      "INFO:lda:<1230> log likelihood: -108513\n",
      "INFO:lda:<1240> log likelihood: -108624\n",
      "INFO:lda:<1250> log likelihood: -108352\n",
      "INFO:lda:<1260> log likelihood: -108584\n",
      "INFO:lda:<1270> log likelihood: -108459\n",
      "INFO:lda:<1280> log likelihood: -108442\n",
      "INFO:lda:<1290> log likelihood: -108614\n",
      "INFO:lda:<1300> log likelihood: -108829\n",
      "INFO:lda:<1310> log likelihood: -108600\n",
      "INFO:lda:<1320> log likelihood: -108524\n",
      "INFO:lda:<1330> log likelihood: -108509\n",
      "INFO:lda:<1340> log likelihood: -108454\n",
      "INFO:lda:<1350> log likelihood: -108687\n",
      "INFO:lda:<1360> log likelihood: -108751\n",
      "INFO:lda:<1370> log likelihood: -108199\n",
      "INFO:lda:<1380> log likelihood: -108378\n",
      "INFO:lda:<1390> log likelihood: -108802\n",
      "INFO:lda:<1400> log likelihood: -108726\n",
      "INFO:lda:<1410> log likelihood: -108467\n",
      "INFO:lda:<1420> log likelihood: -108590\n",
      "INFO:lda:<1430> log likelihood: -108609\n",
      "INFO:lda:<1440> log likelihood: -108700\n",
      "INFO:lda:<1450> log likelihood: -108485\n",
      "INFO:lda:<1460> log likelihood: -108634\n",
      "INFO:lda:<1470> log likelihood: -108671\n",
      "INFO:lda:<1480> log likelihood: -108494\n",
      "INFO:lda:<1490> log likelihood: -108400\n",
      "INFO:lda:<1500> log likelihood: -108549\n",
      "INFO:lda:<1510> log likelihood: -108481\n",
      "INFO:lda:<1520> log likelihood: -108395\n",
      "INFO:lda:<1530> log likelihood: -108691\n",
      "INFO:lda:<1540> log likelihood: -108585\n",
      "INFO:lda:<1550> log likelihood: -108559\n",
      "INFO:lda:<1560> log likelihood: -108677\n",
      "INFO:lda:<1570> log likelihood: -108419\n",
      "INFO:lda:<1580> log likelihood: -108661\n",
      "INFO:lda:<1590> log likelihood: -108462\n",
      "INFO:lda:<1600> log likelihood: -108344\n",
      "INFO:lda:<1610> log likelihood: -108515\n",
      "INFO:lda:<1620> log likelihood: -108526\n",
      "INFO:lda:<1630> log likelihood: -108736\n",
      "INFO:lda:<1640> log likelihood: -108657\n",
      "INFO:lda:<1650> log likelihood: -108513\n",
      "INFO:lda:<1660> log likelihood: -108541\n",
      "INFO:lda:<1670> log likelihood: -108479\n",
      "INFO:lda:<1680> log likelihood: -108597\n",
      "INFO:lda:<1690> log likelihood: -108587\n",
      "INFO:lda:<1700> log likelihood: -108497\n",
      "INFO:lda:<1710> log likelihood: -108434\n",
      "INFO:lda:<1720> log likelihood: -108432\n",
      "INFO:lda:<1730> log likelihood: -108453\n",
      "INFO:lda:<1740> log likelihood: -108714\n",
      "INFO:lda:<1750> log likelihood: -108712\n",
      "INFO:lda:<1760> log likelihood: -108635\n",
      "INFO:lda:<1770> log likelihood: -108611\n",
      "INFO:lda:<1780> log likelihood: -108560\n",
      "INFO:lda:<1790> log likelihood: -108381\n",
      "INFO:lda:<1800> log likelihood: -108720\n",
      "INFO:lda:<1810> log likelihood: -108701\n",
      "INFO:lda:<1820> log likelihood: -108581\n",
      "INFO:lda:<1830> log likelihood: -108721\n",
      "INFO:lda:<1840> log likelihood: -108449\n",
      "INFO:lda:<1850> log likelihood: -108354\n",
      "INFO:lda:<1860> log likelihood: -108488\n",
      "INFO:lda:<1870> log likelihood: -108773\n",
      "INFO:lda:<1880> log likelihood: -108485\n",
      "INFO:lda:<1890> log likelihood: -108405\n",
      "INFO:lda:<1900> log likelihood: -108149\n",
      "INFO:lda:<1910> log likelihood: -108404\n",
      "INFO:lda:<1920> log likelihood: -108463\n",
      "INFO:lda:<1930> log likelihood: -108652\n",
      "INFO:lda:<1940> log likelihood: -108599\n",
      "INFO:lda:<1950> log likelihood: -108583\n",
      "INFO:lda:<1960> log likelihood: -108560\n"
     ]
    },
    {
     "name": "stderr",
     "output_type": "stream",
     "text": [
      "INFO:lda:<1970> log likelihood: -108430\n",
      "INFO:lda:<1980> log likelihood: -108478\n",
      "INFO:lda:<1990> log likelihood: -108589\n",
      "INFO:lda:<2000> log likelihood: -108493\n",
      "INFO:lda:<2010> log likelihood: -108625\n",
      "INFO:lda:<2020> log likelihood: -108836\n",
      "INFO:lda:<2030> log likelihood: -108605\n",
      "INFO:lda:<2040> log likelihood: -108560\n",
      "INFO:lda:<2050> log likelihood: -108358\n",
      "INFO:lda:<2060> log likelihood: -108538\n",
      "INFO:lda:<2070> log likelihood: -108640\n",
      "INFO:lda:<2080> log likelihood: -108356\n",
      "INFO:lda:<2090> log likelihood: -108536\n",
      "INFO:lda:<2100> log likelihood: -108459\n",
      "INFO:lda:<2110> log likelihood: -108510\n",
      "INFO:lda:<2120> log likelihood: -108624\n",
      "INFO:lda:<2130> log likelihood: -108623\n",
      "INFO:lda:<2140> log likelihood: -108612\n",
      "INFO:lda:<2150> log likelihood: -108767\n",
      "INFO:lda:<2160> log likelihood: -108626\n",
      "INFO:lda:<2170> log likelihood: -108736\n",
      "INFO:lda:<2180> log likelihood: -108641\n",
      "INFO:lda:<2190> log likelihood: -108661\n",
      "INFO:lda:<2200> log likelihood: -108683\n",
      "INFO:lda:<2210> log likelihood: -108390\n",
      "INFO:lda:<2220> log likelihood: -108535\n",
      "INFO:lda:<2230> log likelihood: -108610\n",
      "INFO:lda:<2240> log likelihood: -108484\n",
      "INFO:lda:<2250> log likelihood: -108466\n",
      "INFO:lda:<2260> log likelihood: -108530\n",
      "INFO:lda:<2270> log likelihood: -108563\n",
      "INFO:lda:<2280> log likelihood: -108637\n",
      "INFO:lda:<2290> log likelihood: -108280\n",
      "INFO:lda:<2300> log likelihood: -108495\n",
      "INFO:lda:<2310> log likelihood: -108419\n",
      "INFO:lda:<2320> log likelihood: -108595\n",
      "INFO:lda:<2330> log likelihood: -108562\n",
      "INFO:lda:<2340> log likelihood: -108450\n",
      "INFO:lda:<2350> log likelihood: -108470\n",
      "INFO:lda:<2360> log likelihood: -108513\n",
      "INFO:lda:<2370> log likelihood: -108450\n",
      "INFO:lda:<2380> log likelihood: -108847\n",
      "INFO:lda:<2390> log likelihood: -108371\n",
      "INFO:lda:<2400> log likelihood: -108243\n",
      "INFO:lda:<2410> log likelihood: -108479\n",
      "INFO:lda:<2420> log likelihood: -108520\n",
      "INFO:lda:<2430> log likelihood: -108487\n",
      "INFO:lda:<2440> log likelihood: -108604\n",
      "INFO:lda:<2450> log likelihood: -108519\n",
      "INFO:lda:<2460> log likelihood: -108410\n",
      "INFO:lda:<2470> log likelihood: -108771\n",
      "INFO:lda:<2480> log likelihood: -108508\n",
      "INFO:lda:<2490> log likelihood: -108514\n",
      "INFO:lda:<2500> log likelihood: -108649\n",
      "INFO:lda:<2510> log likelihood: -108465\n",
      "INFO:lda:<2520> log likelihood: -108563\n",
      "INFO:lda:<2530> log likelihood: -108489\n",
      "INFO:lda:<2540> log likelihood: -108376\n",
      "INFO:lda:<2550> log likelihood: -108460\n",
      "INFO:lda:<2560> log likelihood: -108204\n",
      "INFO:lda:<2570> log likelihood: -108783\n",
      "INFO:lda:<2580> log likelihood: -108291\n",
      "INFO:lda:<2590> log likelihood: -108315\n",
      "INFO:lda:<2600> log likelihood: -108551\n",
      "INFO:lda:<2610> log likelihood: -108643\n",
      "INFO:lda:<2620> log likelihood: -108428\n",
      "INFO:lda:<2630> log likelihood: -108618\n",
      "INFO:lda:<2640> log likelihood: -108459\n",
      "INFO:lda:<2650> log likelihood: -108520\n",
      "INFO:lda:<2660> log likelihood: -108376\n",
      "INFO:lda:<2670> log likelihood: -108581\n",
      "INFO:lda:<2680> log likelihood: -108219\n",
      "INFO:lda:<2690> log likelihood: -108665\n",
      "INFO:lda:<2700> log likelihood: -108591\n",
      "INFO:lda:<2710> log likelihood: -108739\n",
      "INFO:lda:<2720> log likelihood: -108367\n",
      "INFO:lda:<2730> log likelihood: -108747\n",
      "INFO:lda:<2740> log likelihood: -108517\n",
      "INFO:lda:<2750> log likelihood: -108436\n",
      "INFO:lda:<2760> log likelihood: -108667\n",
      "INFO:lda:<2770> log likelihood: -108610\n",
      "INFO:lda:<2780> log likelihood: -108586\n",
      "INFO:lda:<2790> log likelihood: -108727\n",
      "INFO:lda:<2800> log likelihood: -108672\n",
      "INFO:lda:<2810> log likelihood: -108650\n",
      "INFO:lda:<2820> log likelihood: -108470\n",
      "INFO:lda:<2830> log likelihood: -108469\n",
      "INFO:lda:<2840> log likelihood: -108622\n",
      "INFO:lda:<2850> log likelihood: -108742\n",
      "INFO:lda:<2860> log likelihood: -108423\n",
      "INFO:lda:<2870> log likelihood: -108458\n",
      "INFO:lda:<2880> log likelihood: -108551\n",
      "INFO:lda:<2890> log likelihood: -108507\n",
      "INFO:lda:<2900> log likelihood: -108481\n",
      "INFO:lda:<2910> log likelihood: -108666\n",
      "INFO:lda:<2920> log likelihood: -108487\n",
      "INFO:lda:<2930> log likelihood: -108503\n",
      "INFO:lda:<2940> log likelihood: -108618\n",
      "INFO:lda:<2950> log likelihood: -108552\n",
      "INFO:lda:<2960> log likelihood: -108434\n",
      "INFO:lda:<2970> log likelihood: -108471\n",
      "INFO:lda:<2980> log likelihood: -108160\n",
      "INFO:lda:<2990> log likelihood: -108610\n",
      "INFO:lda:<3000> log likelihood: -108458\n",
      "INFO:lda:<3010> log likelihood: -108943\n",
      "INFO:lda:<3020> log likelihood: -108330\n",
      "INFO:lda:<3030> log likelihood: -108523\n",
      "INFO:lda:<3040> log likelihood: -108479\n",
      "INFO:lda:<3050> log likelihood: -108613\n",
      "INFO:lda:<3060> log likelihood: -108526\n",
      "INFO:lda:<3070> log likelihood: -108415\n",
      "INFO:lda:<3080> log likelihood: -108235\n",
      "INFO:lda:<3090> log likelihood: -108226\n",
      "INFO:lda:<3100> log likelihood: -108502\n",
      "INFO:lda:<3110> log likelihood: -108711\n",
      "INFO:lda:<3120> log likelihood: -108778\n",
      "INFO:lda:<3130> log likelihood: -108595\n",
      "INFO:lda:<3140> log likelihood: -108733\n",
      "INFO:lda:<3150> log likelihood: -108480\n",
      "INFO:lda:<3160> log likelihood: -108685\n",
      "INFO:lda:<3170> log likelihood: -108537\n",
      "INFO:lda:<3180> log likelihood: -108818\n",
      "INFO:lda:<3190> log likelihood: -108311\n",
      "INFO:lda:<3200> log likelihood: -108754\n",
      "INFO:lda:<3210> log likelihood: -108820\n",
      "INFO:lda:<3220> log likelihood: -108433\n",
      "INFO:lda:<3230> log likelihood: -108336\n",
      "INFO:lda:<3240> log likelihood: -108563\n",
      "INFO:lda:<3250> log likelihood: -108593\n",
      "INFO:lda:<3260> log likelihood: -108528\n",
      "INFO:lda:<3270> log likelihood: -108650\n",
      "INFO:lda:<3280> log likelihood: -108699\n",
      "INFO:lda:<3290> log likelihood: -108764\n",
      "INFO:lda:<3300> log likelihood: -108491\n",
      "INFO:lda:<3310> log likelihood: -108607\n",
      "INFO:lda:<3320> log likelihood: -108395\n",
      "INFO:lda:<3330> log likelihood: -108750\n",
      "INFO:lda:<3340> log likelihood: -108481\n",
      "INFO:lda:<3350> log likelihood: -108657\n",
      "INFO:lda:<3360> log likelihood: -108566\n",
      "INFO:lda:<3370> log likelihood: -108530\n",
      "INFO:lda:<3380> log likelihood: -108525\n",
      "INFO:lda:<3390> log likelihood: -108512\n",
      "INFO:lda:<3400> log likelihood: -108305\n",
      "INFO:lda:<3410> log likelihood: -108655\n",
      "INFO:lda:<3420> log likelihood: -108565\n",
      "INFO:lda:<3430> log likelihood: -108584\n",
      "INFO:lda:<3440> log likelihood: -108465\n",
      "INFO:lda:<3450> log likelihood: -108484\n",
      "INFO:lda:<3460> log likelihood: -108607\n",
      "INFO:lda:<3470> log likelihood: -108782\n",
      "INFO:lda:<3480> log likelihood: -108582\n",
      "INFO:lda:<3490> log likelihood: -108537\n",
      "INFO:lda:<3500> log likelihood: -108490\n",
      "INFO:lda:<3510> log likelihood: -108418\n",
      "INFO:lda:<3520> log likelihood: -108457\n",
      "INFO:lda:<3530> log likelihood: -108514\n",
      "INFO:lda:<3540> log likelihood: -108992\n",
      "INFO:lda:<3550> log likelihood: -108533\n",
      "INFO:lda:<3560> log likelihood: -108473\n",
      "INFO:lda:<3570> log likelihood: -108720\n",
      "INFO:lda:<3580> log likelihood: -108535\n",
      "INFO:lda:<3590> log likelihood: -108468\n",
      "INFO:lda:<3600> log likelihood: -108382\n",
      "INFO:lda:<3610> log likelihood: -108253\n",
      "INFO:lda:<3620> log likelihood: -108551\n",
      "INFO:lda:<3630> log likelihood: -108349\n",
      "INFO:lda:<3640> log likelihood: -108321\n",
      "INFO:lda:<3650> log likelihood: -108604\n",
      "INFO:lda:<3660> log likelihood: -108500\n",
      "INFO:lda:<3670> log likelihood: -108732\n",
      "INFO:lda:<3680> log likelihood: -108386\n",
      "INFO:lda:<3690> log likelihood: -108562\n",
      "INFO:lda:<3700> log likelihood: -108830\n",
      "INFO:lda:<3710> log likelihood: -108471\n",
      "INFO:lda:<3720> log likelihood: -108658\n",
      "INFO:lda:<3730> log likelihood: -108684\n",
      "INFO:lda:<3740> log likelihood: -108551\n",
      "INFO:lda:<3750> log likelihood: -108441\n",
      "INFO:lda:<3760> log likelihood: -108196\n",
      "INFO:lda:<3770> log likelihood: -108270\n",
      "INFO:lda:<3780> log likelihood: -108712\n",
      "INFO:lda:<3790> log likelihood: -108759\n",
      "INFO:lda:<3800> log likelihood: -108645\n",
      "INFO:lda:<3810> log likelihood: -108715\n",
      "INFO:lda:<3820> log likelihood: -108566\n",
      "INFO:lda:<3830> log likelihood: -108846\n",
      "INFO:lda:<3840> log likelihood: -108771\n",
      "INFO:lda:<3850> log likelihood: -108279\n",
      "INFO:lda:<3860> log likelihood: -108252\n",
      "INFO:lda:<3870> log likelihood: -108423\n",
      "INFO:lda:<3880> log likelihood: -108589\n",
      "INFO:lda:<3890> log likelihood: -108471\n",
      "INFO:lda:<3900> log likelihood: -108572\n",
      "INFO:lda:<3910> log likelihood: -108535\n",
      "INFO:lda:<3920> log likelihood: -108682\n",
      "INFO:lda:<3930> log likelihood: -108364\n",
      "INFO:lda:<3940> log likelihood: -108567\n",
      "INFO:lda:<3950> log likelihood: -108449\n",
      "INFO:lda:<3960> log likelihood: -108543\n",
      "INFO:lda:<3970> log likelihood: -108686\n",
      "INFO:lda:<3980> log likelihood: -108463\n",
      "INFO:lda:<3990> log likelihood: -108538\n",
      "INFO:lda:<4000> log likelihood: -108485\n",
      "INFO:lda:<4010> log likelihood: -108502\n"
     ]
    },
    {
     "name": "stderr",
     "output_type": "stream",
     "text": [
      "INFO:lda:<4020> log likelihood: -108563\n",
      "INFO:lda:<4030> log likelihood: -108561\n",
      "INFO:lda:<4040> log likelihood: -108477\n",
      "INFO:lda:<4050> log likelihood: -108591\n",
      "INFO:lda:<4060> log likelihood: -108501\n",
      "INFO:lda:<4070> log likelihood: -108666\n",
      "INFO:lda:<4080> log likelihood: -108686\n",
      "INFO:lda:<4090> log likelihood: -108666\n",
      "INFO:lda:<4100> log likelihood: -108704\n",
      "INFO:lda:<4110> log likelihood: -108688\n",
      "INFO:lda:<4120> log likelihood: -108583\n",
      "INFO:lda:<4130> log likelihood: -108475\n",
      "INFO:lda:<4140> log likelihood: -108411\n",
      "INFO:lda:<4150> log likelihood: -108766\n",
      "INFO:lda:<4160> log likelihood: -108584\n",
      "INFO:lda:<4170> log likelihood: -108447\n",
      "INFO:lda:<4180> log likelihood: -108483\n",
      "INFO:lda:<4190> log likelihood: -108422\n",
      "INFO:lda:<4200> log likelihood: -108537\n",
      "INFO:lda:<4210> log likelihood: -108498\n",
      "INFO:lda:<4220> log likelihood: -108431\n",
      "INFO:lda:<4230> log likelihood: -108686\n",
      "INFO:lda:<4240> log likelihood: -108724\n",
      "INFO:lda:<4250> log likelihood: -108441\n",
      "INFO:lda:<4260> log likelihood: -108554\n",
      "INFO:lda:<4270> log likelihood: -108644\n",
      "INFO:lda:<4280> log likelihood: -108629\n",
      "INFO:lda:<4290> log likelihood: -108380\n",
      "INFO:lda:<4300> log likelihood: -108665\n",
      "INFO:lda:<4310> log likelihood: -108389\n",
      "INFO:lda:<4320> log likelihood: -108590\n",
      "INFO:lda:<4330> log likelihood: -108478\n",
      "INFO:lda:<4340> log likelihood: -108839\n",
      "INFO:lda:<4350> log likelihood: -108596\n",
      "INFO:lda:<4360> log likelihood: -108300\n",
      "INFO:lda:<4370> log likelihood: -108472\n",
      "INFO:lda:<4380> log likelihood: -108495\n",
      "INFO:lda:<4390> log likelihood: -108847\n",
      "INFO:lda:<4400> log likelihood: -108539\n",
      "INFO:lda:<4410> log likelihood: -108697\n",
      "INFO:lda:<4420> log likelihood: -108701\n",
      "INFO:lda:<4430> log likelihood: -108469\n",
      "INFO:lda:<4440> log likelihood: -108641\n",
      "INFO:lda:<4450> log likelihood: -108508\n",
      "INFO:lda:<4460> log likelihood: -108449\n",
      "INFO:lda:<4470> log likelihood: -108811\n",
      "INFO:lda:<4480> log likelihood: -108698\n",
      "INFO:lda:<4490> log likelihood: -108510\n",
      "INFO:lda:<4500> log likelihood: -108663\n",
      "INFO:lda:<4510> log likelihood: -108885\n",
      "INFO:lda:<4520> log likelihood: -108574\n",
      "INFO:lda:<4530> log likelihood: -108456\n",
      "INFO:lda:<4540> log likelihood: -108610\n",
      "INFO:lda:<4550> log likelihood: -108563\n",
      "INFO:lda:<4560> log likelihood: -108427\n",
      "INFO:lda:<4570> log likelihood: -108285\n",
      "INFO:lda:<4580> log likelihood: -108673\n",
      "INFO:lda:<4590> log likelihood: -108389\n",
      "INFO:lda:<4600> log likelihood: -108428\n",
      "INFO:lda:<4610> log likelihood: -108469\n",
      "INFO:lda:<4620> log likelihood: -108630\n",
      "INFO:lda:<4630> log likelihood: -108605\n",
      "INFO:lda:<4640> log likelihood: -108510\n",
      "INFO:lda:<4650> log likelihood: -108432\n",
      "INFO:lda:<4660> log likelihood: -108718\n",
      "INFO:lda:<4670> log likelihood: -108663\n",
      "INFO:lda:<4680> log likelihood: -108756\n",
      "INFO:lda:<4690> log likelihood: -108682\n",
      "INFO:lda:<4700> log likelihood: -108716\n",
      "INFO:lda:<4710> log likelihood: -108506\n",
      "INFO:lda:<4720> log likelihood: -108510\n",
      "INFO:lda:<4730> log likelihood: -108498\n",
      "INFO:lda:<4740> log likelihood: -108588\n",
      "INFO:lda:<4750> log likelihood: -108510\n",
      "INFO:lda:<4760> log likelihood: -108536\n",
      "INFO:lda:<4770> log likelihood: -108563\n",
      "INFO:lda:<4780> log likelihood: -108638\n",
      "INFO:lda:<4790> log likelihood: -108479\n",
      "INFO:lda:<4800> log likelihood: -108636\n",
      "INFO:lda:<4810> log likelihood: -108612\n",
      "INFO:lda:<4820> log likelihood: -108661\n",
      "INFO:lda:<4830> log likelihood: -108647\n",
      "INFO:lda:<4840> log likelihood: -108501\n",
      "INFO:lda:<4850> log likelihood: -108650\n",
      "INFO:lda:<4860> log likelihood: -108696\n",
      "INFO:lda:<4870> log likelihood: -108796\n",
      "INFO:lda:<4880> log likelihood: -108635\n",
      "INFO:lda:<4890> log likelihood: -108764\n",
      "INFO:lda:<4900> log likelihood: -108504\n",
      "INFO:lda:<4910> log likelihood: -108457\n",
      "INFO:lda:<4920> log likelihood: -108685\n",
      "INFO:lda:<4930> log likelihood: -108654\n",
      "INFO:lda:<4940> log likelihood: -108416\n",
      "INFO:lda:<4950> log likelihood: -108676\n",
      "INFO:lda:<4960> log likelihood: -108560\n",
      "INFO:lda:<4970> log likelihood: -108514\n",
      "INFO:lda:<4980> log likelihood: -108765\n",
      "INFO:lda:<4990> log likelihood: -108426\n",
      "INFO:lda:<5000> log likelihood: -108664\n",
      "INFO:lda:<5010> log likelihood: -108197\n",
      "INFO:lda:<5020> log likelihood: -108358\n",
      "INFO:lda:<5030> log likelihood: -108448\n",
      "INFO:lda:<5040> log likelihood: -108520\n",
      "INFO:lda:<5050> log likelihood: -108515\n",
      "INFO:lda:<5060> log likelihood: -108312\n",
      "INFO:lda:<5070> log likelihood: -108548\n",
      "INFO:lda:<5080> log likelihood: -108679\n",
      "INFO:lda:<5090> log likelihood: -108628\n",
      "INFO:lda:<5100> log likelihood: -108398\n",
      "INFO:lda:<5110> log likelihood: -108650\n",
      "INFO:lda:<5120> log likelihood: -108593\n",
      "INFO:lda:<5130> log likelihood: -108552\n",
      "INFO:lda:<5140> log likelihood: -108668\n",
      "INFO:lda:<5150> log likelihood: -108511\n",
      "INFO:lda:<5160> log likelihood: -108650\n",
      "INFO:lda:<5170> log likelihood: -108591\n",
      "INFO:lda:<5180> log likelihood: -108879\n",
      "INFO:lda:<5190> log likelihood: -108650\n",
      "INFO:lda:<5200> log likelihood: -108577\n",
      "INFO:lda:<5210> log likelihood: -108534\n",
      "INFO:lda:<5220> log likelihood: -108676\n",
      "INFO:lda:<5230> log likelihood: -108669\n",
      "INFO:lda:<5240> log likelihood: -108386\n",
      "INFO:lda:<5250> log likelihood: -108336\n",
      "INFO:lda:<5260> log likelihood: -108356\n",
      "INFO:lda:<5270> log likelihood: -108709\n",
      "INFO:lda:<5280> log likelihood: -108560\n",
      "INFO:lda:<5290> log likelihood: -108567\n",
      "INFO:lda:<5300> log likelihood: -108396\n",
      "INFO:lda:<5310> log likelihood: -108313\n",
      "INFO:lda:<5320> log likelihood: -108377\n",
      "INFO:lda:<5330> log likelihood: -108434\n",
      "INFO:lda:<5340> log likelihood: -108514\n",
      "INFO:lda:<5350> log likelihood: -108593\n",
      "INFO:lda:<5360> log likelihood: -108511\n",
      "INFO:lda:<5370> log likelihood: -108557\n",
      "INFO:lda:<5380> log likelihood: -108616\n",
      "INFO:lda:<5390> log likelihood: -108454\n",
      "INFO:lda:<5400> log likelihood: -108467\n",
      "INFO:lda:<5410> log likelihood: -108586\n",
      "INFO:lda:<5420> log likelihood: -108534\n",
      "INFO:lda:<5430> log likelihood: -108445\n",
      "INFO:lda:<5440> log likelihood: -108701\n",
      "INFO:lda:<5450> log likelihood: -108402\n",
      "INFO:lda:<5460> log likelihood: -108614\n",
      "INFO:lda:<5470> log likelihood: -108849\n",
      "INFO:lda:<5480> log likelihood: -108702\n",
      "INFO:lda:<5490> log likelihood: -108524\n",
      "INFO:lda:<5500> log likelihood: -108489\n",
      "INFO:lda:<5510> log likelihood: -108648\n",
      "INFO:lda:<5520> log likelihood: -108369\n",
      "INFO:lda:<5530> log likelihood: -108487\n",
      "INFO:lda:<5540> log likelihood: -108663\n",
      "INFO:lda:<5550> log likelihood: -108479\n",
      "INFO:lda:<5560> log likelihood: -108543\n",
      "INFO:lda:<5570> log likelihood: -108677\n",
      "INFO:lda:<5580> log likelihood: -108488\n",
      "INFO:lda:<5590> log likelihood: -108347\n",
      "INFO:lda:<5600> log likelihood: -108623\n",
      "INFO:lda:<5610> log likelihood: -108482\n",
      "INFO:lda:<5620> log likelihood: -108284\n",
      "INFO:lda:<5630> log likelihood: -108366\n",
      "INFO:lda:<5640> log likelihood: -108491\n",
      "INFO:lda:<5650> log likelihood: -108571\n",
      "INFO:lda:<5660> log likelihood: -108350\n",
      "INFO:lda:<5670> log likelihood: -108509\n",
      "INFO:lda:<5680> log likelihood: -108404\n",
      "INFO:lda:<5690> log likelihood: -108500\n",
      "INFO:lda:<5700> log likelihood: -108707\n",
      "INFO:lda:<5710> log likelihood: -108503\n",
      "INFO:lda:<5720> log likelihood: -108657\n",
      "INFO:lda:<5730> log likelihood: -108419\n",
      "INFO:lda:<5740> log likelihood: -108487\n",
      "INFO:lda:<5750> log likelihood: -108669\n",
      "INFO:lda:<5760> log likelihood: -108548\n",
      "INFO:lda:<5770> log likelihood: -108607\n",
      "INFO:lda:<5780> log likelihood: -108393\n",
      "INFO:lda:<5790> log likelihood: -108638\n",
      "INFO:lda:<5800> log likelihood: -108376\n",
      "INFO:lda:<5810> log likelihood: -108389\n",
      "INFO:lda:<5820> log likelihood: -108578\n",
      "INFO:lda:<5830> log likelihood: -108356\n",
      "INFO:lda:<5840> log likelihood: -108570\n",
      "INFO:lda:<5850> log likelihood: -108431\n",
      "INFO:lda:<5860> log likelihood: -108491\n",
      "INFO:lda:<5870> log likelihood: -108315\n",
      "INFO:lda:<5880> log likelihood: -108423\n",
      "INFO:lda:<5890> log likelihood: -108475\n",
      "INFO:lda:<5900> log likelihood: -108593\n",
      "INFO:lda:<5910> log likelihood: -108952\n",
      "INFO:lda:<5920> log likelihood: -108688\n",
      "INFO:lda:<5930> log likelihood: -108616\n",
      "INFO:lda:<5940> log likelihood: -108498\n",
      "INFO:lda:<5950> log likelihood: -108343\n",
      "INFO:lda:<5960> log likelihood: -108729\n",
      "INFO:lda:<5970> log likelihood: -108730\n",
      "INFO:lda:<5980> log likelihood: -108563\n",
      "INFO:lda:<5990> log likelihood: -108678\n",
      "INFO:lda:<6000> log likelihood: -108709\n",
      "INFO:lda:<6010> log likelihood: -108545\n",
      "INFO:lda:<6020> log likelihood: -108789\n",
      "INFO:lda:<6030> log likelihood: -108673\n",
      "INFO:lda:<6040> log likelihood: -108428\n",
      "INFO:lda:<6050> log likelihood: -108511\n",
      "INFO:lda:<6060> log likelihood: -108451\n"
     ]
    },
    {
     "name": "stderr",
     "output_type": "stream",
     "text": [
      "INFO:lda:<6070> log likelihood: -108530\n",
      "INFO:lda:<6080> log likelihood: -108452\n",
      "INFO:lda:<6090> log likelihood: -108661\n",
      "INFO:lda:<6100> log likelihood: -108598\n",
      "INFO:lda:<6110> log likelihood: -108452\n",
      "INFO:lda:<6120> log likelihood: -108670\n",
      "INFO:lda:<6130> log likelihood: -108527\n",
      "INFO:lda:<6140> log likelihood: -108414\n",
      "INFO:lda:<6150> log likelihood: -108904\n",
      "INFO:lda:<6160> log likelihood: -108744\n",
      "INFO:lda:<6170> log likelihood: -108696\n",
      "INFO:lda:<6180> log likelihood: -108616\n",
      "INFO:lda:<6190> log likelihood: -108527\n",
      "INFO:lda:<6200> log likelihood: -108541\n",
      "INFO:lda:<6210> log likelihood: -108407\n",
      "INFO:lda:<6220> log likelihood: -108538\n",
      "INFO:lda:<6230> log likelihood: -108576\n",
      "INFO:lda:<6240> log likelihood: -108247\n",
      "INFO:lda:<6250> log likelihood: -108637\n",
      "INFO:lda:<6260> log likelihood: -108525\n",
      "INFO:lda:<6270> log likelihood: -108456\n",
      "INFO:lda:<6280> log likelihood: -108460\n",
      "INFO:lda:<6290> log likelihood: -108740\n",
      "INFO:lda:<6300> log likelihood: -108637\n",
      "INFO:lda:<6310> log likelihood: -108530\n",
      "INFO:lda:<6320> log likelihood: -108506\n",
      "INFO:lda:<6330> log likelihood: -108301\n",
      "INFO:lda:<6340> log likelihood: -108522\n",
      "INFO:lda:<6350> log likelihood: -108511\n",
      "INFO:lda:<6360> log likelihood: -108469\n",
      "INFO:lda:<6370> log likelihood: -108547\n",
      "INFO:lda:<6380> log likelihood: -108546\n",
      "INFO:lda:<6390> log likelihood: -108537\n",
      "INFO:lda:<6400> log likelihood: -108720\n",
      "INFO:lda:<6410> log likelihood: -108488\n",
      "INFO:lda:<6420> log likelihood: -108591\n",
      "INFO:lda:<6430> log likelihood: -108412\n",
      "INFO:lda:<6440> log likelihood: -108606\n",
      "INFO:lda:<6450> log likelihood: -108744\n",
      "INFO:lda:<6460> log likelihood: -108528\n",
      "INFO:lda:<6470> log likelihood: -108740\n",
      "INFO:lda:<6480> log likelihood: -108775\n",
      "INFO:lda:<6490> log likelihood: -108620\n",
      "INFO:lda:<6500> log likelihood: -108643\n",
      "INFO:lda:<6510> log likelihood: -108663\n",
      "INFO:lda:<6520> log likelihood: -108502\n",
      "INFO:lda:<6530> log likelihood: -108561\n",
      "INFO:lda:<6540> log likelihood: -108809\n",
      "INFO:lda:<6550> log likelihood: -108586\n",
      "INFO:lda:<6560> log likelihood: -108267\n",
      "INFO:lda:<6570> log likelihood: -108452\n",
      "INFO:lda:<6580> log likelihood: -108460\n",
      "INFO:lda:<6590> log likelihood: -108531\n",
      "INFO:lda:<6600> log likelihood: -108795\n",
      "INFO:lda:<6610> log likelihood: -108496\n",
      "INFO:lda:<6620> log likelihood: -108560\n",
      "INFO:lda:<6630> log likelihood: -108643\n",
      "INFO:lda:<6640> log likelihood: -108334\n",
      "INFO:lda:<6650> log likelihood: -108424\n",
      "INFO:lda:<6660> log likelihood: -108531\n",
      "INFO:lda:<6670> log likelihood: -108440\n",
      "INFO:lda:<6680> log likelihood: -108730\n",
      "INFO:lda:<6690> log likelihood: -108589\n",
      "INFO:lda:<6700> log likelihood: -108529\n",
      "INFO:lda:<6710> log likelihood: -108640\n",
      "INFO:lda:<6720> log likelihood: -108413\n",
      "INFO:lda:<6730> log likelihood: -108638\n",
      "INFO:lda:<6740> log likelihood: -108682\n",
      "INFO:lda:<6750> log likelihood: -108309\n",
      "INFO:lda:<6760> log likelihood: -108349\n",
      "INFO:lda:<6770> log likelihood: -108857\n",
      "INFO:lda:<6780> log likelihood: -108585\n",
      "INFO:lda:<6790> log likelihood: -108547\n",
      "INFO:lda:<6800> log likelihood: -108391\n",
      "INFO:lda:<6810> log likelihood: -108474\n",
      "INFO:lda:<6820> log likelihood: -108688\n",
      "INFO:lda:<6830> log likelihood: -108561\n",
      "INFO:lda:<6840> log likelihood: -108715\n",
      "INFO:lda:<6850> log likelihood: -108462\n",
      "INFO:lda:<6860> log likelihood: -108452\n",
      "INFO:lda:<6870> log likelihood: -108655\n",
      "INFO:lda:<6880> log likelihood: -108699\n",
      "INFO:lda:<6890> log likelihood: -108696\n",
      "INFO:lda:<6900> log likelihood: -108549\n",
      "INFO:lda:<6910> log likelihood: -108509\n",
      "INFO:lda:<6920> log likelihood: -108428\n",
      "INFO:lda:<6930> log likelihood: -108412\n",
      "INFO:lda:<6940> log likelihood: -108618\n",
      "INFO:lda:<6950> log likelihood: -108707\n",
      "INFO:lda:<6960> log likelihood: -108793\n",
      "INFO:lda:<6970> log likelihood: -108650\n",
      "INFO:lda:<6980> log likelihood: -108684\n",
      "INFO:lda:<6990> log likelihood: -108605\n",
      "INFO:lda:<7000> log likelihood: -108496\n",
      "INFO:lda:<7010> log likelihood: -108497\n",
      "INFO:lda:<7020> log likelihood: -108490\n",
      "INFO:lda:<7030> log likelihood: -108402\n",
      "INFO:lda:<7040> log likelihood: -108541\n",
      "INFO:lda:<7050> log likelihood: -108479\n",
      "INFO:lda:<7060> log likelihood: -108421\n",
      "INFO:lda:<7070> log likelihood: -108566\n",
      "INFO:lda:<7080> log likelihood: -108389\n",
      "INFO:lda:<7090> log likelihood: -108466\n",
      "INFO:lda:<7100> log likelihood: -108495\n",
      "INFO:lda:<7110> log likelihood: -108455\n",
      "INFO:lda:<7120> log likelihood: -108547\n",
      "INFO:lda:<7130> log likelihood: -108504\n",
      "INFO:lda:<7140> log likelihood: -108527\n",
      "INFO:lda:<7150> log likelihood: -108486\n",
      "INFO:lda:<7160> log likelihood: -108539\n",
      "INFO:lda:<7170> log likelihood: -108292\n",
      "INFO:lda:<7180> log likelihood: -108526\n",
      "INFO:lda:<7190> log likelihood: -108511\n",
      "INFO:lda:<7200> log likelihood: -108538\n",
      "INFO:lda:<7210> log likelihood: -108337\n",
      "INFO:lda:<7220> log likelihood: -108436\n",
      "INFO:lda:<7230> log likelihood: -108662\n",
      "INFO:lda:<7240> log likelihood: -108684\n",
      "INFO:lda:<7250> log likelihood: -108613\n",
      "INFO:lda:<7260> log likelihood: -108743\n",
      "INFO:lda:<7270> log likelihood: -108705\n",
      "INFO:lda:<7280> log likelihood: -108333\n",
      "INFO:lda:<7290> log likelihood: -108853\n",
      "INFO:lda:<7300> log likelihood: -108685\n",
      "INFO:lda:<7310> log likelihood: -108488\n",
      "INFO:lda:<7320> log likelihood: -108585\n",
      "INFO:lda:<7330> log likelihood: -108532\n",
      "INFO:lda:<7340> log likelihood: -108574\n",
      "INFO:lda:<7350> log likelihood: -108692\n",
      "INFO:lda:<7360> log likelihood: -108623\n",
      "INFO:lda:<7370> log likelihood: -108586\n",
      "INFO:lda:<7380> log likelihood: -108489\n",
      "INFO:lda:<7390> log likelihood: -108652\n",
      "INFO:lda:<7400> log likelihood: -108628\n",
      "INFO:lda:<7410> log likelihood: -108493\n",
      "INFO:lda:<7420> log likelihood: -108418\n",
      "INFO:lda:<7430> log likelihood: -108536\n",
      "INFO:lda:<7440> log likelihood: -108477\n",
      "INFO:lda:<7450> log likelihood: -108227\n",
      "INFO:lda:<7460> log likelihood: -108367\n",
      "INFO:lda:<7470> log likelihood: -108487\n",
      "INFO:lda:<7480> log likelihood: -108483\n",
      "INFO:lda:<7490> log likelihood: -108432\n",
      "INFO:lda:<7500> log likelihood: -108483\n",
      "INFO:lda:<7510> log likelihood: -108270\n",
      "INFO:lda:<7520> log likelihood: -108602\n",
      "INFO:lda:<7530> log likelihood: -108502\n",
      "INFO:lda:<7540> log likelihood: -108312\n",
      "INFO:lda:<7550> log likelihood: -108603\n",
      "INFO:lda:<7560> log likelihood: -108786\n",
      "INFO:lda:<7570> log likelihood: -108502\n",
      "INFO:lda:<7580> log likelihood: -108318\n",
      "INFO:lda:<7590> log likelihood: -108462\n",
      "INFO:lda:<7600> log likelihood: -108588\n",
      "INFO:lda:<7610> log likelihood: -108695\n",
      "INFO:lda:<7620> log likelihood: -108630\n",
      "INFO:lda:<7630> log likelihood: -108497\n",
      "INFO:lda:<7640> log likelihood: -108549\n",
      "INFO:lda:<7650> log likelihood: -108634\n",
      "INFO:lda:<7660> log likelihood: -108677\n",
      "INFO:lda:<7670> log likelihood: -108657\n",
      "INFO:lda:<7680> log likelihood: -108605\n",
      "INFO:lda:<7690> log likelihood: -108619\n",
      "INFO:lda:<7700> log likelihood: -108364\n",
      "INFO:lda:<7710> log likelihood: -108224\n",
      "INFO:lda:<7720> log likelihood: -108387\n",
      "INFO:lda:<7730> log likelihood: -108793\n",
      "INFO:lda:<7740> log likelihood: -108614\n",
      "INFO:lda:<7750> log likelihood: -108429\n",
      "INFO:lda:<7760> log likelihood: -108770\n",
      "INFO:lda:<7770> log likelihood: -108598\n",
      "INFO:lda:<7780> log likelihood: -108532\n",
      "INFO:lda:<7790> log likelihood: -108621\n",
      "INFO:lda:<7800> log likelihood: -108601\n",
      "INFO:lda:<7810> log likelihood: -108716\n",
      "INFO:lda:<7820> log likelihood: -108594\n",
      "INFO:lda:<7830> log likelihood: -108448\n",
      "INFO:lda:<7840> log likelihood: -108472\n",
      "INFO:lda:<7850> log likelihood: -108621\n",
      "INFO:lda:<7860> log likelihood: -108750\n",
      "INFO:lda:<7870> log likelihood: -108578\n",
      "INFO:lda:<7880> log likelihood: -108469\n",
      "INFO:lda:<7890> log likelihood: -108551\n",
      "INFO:lda:<7900> log likelihood: -108646\n",
      "INFO:lda:<7910> log likelihood: -108287\n",
      "INFO:lda:<7920> log likelihood: -108558\n",
      "INFO:lda:<7930> log likelihood: -108702\n",
      "INFO:lda:<7940> log likelihood: -108830\n",
      "INFO:lda:<7950> log likelihood: -108604\n",
      "INFO:lda:<7960> log likelihood: -108811\n",
      "INFO:lda:<7970> log likelihood: -108507\n",
      "INFO:lda:<7980> log likelihood: -108735\n",
      "INFO:lda:<7990> log likelihood: -108698\n",
      "INFO:lda:<8000> log likelihood: -108398\n",
      "INFO:lda:<8010> log likelihood: -108294\n",
      "INFO:lda:<8020> log likelihood: -108514\n",
      "INFO:lda:<8030> log likelihood: -108558\n",
      "INFO:lda:<8040> log likelihood: -108672\n",
      "INFO:lda:<8050> log likelihood: -108456\n",
      "INFO:lda:<8060> log likelihood: -108661\n",
      "INFO:lda:<8070> log likelihood: -108513\n",
      "INFO:lda:<8080> log likelihood: -108760\n",
      "INFO:lda:<8090> log likelihood: -108534\n",
      "INFO:lda:<8100> log likelihood: -108650\n",
      "INFO:lda:<8110> log likelihood: -108504\n"
     ]
    },
    {
     "name": "stderr",
     "output_type": "stream",
     "text": [
      "INFO:lda:<8120> log likelihood: -108531\n",
      "INFO:lda:<8130> log likelihood: -108604\n",
      "INFO:lda:<8140> log likelihood: -108419\n",
      "INFO:lda:<8150> log likelihood: -108193\n",
      "INFO:lda:<8160> log likelihood: -108626\n",
      "INFO:lda:<8170> log likelihood: -108492\n",
      "INFO:lda:<8180> log likelihood: -108631\n",
      "INFO:lda:<8190> log likelihood: -108241\n",
      "INFO:lda:<8200> log likelihood: -108087\n",
      "INFO:lda:<8210> log likelihood: -108375\n",
      "INFO:lda:<8220> log likelihood: -108462\n",
      "INFO:lda:<8230> log likelihood: -108625\n",
      "INFO:lda:<8240> log likelihood: -108353\n",
      "INFO:lda:<8250> log likelihood: -108300\n",
      "INFO:lda:<8260> log likelihood: -108445\n",
      "INFO:lda:<8270> log likelihood: -108683\n",
      "INFO:lda:<8280> log likelihood: -108600\n",
      "INFO:lda:<8290> log likelihood: -108571\n",
      "INFO:lda:<8300> log likelihood: -108743\n",
      "INFO:lda:<8310> log likelihood: -108624\n",
      "INFO:lda:<8320> log likelihood: -108497\n",
      "INFO:lda:<8330> log likelihood: -108567\n",
      "INFO:lda:<8340> log likelihood: -108570\n",
      "INFO:lda:<8350> log likelihood: -108390\n",
      "INFO:lda:<8360> log likelihood: -108529\n",
      "INFO:lda:<8370> log likelihood: -108532\n",
      "INFO:lda:<8380> log likelihood: -108235\n",
      "INFO:lda:<8390> log likelihood: -108722\n",
      "INFO:lda:<8400> log likelihood: -108835\n",
      "INFO:lda:<8410> log likelihood: -108608\n",
      "INFO:lda:<8420> log likelihood: -108780\n",
      "INFO:lda:<8430> log likelihood: -108765\n",
      "INFO:lda:<8440> log likelihood: -108557\n",
      "INFO:lda:<8450> log likelihood: -108518\n",
      "INFO:lda:<8460> log likelihood: -108538\n",
      "INFO:lda:<8470> log likelihood: -108805\n",
      "INFO:lda:<8480> log likelihood: -108571\n",
      "INFO:lda:<8490> log likelihood: -108618\n",
      "INFO:lda:<8500> log likelihood: -108504\n",
      "INFO:lda:<8510> log likelihood: -108240\n",
      "INFO:lda:<8520> log likelihood: -108947\n",
      "INFO:lda:<8530> log likelihood: -108808\n",
      "INFO:lda:<8540> log likelihood: -108639\n",
      "INFO:lda:<8550> log likelihood: -108434\n",
      "INFO:lda:<8560> log likelihood: -108471\n",
      "INFO:lda:<8570> log likelihood: -108528\n",
      "INFO:lda:<8580> log likelihood: -108341\n",
      "INFO:lda:<8590> log likelihood: -108601\n",
      "INFO:lda:<8600> log likelihood: -108403\n",
      "INFO:lda:<8610> log likelihood: -108536\n",
      "INFO:lda:<8620> log likelihood: -108442\n",
      "INFO:lda:<8630> log likelihood: -108499\n",
      "INFO:lda:<8640> log likelihood: -108470\n",
      "INFO:lda:<8650> log likelihood: -108760\n",
      "INFO:lda:<8660> log likelihood: -108563\n",
      "INFO:lda:<8670> log likelihood: -108614\n",
      "INFO:lda:<8680> log likelihood: -108537\n",
      "INFO:lda:<8690> log likelihood: -108673\n",
      "INFO:lda:<8700> log likelihood: -108560\n",
      "INFO:lda:<8710> log likelihood: -108497\n",
      "INFO:lda:<8720> log likelihood: -108300\n",
      "INFO:lda:<8730> log likelihood: -108549\n",
      "INFO:lda:<8740> log likelihood: -108295\n",
      "INFO:lda:<8750> log likelihood: -108578\n",
      "INFO:lda:<8760> log likelihood: -108623\n",
      "INFO:lda:<8770> log likelihood: -108674\n",
      "INFO:lda:<8780> log likelihood: -108901\n",
      "INFO:lda:<8790> log likelihood: -108707\n",
      "INFO:lda:<8800> log likelihood: -108533\n",
      "INFO:lda:<8810> log likelihood: -108645\n",
      "INFO:lda:<8820> log likelihood: -108661\n",
      "INFO:lda:<8830> log likelihood: -108614\n",
      "INFO:lda:<8840> log likelihood: -108508\n",
      "INFO:lda:<8850> log likelihood: -108501\n",
      "INFO:lda:<8860> log likelihood: -108380\n",
      "INFO:lda:<8870> log likelihood: -108655\n",
      "INFO:lda:<8880> log likelihood: -108567\n",
      "INFO:lda:<8890> log likelihood: -108744\n",
      "INFO:lda:<8900> log likelihood: -108828\n",
      "INFO:lda:<8910> log likelihood: -108746\n",
      "INFO:lda:<8920> log likelihood: -108735\n",
      "INFO:lda:<8930> log likelihood: -108810\n",
      "INFO:lda:<8940> log likelihood: -108437\n",
      "INFO:lda:<8950> log likelihood: -108549\n",
      "INFO:lda:<8960> log likelihood: -108540\n",
      "INFO:lda:<8970> log likelihood: -108582\n",
      "INFO:lda:<8980> log likelihood: -108726\n",
      "INFO:lda:<8990> log likelihood: -108745\n",
      "INFO:lda:<9000> log likelihood: -108527\n",
      "INFO:lda:<9010> log likelihood: -108763\n",
      "INFO:lda:<9020> log likelihood: -108460\n",
      "INFO:lda:<9030> log likelihood: -108349\n",
      "INFO:lda:<9040> log likelihood: -108478\n",
      "INFO:lda:<9050> log likelihood: -108331\n",
      "INFO:lda:<9060> log likelihood: -108359\n",
      "INFO:lda:<9070> log likelihood: -108601\n",
      "INFO:lda:<9080> log likelihood: -108763\n",
      "INFO:lda:<9090> log likelihood: -108592\n",
      "INFO:lda:<9100> log likelihood: -108726\n",
      "INFO:lda:<9110> log likelihood: -108721\n",
      "INFO:lda:<9120> log likelihood: -108636\n",
      "INFO:lda:<9130> log likelihood: -108666\n",
      "INFO:lda:<9140> log likelihood: -108611\n",
      "INFO:lda:<9150> log likelihood: -108656\n",
      "INFO:lda:<9160> log likelihood: -108656\n",
      "INFO:lda:<9170> log likelihood: -108794\n",
      "INFO:lda:<9180> log likelihood: -108564\n",
      "INFO:lda:<9190> log likelihood: -108557\n",
      "INFO:lda:<9200> log likelihood: -108407\n",
      "INFO:lda:<9210> log likelihood: -108449\n",
      "INFO:lda:<9220> log likelihood: -108718\n",
      "INFO:lda:<9230> log likelihood: -108392\n",
      "INFO:lda:<9240> log likelihood: -108304\n",
      "INFO:lda:<9250> log likelihood: -108438\n",
      "INFO:lda:<9260> log likelihood: -108565\n",
      "INFO:lda:<9270> log likelihood: -108712\n",
      "INFO:lda:<9280> log likelihood: -108779\n",
      "INFO:lda:<9290> log likelihood: -108758\n",
      "INFO:lda:<9300> log likelihood: -108438\n",
      "INFO:lda:<9310> log likelihood: -108686\n",
      "INFO:lda:<9320> log likelihood: -108641\n",
      "INFO:lda:<9330> log likelihood: -108628\n",
      "INFO:lda:<9340> log likelihood: -108759\n",
      "INFO:lda:<9350> log likelihood: -108563\n",
      "INFO:lda:<9360> log likelihood: -108566\n",
      "INFO:lda:<9370> log likelihood: -108501\n",
      "INFO:lda:<9380> log likelihood: -108490\n",
      "INFO:lda:<9390> log likelihood: -108554\n",
      "INFO:lda:<9400> log likelihood: -108636\n",
      "INFO:lda:<9410> log likelihood: -108612\n",
      "INFO:lda:<9420> log likelihood: -108631\n",
      "INFO:lda:<9430> log likelihood: -108837\n",
      "INFO:lda:<9440> log likelihood: -108658\n",
      "INFO:lda:<9450> log likelihood: -108409\n",
      "INFO:lda:<9460> log likelihood: -108325\n",
      "INFO:lda:<9470> log likelihood: -108717\n",
      "INFO:lda:<9480> log likelihood: -108483\n",
      "INFO:lda:<9490> log likelihood: -108520\n",
      "INFO:lda:<9500> log likelihood: -108518\n",
      "INFO:lda:<9510> log likelihood: -108495\n",
      "INFO:lda:<9520> log likelihood: -108652\n",
      "INFO:lda:<9530> log likelihood: -108418\n",
      "INFO:lda:<9540> log likelihood: -108585\n",
      "INFO:lda:<9550> log likelihood: -108568\n",
      "INFO:lda:<9560> log likelihood: -108442\n",
      "INFO:lda:<9570> log likelihood: -108497\n",
      "INFO:lda:<9580> log likelihood: -108520\n",
      "INFO:lda:<9590> log likelihood: -108280\n",
      "INFO:lda:<9600> log likelihood: -108625\n",
      "INFO:lda:<9610> log likelihood: -108733\n",
      "INFO:lda:<9620> log likelihood: -108493\n",
      "INFO:lda:<9630> log likelihood: -108702\n",
      "INFO:lda:<9640> log likelihood: -108597\n",
      "INFO:lda:<9650> log likelihood: -108490\n",
      "INFO:lda:<9660> log likelihood: -108527\n",
      "INFO:lda:<9670> log likelihood: -108342\n",
      "INFO:lda:<9680> log likelihood: -108494\n",
      "INFO:lda:<9690> log likelihood: -108708\n",
      "INFO:lda:<9700> log likelihood: -108502\n",
      "INFO:lda:<9710> log likelihood: -108463\n",
      "INFO:lda:<9720> log likelihood: -108599\n",
      "INFO:lda:<9730> log likelihood: -108482\n",
      "INFO:lda:<9740> log likelihood: -108615\n",
      "INFO:lda:<9750> log likelihood: -108688\n",
      "INFO:lda:<9760> log likelihood: -108930\n",
      "INFO:lda:<9770> log likelihood: -108634\n",
      "INFO:lda:<9780> log likelihood: -108672\n",
      "INFO:lda:<9790> log likelihood: -108293\n",
      "INFO:lda:<9800> log likelihood: -108627\n",
      "INFO:lda:<9810> log likelihood: -108484\n",
      "INFO:lda:<9820> log likelihood: -108533\n",
      "INFO:lda:<9830> log likelihood: -108424\n",
      "INFO:lda:<9840> log likelihood: -108399\n",
      "INFO:lda:<9850> log likelihood: -108595\n",
      "INFO:lda:<9860> log likelihood: -108534\n",
      "INFO:lda:<9870> log likelihood: -108865\n",
      "INFO:lda:<9880> log likelihood: -108399\n",
      "INFO:lda:<9890> log likelihood: -108557\n",
      "INFO:lda:<9900> log likelihood: -108462\n",
      "INFO:lda:<9910> log likelihood: -108427\n",
      "INFO:lda:<9920> log likelihood: -108325\n",
      "INFO:lda:<9930> log likelihood: -108397\n",
      "INFO:lda:<9940> log likelihood: -108290\n",
      "INFO:lda:<9950> log likelihood: -108283\n",
      "INFO:lda:<9960> log likelihood: -108633\n",
      "INFO:lda:<9970> log likelihood: -108520\n",
      "INFO:lda:<9980> log likelihood: -108573\n",
      "INFO:lda:<9990> log likelihood: -108694\n",
      "INFO:lda:<9999> log likelihood: -108481\n"
     ]
    },
    {
     "name": "stdout",
     "output_type": "stream",
     "text": [
      "Topic 0: violencia derecho víctima niño mujer salud embarazar atención medir sexual\n",
      "Topic 1: violencia año casar delito hecho tipo carabinero mujer condenar policial\n",
      "Topic 2: violencia ley gobernar rincón diputar valparaíso intrafamiliar delito leer agostar\n",
      "Topic 3: loading trump resistencia violencia político video unir luchar frente dejar\n",
      "Topic 4: violencia senador @fulviorossic atacar rossi condenar fulvio solidaridad esperar político\n",
      "Topic 5: mujer violencia chile género derecho país denunciar reservar parejo social\n",
      "Topic 6: violencia recibir ciudad sitiar newsletter chile mundo teta anunciar denunciar\n"
     ]
    }
   ],
   "source": [
    "import lda\n",
    "\n",
    "model = lda.LDA(n_topics = topics, n_iter=10000, alpha=0.1, eta=0.1, random_state=3)\n",
    "model.fit(news_vector_count)  # model.fit_transform(X) is also available\n",
    "\n",
    "topic_word = model.topic_word_  # model.components_ also works\n",
    "\n",
    "n_top_words=10\n",
    "\n",
    "for i, topic_dist in enumerate(topic_word):\n",
    "    \n",
    "    topic_words = np.array(news_vector_features)[np.argsort(topic_dist)][:-(n_top_words+1):-1]\n",
    "    \n",
    "    print('Topic {}: {}'.format(i, ' '.join(topic_words)))"
   ]
  },
  {
   "cell_type": "code",
   "execution_count": 20,
   "metadata": {},
   "outputs": [
    {
     "data": {
      "text/plain": [
       "[<matplotlib.lines.Line2D at 0x7f30a1bf99b0>]"
      ]
     },
     "execution_count": 20,
     "metadata": {},
     "output_type": "execute_result"
    },
    {
     "data": {
      "image/png": "[encoded data removed]",
      "text/plain": [
       "<Figure size 432x288 with 1 Axes>"
      ]
     },
     "metadata": {
      "needs_background": "light"
     },
     "output_type": "display_data"
    }
   ],
   "source": [
    "plt.plot(model.loglikelihoods_[5:])"
   ]
  },
  {
   "cell_type": "markdown",
   "metadata": {},
   "source": [
    "El algoritmo converge ya que se mantiene pendiente constante para valores superiores a 500."
   ]
  },
  {
   "cell_type": "code",
   "execution_count": 21,
   "metadata": {},
   "outputs": [
    {
     "data": {
      "image/png": "[encoded data removed]",
      "text/plain": [
       "<Figure size 432x288 with 1 Axes>"
      ]
     },
     "metadata": {
      "needs_background": "light"
     },
     "output_type": "display_data"
    },
    {
     "data": {
      "image/png": "[encoded data removed]",
      "text/plain": [
       "<Figure size 432x288 with 1 Axes>"
      ]
     },
     "metadata": {
      "needs_background": "light"
     },
     "output_type": "display_data"
    },
    {
     "data": {
      "image/png": "[encoded data removed]",
      "text/plain": [
       "<Figure size 432x288 with 1 Axes>"
      ]
     },
     "metadata": {
      "needs_background": "light"
     },
     "output_type": "display_data"
    },
    {
     "data": {
      "image/png": "[encoded data removed]",
      "text/plain": [
       "<Figure size 432x288 with 1 Axes>"
      ]
     },
     "metadata": {
      "needs_background": "light"
     },
     "output_type": "display_data"
    },
    {
     "data": {
      "image/png": "[encoded data removed]",
      "text/plain": [
       "<Figure size 432x288 with 1 Axes>"
      ]
     },
     "metadata": {
      "needs_background": "light"
     },
     "output_type": "display_data"
    },
    {
     "data": {
      "image/png": "[encoded data removed]",
      "text/plain": [
       "<Figure size 432x288 with 1 Axes>"
      ]
     },
     "metadata": {
      "needs_background": "light"
     },
     "output_type": "display_data"
    },
    {
     "data": {
      "image/png": "[encoded data removed]",
      "text/plain": [
       "<Figure size 432x288 with 1 Axes>"
      ]
     },
     "metadata": {
      "needs_background": "light"
     },
     "output_type": "display_data"
    },
    {
     "data": {
      "image/png": "[encoded data removed]",
      "text/plain": [
       "<Figure size 432x288 with 1 Axes>"
      ]
     },
     "metadata": {
      "needs_background": "light"
     },
     "output_type": "display_data"
    }
   ],
   "source": [
    "#Generando algunos gráficos de los resultados\n",
    "#from matplotlib.pylab import hist, show\n",
    "\n",
    "y = model.doc_topic_\n",
    "#distribución de tópicos en todos los documentos\n",
    "dist = sum(y)/len(news.news)\n",
    "\n",
    "w=np.arange(0,topics)\n",
    "\n",
    "plt.bar(w,height=dist,alpha=0.5,tick_label=w)\n",
    "\n",
    "plt.show()\n",
    "\n",
    "#frecuencia de palabras por tópico\n",
    "n_top_words=15\n",
    "numo =np.arange(0,n_top_words)\n",
    "\n",
    "for idx,topic in enumerate(model.topic_word_):\n",
    "    d =[]\n",
    "    s = []\n",
    "    for i in topic.argsort()[:-n_top_words - 1:-1]:\n",
    "          s.append(news_vector_features[i])\n",
    "          d.append(topic[i])\n",
    "    \n",
    "    plt.barh(numo,width=d,alpha=0.5,tick_label=s)\n",
    "    plt.show()\n",
    "\n"
   ]
  },
  {
   "cell_type": "markdown",
   "metadata": {},
   "source": [
    "De los gráficos de topwords, se infieren los siguientes tópicos:\n",
    "\n",
    "- Topico 0: Violencia y Mapuches.\n",
    "- Tópico 1: Violencia contra la mujer.\n",
    "- Tópico 2: Suscripcioń al medio.\n",
    "- Tópico 3: Episodio de violencia de vocalista de grupo \"Los Tetas\"\n",
    "- Tópico 4: Violencia y Política.\n",
    "- Tópico 5: Violencia Escolar.\n",
    "- Tópico 6: Violencia Intrafamiliar.\n",
    "\n",
    "Respecto a la distribución de tópicos en los documentos, se tiene que los mayores temas  corresponden a:\n",
    "\n",
    "1) Violencia Intrafamiliar.\n",
    "\n",
    "2) Suscripción.\n",
    "\n",
    "3) Violencia y Política."
   ]
  },
  {
   "cell_type": "markdown",
   "metadata": {},
   "source": [
    "### Comparación resultados obtenidos por modelos\n",
    "\n",
    "Respecto al número de clusters se tiene:\n",
    "\n",
    "- K-means: 5 tópicos.\n",
    "- LDA Bayesian: 7 tópicos.\n",
    "- LDA Gibbs: 7 tópicos.\n",
    "\n",
    "Por lo tanto, según los diferentes métodos, cada algoritmo logra identificar diferentes números de tópicos en las noticias.\n",
    "\n",
    "Con respecto a los temas identificados por tópicos, se tiene lo siguiente:\n",
    "\n",
    "- K-means:\n",
    "    \n",
    "    - Tópico 0: Llamado a suscripción al medio\n",
    "    - Tópico 1: Violencia contra la mujer\n",
    "    - Tópico 2: Episodio de violencia de vocalista de grupo \"Los Tetas\"\n",
    "    - Tópico 3: Llamado a suscripción al medio\n",
    "    - Tópico 4: Violencia deportiva en estadios\n",
    "    \n",
    "    \n",
    "- LDA Bayesian:\n",
    "    - Topic 0: Juicio legal asociados a Violencia\n",
    "    - Topic 1: Donald Trump - Asesinato en marcha en USA (Las Vegas).\n",
    "    - Topic 2: Violencia contra la mujer.\n",
    "    - Topic 3: Suscripción al medio.\n",
    "    - Topic 4: Crimen en estadio fubtol.\n",
    "    - Topic 5: Violencia Machismo.\n",
    "    - Topic 6: Violencia y Mapuches.\n",
    "    \n",
    "    \n",
    "- LDA Gibbs:\n",
    "\n",
    "    - Topico 0: Violencia y Mapuches.\n",
    "    - Tópico 1: Violencia contra la mujer.\n",
    "    - Tópico 2: Suscripcioń al medio.\n",
    "    - Tópico 3: Episodio de violencia de vocalista de grupo \"Los Tetas\"\n",
    "    - Tópico 4: Violencia y Política.\n",
    "    - Tópico 5: Violencia Escolar.\n",
    "    - Tópico 6: Violencia Intrafamiliar.\n",
    "\n",
    "Existen varios temas que se repiten, tales como la \"Suscripcion\", \"Violencia contra la mujer\", Episodio de violencia de vocalista de grupo \"Los Tetas\" (sólo en K-means y LDA Gibbs), \"Violencia deportiva en estadios\" (solo en K-means y LDA bayesian), y \"Violencia y Mapuches\" (solo en LDA's). Por lo tanto, dada la similaridad de temas identificados, se concluye que existe semejanza entre los resultados obtenidos.\n",
    "\n",
    "Cabe destacar que para propósitos de esta investigación, se asigna un tópico a cada documento, no considerando la distribución entregada por LDA, la cual es una ventaja sobre K-means y la cual es útil para otras implementaciones.\n",
    "\n",
    "Respecto a la pregunta de investigación sobre que temas se hablaron en los medios para el 2017, se tiene lo siguiente:\n",
    "\n",
    "- K-means: \n",
    "\n",
    "    1) Violencia contra la mujer.\n",
    "    \n",
    "    \n",
    "- LDA Bayesian: \n",
    "\n",
    "    1) Violencia contra la mujer.\n",
    "\n",
    "    2) Suscripción al medio.\n",
    "\n",
    "    3) Violencia y Mapuches\n",
    "    \n",
    "    \n",
    "- LDA Gibbs:\n",
    "\n",
    "    1) Violencia Intrafamiliar.\n",
    "\n",
    "    2) Suscripción.\n",
    "\n",
    "    3) Violencia y Política.\n",
    "    \n",
    "De los cuales, se tiene que para los 2 primeros modelos, el tema principal corresponde a \"Violencia contra la mujer\", luego, para la comparacion de LDA's, se tiene que ambos poseen la misma prioridad para \"Suscripción al medio\". Finalmente, para el caso de violencia y mapuches y política existen diferencias.\n",
    "\n",
    "Con respecto a la 2 pregunta de investigación (Tópicos expuestos por los 5 mayores medios), sólo se analiza utilizando LDA Bayesian, ya que la división de tópicos fué mas clara para el analista autor de esta investigación. Los resultados corresponden a:\n",
    "\n",
    "- Bio Bio: Violencia contra la mujer.\n",
    "- El Desconcierto: Violencia contra la mujer.\n",
    "- Mercurio Valpo: Suscripción.\n",
    "- ADN Radio: Crimen Estadio de Futbol, Violencia contra la mujer.\n",
    "- La Tercera: Violencia contra la mujer, Asesinato en USA (Las Vegas).\n"
   ]
  }
 ],
 "metadata": {
  "kernelspec": {
   "display_name": "Python 3",
   "language": "python",
   "name": "python3"
  },
  "language_info": {
   "codemirror_mode": {
    "name": "ipython",
    "version": 3
   },
   "file_extension": ".py",
   "mimetype": "text/x-python",
   "name": "python",
   "nbconvert_exporter": "python",
   "pygments_lexer": "ipython3",
   "version": "3.6.7"
  }
 },
 "nbformat": 4,
 "nbformat_minor": 2
}
