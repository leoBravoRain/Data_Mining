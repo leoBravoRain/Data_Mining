{
 "cells": [
  {
   "cell_type": "markdown",
   "metadata": {},
   "source": [
    "## <h1 align=\"center\">Actividad: Agrupar datos textuales con el Modelo de Tópicos y el algoritmo Latent Dirichlet Allocation (LDA)</h3>"
   ]
  },
  {
   "cell_type": "markdown",
   "metadata": {},
   "source": [
    "<div style=\"border: 2px solid #1c75c8; background-color: #c5ddf6;\">\n",
    "<h2> Preámbulo</h2>\n",
    "<p> Esta actividad se inspira de ejercicios disponibles en los recursos siguientes:<p>\n",
    "<ul>\n",
    "    <li>Biblioteca <a href=\"http://scikit-learn.org/stable/install.html/\">SciKit-learn</a> de Python</li>\n",
    "    <li>Código disponible en  <a href=\"https://github.com/lda-project/lda/\">lda-project</a></li>\n",
    "</ul>\n",
    "<p> La actividad requiere el uso de Python 3.x y <a href=\"http://jupyter.org/install\">Jupyter Notebook</a>. El código entregado fue probado con Python 3.6.1. Para saber cuál versión de Python usted está utilizando, ejecutar la celda siguiente (está información es importante cuando se necesitará instalar nuevos paquetes.)\n",
    "</p>\n",
    "</div>"
   ]
  },
  {
   "cell_type": "markdown",
   "metadata": {},
   "source": [
    "\n",
    "<div style=\"border: 2px solid #D24747; background-color:#F8B4B4\">\n",
    "<h2>Objetivos de la actividad</h2>\n",
    "<p>El <b>objetivo general</b> de esta actividad consiste en  explorar la estructura oculta de un conjunto de datos textuales.</p>\n",
    "<p> Comenzaremos por utilizar un  algoritmo de clustering tradicional como Kmeans para explorar datos textuales, considerando la medida tf-idf por cada término presente en cada texto, para caracterizar los textos y construir distancias entre ellos.</p>\n",
    "<p>En una segunda fase utilizaremos el <a href=\"https://drive.google.com/open?id=1rSQPJvRVj0V_IChzspQMRPNwlDTkHYHp\"> Modelo Probabilista De Tópicos </a> para descubrir tópicos en los textos. Para ello se utilizará el algoritmo de asignación de tópicos latentes conocido como <a href= \"https://drive.google.com/open?id=1BobImO3192hifZPLXowd14gryVAUzBPW\">Latent Dirichlet Allocation (LDA)</a>. El enfoque es probabilista, por lo que el resultado del algoritmo es descubrir tópicos en los textos (el número de tópicos es definido por el analista) y asignar una distribución de probabilidad de tópicos en cada texto.</p>  Dependiendo del tamaño de los textos, es también posible agruparlos de acuerdo al tópico con mayor representación en cada uno, lo que permitirá comparar esta metodología con los algoritmos de clustering clásicos.</p> </div>\n",
    "    \n",
    "  "
   ]
  },
  {
   "cell_type": "markdown",
   "metadata": {},
   "source": [
    "<div style=\"border: 2px solid #D24747; background-color:#F8B4B4\">\n",
    "<p>Utilizaremos las 100 primeras noticias del conjunto de datos trabajado en la sesion anterior, provenientes de datos de el diario La Tercera.</p>   \n",
    "<p>El primer paso es la lectura de datos: </p></div>"
   ]
  },
  {
   "cell_type": "code",
   "execution_count": 1,
   "metadata": {},
   "outputs": [
    {
     "data": {
      "text/html": [
       "<div>\n",
       "<style scoped>\n",
       "    .dataframe tbody tr th:only-of-type {\n",
       "        vertical-align: middle;\n",
       "    }\n",
       "\n",
       "    .dataframe tbody tr th {\n",
       "        vertical-align: top;\n",
       "    }\n",
       "\n",
       "    .dataframe thead th {\n",
       "        text-align: right;\n",
       "    }\n",
       "</style>\n",
       "<table border=\"1\" class=\"dataframe\">\n",
       "  <thead>\n",
       "    <tr style=\"text-align: right;\">\n",
       "      <th></th>\n",
       "      <th>0</th>\n",
       "      <th>1</th>\n",
       "      <th>2</th>\n",
       "      <th>3</th>\n",
       "    </tr>\n",
       "  </thead>\n",
       "  <tbody>\n",
       "    <tr>\n",
       "      <th>0</th>\n",
       "      <td>2016-07-04 07:00:44</td>\n",
       "      <td>latercera</td>\n",
       "      <td>Bachelet propone establecer por ley que \"no h...</td>\n",
       "      <td>Tras visitar a la selección nacional en Juan ...</td>\n",
       "    </tr>\n",
       "    <tr>\n",
       "      <th>1</th>\n",
       "      <td>2016-07-04 08:49:38</td>\n",
       "      <td>latercera</td>\n",
       "      <td>Adriana Delpiano por Reforma educacional: \"De...</td>\n",
       "      <td>Hoy ingresa a la Cámara de Diputados el proye...</td>\n",
       "    </tr>\n",
       "    <tr>\n",
       "      <th>2</th>\n",
       "      <td>2016-07-04 09:40:11</td>\n",
       "      <td>latercera</td>\n",
       "      <td>Cómo será la aventura de la sonda Juno en Júp...</td>\n",
       "      <td>Cinco años después de su lanzamiento, la sond...</td>\n",
       "    </tr>\n",
       "    <tr>\n",
       "      <th>3</th>\n",
       "      <td>2016-07-04 13:25:15</td>\n",
       "      <td>latercera</td>\n",
       "      <td>Se derrumba el reencuentro de las Spice Girls...</td>\n",
       "      <td>En marzo de este año se anunciaba de un posib...</td>\n",
       "    </tr>\n",
       "    <tr>\n",
       "      <th>4</th>\n",
       "      <td>2016-07-03 21:18:00</td>\n",
       "      <td>latercera</td>\n",
       "      <td>Presidenta Bachelet: \"Que quede establecido p...</td>\n",
       "      <td>La Presidenta Michelle Bachelet realizó este ...</td>\n",
       "    </tr>\n",
       "  </tbody>\n",
       "</table>\n",
       "</div>"
      ],
      "text/plain": [
       "                    0            1  \\\n",
       "0 2016-07-04 07:00:44   latercera    \n",
       "1 2016-07-04 08:49:38   latercera    \n",
       "2 2016-07-04 09:40:11   latercera    \n",
       "3 2016-07-04 13:25:15   latercera    \n",
       "4 2016-07-03 21:18:00   latercera    \n",
       "\n",
       "                                                   2  \\\n",
       "0   Bachelet propone establecer por ley que \"no h...   \n",
       "1   Adriana Delpiano por Reforma educacional: \"De...   \n",
       "2   Cómo será la aventura de la sonda Juno en Júp...   \n",
       "3   Se derrumba el reencuentro de las Spice Girls...   \n",
       "4   Presidenta Bachelet: \"Que quede establecido p...   \n",
       "\n",
       "                                                   3  \n",
       "0   Tras visitar a la selección nacional en Juan ...  \n",
       "1   Hoy ingresa a la Cámara de Diputados el proye...  \n",
       "2   Cinco años después de su lanzamiento, la sond...  \n",
       "3   En marzo de este año se anunciaba de un posib...  \n",
       "4   La Presidenta Michelle Bachelet realizó este ...  "
      ]
     },
     "execution_count": 1,
     "metadata": {},
     "output_type": "execute_result"
    }
   ],
   "source": [
    "# Get data\n",
    "import pandas as pd\n",
    "from IPython.display import display, HTML\n",
    "\n",
    "file = 'sophia_latercera-1000.csv'\n",
    "\n",
    "df = pd.read_csv(file, sep = '|', error_bad_lines = False, header = None)\n",
    "\n",
    "df[0] = pd.to_datetime(df[0])\n",
    "\n",
    "news = df[[0,3]]\n",
    "\n",
    "news.columns = ['date', 'new']\n",
    "\n",
    "news = news[0:100]\n",
    "\n",
    "df.head()"
   ]
  },
  {
   "cell_type": "code",
   "execution_count": 2,
   "metadata": {},
   "outputs": [],
   "source": [
    "# Tokenizador\n",
    "\n",
    "# Define own tokenizer\n",
    "import spacy\n",
    "nlp = spacy.load('es_core_news_sm')\n",
    "\n",
    "def own_tokenizer(sentence):\n",
    "    \n",
    "    tokens = []\n",
    "    \n",
    "    doc = nlp(sentence.lower().strip())\n",
    "    \n",
    "    for token in doc:\n",
    "        \n",
    "        # Filtering\n",
    "        if not token.is_space and not token.is_stop and not token.is_punct and not token.is_digit and not token.like_num:\n",
    "            \n",
    "            tokens.append(token.lemma_)\n",
    "            \n",
    "    return tokens\n",
    "            "
   ]
  },
  {
   "cell_type": "code",
   "execution_count": 3,
   "metadata": {},
   "outputs": [],
   "source": [
    "# Vectorizacion de textos usando TDIDF vectorizer\n",
    "\n",
    "from sklearn.feature_extraction.text import TfidfVectorizer, CountVectorizer\n",
    "\n",
    "# Stop words (not has information)\n",
    "stop_words = ['a','e','i','o','u',' ','  ','   ','  ','$','  ','y']\n",
    "\n",
    "# Vector representation of news\n",
    "#tfidf\n",
    "vectorizer = TfidfVectorizer(tokenizer = own_tokenizer, stop_words = stop_words, ngram_range = (1,2))\n",
    "#count\n",
    "count_vectorizer = CountVectorizer(tokenizer = own_tokenizer, stop_words = stop_words, ngram_range = (1,2))\n",
    "\n",
    "# Convert news to vector form\n",
    "news_vector = vectorizer.fit_transform(news['new'])\n",
    "\n",
    "# Count vectorizer\n",
    "news_vector_count = count_vectorizer.fit_transform(news['new'])\n",
    "\n",
    "# Get features names\n",
    "news_vector_features = vectorizer.get_feature_names()\n",
    "#news_vector_features_count = count_vectorizer.get_feature_names() # Are same features"
   ]
  },
  {
   "cell_type": "code",
   "execution_count": 4,
   "metadata": {},
   "outputs": [],
   "source": [
    "# Find optimal value of n° of clusters\n",
    "\n",
    "# Training model\n",
    "\n",
    "from sklearn.cluster import KMeans\n",
    "\n",
    "# Number of clusters\n",
    "num_k = range(1,10)\n",
    "\n",
    "# Inertia list\n",
    "inertia = []\n",
    "inertia_count = []\n",
    "\n",
    "# Iter over each k value\n",
    "for i in num_k:\n",
    "    \n",
    "    # Set model\n",
    "    model = KMeans(n_clusters = i, n_init=10)\n",
    "    model_count = KMeans(n_clusters = i, n_init=10)\n",
    "    \n",
    "    # Fit model\n",
    "    model.fit(news_vector)\n",
    "    model_count.fit(news_vector_count)\n",
    "    \n",
    "    # add intertia of model\n",
    "    inertia.append(model.inertia_)\n",
    "    inertia_count.append(model_count.inertia_)"
   ]
  },
  {
   "cell_type": "code",
   "execution_count": 5,
   "metadata": {},
   "outputs": [
    {
     "data": {
      "text/plain": [
       "<matplotlib.legend.Legend at 0x7f27e8f519e8>"
      ]
     },
     "execution_count": 5,
     "metadata": {},
     "output_type": "execute_result"
    }
   ],
   "source": [
    "# plot inertia values\n",
    "import matplotlib.pyplot as plt\n",
    "\n",
    "f, (ax, ax2) = plt.subplots(1,2, figsize = (12,4))\n",
    "ax.plot(num_k, inertia, '-o', linewidth = 3, label = 'TFIDF Vect')\n",
    "ax.set_xlabel('n° k')\n",
    "ax.set_ylabel('Inertia')\n",
    "ax.legend()\n",
    "\n",
    "# Share y axis\n",
    "#ax2 = ax.twinx() \n",
    "\n",
    "ax2.plot(num_k, inertia_count, '-ro', label = 'Count Vect')\n",
    "ax2.legend()"
   ]
  },
  {
   "cell_type": "markdown",
   "metadata": {},
   "source": [
    "Analisis Inercia entre ambos vectores: Para TFIDF se tienen menores valores de inercia comparados con Count, por lo que los elementos de los clusters para la representacion con TFIDF estan mas cercanos al centroide que los del otro vector.\n",
    "\n",
    "TFIDF: Se definen 3 clusters, ya que la pendiente disminuye al agregar otro cluster, es decir que la tasa de disminución de inercia disminuye con respecto a la anterior.\n",
    "\n",
    "COUNT: Se tiene una curva mucho mas irregular que para el otro caso. Se deberían escoger 2 clusters, ya que al agregar otro, se tiene una disminución de tasa."
   ]
  },
  {
   "cell_type": "code",
   "execution_count": 6,
   "metadata": {},
   "outputs": [],
   "source": [
    "k = 3\n",
    "k_count = 2"
   ]
  },
  {
   "cell_type": "code",
   "execution_count": 7,
   "metadata": {},
   "outputs": [
    {
     "name": "stdout",
     "output_type": "stream",
     "text": [
      "1\n",
      "11\n",
      "21\n",
      "31\n",
      "41\n",
      "51\n",
      "61\n",
      "71\n",
      "81\n",
      "91\n"
     ]
    },
    {
     "data": {
      "text/plain": [
       "Text(0, 0.5, 'Inertia')"
      ]
     },
     "execution_count": 7,
     "metadata": {},
     "output_type": "execute_result"
    },
    {
     "data": {
      "image/png": "[encoded data removed]",
      "text/plain": [
       "<Figure size 432x288 with 1 Axes>"
      ]
     },
     "metadata": {
      "needs_background": "light"
     },
     "output_type": "display_data"
    }
   ],
   "source": [
    "# Analysis of n_init on results\n",
    "\n",
    "# Se analiza solo considerando vector TFIDF\n",
    "n_init_num = range(1,100,10)\n",
    "\n",
    "# list for store inertia\n",
    "inertia_n_init = []\n",
    "\n",
    "# Iter over each n_init value\n",
    "for n_init in n_init_num:\n",
    "\n",
    "    print(n_init)\n",
    "    \n",
    "    # Set model\n",
    "    model = KMeans(n_clusters = k, init = 'k-means++', max_iter = 10, n_init = n_init)\n",
    "\n",
    "    # fit model\n",
    "    model.fit(news_vector)\n",
    "    \n",
    "    # get inertia and append to list\n",
    "    inertia_n_init.append(model.inertia_)\n",
    "\n",
    "# plotting result\n",
    "plt.plot(n_init_num, inertia_n_init, '-o')\n",
    "plt.xlabel('n_init')\n",
    "plt.ylabel('Inertia')"
   ]
  },
  {
   "cell_type": "markdown",
   "metadata": {},
   "source": [
    "Al observar el grafico anterior, se tiene que para inicializaciones mayores, se obtienen menores valores de inercia, mejorando el modelo obtenido. Esto se debe a que realizando mas inicializaciones, se evita alcanzar un posible minimo local (en la funcion objetivo que se minimiza).\n",
    "\n",
    "Sin embargo, la diferencia entre n_init igual a 1 y 10, es tan solo de 0,2. Para valores desde n_init 10 hasta 100, se tiene una diferencia de 0,1.\n",
    "\n",
    "Se tomará un valor de n_init de 10, ya que un valor mayor solo disminuiría como máximo, 0,1."
   ]
  },
  {
   "cell_type": "code",
   "execution_count": 8,
   "metadata": {},
   "outputs": [
    {
     "name": "stdout",
     "output_type": "stream",
     "text": [
      "1\n",
      "11\n",
      "21\n",
      "31\n",
      "41\n",
      "51\n",
      "61\n",
      "71\n",
      "81\n",
      "91\n"
     ]
    },
    {
     "data": {
      "text/plain": [
       "Text(0, 0.5, 'Inertia')"
      ]
     },
     "execution_count": 8,
     "metadata": {},
     "output_type": "execute_result"
    },
    {
     "data": {
      "image/png": "[encoded data removed]",
      "text/plain": [
       "<Figure size 432x288 with 1 Axes>"
      ]
     },
     "metadata": {
      "needs_background": "light"
     },
     "output_type": "display_data"
    }
   ],
   "source": [
    "# Analysis of max_iter on results\n",
    "\n",
    "# Se analiza solo considerando vector TFIDF\n",
    "max_iter_num = range(1,100,10)\n",
    "\n",
    "# list for store inertia\n",
    "inertia_max_iter = []\n",
    "\n",
    "# Iter over each n_init value\n",
    "for max_iter in max_iter_num:\n",
    "\n",
    "    print(max_iter)\n",
    "    \n",
    "    # Set model\n",
    "    model = KMeans(n_clusters = k, init = 'k-means++', max_iter = max_iter, n_init = 10)\n",
    "\n",
    "    # fit model\n",
    "    model.fit(news_vector)\n",
    "    \n",
    "    # get inertia and append to list\n",
    "    inertia_max_iter.append(model.inertia_)\n",
    "\n",
    "# plotting result\n",
    "plt.plot(max_iter_num, inertia_max_iter, '-o')\n",
    "plt.xlabel('max_iter')\n",
    "plt.ylabel('Inertia')"
   ]
  },
  {
   "cell_type": "markdown",
   "metadata": {},
   "source": [
    "Para este caso, aumentar el valor de máximas iteraciones del algoritmo, no genera una clara tendencia de disminución o aumento en el valor de la inercia.\n",
    "\n",
    "Se escoge valor de 20, ya que corresponde al mínimo valor."
   ]
  },
  {
   "cell_type": "code",
   "execution_count": 9,
   "metadata": {},
   "outputs": [
    {
     "data": {
      "text/plain": [
       "KMeans(algorithm='auto', copy_x=True, init='k-means++', max_iter=20,\n",
       "    n_clusters=2, n_init=10, n_jobs=None, precompute_distances='auto',\n",
       "    random_state=None, tol=0.0001, verbose=0)"
      ]
     },
     "execution_count": 9,
     "metadata": {},
     "output_type": "execute_result"
    }
   ],
   "source": [
    "# train model with defined k\n",
    "#k = 3\n",
    "#k_count = 2\n",
    "\n",
    "# Set model\n",
    "model = KMeans(n_clusters = k, init = 'k-means++', max_iter = 20, n_init = 10)\n",
    "model_count = KMeans(n_clusters = k_count, init = 'k-means++', max_iter = 20, n_init = 10)\n",
    "\n",
    "# Fit model\n",
    "model.fit(news_vector)\n",
    "model_count.fit(news_vector_count)"
   ]
  },
  {
   "cell_type": "code",
   "execution_count": 10,
   "metadata": {},
   "outputs": [
    {
     "name": "stdout",
     "output_type": "stream",
     "text": [
      "TFIDF vector model: \n",
      "\n",
      "centroid 0: año--país--mapuche--spice--historia--porción--personar--estrenar--región--norte\n",
      "centroid 1: colo--chile--año--jugador--jugar--fútbol--anfp--partir--político--millón\n",
      "centroid 2: reformar--ministro--educación--gratuidad--presidente--díaz--bachelet--medir--sistema--oposición\n",
      "\n",
      " Count Vector model: \n",
      "\n",
      "centroid 0: año--chile--país--presidente--gobernar--pasar--nacional--club--partir--llegar--casar\n",
      "centroid 1: prosopagnosia--personar--reconocer--rostro--condición--gente--amigo--encontrar--vida--alguien--desarrollar\n"
     ]
    }
   ],
   "source": [
    "import numpy as np\n",
    "\n",
    "# Get order centroids\n",
    "order_centroids = model.cluster_centers_.argsort()[:,::-1]\n",
    "order_centroids_count = model_count.cluster_centers_.argsort()[:,::-1]\n",
    "\n",
    "print('TFIDF vector model: \\n')\n",
    "\n",
    "# Get principal words of each centroid\n",
    "for i in range(0,k):\n",
    "    \n",
    "    centroid_words = np.array(news_vector_features)[order_centroids[i, 1:11]]\n",
    "    \n",
    "    print('centroid {0}: {1}'.format(i, '--'.join(centroid_words)))\n",
    "    \n",
    "print('\\n Count Vector model: \\n')\n",
    "\n",
    "# Get principal words of each centroid\n",
    "for i in range(0,k_count):\n",
    "    \n",
    "    centroid_words = np.array(news_vector_features)[order_centroids_count[i, 0:11]]\n",
    "    \n",
    "    print('centroid {0}: {1}'.format(i, '--'.join(centroid_words)))"
   ]
  },
  {
   "cell_type": "markdown",
   "metadata": {},
   "source": [
    "Analisis TFIDF: Segun las 10 palabras mas importantes de cada cluster, se puede inferir que los temas de cada cluster corresponden a (el orden puede variar al ejecutarse diferentes veces el codigo, pero siempre se obtienen las mismas agrupaciones):\n",
    "\n",
    "- centroid 0: Politica relacionada a educación\n",
    "\n",
    "- centroid 1: Futbol\n",
    "\n",
    "- centroid 2: Cine\n",
    "\n",
    "Análisis Count vector: Los clusters generados:\n",
    "\n",
    "\n",
    "- Centroid 1: Política (no logro identificar un area especifica).\n",
    "- Centroid 2: No tengo claro el tema.\n",
    "\n",
    "Análisis entre cluster obtenidos: Las palabras mas relevantes de cada cluster obtenidas utilizando TFIDF son palabras que permiten deducir de forma más clara la temática de las noticias (comparado con count vector), esto ya que TFDIDF asigna valores mayores a aquellas palabras que permiten diferenciar un documento de otro. Además, algunas de las palabras obtenidas para los cluster utilizando Count, son palabras  de uso muy general que no permiten diferenciar claramente los temas. Ejemplo de ellos son las palabras 'partir', 'llegar', entre otras, las cuales son muy generales.\n",
    "\n",
    "De lo anterior se decide utilizar TFIDF como vectorización.\n"
   ]
  },
  {
   "cell_type": "code",
   "execution_count": 11,
   "metadata": {},
   "outputs": [
    {
     "data": {
      "text/plain": [
       "Text(0.5, 0, 'Count')"
      ]
     },
     "execution_count": 11,
     "metadata": {},
     "output_type": "execute_result"
    },
    {
     "data": {
      "image/png": "[encoded data removed]",
      "text/plain": [
       "<Figure size 432x288 with 4 Axes>"
      ]
     },
     "metadata": {
      "needs_background": "light"
     },
     "output_type": "display_data"
    }
   ],
   "source": [
    "import matplotlib.pyplot as plt\n",
    "from matplotlib.pylab import hist, show\n",
    "\n",
    "# Ploting results\n",
    "labels = model.predict(news_vector)\n",
    "labels_count = model_count.predict(news_vector_count)\n",
    "\n",
    "fig, ax = plt.subplots(2,2)\n",
    "\n",
    "# TFIDF\n",
    "ax[0,0].scatter(range(100),labels,c=labels)\n",
    "ax[0,1].hist(labels)\n",
    "ax[0,1].set_xlabel('TFIDF')\n",
    "\n",
    "# COUNT\n",
    "ax[1,0].scatter(range(100),labels_count,c=labels_count)\n",
    "ax[1,1].hist(labels_count)\n",
    "ax[1,1].set_xlabel('Count')"
   ]
  },
  {
   "cell_type": "markdown",
   "metadata": {},
   "source": [
    "De los gráficos anteriores, se tiene que utilizando Count, se clasifican la mayoría de las noticias en un solo cluster (el cluster 1), por lo que no es un buen método utilizar Count en este caso, ya que no es capaz de discriminar entre diferentes textos."
   ]
  },
  {
   "cell_type": "markdown",
   "metadata": {},
   "source": [
    "<div style=\"border: 2px solid #1c75c8; background-color: #c5ddf6;\">\n",
    "<p>Pregunta Nº1: Explore las clases TfidfVectorizer, CountVectorizer. ¿Qué rol cumplen? ¿Qué tratamiento premilinar de textos se ha hecho en este caso? ¿Qué rol cumple n_gram?</p>\n",
    "<p>Pregunta Nº2: A partir del gráfico, justifique el número de clusters para estos datos.</p>\n",
    "</div>"
   ]
  },
  {
   "cell_type": "markdown",
   "metadata": {},
   "source": [
    "Respuesta N°1: \n",
    "\n",
    "TfidfVectorizer: Transforma las noticias en un vector de dimension (n° noticias x numero de palabras totales en los documentos), en donde cada elemento corresponde al valor Tfidf de cada palabra con respecto a cada noticia.\n",
    "Sus valores son entre 0 a 1.\n",
    "\n",
    "CountVectorizer: Misma estructura que Tfidf pero cada elemento corresponde a la frecuencia de aparación de la palabra en cada noticia.\n",
    "Sus valores son enteros entre 0 a infinito.\n",
    "\n",
    "Preprocesamiento: Se tokeniza cada noticia, obteniendose como token cada palabra del texto. El texto se transforma a minuscula, luego se filtran los espacios blancos, las stop words, las puntuaciones, los digitos y los token que representan numeros. Finalmente se obtiene la forma base (lemma).\n",
    "\n",
    "n_gram: Agrega la opcion de que un token pueda ser un agrupamiento de 2 palabras (se define n_gram como (2,1)), por ejemplo, 'Estados Unidos'.\n",
    "\n",
    "Respuesta N°2:\n",
    "\n",
    "Se escogen 4 clusters debido a que el 5° cluster disminuye la tasa de disminucion de inercia."
   ]
  },
  {
   "cell_type": "markdown",
   "metadata": {},
   "source": [
    "<div style=\"border: 2px solid #1c75c8; background-color: #c5ddf6;\">\n",
    "<p>Pregunta Nº3:Explore diversos valores en los parámetros de n_init y max_iter. ¿tienen influencia en los resultados? ¿Por qué? Describa e interprete los resultados.</p></div>"
   ]
  },
  {
   "cell_type": "markdown",
   "metadata": {},
   "source": [
    "Analisis se encuentra en el notebook."
   ]
  },
  {
   "cell_type": "markdown",
   "metadata": {},
   "source": [
    "Finalmente, el mejor modelo obtenido corresponde a:\n",
    "\n",
    "- vectorización: TF-IDF\n",
    "- n° clusters: 3\n",
    "- n_init: 10\n",
    "- max_iter: 20"
   ]
  },
  {
   "cell_type": "markdown",
   "metadata": {},
   "source": [
    "<div style=\"border: 2px solid #1c75c8; background-color: #F8B4B4\">\n",
    "<p>En lo que sigue se construye un modelo probabilista de tópicos, considerando de 1 a 9 tópicos (para comparar con Kmeans\n",
    " y el algoritmo LDA estimado con el <a href=\"https://drive.google.com/open?id=1AoCcmg91Y1yRwM_Ox4Nvf6PGSQ9TybpE\">, método de Bayes Variacional</a>, disponible como desarrollo en <a href=\"http://scikit-learn.org/stable/modules/generated/sklearn.decomposition.LatentDirichletAllocation.html\">sklearn-lda.</a></p> \n",
    "Previo a ello se utiliza la clase CountVectorizer y su función fit_transform que permite construir una matriz tf (DTM, Document-Term Matrix) que contiene la frecuencia de aparición de cada término del vocabulario en cada texto analizado. En la definición de la clase se especifica que:\n",
    "<ol>\n",
    "    <li>los términos que  aparecen sólo una vez en algún texto no serán considerados en el vocabulario (min_df=2)</li>\n",
    "    <li> los términos que  aparecen en mas del 95% de los textos no serán considerados en el vocabulario (max_df=0.95)</li>\n",
    "    <li> se considera adicionalmente un conjunto de stop words construido ad-hoc, posible de refinar</li>\n",
    "</ol></div>"
   ]
  },
  {
   "cell_type": "markdown",
   "metadata": {},
   "source": [
    "<div style=\"border: 2px solid #1c75c8; background-color: #c5ddf6;\">\n",
    "<p>Pregunta Nº4: Indage sobre la medida perplexity, ¿Cómo se interpreta el valor obtenido?\n",
    "</p></div>"
   ]
  },
  {
   "cell_type": "code",
   "execution_count": 13,
   "metadata": {},
   "outputs": [
    {
     "data": {
      "image/png": "[encoded data removed]",
      "text/plain": [
       "<Figure size 1008x504 with 2 Axes>"
      ]
     },
     "metadata": {
      "needs_background": "light"
     },
     "output_type": "display_data"
    }
   ],
   "source": [
    "#Aplicando Modelos Probabilistas de Tópicos y LDA\n",
    "from sklearn.decomposition import LatentDirichletAllocation\n",
    "\n",
    "# Stop words\n",
    "myStopWords = ['a','e','i','o','u',' ','  ','   ','  ','$','  ','y']\n",
    "\n",
    "tf_vectorizer = CountVectorizer(max_df = 0.95, min_df = 0.02,\n",
    "                                stop_words=myStopWords,tokenizer=own_tokenizer, ngram_range=(1,2))\n",
    "\n",
    "#news_vector_count = count_vectorizer.fit_transform(news['new'])\n",
    "\n",
    "tf = tf_vectorizer.fit_transform(news.new)\n",
    "diccionario= tf_vectorizer.get_feature_names()\n",
    "\n",
    "#num_k = range(1,10)\n",
    "\n",
    "perp = []\n",
    "\n",
    "for k in num_k:\n",
    "    \n",
    "    # Define lda model\n",
    "    lda = LatentDirichletAllocation(n_components = k, max_iter = 10,\n",
    "      learning_method = 'online',\n",
    "      learning_offset = 50,\n",
    "      random_state = 0)\n",
    "    \n",
    "    # Fit model\n",
    "    lda.fit(tf)\n",
    "    \n",
    "    # add perplexity\n",
    "    perp.append(lda.perplexity(tf))\n",
    "    \n",
    "fix, (ax1, ax2) = plt.subplots(1,2, figsize = (14,7))\n",
    "\n",
    "# Plot all k values\n",
    "ax1.plot(num_k, perp, '-o')\n",
    "ax1.set_xlabel('num_k')\n",
    "ax1.set_ylabel('Perplexity')\n",
    "ax1.title.set_text('All k values')\n",
    "\n",
    "# Plot only the firsts\n",
    "ax2.plot(num_k[0:5], perp[0:5], '-o')\n",
    "ax2.set_xlabel('num_k')\n",
    "ax2.set_ylabel('Perplexity')\n",
    "ax2.title.set_text('First 5 k values')"
   ]
  },
  {
   "cell_type": "markdown",
   "metadata": {},
   "source": [
    "Perplexity se puede interpretar como un concepto similar a entropía, por lo que a menor valor de perplexity, menor aleatoriedad en la variable/modelo que se esta miediendo. Por lo que si un modelo tiene baja perplexity, el resultado que entregue éste será 'poco' aleatorio (comparado con un modelo de alta perplexity). Por lo tanto, a menor perplexity, mejor es el modelo.\n",
    "\n",
    "Del gráfico se tiene que al aumentar el número de clusters, la aleatoriedad en el resultado del modelo es mayor, por lo que se recomienda utilizar bajos números de clusters (ya que tienen valores de perplexity bajos).\n",
    "\n",
    "Para este caso, se tiene que la pendiente desde el cluster 4 en adelante comienza a aumetar comparado con la pediente de los clusters 1 a 4, por lo que se utilizarán 4 clusters."
   ]
  },
  {
   "cell_type": "code",
   "execution_count": 18,
   "metadata": {},
   "outputs": [
    {
     "name": "stdout",
     "output_type": "stream",
     "text": [
      "[0.61708038 0.18321492 0.1997047 ]\n",
      "[0 1 2]\n"
     ]
    },
    {
     "data": {
      "image/png": "[encoded data removed]",
      "text/plain": [
       "<Figure size 432x288 with 1 Axes>"
      ]
     },
     "metadata": {
      "needs_background": "light"
     },
     "output_type": "display_data"
    },
    {
     "data": {
      "image/png": "[encoded data removed]",
      "text/plain": [
       "<Figure size 432x288 with 1 Axes>"
      ]
     },
     "metadata": {
      "needs_background": "light"
     },
     "output_type": "display_data"
    },
    {
     "data": {
      "image/png": "[encoded data removed]",
      "text/plain": [
       "<Figure size 432x288 with 1 Axes>"
      ]
     },
     "metadata": {
      "needs_background": "light"
     },
     "output_type": "display_data"
    },
    {
     "data": {
      "image/png": "[encoded data removed]",
      "text/plain": [
       "<Figure size 432x288 with 1 Axes>"
      ]
     },
     "metadata": {
      "needs_background": "light"
     },
     "output_type": "display_data"
    },
    {
     "data": {
      "image/png": "[encoded data removed]",
      "text/plain": [
       "<Figure size 432x288 with 1 Axes>"
      ]
     },
     "metadata": {
      "needs_background": "light"
     },
     "output_type": "display_data"
    }
   ],
   "source": [
    "#Generando algunos gráficos de los resultados\n",
    "from matplotlib.pylab import hist, show\n",
    "import seaborn as sns\n",
    "\n",
    "true_k = 3\n",
    "\n",
    "lda = LatentDirichletAllocation(n_components=true_k, max_iter=10,\n",
    "                                learning_method='online',\n",
    "                                learning_offset=50.,\n",
    "                                random_state=0)\n",
    "y=lda.fit_transform(tf)\n",
    "\n",
    "\n",
    "#distribución de tópicos en todos los documentos\n",
    "dist = sum(y)/len(news)\n",
    "print(dist)\n",
    "\n",
    "w=np.arange(0,true_k)\n",
    "print(w)\n",
    "plt.bar(w,height=dist,alpha=0.5,tick_label=w)\n",
    "show()\n",
    "#distribución de tópicos en el documento 100\n",
    "plt.bar(w,height=y[98,],alpha=0.5,tick_label=w)\n",
    "show()\n",
    "\n",
    "#print(lda.components_.shape)\n",
    "#frecuencia de palabras por tópico\n",
    "n_top_words=15\n",
    "numo =np.arange(0,n_top_words)\n",
    "for idx,topic in enumerate(lda.components_):\n",
    "    d =[]\n",
    "    s = []\n",
    "    for i in topic.argsort()[:-n_top_words - 1:-1]:\n",
    "          s.append(diccionario[i])\n",
    "          d.append(topic[i])\n",
    "    \n",
    "    plt.barh(numo,width=d,alpha=0.5,tick_label=s)\n",
    "    show()\n"
   ]
  },
  {
   "cell_type": "markdown",
   "metadata": {},
   "source": [
    "<div style=\"border: 2px solid #1c75c8; background-color: #c5ddf6;\">\n",
    "<p>Pregunta Nº5: Interprete estos gráficos. \n",
    "</p></div>"
   ]
  },
  {
   "cell_type": "markdown",
   "metadata": {},
   "source": [
    "Del 1 grafico, se tiene que el cluster 0 es el que se presenta con mayor frecuencia en todos los documentos.\n",
    "\n",
    "Del 2 grafico, se tiene que para el documento analizado, el tópico más probable presente en el documento está asociado al cluster 1, luego el cluster 0 y finalmente el cluster 2. A diferencia de los resultados obtenidos por k-means, en donde cada documento se asocia unicamente a un tópico, en este caso, cada documento se puede asociar a diferentes tópcios basados en una distribución de probabilidades.\n",
    "\n",
    "De los gráficos de las palabras mas relevantes de cada tópico, se tiene que algunas de ellas permiten diferenciar los tópicos entre ellos, sin embargo, hay varias que son comunes, tales como año, incluso esta ultima, es la mas relevante para cada tópico.\n",
    "\n",
    "De los gráficos de top words, se puede deducir que los clusters corresponden a:\n",
    "\n",
    "- cluster 0: Futbol y Política (existen muchas palabras de diferentes tematicas, por lo que no esta claro).\n",
    "- cluster 1: Política (no esta claro)\n",
    "- cluster 2: Política (no está claro)\n",
    "\n",
    "De lo anterior, se tiene que no estan claros los tópicos a los que pertenecen cada cluster."
   ]
  },
  {
   "cell_type": "code",
   "execution_count": 15,
   "metadata": {},
   "outputs": [
    {
     "data": {
      "image/png": "[encoded data removed]",
      "text/plain": [
       "<Figure size 792x504 with 2 Axes>"
      ]
     },
     "metadata": {
      "needs_background": "light"
     },
     "output_type": "display_data"
    }
   ],
   "source": [
    "#calculando cluster en base al tópico mas frecuente\n",
    "z=[]\n",
    "for i in range(len(news)):\n",
    "    z.append(np.argmax(y[i]))\n",
    "    \n",
    "fig, (ax1, ax2) = plt.subplots(2,1, figsize = (11,7))\n",
    "ax1.scatter(range(100),z,c=z)\n",
    "ax1.title.set_text('LDA model')\n",
    "# K-means\n",
    "\n",
    "# Ploting results\n",
    "labels = model.predict(news_vector)\n",
    "ax2.scatter(range(100),labels,c=labels)\n",
    "ax2.title.set_text('Kmeans')"
   ]
  },
  {
   "cell_type": "markdown",
   "metadata": {},
   "source": [
    "<div style=\"border: 2px solid #1c75c8; background-color: #c5ddf6;\">\n",
    "<p>Pregunta Nº6: ¿Cómo se comparan estos resultados con los de  Kmeans?\n",
    "</p></div>\n"
   ]
  },
  {
   "cell_type": "markdown",
   "metadata": {},
   "source": [
    "Al observar los gráficos, se tiene que las cantidades de noticias se distribuyen de manera similar (similares cantidades de noticias en cada cluster). Cabe mencionar, que los clusters no son los mismos para cada modelo utilizado, esto es que el cluster 0 en kmeans no necesariamente corresponde a los mismos tópicos en el cluster 0 de LDA."
   ]
  },
  {
   "cell_type": "markdown",
   "metadata": {},
   "source": [
    "<div style=\"border: 2px solid #1c75c8; background-color: #F8B4B4\">\n",
    "<p>Una nueva estimación para algoritmo LDA considerando <a href=\"https://drive.google.com/open?id=1oSRRvG_W0UaH0l4o9f5ClEyWuGY1j-s0\"> Gibbs Sampling</a>, disponible como desarrollo en <a href=\"https://github.com/lda-project/lda/\">lda-project.</a></p> \n",
    "</div>"
   ]
  },
  {
   "cell_type": "code",
   "execution_count": 16,
   "metadata": {},
   "outputs": [
    {
     "name": "stderr",
     "output_type": "stream",
     "text": [
      "INFO:lda:n_documents: 100\n",
      "INFO:lda:vocab_size: 2508\n",
      "INFO:lda:n_words: 14973\n",
      "INFO:lda:n_topics: 3\n",
      "INFO:lda:n_iter: 5000\n",
      "/home/leo/Escritorio/magister_uach/env/lib/python3.5/site-packages/lda/utils.py:55: FutureWarning: Conversion of the second argument of issubdtype from `int` to `np.signedinteger` is deprecated. In future, it will be treated as `np.int64 == np.dtype(int).type`.\n",
      "  if sparse and not np.issubdtype(doc_word.dtype, int):\n",
      "INFO:lda:<0> log likelihood: -137871\n",
      "INFO:lda:<10> log likelihood: -122473\n",
      "INFO:lda:<20> log likelihood: -120677\n",
      "INFO:lda:<30> log likelihood: -120078\n",
      "INFO:lda:<40> log likelihood: -119585\n",
      "INFO:lda:<50> log likelihood: -119073\n",
      "INFO:lda:<60> log likelihood: -118777\n",
      "INFO:lda:<70> log likelihood: -118547\n",
      "INFO:lda:<80> log likelihood: -118298\n",
      "INFO:lda:<90> log likelihood: -118336\n",
      "INFO:lda:<100> log likelihood: -118368\n",
      "INFO:lda:<110> log likelihood: -118352\n",
      "INFO:lda:<120> log likelihood: -118211\n",
      "INFO:lda:<130> log likelihood: -118218\n",
      "INFO:lda:<140> log likelihood: -118077\n",
      "INFO:lda:<150> log likelihood: -118214\n",
      "INFO:lda:<160> log likelihood: -118170\n",
      "INFO:lda:<170> log likelihood: -118237\n",
      "INFO:lda:<180> log likelihood: -118079\n",
      "INFO:lda:<190> log likelihood: -118157\n",
      "INFO:lda:<200> log likelihood: -118114\n",
      "INFO:lda:<210> log likelihood: -118234\n",
      "INFO:lda:<220> log likelihood: -117985\n",
      "INFO:lda:<230> log likelihood: -117985\n",
      "INFO:lda:<240> log likelihood: -118112\n",
      "INFO:lda:<250> log likelihood: -118114\n",
      "INFO:lda:<260> log likelihood: -118029\n",
      "INFO:lda:<270> log likelihood: -118247\n",
      "INFO:lda:<280> log likelihood: -118317\n",
      "INFO:lda:<290> log likelihood: -118237\n",
      "INFO:lda:<300> log likelihood: -118172\n",
      "INFO:lda:<310> log likelihood: -117919\n",
      "INFO:lda:<320> log likelihood: -118019\n",
      "INFO:lda:<330> log likelihood: -117974\n",
      "INFO:lda:<340> log likelihood: -118108\n",
      "INFO:lda:<350> log likelihood: -118239\n",
      "INFO:lda:<360> log likelihood: -118062\n",
      "INFO:lda:<370> log likelihood: -118130\n",
      "INFO:lda:<380> log likelihood: -118022\n",
      "INFO:lda:<390> log likelihood: -118105\n",
      "INFO:lda:<400> log likelihood: -118088\n",
      "INFO:lda:<410> log likelihood: -118174\n",
      "INFO:lda:<420> log likelihood: -118084\n",
      "INFO:lda:<430> log likelihood: -118009\n",
      "INFO:lda:<440> log likelihood: -118273\n",
      "INFO:lda:<450> log likelihood: -118166\n",
      "INFO:lda:<460> log likelihood: -118016\n",
      "INFO:lda:<470> log likelihood: -118120\n",
      "INFO:lda:<480> log likelihood: -118118\n",
      "INFO:lda:<490> log likelihood: -117953\n",
      "INFO:lda:<500> log likelihood: -118040\n",
      "INFO:lda:<510> log likelihood: -117991\n",
      "INFO:lda:<520> log likelihood: -117953\n",
      "INFO:lda:<530> log likelihood: -118147\n",
      "INFO:lda:<540> log likelihood: -118095\n",
      "INFO:lda:<550> log likelihood: -118087\n",
      "INFO:lda:<560> log likelihood: -118153\n",
      "INFO:lda:<570> log likelihood: -118123\n",
      "INFO:lda:<580> log likelihood: -118079\n",
      "INFO:lda:<590> log likelihood: -118119\n",
      "INFO:lda:<600> log likelihood: -118027\n",
      "INFO:lda:<610> log likelihood: -118039\n",
      "INFO:lda:<620> log likelihood: -118048\n",
      "INFO:lda:<630> log likelihood: -118088\n",
      "INFO:lda:<640> log likelihood: -117956\n",
      "INFO:lda:<650> log likelihood: -118120\n",
      "INFO:lda:<660> log likelihood: -118032\n",
      "INFO:lda:<670> log likelihood: -118196\n",
      "INFO:lda:<680> log likelihood: -117967\n",
      "INFO:lda:<690> log likelihood: -117997\n",
      "INFO:lda:<700> log likelihood: -118033\n",
      "INFO:lda:<710> log likelihood: -118082\n",
      "INFO:lda:<720> log likelihood: -117949\n",
      "INFO:lda:<730> log likelihood: -118148\n",
      "INFO:lda:<740> log likelihood: -118143\n",
      "INFO:lda:<750> log likelihood: -117974\n",
      "INFO:lda:<760> log likelihood: -118005\n",
      "INFO:lda:<770> log likelihood: -118061\n",
      "INFO:lda:<780> log likelihood: -118150\n",
      "INFO:lda:<790> log likelihood: -118121\n",
      "INFO:lda:<800> log likelihood: -118210\n",
      "INFO:lda:<810> log likelihood: -118036\n",
      "INFO:lda:<820> log likelihood: -117913\n",
      "INFO:lda:<830> log likelihood: -117991\n",
      "INFO:lda:<840> log likelihood: -118021\n",
      "INFO:lda:<850> log likelihood: -118006\n",
      "INFO:lda:<860> log likelihood: -118139\n",
      "INFO:lda:<870> log likelihood: -118228\n",
      "INFO:lda:<880> log likelihood: -117906\n",
      "INFO:lda:<890> log likelihood: -117968\n",
      "INFO:lda:<900> log likelihood: -118133\n",
      "INFO:lda:<910> log likelihood: -117903\n",
      "INFO:lda:<920> log likelihood: -118080\n",
      "INFO:lda:<930> log likelihood: -118071\n",
      "INFO:lda:<940> log likelihood: -117971\n",
      "INFO:lda:<950> log likelihood: -117915\n",
      "INFO:lda:<960> log likelihood: -118001\n",
      "INFO:lda:<970> log likelihood: -118128\n",
      "INFO:lda:<980> log likelihood: -118041\n",
      "INFO:lda:<990> log likelihood: -117915\n",
      "INFO:lda:<1000> log likelihood: -118042\n",
      "INFO:lda:<1010> log likelihood: -118146\n",
      "INFO:lda:<1020> log likelihood: -118047\n",
      "INFO:lda:<1030> log likelihood: -118051\n",
      "INFO:lda:<1040> log likelihood: -118164\n",
      "INFO:lda:<1050> log likelihood: -118126\n",
      "INFO:lda:<1060> log likelihood: -118009\n",
      "INFO:lda:<1070> log likelihood: -118243\n",
      "INFO:lda:<1080> log likelihood: -118016\n",
      "INFO:lda:<1090> log likelihood: -117941\n",
      "INFO:lda:<1100> log likelihood: -118027\n",
      "INFO:lda:<1110> log likelihood: -117992\n",
      "INFO:lda:<1120> log likelihood: -118053\n",
      "INFO:lda:<1130> log likelihood: -118253\n",
      "INFO:lda:<1140> log likelihood: -118072\n",
      "INFO:lda:<1150> log likelihood: -118184\n",
      "INFO:lda:<1160> log likelihood: -118176\n",
      "INFO:lda:<1170> log likelihood: -118170\n",
      "INFO:lda:<1180> log likelihood: -118036\n",
      "INFO:lda:<1190> log likelihood: -117965\n",
      "INFO:lda:<1200> log likelihood: -118041\n",
      "INFO:lda:<1210> log likelihood: -117900\n",
      "INFO:lda:<1220> log likelihood: -118012\n",
      "INFO:lda:<1230> log likelihood: -118027\n",
      "INFO:lda:<1240> log likelihood: -118162\n",
      "INFO:lda:<1250> log likelihood: -118117\n",
      "INFO:lda:<1260> log likelihood: -118069\n",
      "INFO:lda:<1270> log likelihood: -118220\n",
      "INFO:lda:<1280> log likelihood: -118143\n",
      "INFO:lda:<1290> log likelihood: -117924\n",
      "INFO:lda:<1300> log likelihood: -117880\n",
      "INFO:lda:<1310> log likelihood: -118081\n",
      "INFO:lda:<1320> log likelihood: -118049\n",
      "INFO:lda:<1330> log likelihood: -118079\n",
      "INFO:lda:<1340> log likelihood: -118016\n",
      "INFO:lda:<1350> log likelihood: -118246\n",
      "INFO:lda:<1360> log likelihood: -118140\n",
      "INFO:lda:<1370> log likelihood: -118061\n",
      "INFO:lda:<1380> log likelihood: -118053\n",
      "INFO:lda:<1390> log likelihood: -118074\n",
      "INFO:lda:<1400> log likelihood: -118093\n",
      "INFO:lda:<1410> log likelihood: -117972\n",
      "INFO:lda:<1420> log likelihood: -118275\n",
      "INFO:lda:<1430> log likelihood: -117998\n",
      "INFO:lda:<1440> log likelihood: -118153\n",
      "INFO:lda:<1450> log likelihood: -118037\n",
      "INFO:lda:<1460> log likelihood: -118077\n",
      "INFO:lda:<1470> log likelihood: -118317\n",
      "INFO:lda:<1480> log likelihood: -117917\n",
      "INFO:lda:<1490> log likelihood: -118190\n",
      "INFO:lda:<1500> log likelihood: -117914\n",
      "INFO:lda:<1510> log likelihood: -118015\n",
      "INFO:lda:<1520> log likelihood: -117991\n",
      "INFO:lda:<1530> log likelihood: -118024\n",
      "INFO:lda:<1540> log likelihood: -118129\n",
      "INFO:lda:<1550> log likelihood: -117933\n",
      "INFO:lda:<1560> log likelihood: -118020\n",
      "INFO:lda:<1570> log likelihood: -117934\n",
      "INFO:lda:<1580> log likelihood: -118162\n",
      "INFO:lda:<1590> log likelihood: -117994\n",
      "INFO:lda:<1600> log likelihood: -118053\n",
      "INFO:lda:<1610> log likelihood: -118064\n",
      "INFO:lda:<1620> log likelihood: -118021\n",
      "INFO:lda:<1630> log likelihood: -118136\n",
      "INFO:lda:<1640> log likelihood: -118094\n",
      "INFO:lda:<1650> log likelihood: -118022\n",
      "INFO:lda:<1660> log likelihood: -118112\n",
      "INFO:lda:<1670> log likelihood: -117941\n",
      "INFO:lda:<1680> log likelihood: -117981\n",
      "INFO:lda:<1690> log likelihood: -118065\n",
      "INFO:lda:<1700> log likelihood: -118311\n",
      "INFO:lda:<1710> log likelihood: -117966\n",
      "INFO:lda:<1720> log likelihood: -117930\n",
      "INFO:lda:<1730> log likelihood: -118000\n",
      "INFO:lda:<1740> log likelihood: -118095\n",
      "INFO:lda:<1750> log likelihood: -118026\n",
      "INFO:lda:<1760> log likelihood: -118189\n",
      "INFO:lda:<1770> log likelihood: -118079\n",
      "INFO:lda:<1780> log likelihood: -118049\n",
      "INFO:lda:<1790> log likelihood: -118025\n",
      "INFO:lda:<1800> log likelihood: -117985\n",
      "INFO:lda:<1810> log likelihood: -117979\n",
      "INFO:lda:<1820> log likelihood: -118091\n",
      "INFO:lda:<1830> log likelihood: -118024\n",
      "INFO:lda:<1840> log likelihood: -117946\n",
      "INFO:lda:<1850> log likelihood: -118045\n",
      "INFO:lda:<1860> log likelihood: -118151\n",
      "INFO:lda:<1870> log likelihood: -118067\n",
      "INFO:lda:<1880> log likelihood: -118129\n",
      "INFO:lda:<1890> log likelihood: -118057\n",
      "INFO:lda:<1900> log likelihood: -118016\n",
      "INFO:lda:<1910> log likelihood: -117923\n",
      "INFO:lda:<1920> log likelihood: -118126\n",
      "INFO:lda:<1930> log likelihood: -118007\n",
      "INFO:lda:<1940> log likelihood: -117959\n",
      "INFO:lda:<1950> log likelihood: -118016\n",
      "INFO:lda:<1960> log likelihood: -117974\n"
     ]
    },
    {
     "name": "stderr",
     "output_type": "stream",
     "text": [
      "INFO:lda:<1970> log likelihood: -117954\n",
      "INFO:lda:<1980> log likelihood: -117988\n",
      "INFO:lda:<1990> log likelihood: -117992\n",
      "INFO:lda:<2000> log likelihood: -117972\n",
      "INFO:lda:<2010> log likelihood: -118015\n",
      "INFO:lda:<2020> log likelihood: -118058\n",
      "INFO:lda:<2030> log likelihood: -118110\n",
      "INFO:lda:<2040> log likelihood: -118133\n",
      "INFO:lda:<2050> log likelihood: -118159\n",
      "INFO:lda:<2060> log likelihood: -118040\n",
      "INFO:lda:<2070> log likelihood: -118106\n",
      "INFO:lda:<2080> log likelihood: -117944\n",
      "INFO:lda:<2090> log likelihood: -118076\n",
      "INFO:lda:<2100> log likelihood: -118038\n",
      "INFO:lda:<2110> log likelihood: -118042\n",
      "INFO:lda:<2120> log likelihood: -117915\n",
      "INFO:lda:<2130> log likelihood: -118308\n",
      "INFO:lda:<2140> log likelihood: -118307\n",
      "INFO:lda:<2150> log likelihood: -117967\n",
      "INFO:lda:<2160> log likelihood: -118227\n",
      "INFO:lda:<2170> log likelihood: -118356\n",
      "INFO:lda:<2180> log likelihood: -118285\n",
      "INFO:lda:<2190> log likelihood: -118220\n",
      "INFO:lda:<2200> log likelihood: -118224\n",
      "INFO:lda:<2210> log likelihood: -118146\n",
      "INFO:lda:<2220> log likelihood: -118012\n",
      "INFO:lda:<2230> log likelihood: -118241\n",
      "INFO:lda:<2240> log likelihood: -118106\n",
      "INFO:lda:<2250> log likelihood: -118149\n",
      "INFO:lda:<2260> log likelihood: -118302\n",
      "INFO:lda:<2270> log likelihood: -118202\n",
      "INFO:lda:<2280> log likelihood: -117997\n",
      "INFO:lda:<2290> log likelihood: -118053\n",
      "INFO:lda:<2300> log likelihood: -118073\n",
      "INFO:lda:<2310> log likelihood: -117974\n",
      "INFO:lda:<2320> log likelihood: -118055\n",
      "INFO:lda:<2330> log likelihood: -118134\n",
      "INFO:lda:<2340> log likelihood: -118022\n",
      "INFO:lda:<2350> log likelihood: -118111\n",
      "INFO:lda:<2360> log likelihood: -118129\n",
      "INFO:lda:<2370> log likelihood: -118077\n",
      "INFO:lda:<2380> log likelihood: -118264\n",
      "INFO:lda:<2390> log likelihood: -118267\n",
      "INFO:lda:<2400> log likelihood: -118190\n",
      "INFO:lda:<2410> log likelihood: -118154\n",
      "INFO:lda:<2420> log likelihood: -118143\n",
      "INFO:lda:<2430> log likelihood: -118002\n",
      "INFO:lda:<2440> log likelihood: -118189\n",
      "INFO:lda:<2450> log likelihood: -118009\n",
      "INFO:lda:<2460> log likelihood: -117956\n",
      "INFO:lda:<2470> log likelihood: -118008\n",
      "INFO:lda:<2480> log likelihood: -118001\n",
      "INFO:lda:<2490> log likelihood: -118172\n",
      "INFO:lda:<2500> log likelihood: -118058\n",
      "INFO:lda:<2510> log likelihood: -118244\n",
      "INFO:lda:<2520> log likelihood: -117928\n",
      "INFO:lda:<2530> log likelihood: -118005\n",
      "INFO:lda:<2540> log likelihood: -117928\n",
      "INFO:lda:<2550> log likelihood: -118076\n",
      "INFO:lda:<2560> log likelihood: -118028\n",
      "INFO:lda:<2570> log likelihood: -118049\n",
      "INFO:lda:<2580> log likelihood: -118116\n",
      "INFO:lda:<2590> log likelihood: -118034\n",
      "INFO:lda:<2600> log likelihood: -117896\n",
      "INFO:lda:<2610> log likelihood: -117967\n",
      "INFO:lda:<2620> log likelihood: -118058\n",
      "INFO:lda:<2630> log likelihood: -118030\n",
      "INFO:lda:<2640> log likelihood: -118065\n",
      "INFO:lda:<2650> log likelihood: -118136\n",
      "INFO:lda:<2660> log likelihood: -118065\n",
      "INFO:lda:<2670> log likelihood: -118018\n",
      "INFO:lda:<2680> log likelihood: -118087\n",
      "INFO:lda:<2690> log likelihood: -118111\n",
      "INFO:lda:<2700> log likelihood: -118143\n",
      "INFO:lda:<2710> log likelihood: -118201\n",
      "INFO:lda:<2720> log likelihood: -117985\n",
      "INFO:lda:<2730> log likelihood: -117978\n",
      "INFO:lda:<2740> log likelihood: -118032\n",
      "INFO:lda:<2750> log likelihood: -117986\n",
      "INFO:lda:<2760> log likelihood: -118033\n",
      "INFO:lda:<2770> log likelihood: -118083\n",
      "INFO:lda:<2780> log likelihood: -117981\n",
      "INFO:lda:<2790> log likelihood: -117992\n",
      "INFO:lda:<2800> log likelihood: -117937\n",
      "INFO:lda:<2810> log likelihood: -117925\n",
      "INFO:lda:<2820> log likelihood: -118135\n",
      "INFO:lda:<2830> log likelihood: -117939\n",
      "INFO:lda:<2840> log likelihood: -117869\n",
      "INFO:lda:<2850> log likelihood: -117909\n",
      "INFO:lda:<2860> log likelihood: -118040\n",
      "INFO:lda:<2870> log likelihood: -118261\n",
      "INFO:lda:<2880> log likelihood: -117909\n",
      "INFO:lda:<2890> log likelihood: -118027\n",
      "INFO:lda:<2900> log likelihood: -118071\n",
      "INFO:lda:<2910> log likelihood: -118124\n",
      "INFO:lda:<2920> log likelihood: -118113\n",
      "INFO:lda:<2930> log likelihood: -118002\n",
      "INFO:lda:<2940> log likelihood: -118145\n",
      "INFO:lda:<2950> log likelihood: -118067\n",
      "INFO:lda:<2960> log likelihood: -118098\n",
      "INFO:lda:<2970> log likelihood: -118059\n",
      "INFO:lda:<2980> log likelihood: -118165\n",
      "INFO:lda:<2990> log likelihood: -117976\n",
      "INFO:lda:<3000> log likelihood: -117983\n",
      "INFO:lda:<3010> log likelihood: -118110\n",
      "INFO:lda:<3020> log likelihood: -118058\n",
      "INFO:lda:<3030> log likelihood: -118032\n",
      "INFO:lda:<3040> log likelihood: -118076\n",
      "INFO:lda:<3050> log likelihood: -118087\n",
      "INFO:lda:<3060> log likelihood: -118097\n",
      "INFO:lda:<3070> log likelihood: -118036\n",
      "INFO:lda:<3080> log likelihood: -117992\n",
      "INFO:lda:<3090> log likelihood: -118031\n",
      "INFO:lda:<3100> log likelihood: -118110\n",
      "INFO:lda:<3110> log likelihood: -118214\n",
      "INFO:lda:<3120> log likelihood: -117965\n",
      "INFO:lda:<3130> log likelihood: -118135\n",
      "INFO:lda:<3140> log likelihood: -118201\n",
      "INFO:lda:<3150> log likelihood: -118135\n",
      "INFO:lda:<3160> log likelihood: -118181\n",
      "INFO:lda:<3170> log likelihood: -118098\n",
      "INFO:lda:<3180> log likelihood: -118253\n",
      "INFO:lda:<3190> log likelihood: -118130\n",
      "INFO:lda:<3200> log likelihood: -118172\n",
      "INFO:lda:<3210> log likelihood: -118111\n",
      "INFO:lda:<3220> log likelihood: -118055\n",
      "INFO:lda:<3230> log likelihood: -118246\n",
      "INFO:lda:<3240> log likelihood: -118235\n",
      "INFO:lda:<3250> log likelihood: -118083\n",
      "INFO:lda:<3260> log likelihood: -118059\n",
      "INFO:lda:<3270> log likelihood: -118146\n",
      "INFO:lda:<3280> log likelihood: -118264\n",
      "INFO:lda:<3290> log likelihood: -118087\n",
      "INFO:lda:<3300> log likelihood: -118032\n",
      "INFO:lda:<3310> log likelihood: -118085\n",
      "INFO:lda:<3320> log likelihood: -118062\n",
      "INFO:lda:<3330> log likelihood: -118128\n",
      "INFO:lda:<3340> log likelihood: -118124\n",
      "INFO:lda:<3350> log likelihood: -118298\n",
      "INFO:lda:<3360> log likelihood: -118076\n",
      "INFO:lda:<3370> log likelihood: -118165\n",
      "INFO:lda:<3380> log likelihood: -118197\n",
      "INFO:lda:<3390> log likelihood: -118057\n",
      "INFO:lda:<3400> log likelihood: -118258\n",
      "INFO:lda:<3410> log likelihood: -118044\n",
      "INFO:lda:<3420> log likelihood: -118209\n",
      "INFO:lda:<3430> log likelihood: -118085\n",
      "INFO:lda:<3440> log likelihood: -118134\n",
      "INFO:lda:<3450> log likelihood: -118007\n",
      "INFO:lda:<3460> log likelihood: -117976\n",
      "INFO:lda:<3470> log likelihood: -118186\n",
      "INFO:lda:<3480> log likelihood: -118085\n",
      "INFO:lda:<3490> log likelihood: -118076\n",
      "INFO:lda:<3500> log likelihood: -117934\n",
      "INFO:lda:<3510> log likelihood: -118135\n",
      "INFO:lda:<3520> log likelihood: -117959\n",
      "INFO:lda:<3530> log likelihood: -117982\n",
      "INFO:lda:<3540> log likelihood: -117920\n",
      "INFO:lda:<3550> log likelihood: -118124\n",
      "INFO:lda:<3560> log likelihood: -118014\n",
      "INFO:lda:<3570> log likelihood: -118021\n",
      "INFO:lda:<3580> log likelihood: -118026\n",
      "INFO:lda:<3590> log likelihood: -118046\n",
      "INFO:lda:<3600> log likelihood: -117930\n",
      "INFO:lda:<3610> log likelihood: -118148\n",
      "INFO:lda:<3620> log likelihood: -118118\n",
      "INFO:lda:<3630> log likelihood: -118164\n",
      "INFO:lda:<3640> log likelihood: -118223\n",
      "INFO:lda:<3650> log likelihood: -118095\n",
      "INFO:lda:<3660> log likelihood: -118248\n",
      "INFO:lda:<3670> log likelihood: -118007\n",
      "INFO:lda:<3680> log likelihood: -118035\n",
      "INFO:lda:<3690> log likelihood: -118179\n",
      "INFO:lda:<3700> log likelihood: -118041\n",
      "INFO:lda:<3710> log likelihood: -117956\n",
      "INFO:lda:<3720> log likelihood: -118156\n",
      "INFO:lda:<3730> log likelihood: -117868\n",
      "INFO:lda:<3740> log likelihood: -117817\n",
      "INFO:lda:<3750> log likelihood: -117950\n",
      "INFO:lda:<3760> log likelihood: -118029\n",
      "INFO:lda:<3770> log likelihood: -117868\n",
      "INFO:lda:<3780> log likelihood: -118101\n",
      "INFO:lda:<3790> log likelihood: -118056\n",
      "INFO:lda:<3800> log likelihood: -118109\n",
      "INFO:lda:<3810> log likelihood: -117801\n",
      "INFO:lda:<3820> log likelihood: -118049\n",
      "INFO:lda:<3830> log likelihood: -118114\n",
      "INFO:lda:<3840> log likelihood: -118038\n",
      "INFO:lda:<3850> log likelihood: -118147\n",
      "INFO:lda:<3860> log likelihood: -118079\n",
      "INFO:lda:<3870> log likelihood: -118022\n",
      "INFO:lda:<3880> log likelihood: -117942\n",
      "INFO:lda:<3890> log likelihood: -118004\n",
      "INFO:lda:<3900> log likelihood: -118109\n",
      "INFO:lda:<3910> log likelihood: -118298\n",
      "INFO:lda:<3920> log likelihood: -118058\n",
      "INFO:lda:<3930> log likelihood: -117999\n",
      "INFO:lda:<3940> log likelihood: -118148\n",
      "INFO:lda:<3950> log likelihood: -118025\n",
      "INFO:lda:<3960> log likelihood: -118267\n",
      "INFO:lda:<3970> log likelihood: -117965\n",
      "INFO:lda:<3980> log likelihood: -118143\n",
      "INFO:lda:<3990> log likelihood: -117903\n",
      "INFO:lda:<4000> log likelihood: -117961\n",
      "INFO:lda:<4010> log likelihood: -118177\n"
     ]
    },
    {
     "name": "stderr",
     "output_type": "stream",
     "text": [
      "INFO:lda:<4020> log likelihood: -117861\n",
      "INFO:lda:<4030> log likelihood: -118001\n",
      "INFO:lda:<4040> log likelihood: -118049\n",
      "INFO:lda:<4050> log likelihood: -118276\n",
      "INFO:lda:<4060> log likelihood: -118012\n",
      "INFO:lda:<4070> log likelihood: -118157\n",
      "INFO:lda:<4080> log likelihood: -118340\n",
      "INFO:lda:<4090> log likelihood: -118072\n",
      "INFO:lda:<4100> log likelihood: -118289\n",
      "INFO:lda:<4110> log likelihood: -118159\n",
      "INFO:lda:<4120> log likelihood: -118052\n",
      "INFO:lda:<4130> log likelihood: -118198\n",
      "INFO:lda:<4140> log likelihood: -118087\n",
      "INFO:lda:<4150> log likelihood: -118123\n",
      "INFO:lda:<4160> log likelihood: -118090\n",
      "INFO:lda:<4170> log likelihood: -117955\n",
      "INFO:lda:<4180> log likelihood: -118301\n",
      "INFO:lda:<4190> log likelihood: -118153\n",
      "INFO:lda:<4200> log likelihood: -118014\n",
      "INFO:lda:<4210> log likelihood: -118069\n",
      "INFO:lda:<4220> log likelihood: -117974\n",
      "INFO:lda:<4230> log likelihood: -118112\n",
      "INFO:lda:<4240> log likelihood: -118282\n",
      "INFO:lda:<4250> log likelihood: -118052\n",
      "INFO:lda:<4260> log likelihood: -118074\n",
      "INFO:lda:<4270> log likelihood: -117982\n",
      "INFO:lda:<4280> log likelihood: -118090\n",
      "INFO:lda:<4290> log likelihood: -117923\n",
      "INFO:lda:<4300> log likelihood: -118014\n",
      "INFO:lda:<4310> log likelihood: -117992\n",
      "INFO:lda:<4320> log likelihood: -118009\n",
      "INFO:lda:<4330> log likelihood: -118114\n",
      "INFO:lda:<4340> log likelihood: -118274\n",
      "INFO:lda:<4350> log likelihood: -118046\n",
      "INFO:lda:<4360> log likelihood: -117907\n",
      "INFO:lda:<4370> log likelihood: -118121\n",
      "INFO:lda:<4380> log likelihood: -118151\n",
      "INFO:lda:<4390> log likelihood: -117942\n",
      "INFO:lda:<4400> log likelihood: -118084\n",
      "INFO:lda:<4410> log likelihood: -117977\n",
      "INFO:lda:<4420> log likelihood: -118088\n",
      "INFO:lda:<4430> log likelihood: -118088\n",
      "INFO:lda:<4440> log likelihood: -117988\n",
      "INFO:lda:<4450> log likelihood: -118009\n",
      "INFO:lda:<4460> log likelihood: -117857\n",
      "INFO:lda:<4470> log likelihood: -117845\n",
      "INFO:lda:<4480> log likelihood: -118052\n",
      "INFO:lda:<4490> log likelihood: -117924\n",
      "INFO:lda:<4500> log likelihood: -118013\n",
      "INFO:lda:<4510> log likelihood: -117944\n",
      "INFO:lda:<4520> log likelihood: -118104\n",
      "INFO:lda:<4530> log likelihood: -117937\n",
      "INFO:lda:<4540> log likelihood: -118049\n",
      "INFO:lda:<4550> log likelihood: -118028\n",
      "INFO:lda:<4560> log likelihood: -118124\n",
      "INFO:lda:<4570> log likelihood: -117997\n",
      "INFO:lda:<4580> log likelihood: -118189\n",
      "INFO:lda:<4590> log likelihood: -118057\n",
      "INFO:lda:<4600> log likelihood: -118174\n",
      "INFO:lda:<4610> log likelihood: -117999\n",
      "INFO:lda:<4620> log likelihood: -118190\n",
      "INFO:lda:<4630> log likelihood: -118069\n",
      "INFO:lda:<4640> log likelihood: -118031\n",
      "INFO:lda:<4650> log likelihood: -118256\n",
      "INFO:lda:<4660> log likelihood: -118140\n",
      "INFO:lda:<4670> log likelihood: -118000\n",
      "INFO:lda:<4680> log likelihood: -118144\n",
      "INFO:lda:<4690> log likelihood: -118318\n",
      "INFO:lda:<4700> log likelihood: -118105\n",
      "INFO:lda:<4710> log likelihood: -118047\n",
      "INFO:lda:<4720> log likelihood: -118112\n",
      "INFO:lda:<4730> log likelihood: -117973\n",
      "INFO:lda:<4740> log likelihood: -118097\n",
      "INFO:lda:<4750> log likelihood: -117975\n",
      "INFO:lda:<4760> log likelihood: -118144\n",
      "INFO:lda:<4770> log likelihood: -118158\n",
      "INFO:lda:<4780> log likelihood: -118090\n",
      "INFO:lda:<4790> log likelihood: -117965\n",
      "INFO:lda:<4800> log likelihood: -118019\n",
      "INFO:lda:<4810> log likelihood: -118119\n",
      "INFO:lda:<4820> log likelihood: -118095\n",
      "INFO:lda:<4830> log likelihood: -118163\n",
      "INFO:lda:<4840> log likelihood: -118127\n",
      "INFO:lda:<4850> log likelihood: -118047\n",
      "INFO:lda:<4860> log likelihood: -118021\n",
      "INFO:lda:<4870> log likelihood: -118078\n",
      "INFO:lda:<4880> log likelihood: -118098\n",
      "INFO:lda:<4890> log likelihood: -118261\n",
      "INFO:lda:<4900> log likelihood: -118172\n",
      "INFO:lda:<4910> log likelihood: -118034\n",
      "INFO:lda:<4920> log likelihood: -117814\n",
      "INFO:lda:<4930> log likelihood: -118116\n",
      "INFO:lda:<4940> log likelihood: -118088\n",
      "INFO:lda:<4950> log likelihood: -117938\n",
      "INFO:lda:<4960> log likelihood: -117945\n",
      "INFO:lda:<4970> log likelihood: -118023\n",
      "INFO:lda:<4980> log likelihood: -118028\n",
      "INFO:lda:<4990> log likelihood: -117934\n",
      "INFO:lda:<4999> log likelihood: -118221\n"
     ]
    },
    {
     "name": "stdout",
     "output_type": "stream",
     "text": [
      "Topic 0: gobernar presidente político millón chile ministro ley educación proyectar nacional\n",
      "Topic 1: año país pasar personar mundo esperar julio historia película llegar\n",
      "Topic 2: club jugar chile año jugador fútbol copar anfp partir nacional\n"
     ]
    }
   ],
   "source": [
    "import lda\n",
    "\n",
    "model = lda.LDA(n_topics=3, n_iter=5000, alpha=0.1, eta=0.1, random_state=3)\n",
    "model.fit(tf)  # model.fit_transform(X) is also available\n",
    "\n",
    "topic_word = model.topic_word_  # model.components_ also works\n",
    "n_top_words=10\n",
    "for i, topic_dist in enumerate(topic_word):\n",
    "    topic_words = np.array(diccionario)[np.argsort(topic_dist)][:-(n_top_words+1):-1]\n",
    "    print('Topic {}: {}'.format(i, ' '.join(topic_words)))\n",
    "    \n"
   ]
  },
  {
   "cell_type": "markdown",
   "metadata": {},
   "source": [
    "Al observar las top words de cada cluster, se tiene que las palabras permiten diferenciar de forma mas clara los tópicos, comparados con la implementación anterior:\n",
    "- Cluster 0: Política asociada a educación.\n",
    "- Cluster 1: Cine.\n",
    "- Cluster 2: Futbol"
   ]
  },
  {
   "cell_type": "code",
   "execution_count": 17,
   "metadata": {},
   "outputs": [
    {
     "data": {
      "text/plain": [
       "[<matplotlib.lines.Line2D at 0x7f27e875e048>]"
      ]
     },
     "execution_count": 17,
     "metadata": {},
     "output_type": "execute_result"
    },
    {
     "data": {
      "image/png": "[encoded data removed]",
      "text/plain": [
       "<Figure size 432x288 with 1 Axes>"
      ]
     },
     "metadata": {
      "needs_background": "light"
     },
     "output_type": "display_data"
    }
   ],
   "source": [
    "plt.plot(model.loglikelihoods_[5:])"
   ]
  },
  {
   "cell_type": "markdown",
   "metadata": {},
   "source": [
    "Valores de Loglikehoods se utilizan para analizar la convergencia del modelo en función de las iteraciones realizadas. Desde el gráfico se observa que para valores bajos de iteraciones, el valor de loglikehoods aumenta a una gran tasa de crecimiento, sin embargo, al auemntar las iteraciones, su valor se mantiene constante (mantentiendo una tasa de crecimiento seudo constante). Por lo tanto, para un gran número de iteraciones el algoritmo converge de forma correcta."
   ]
  },
  {
   "cell_type": "code",
   "execution_count": 21,
   "metadata": {},
   "outputs": [
    {
     "data": {
      "image/png": "[encoded data removed]",
      "text/plain": [
       "<Figure size 432x288 with 1 Axes>"
      ]
     },
     "metadata": {
      "needs_background": "light"
     },
     "output_type": "display_data"
    },
    {
     "data": {
      "image/png": "[encoded data removed]",
      "text/plain": [
       "<Figure size 432x288 with 1 Axes>"
      ]
     },
     "metadata": {
      "needs_background": "light"
     },
     "output_type": "display_data"
    },
    {
     "data": {
      "image/png": "[encoded data removed]",
      "text/plain": [
       "<Figure size 432x288 with 1 Axes>"
      ]
     },
     "metadata": {
      "needs_background": "light"
     },
     "output_type": "display_data"
    },
    {
     "data": {
      "image/png": "[encoded data removed]",
      "text/plain": [
       "<Figure size 432x288 with 1 Axes>"
      ]
     },
     "metadata": {
      "needs_background": "light"
     },
     "output_type": "display_data"
    },
    {
     "data": {
      "image/png": "[encoded data removed]",
      "text/plain": [
       "<Figure size 432x288 with 1 Axes>"
      ]
     },
     "metadata": {
      "needs_background": "light"
     },
     "output_type": "display_data"
    }
   ],
   "source": [
    "#Generando algunos gráficos de los resultados\n",
    "from matplotlib.pylab import hist, show\n",
    "\n",
    "y=model.doc_topic_\n",
    "#distribución de tópicos en todos los documentos\n",
    "dist = sum(y)/len(news.new)\n",
    "w=np.arange(0,true_k)\n",
    "plt.bar(w,height=dist,alpha=0.5,tick_label=w)\n",
    "show()\n",
    "\n",
    "#distribución de tópicos en el documento 100\n",
    "plt.bar(w,height=y[98],alpha=0.5,tick_label=w)\n",
    "show()\n",
    "\n",
    "#frecuencia de palabras por tópico\n",
    "n_top_words=15\n",
    "numo =np.arange(0,n_top_words)\n",
    "\n",
    "for idx,topic in enumerate(model.topic_word_):\n",
    "    d =[]\n",
    "    s = []\n",
    "    for i in topic.argsort()[:-n_top_words - 1:-1]:\n",
    "          s.append(diccionario[i])\n",
    "          d.append(topic[i])\n",
    "    \n",
    "    plt.barh(numo,width=d,alpha=0.5,tick_label=s)\n",
    "    show()\n",
    "\n",
    "\n",
    "\n"
   ]
  },
  {
   "cell_type": "markdown",
   "metadata": {},
   "source": [
    "Del primer gráfico se tiene que este método logra discriminar los docuemntos de cada tópico de forma uniforme, asignando similares cantidades de documentos a los diferentes tópicos.\n",
    "\n",
    "De los gráficos de top words de cada cluster, se observa que existen varias palabras clave que permiten diferencia claramente los tópicos de los clusters:\n",
    "\n",
    "- Cluster 0: Política educacional\n",
    "- Cluster 1: Cine\n",
    "- Cluster 2: Fútbol.\n",
    "\n",
    "Comparando los resultados de este método con el anterior (LDA), considero que este método es mejor en el sentido que permite obtener tópicos más diferenciados, lo que permite realizar una buena identificación de cada documento."
   ]
  },
  {
   "cell_type": "code",
   "execution_count": 25,
   "metadata": {},
   "outputs": [
    {
     "data": {
      "image/png": "[encoded data removed]",
      "text/plain": [
       "<Figure size 432x288 with 1 Axes>"
      ]
     },
     "metadata": {
      "needs_background": "light"
     },
     "output_type": "display_data"
    },
    {
     "data": {
      "image/png": "[encoded data removed]",
      "text/plain": [
       "<Figure size 432x288 with 1 Axes>"
      ]
     },
     "metadata": {
      "needs_background": "light"
     },
     "output_type": "display_data"
    }
   ],
   "source": [
    "#calculando cluster en base al tópico mas frecuente\n",
    "z=[]\n",
    "for i in range(len(news.new)):\n",
    "    z.append(np.argmax(y[i]))\n",
    "plt.scatter(range(100),z,c=z)\n",
    "show()\n",
    "\n",
    "#distribución de cluster de acuerdo a la definición anterior\n",
    "hist(z,bins=np.arange(-0.5,3,1),alpha=0.5,rwidth=0.9,density=True)\n",
    "show()\n",
    "\n"
   ]
  },
  {
   "cell_type": "markdown",
   "metadata": {},
   "source": [
    "<div style=\"border: 2px solid #1c75c8; background-color: #c5ddf6;\">\n",
    "<p>Pregunta Nº7: ¿Cómo se comparan estos resultados con los anteriores? ¿Qué puede decir de la convergencia de la estimación en este caso?\n",
    "</p></div>"
   ]
  },
  {
   "cell_type": "markdown",
   "metadata": {},
   "source": [
    "Una de las diferencias consiste en la distribución de los documentos por cada tópico, en donde el método LDA anterior poseía un sesgo hacia un cluster (cluster 0). Esto se observa en las top words de los clusters, ya que para el cluster 0, existen top words que son muy generales, por lo que cualquier noticia podria poseer mayor probabilidad en el cluster 0, generándose de esta forma que la gran mayoría de las noticias se asocien al cluster 0.\n",
    "\n",
    "Sin embargo, para el segundo metodo LDA, se logra una distribución de noticias en cluster mas homogénea, lo que podría deberse a que las top words de cada cluster son palabras especiales que permiten diferenciarse de otros tópicos.\n",
    "\n",
    "Para el caso de la convergencia, se tiene que analizando los valores de loglikelihood se logra observar una estabilización de los valores, obteniéndose una convergencia del valor."
   ]
  },
  {
   "cell_type": "markdown",
   "metadata": {},
   "source": [
    "<div style=\"border: 2px solid #1c75c8; background-color: #F8B4B4\">\n",
    "<p>Considerando este ejemplo realice el análisis tópicos del set de datos de su elección disponible en <a href=  \"https://drive.google.com/drive/folders/1rc_wTBvm2YLMPO4GK3mM2vjuEXlPN1JN?usp=sharing\"> Carpeta en drive </a>\n",
    "Comente sus hallazgos </p> </div>"
   ]
  }
 ],
 "metadata": {
  "kernelspec": {
   "display_name": "Python 3",
   "language": "python",
   "name": "python3"
  },
  "language_info": {
   "codemirror_mode": {
    "name": "ipython",
    "version": 3
   },
   "file_extension": ".py",
   "mimetype": "text/x-python",
   "name": "python",
   "nbconvert_exporter": "python",
   "pygments_lexer": "ipython3",
   "version": "3.5.2"
  }
 },
 "nbformat": 4,
 "nbformat_minor": 2
}
