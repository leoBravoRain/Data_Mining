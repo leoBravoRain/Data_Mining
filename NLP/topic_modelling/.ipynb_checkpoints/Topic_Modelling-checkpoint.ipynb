{
 "cells": [
  {
   "cell_type": "code",
   "execution_count": 14,
   "metadata": {},
   "outputs": [
    {
     "data": {
      "text/html": [
       "<div>\n",
       "<style scoped>\n",
       "    .dataframe tbody tr th:only-of-type {\n",
       "        vertical-align: middle;\n",
       "    }\n",
       "\n",
       "    .dataframe tbody tr th {\n",
       "        vertical-align: top;\n",
       "    }\n",
       "\n",
       "    .dataframe thead th {\n",
       "        text-align: right;\n",
       "    }\n",
       "</style>\n",
       "<table border=\"1\" class=\"dataframe\">\n",
       "  <thead>\n",
       "    <tr style=\"text-align: right;\">\n",
       "      <th></th>\n",
       "      <th>0</th>\n",
       "      <th>3</th>\n",
       "    </tr>\n",
       "  </thead>\n",
       "  <tbody>\n",
       "    <tr>\n",
       "      <th>1</th>\n",
       "      <td>2017-06-01 13:50:01</td>\n",
       "      <td>Santiago Jueves, 1 de junio de 2017 Actualiza...</td>\n",
       "    </tr>\n",
       "    <tr>\n",
       "      <th>2</th>\n",
       "      <td>2017-03-02 21:45:28</td>\n",
       "      <td>R. Vehicular: No rige Todo Deportes País Mund...</td>\n",
       "    </tr>\n",
       "    <tr>\n",
       "      <th>3</th>\n",
       "      <td>2017-03-02 21:57:54</td>\n",
       "      <td>R. Vehicular: No rige Todo Deportes País Mund...</td>\n",
       "    </tr>\n",
       "    <tr>\n",
       "      <th>4</th>\n",
       "      <td>2017-03-03 00:38:36</td>\n",
       "      <td>En la edición de hoy revisamos las noticias m...</td>\n",
       "    </tr>\n",
       "    <tr>\n",
       "      <th>5</th>\n",
       "      <td>2017-03-03 18:12:57</td>\n",
       "      <td>R. Vehicular: No rige Todo Deportes País Mund...</td>\n",
       "    </tr>\n",
       "  </tbody>\n",
       "</table>\n",
       "</div>"
      ],
      "text/plain": [
       "                    0                                                  3\n",
       "1 2017-06-01 13:50:01   Santiago Jueves, 1 de junio de 2017 Actualiza...\n",
       "2 2017-03-02 21:45:28   R. Vehicular: No rige Todo Deportes País Mund...\n",
       "3 2017-03-02 21:57:54   R. Vehicular: No rige Todo Deportes País Mund...\n",
       "4 2017-03-03 00:38:36   En la edición de hoy revisamos las noticias m...\n",
       "5 2017-03-03 18:12:57   R. Vehicular: No rige Todo Deportes País Mund..."
      ]
     },
     "execution_count": 14,
     "metadata": {},
     "output_type": "execute_result"
    }
   ],
   "source": [
    "import pandas as pd\n",
    "\n",
    "# file name\n",
    "file = 'MAD_tecnologia1.csv'\n",
    "\n",
    "# load data\n",
    "df = pd.read_csv(file,sep='|',error_bad_lines=False,header=None)\n",
    "\n",
    "# format to date time\n",
    "df[0] = pd.to_datetime(df[0])\n",
    "\n",
    "# Define news dataframe\n",
    "news = df[[0,3]]\n",
    "\n",
    "# take first 50\n",
    "news = news.loc[1:50]\n",
    "\n"
   ]
  }
 ],
 "metadata": {
  "kernelspec": {
   "display_name": "Python 3",
   "language": "python",
   "name": "python3"
  },
  "language_info": {
   "codemirror_mode": {
    "name": "ipython",
    "version": 3
   },
   "file_extension": ".py",
   "mimetype": "text/x-python",
   "name": "python",
   "nbconvert_exporter": "python",
   "pygments_lexer": "ipython3",
   "version": "3.5.2"
  }
 },
 "nbformat": 4,
 "nbformat_minor": 2
}
