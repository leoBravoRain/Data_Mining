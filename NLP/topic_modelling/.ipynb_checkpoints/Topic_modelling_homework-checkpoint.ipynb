{
 "cells": [
  {
   "cell_type": "markdown",
   "metadata": {},
   "source": [
    "### Análisis Realizado\n",
    "\n",
    "Al analizar los documentos, se buscan responder las siguientes preguntas:\n",
    "\n",
    "1) <b> ¿Cuales son los temas mas relevantes que se expusieron en los medios duante 2017 sobre la temática violencia? </b>\n",
    "\n",
    "2) <b> ¿De qué temas relacionados a la violencia hablan los 5 medios con más noticias en Chile? </b>\n",
    "\n",
    "Para esto, se realiza el siguiente analisis:\n",
    "\n",
    "1) Se analizan distribuciones por fecha de noticias y por cantidad de noticias por cada medio, con la intención de encontrar los 5 medios con más noticias.\n",
    "\n",
    "2) Se implementa modelo de clustering K-means, analizando los tópicos encontrados.\n",
    "\n",
    "3) Se implementa modelo LDA utilizando Inferencia Bayesiana, analizando los tópicos encontrados.\n",
    "\n",
    "4) Tomando como modelo el LDA Bayesiano, se responden preguntas de investigación planteadas:\n",
    "\n",
    "    a) Se identifican tópicos identificados en los documentos para el año 2017.\n",
    "    b) Se identifica la distribución de tópicos para cada uno de los 5 medios escogidos, analizando su distribución.\n",
    "    \n",
    "5) Se implementa modelo LDA utilizando Gibbs Sampling, analizando los tópicos encontrados.\n",
    "\n",
    "6) Comparación resultados obtenidos por modelos"
   ]
  },
  {
   "cell_type": "code",
   "execution_count": 2,
   "metadata": {},
   "outputs": [],
   "source": [
    "import matplotlib.pyplot as plt\n",
    "import pandas as pd\n",
    "import numpy as np\n",
    "from IPython.display import display, HTML\n",
    "import spacy\n",
    "from sklearn.feature_extraction.text import CountVectorizer, TfidfVectorizer\n",
    "from sklearn.decomposition import LatentDirichletAllocation\n",
    "from sklearn.cluster import KMeans\n",
    "#%matplotlib notebook\n"
   ]
  },
  {
   "cell_type": "markdown",
   "metadata": {},
   "source": [
    "### Importar datos"
   ]
  },
  {
   "cell_type": "code",
   "execution_count": 14,
   "metadata": {},
   "outputs": [
    {
     "data": {
      "text/html": [
       "<div>\n",
       "<style scoped>\n",
       "    .dataframe tbody tr th:only-of-type {\n",
       "        vertical-align: middle;\n",
       "    }\n",
       "\n",
       "    .dataframe tbody tr th {\n",
       "        vertical-align: top;\n",
       "    }\n",
       "\n",
       "    .dataframe thead th {\n",
       "        text-align: right;\n",
       "    }\n",
       "</style>\n",
       "<table border=\"1\" class=\"dataframe\">\n",
       "  <thead>\n",
       "    <tr style=\"text-align: right;\">\n",
       "      <th></th>\n",
       "      <th>0</th>\n",
       "      <th>1</th>\n",
       "      <th>2</th>\n",
       "      <th>3</th>\n",
       "    </tr>\n",
       "  </thead>\n",
       "  <tbody>\n",
       "    <tr>\n",
       "      <th>0</th>\n",
       "      <td>2017-05-23 10:40:09</td>\n",
       "      <td>lacuarta</td>\n",
       "      <td>¡Sea solidario y póngase con las mamitas de C...</td>\n",
       "      <td>Esto te interesa... 22/05/2017 - Autor: La Cu...</td>\n",
       "    </tr>\n",
       "    <tr>\n",
       "      <th>1</th>\n",
       "      <td>2017-05-18 12:59:58</td>\n",
       "      <td>RadioValparaiso</td>\n",
       "      <td>Radio Valparaíso PDI DETIENE A AUTOR DE ROBO ...</td>\n",
       "      <td>Portada » CIUDADES » Valparaíso » PDI DETIENE...</td>\n",
       "    </tr>\n",
       "    <tr>\n",
       "      <th>2</th>\n",
       "      <td>2017-06-01 22:40:30</td>\n",
       "      <td>araucanianews</td>\n",
       "      <td>SOFO y SNA cuestionaron cuenta pública de Bac...</td>\n",
       "      <td>Jueves, 1 Junio, 2017 a las 22:39 Editor Actu...</td>\n",
       "    </tr>\n",
       "    <tr>\n",
       "      <th>3</th>\n",
       "      <td>2017-06-01 08:20:07</td>\n",
       "      <td>chilevision</td>\n",
       "      <td>Detuvieron a hombre que intentó asesinar a su...</td>\n",
       "      <td>La Policía de Investigaciones detuvo a un hom...</td>\n",
       "    </tr>\n",
       "    <tr>\n",
       "      <th>4</th>\n",
       "      <td>2017-06-01 19:10:00</td>\n",
       "      <td>PublimetroChile</td>\n",
       "      <td>Feminicidio en Argentina: mujeres se desnudan...</td>\n",
       "      <td>La Fuerza Artística de Choque Comunicativo or...</td>\n",
       "    </tr>\n",
       "  </tbody>\n",
       "</table>\n",
       "</div>"
      ],
      "text/plain": [
       "                    0                  1  \\\n",
       "0 2017-05-23 10:40:09          lacuarta    \n",
       "1 2017-05-18 12:59:58   RadioValparaiso    \n",
       "2 2017-06-01 22:40:30     araucanianews    \n",
       "3 2017-06-01 08:20:07       chilevision    \n",
       "4 2017-06-01 19:10:00   PublimetroChile    \n",
       "\n",
       "                                                   2  \\\n",
       "0   ¡Sea solidario y póngase con las mamitas de C...   \n",
       "1   Radio Valparaíso PDI DETIENE A AUTOR DE ROBO ...   \n",
       "2   SOFO y SNA cuestionaron cuenta pública de Bac...   \n",
       "3   Detuvieron a hombre que intentó asesinar a su...   \n",
       "4   Feminicidio en Argentina: mujeres se desnudan...   \n",
       "\n",
       "                                                   3  \n",
       "0   Esto te interesa... 22/05/2017 - Autor: La Cu...  \n",
       "1   Portada » CIUDADES » Valparaíso » PDI DETIENE...  \n",
       "2   Jueves, 1 Junio, 2017 a las 22:39 Editor Actu...  \n",
       "3   La Policía de Investigaciones detuvo a un hom...  \n",
       "4   La Fuerza Artística de Choque Comunicativo or...  "
      ]
     },
     "metadata": {},
     "output_type": "display_data"
    },
    {
     "data": {
      "text/plain": [
       "'Total news: 4468'"
      ]
     },
     "metadata": {},
     "output_type": "display_data"
    },
    {
     "data": {
      "text/html": [
       "<div>\n",
       "<style scoped>\n",
       "    .dataframe tbody tr th:only-of-type {\n",
       "        vertical-align: middle;\n",
       "    }\n",
       "\n",
       "    .dataframe tbody tr th {\n",
       "        vertical-align: top;\n",
       "    }\n",
       "\n",
       "    .dataframe thead th {\n",
       "        text-align: right;\n",
       "    }\n",
       "</style>\n",
       "<table border=\"1\" class=\"dataframe\">\n",
       "  <thead>\n",
       "    <tr style=\"text-align: right;\">\n",
       "      <th></th>\n",
       "      <th>date</th>\n",
       "      <th>company</th>\n",
       "      <th>news</th>\n",
       "    </tr>\n",
       "  </thead>\n",
       "  <tbody>\n",
       "    <tr>\n",
       "      <th>4255</th>\n",
       "      <td>2017-05-13 16:32:10</td>\n",
       "      <td>soychiloe</td>\n",
       "      <td>16:23 El suceso se registró mientras los func...</td>\n",
       "    </tr>\n",
       "    <tr>\n",
       "      <th>1115</th>\n",
       "      <td>2017-06-15 13:30:16</td>\n",
       "      <td>eltipografo</td>\n",
       "      <td>Ya habían hecho sentir su descontento en ...</td>\n",
       "    </tr>\n",
       "    <tr>\n",
       "      <th>2089</th>\n",
       "      <td>2017-07-12 18:56:31</td>\n",
       "      <td>Elperiodicocl</td>\n",
       "      <td>El sujeto, quien fue condenado por robo con v...</td>\n",
       "    </tr>\n",
       "    <tr>\n",
       "      <th>2306</th>\n",
       "      <td>2017-12-08 09:30:47</td>\n",
       "      <td>TVN</td>\n",
       "      <td>Una pareja está comiendo en un local, pero de...</td>\n",
       "    </tr>\n",
       "    <tr>\n",
       "      <th>4349</th>\n",
       "      <td>2018-01-21 10:32:24</td>\n",
       "      <td>El_Ciudadano</td>\n",
       "      <td>El Fondo de las Naciones Unidas para la Infan...</td>\n",
       "    </tr>\n",
       "  </tbody>\n",
       "</table>\n",
       "</div>"
      ],
      "text/plain": [
       "                    date          company  \\\n",
       "4255 2017-05-13 16:32:10       soychiloe    \n",
       "1115 2017-06-15 13:30:16     eltipografo    \n",
       "2089 2017-07-12 18:56:31   Elperiodicocl    \n",
       "2306 2017-12-08 09:30:47             TVN    \n",
       "4349 2018-01-21 10:32:24    El_Ciudadano    \n",
       "\n",
       "                                                   news  \n",
       "4255   16:23 El suceso se registró mientras los func...  \n",
       "1115       Ya habían hecho sentir su descontento en ...  \n",
       "2089   El sujeto, quien fue condenado por robo con v...  \n",
       "2306   Una pareja está comiendo en un local, pero de...  \n",
       "4349   El Fondo de las Naciones Unidas para la Infan...  "
      ]
     },
     "execution_count": 14,
     "metadata": {},
     "output_type": "execute_result"
    }
   ],
   "source": [
    "# Get data\n",
    "\n",
    "# Import data\n",
    "\n",
    "# file name\n",
    "file = 'MAD_violencia1.csv'\n",
    "\n",
    "# load data\n",
    "df = pd.read_csv(file, sep = '|', error_bad_lines = False, header = None)\n",
    "\n",
    "# Parse to datetime format\n",
    "df[0] = pd.to_datetime(df[0])\n",
    "\n",
    "display(df.head())\n",
    "\n",
    "# Get date and news text\n",
    "news = df[[0,1,3]]\n",
    "\n",
    "# Shape of dataframe\n",
    "display('Total news: ' + str(news.shape[0]))\n",
    "\n",
    "# Columns\n",
    "news.columns = ['date', 'company', 'news']\n",
    "\n",
    "# text\n",
    "# news = news[0:100]\n",
    "# n = 10\n",
    "n = 100\n",
    "# n = 1500 # tooooo slow\n",
    "#n = 1000 # too slow\n",
    "#n = 500 # good in velocity, bad in clustering with LDA\n",
    "#n = 700 # bad in velocity, bad in clustering with LDA\n",
    "news = news.sample(n)\n",
    "\n",
    "news.head()"
   ]
  },
  {
   "cell_type": "markdown",
   "metadata": {},
   "source": [
    "### Analizado data por fecha y por medio"
   ]
  },
  {
   "cell_type": "code",
   "execution_count": 22,
   "metadata": {
    "scrolled": false
   },
   "outputs": [
    {
     "data": {
      "image/png": "[encoded data removed]",
      "text/plain": [
       "<Figure size 576x432 with 2 Axes>"
      ]
     },
     "metadata": {
      "needs_background": "light"
     },
     "output_type": "display_data"
    }
   ],
   "source": [
    "# Analize news by date\n",
    "news_grouped_by_month = news.groupby(news.date.dt.to_period(\"M\")).count()\n",
    "news_per_month = news_grouped_by_month.news\n",
    "\n",
    "#display(news_per_month)\n",
    "fig1, axes = plt.subplots(2,1, figsize = (8,6))\n",
    "\n",
    "ax1 = news_per_month.plot.bar(ax = axes[0], x = 'date', y = 'news')\n",
    "ax1.set_xlabel(\"Date\")\n",
    "ax1.set_ylabel('N° News')\n",
    "ax1.title.set_text('News by Date')\n",
    "plt.tight_layout()\n",
    "\n",
    "# Analize news by company\n",
    "news_grouped_by_company = news.groupby(news.company).count()\n",
    "#print(news_grouped_by_company.sort(['news']))\n",
    "\n",
    "# Sort by number of news\n",
    "news_grouped_by_company.sort_values(['date'], ascending=False, inplace = True)\n",
    "\n",
    "top_companies = 5\n",
    "\n",
    "news_per_company = news_grouped_by_company.news[0:top_companies]\n",
    "\n",
    "top_20_companies = news_per_company.index\n",
    "\n",
    "ax2 = news_per_company.plot.bar(ax = axes[1], x = 'company', y = 'News')\n",
    "ax2.set_xlabel(\"Company\")\n",
    "ax2.set_ylabel('N° News')\n",
    "ax2.title.set_text('News by Company (5 with more news)')\n",
    "plt.tight_layout()"
   ]
  },
  {
   "cell_type": "markdown",
   "metadata": {},
   "source": [
    "Del gráfico de noticias en función de la fecha, se tiene que para Julio existe un máximo número de noticias (Otra posible arista de exploración es analizar que sucede en esa fecha, probablemente haya ocurrido algún evento mediático).\n",
    "\n",
    "Del gráfico de las noticias en función de la compañia, se tiene que el medio Bío Bío es quien posee más número de noticias de violencia comparado con los demás medios."
   ]
  },
  {
   "cell_type": "markdown",
   "metadata": {},
   "source": [
    "### Tokenizer"
   ]
  },
  {
   "cell_type": "code",
   "execution_count": 23,
   "metadata": {},
   "outputs": [],
   "source": [
    "# Tokenizador\n",
    "\n",
    "# Define own tokenizer\n",
    "#import spacy\n",
    "\n",
    "nlp = spacy.load('es_core_news_sm')\n",
    "\n",
    "def own_tokenizer(sentence):\n",
    "    \n",
    "    tokens = []\n",
    "    \n",
    "    doc = nlp(sentence.lower().strip())\n",
    "    \n",
    "    for token in doc:\n",
    "        \n",
    "        # Filtering\n",
    "        if not token.is_space and not token.is_stop and not token.is_punct and not token.is_digit and not token.like_num:\n",
    "            \n",
    "            # add token to list in lemma form\n",
    "            tokens.append(token.lemma_)\n",
    "            \n",
    "    return tokens"
   ]
  },
  {
   "cell_type": "code",
   "execution_count": 24,
   "metadata": {},
   "outputs": [],
   "source": [
    "# Stop words (not has information)\n",
    "stop_words = ['a','e','i','o','u',' ','  ','   ','  ','$','  ','y', '-', 'c', 'nna', 'e', 'l', '=', '<', '>','x','href','/']"
   ]
  },
  {
   "cell_type": "markdown",
   "metadata": {},
   "source": [
    "### Representación vectorial utilizando TFIDF Vectorizer"
   ]
  },
  {
   "cell_type": "code",
   "execution_count": 25,
   "metadata": {},
   "outputs": [
    {
     "name": "stderr",
     "output_type": "stream",
     "text": [
      "/home/leo/Escritorio/magister_uach/env/lib/python3.5/site-packages/sklearn/feature_extraction/text.py:301: UserWarning: Your stop_words may be inconsistent with your preprocessing. Tokenizing the stop words generated tokens ['litro'] not in stop_words.\n",
      "  'stop_words.' % sorted(inconsistent))\n"
     ]
    }
   ],
   "source": [
    "# Vectorizator\n",
    "tfid_vectorizer = TfidfVectorizer(tokenizer = own_tokenizer, stop_words = stop_words, ngram_range = (1,1))\n",
    "\n",
    "news_vector_tfidf = tfid_vectorizer.fit_transform(news['news'])\n",
    "\n",
    "# Get features names\n",
    "news_vector_features = tfid_vectorizer.get_feature_names()"
   ]
  },
  {
   "cell_type": "markdown",
   "metadata": {},
   "source": [
    "Se utiliza TF-IDF debido a mejor representación de documentos, ya que permite identificar palabras claves que permiten diferenciar claramente de los otros documentos."
   ]
  },
  {
   "cell_type": "markdown",
   "metadata": {},
   "source": [
    "### Clustering utilizando K-means"
   ]
  },
  {
   "cell_type": "code",
   "execution_count": 26,
   "metadata": {},
   "outputs": [
    {
     "name": "stdout",
     "output_type": "stream",
     "text": [
      "Iter: 1\n",
      "Iter: 2\n",
      "Iter: 3\n",
      "Iter: 4\n",
      "Iter: 5\n",
      "Iter: 6\n",
      "Iter: 7\n",
      "Iter: 8\n",
      "Iter: 9\n"
     ]
    }
   ],
   "source": [
    "# Find optimal value of n° of clusters\n",
    "\n",
    "# Training model\n",
    "\n",
    "#from sklearn.cluster import KMeans\n",
    "\n",
    "# Number of clusters\n",
    "num_k = range(1,10)\n",
    "\n",
    "# Inertia list\n",
    "inertia = []\n",
    "\n",
    "# Iter over each k value\n",
    "for i in num_k:\n",
    "    \n",
    "    print('Iter: {0}'.format(i))\n",
    "    \n",
    "    # Set model\n",
    "    model = KMeans(n_clusters = i, n_init=5)\n",
    "    \n",
    "    # Fit model\n",
    "    model.fit(news_vector_tfidf)\n",
    "    \n",
    "    # add intertia of model\n",
    "    inertia.append(model.inertia_)"
   ]
  },
  {
   "cell_type": "code",
   "execution_count": 27,
   "metadata": {},
   "outputs": [
    {
     "name": "stderr",
     "output_type": "stream",
     "text": [
      "No handles with labels found to put in legend.\n"
     ]
    },
    {
     "data": {
      "text/plain": [
       "<matplotlib.legend.Legend at 0x7f1f3e17fb00>"
      ]
     },
     "execution_count": 27,
     "metadata": {},
     "output_type": "execute_result"
    },
    {
     "data": {
      "image/png": "[encoded data removed]",
      "text/plain": [
       "<Figure size 864x288 with 1 Axes>"
      ]
     },
     "metadata": {
      "needs_background": "light"
     },
     "output_type": "display_data"
    }
   ],
   "source": [
    "# plot inertia values\n",
    "\n",
    "#import matplotlib.pyplot as plt\n",
    "\n",
    "f, (ax) = plt.subplots(figsize = (12,4))\n",
    "ax.plot(num_k, inertia, '-o', linewidth = 3)\n",
    "ax.set_xlabel('n° k')\n",
    "ax.set_ylabel('Inertia')\n",
    "ax.title.set_text('Inertia v/s Clusters')\n",
    "ax.legend()"
   ]
  },
  {
   "cell_type": "markdown",
   "metadata": {},
   "source": [
    "Observando el gráfico, se tienen varios valores en donde la tasa de disminución disminuye, en donde el menor valor corresponde a 2, sin embargo, considerando el volumen de documentos, agrupar en sólo 2 cluster no sería óptimo, por lo que se definen 5 de clusters, ya que es el siguiente valor en donde se produce una disminución de la tasa de disminución."
   ]
  },
  {
   "cell_type": "code",
   "execution_count": 28,
   "metadata": {},
   "outputs": [],
   "source": [
    "# N° of clusters\n",
    "k_k_means = 5"
   ]
  },
  {
   "cell_type": "code",
   "execution_count": 29,
   "metadata": {},
   "outputs": [
    {
     "data": {
      "text/plain": [
       "KMeans(algorithm='auto', copy_x=True, init='k-means++', max_iter=10,\n",
       "    n_clusters=5, n_init=10, n_jobs=None, precompute_distances='auto',\n",
       "    random_state=None, tol=0.0001, verbose=0)"
      ]
     },
     "execution_count": 29,
     "metadata": {},
     "output_type": "execute_result"
    }
   ],
   "source": [
    "# Train model\n",
    "\n",
    "# Set model\n",
    "model = KMeans(n_clusters = k_k_means, init = 'k-means++', max_iter = 10, n_init = 10)\n",
    "\n",
    "# Fit model\n",
    "model.fit(news_vector_tfidf)"
   ]
  },
  {
   "cell_type": "code",
   "execution_count": 30,
   "metadata": {},
   "outputs": [
    {
     "name": "stdout",
     "output_type": "stream",
     "text": [
      "Top Words per Topic: \n",
      "\n",
      "centroid 0: \n",
      " \n",
      " newsletter  ,  ciudad  ,  recibir  ,  mercurio  ,  sap  ,  auto  ,  valparaíso  ,  empresa  ,  contáctenos  ,  farox  ,  correo  ,  guioteca  ,  suscríbete  ,  inmobiliario  ,  entérate \n",
      "\n",
      "centroid 1: \n",
      " \n",
      " mujer  ,  violencia  ,  denunciar  ,  niño  ,  año  ,  víctima  ,  llamar  ,  género  ,  intrafamiliar  ,  parejo  ,  público  ,  personar  ,  social  ,  presentar  ,  delito \n",
      "\n",
      "centroid 2: \n",
      " \n",
      " castaldi  ,  valentino  ,  teta  ,  banda  ,  camilo  ,  agrupación  ,  hecho  ,  denunciar  ,  violencia  ,  tea  ,  timar  ,  henríquez  ,  músico  ,  esperar  ,  antecedente \n",
      "\n",
      "centroid 3: \n",
      " \n",
      " newsletter  ,  ciudad  ,  recibir  ,  autolocal.cl  ,  soychile.cl  ,  suscríbete  ,  contáctenos  ,  entérate  ,  correo  ,  guioteca  ,  inmobiliario  ,  hoyxhoy.cl  ,  farox  ,  emol  ,  propiedad \n",
      "\n",
      "centroid 4: \n",
      " \n",
      " estadio  ,  ley  ,  diputar  ,  violencia  ,  pololear  ,  sereno  ,  parlamentario  ,  amplitud  ,  partir  ,  balbo  ,  región  ,  nacional  ,  deportivo  ,  moral  ,  sujetar \n",
      "\n"
     ]
    },
    {
     "data": {
      "image/png": "[encoded data removed]",
      "text/plain": [
       "<Figure size 432x288 with 1 Axes>"
      ]
     },
     "metadata": {
      "needs_background": "light"
     },
     "output_type": "display_data"
    }
   ],
   "source": [
    "# Display top words\n",
    "\n",
    "# Get order centroids\n",
    "order_centroids = model.cluster_centers_.argsort()[:,::-1]\n",
    "\n",
    "n_top_words = 15\n",
    "\n",
    "print('Top Words per Topic: \\n')\n",
    "\n",
    "# Get principal words of each centroid\n",
    "for i in range(0,k_k_means):\n",
    "    \n",
    "    centroid_words = np.array(news_vector_features)[order_centroids[i, 0:n_top_words]]\n",
    "    \n",
    "    print('centroid {0}: \\n \\n {1} \\n'.format(i, '  ,  '.join(centroid_words)))\n",
    "\n",
    "# Ploting results\n",
    "labels = model.predict(news_vector_tfidf)\n",
    "\n",
    "fig, ax = plt.subplots()\n",
    "\n",
    "# TFIDF\n",
    "#ax.scatter(range(labels.shape[0]),labels,c=labels)\n",
    "ax.hist(labels)\n",
    "ax.set_ylabel('Topic')\n",
    "ax.set_xlabel('N° cluster')\n",
    "ax.title.set_text('Distribution of topics')"
   ]
  },
  {
   "cell_type": "markdown",
   "metadata": {},
   "source": [
    "Desde los tops words obtenidos por cada cluster, se puede inferir los siguientes tópicos asociados a cada cluster:\n",
    "\n",
    "- Tópico 0: Llamado a suscripción al medio\n",
    "- Tópico 1: Violencia contra la mujer\n",
    "- Tópico 2: Episodio de violencia de vocalista de grupo \"Los Tetas\"\n",
    "- Tópico 3: Llamado a suscripción al medio\n",
    "- Tópico 4: Violencia deportiva en estadios\n",
    "\n",
    "Además, desde el gráfico de distribución de tópicos se tiene que la gran mayoría de las noticias corresponden a \"Violencia contra la mujer\".\n"
   ]
  },
  {
   "cell_type": "markdown",
   "metadata": {},
   "source": [
    "### Representación vectorial de documentos utilizando Count Vectorizer"
   ]
  },
  {
   "cell_type": "code",
   "execution_count": 18,
   "metadata": {},
   "outputs": [
    {
     "name": "stderr",
     "output_type": "stream",
     "text": [
      "/home/leo/Escritorio/magister_uach/env/lib/python3.5/site-packages/sklearn/feature_extraction/text.py:301: UserWarning: Your stop_words may be inconsistent with your preprocessing. Tokenizing the stop words generated tokens ['litro'] not in stop_words.\n",
      "  'stop_words.' % sorted(inconsistent))\n"
     ]
    }
   ],
   "source": [
    "# Vectorizacion de textos usando Count vectorizer\n",
    "\n",
    "# from sklearn.feature_extraction.text import CountVectorizer\n",
    "# Vector representation of news\n",
    "count_vectorizer = CountVectorizer(tokenizer = own_tokenizer, stop_words = stop_words, ngram_range = (1,1))\n",
    "\n",
    "# Count vectorizer\n",
    "news_vector_count = count_vectorizer.fit_transform(news['news'])\n",
    "\n",
    "# Get features names\n",
    "news_vector_features = count_vectorizer.get_feature_names()"
   ]
  },
  {
   "cell_type": "markdown",
   "metadata": {},
   "source": [
    "### Implementación modelo LDA utilizando Inferencia Variacional "
   ]
  },
  {
   "cell_type": "code",
   "execution_count": 19,
   "metadata": {
    "scrolled": true
   },
   "outputs": [
    {
     "name": "stdout",
     "output_type": "stream",
     "text": [
      "Topic number 1 \n",
      "\n",
      "Topic number 2 \n",
      "\n",
      "Topic number 3 \n",
      "\n",
      "Topic number 4 \n",
      "\n",
      "Topic number 5 \n",
      "\n",
      "Topic number 6 \n",
      "\n",
      "Topic number 7 \n",
      "\n",
      "Topic number 8 \n",
      "\n",
      "Topic number 9 \n",
      "\n"
     ]
    },
    {
     "data": {
      "image/png": "[encoded data removed]",
      "text/plain": [
       "<Figure size 360x216 with 1 Axes>"
      ]
     },
     "metadata": {
      "needs_background": "light"
     },
     "output_type": "display_data"
    }
   ],
   "source": [
    "# find optimal number of topics\n",
    "\n",
    "#from sklearn.decomposition import LatentDirichletAllocation\n",
    "#import matplotlib.pyplot as plt\n",
    "\n",
    "# Perplexity list\n",
    "perp = []\n",
    "\n",
    "# number of topics\n",
    "num_topic = range(1,10)\n",
    "\n",
    "# Iter over each value of topic\n",
    "for topic in num_topic:\n",
    "    \n",
    "    print('Topic number {0} \\n'.format(topic))\n",
    "    \n",
    "    # Define lda model\n",
    "    lda = LatentDirichletAllocation(n_components = topic, max_iter = 10,\n",
    "      learning_method = 'online',\n",
    "      learning_offset = 50,\n",
    "      random_state = 0)\n",
    "    \n",
    "    # Fit model\n",
    "    lda.fit(news_vector_count)\n",
    "    \n",
    "    # add perplexity\n",
    "    perp.append(lda.perplexity(news_vector_count))\n",
    "    \n",
    "# Plot all k values\n",
    "fig2, ax = plt.subplots(figsize = (5,3))\n",
    "ax.plot(num_topic, perp, '-o')\n",
    "ax.set_xlabel('num topics')\n",
    "ax.set_ylabel('Perplexity')\n",
    "ax.title.set_text('Perplexity v/s Number of topics')"
   ]
  },
  {
   "cell_type": "markdown",
   "metadata": {},
   "source": [
    "Del gráfico se tiene que se definen 7 topicos, ya que para el 8 se observa aumento mayor en tasa de crecimiento de perplexity."
   ]
  },
  {
   "cell_type": "code",
   "execution_count": 20,
   "metadata": {},
   "outputs": [],
   "source": [
    "# Define topics\n",
    "topics = 7"
   ]
  },
  {
   "cell_type": "code",
   "execution_count": 21,
   "metadata": {},
   "outputs": [
    {
     "name": "stdout",
     "output_type": "stream",
     "text": [
      "Model fitted\n",
      "\n"
     ]
    },
    {
     "data": {
      "image/png": "[encoded data removed]",
      "text/plain": [
       "<Figure size 432x288 with 1 Axes>"
      ]
     },
     "metadata": {
      "needs_background": "light"
     },
     "output_type": "display_data"
    },
    {
     "data": {
      "image/png": "[encoded data removed]",
      "text/plain": [
       "<Figure size 432x288 with 1 Axes>"
      ]
     },
     "metadata": {
      "needs_background": "light"
     },
     "output_type": "display_data"
    },
    {
     "data": {
      "image/png": "[encoded data removed]",
      "text/plain": [
       "<Figure size 432x288 with 1 Axes>"
      ]
     },
     "metadata": {
      "needs_background": "light"
     },
     "output_type": "display_data"
    },
    {
     "data": {
      "image/png": "[encoded data removed]",
      "text/plain": [
       "<Figure size 432x288 with 1 Axes>"
      ]
     },
     "metadata": {
      "needs_background": "light"
     },
     "output_type": "display_data"
    },
    {
     "data": {
      "image/png": "[encoded data removed]",
      "text/plain": [
       "<Figure size 432x288 with 1 Axes>"
      ]
     },
     "metadata": {
      "needs_background": "light"
     },
     "output_type": "display_data"
    },
    {
     "data": {
      "image/png": "[encoded data removed]",
      "text/plain": [
       "<Figure size 432x288 with 1 Axes>"
      ]
     },
     "metadata": {
      "needs_background": "light"
     },
     "output_type": "display_data"
    },
    {
     "data": {
      "image/png": "[encoded data removed]",
      "text/plain": [
       "<Figure size 432x288 with 1 Axes>"
      ]
     },
     "metadata": {
      "needs_background": "light"
     },
     "output_type": "display_data"
    },
    {
     "data": {
      "image/png": "[encoded data removed]",
      "text/plain": [
       "<Figure size 432x288 with 1 Axes>"
      ]
     },
     "metadata": {
      "needs_background": "light"
     },
     "output_type": "display_data"
    }
   ],
   "source": [
    "# Training defined model \n",
    "#Generando algunos gráficos de los resultados\n",
    "\n",
    "lda = LatentDirichletAllocation(n_components=topics, max_iter=50,\n",
    "                                learning_method='online',\n",
    "                                learning_offset=50.,\n",
    "                                random_state=0)\n",
    "\n",
    "# (100, 7)\n",
    "topic_distribution_per_documents = lda.fit_transform(news_vector_count)\n",
    "\n",
    "print('Model fitted\\n')\n",
    "\n",
    "#distribución de tópicos en todos los documentos\n",
    "dist_per_topic = sum(topic_distribution_per_documents)/len(news.news)\n",
    "\n",
    "topics_array = np.arange(0,topics)\n",
    "\n",
    "#plotting disttribution\n",
    "fig, ax = plt.subplots()\n",
    "ax.bar(topics_array, dist_per_topic)\n",
    "ax.set_xlabel('Topic')\n",
    "ax.set_ylabel('N° news')\n",
    "ax.title.set_text('Distribution of topics')\n",
    "\n",
    "#distribución de tópicos en el documento 100\n",
    "#plt.bar(topics_array,height=dist_per_topic,alpha=0.5,tick_label=topics_array)\n",
    "#show()\n",
    "\n",
    "#print(lda.components_.shape)\n",
    "#frecuencia de palabras por tópico\n",
    "n_top_words=20\n",
    "numo =np.arange(0,n_top_words)\n",
    "for idx,topic in enumerate(lda.components_):\n",
    "    d =[]\n",
    "    s = []\n",
    "    for i in topic.argsort()[:-n_top_words - 1:-1]:\n",
    "          s.append(news_vector_features[i])\n",
    "          d.append(topic[i])\n",
    "    plt.figure()\n",
    "    plt.barh(numo,width=d,alpha=0.5,tick_label=s)\n",
    "    plt.title('Topic ' + str(idx))\n",
    "    plt.tight_layout()\n",
    "    plt.show()\n"
   ]
  },
  {
   "cell_type": "markdown",
   "metadata": {},
   "source": [
    "#### Respuesta a pregunta de investigación:\n",
    "\n",
    "##### ¿Cuales son los temas mas relevantes que se expusieron en los medios durante 2017 sobre la temática violencia?\n",
    "\n",
    "De las top-words de cada tópico, se logra indentificar los siguientes temas:\n",
    "\n",
    "- Topic 0: Juicio legal asociados a Violencia\n",
    "- Topic 1: Donald Trump - Asesinato en marcha en USA (Las Vegas).\n",
    "- Topic 2: Violencia contra la mujer.\n",
    "- Topic 3: Suscripción al medio.\n",
    "- Topic 4: Crimen en estadio fubtol.\n",
    "- Topic 5: Violencia Machismo.\n",
    "- Topic 6: Violencia y Mapuches.\n",
    "\n",
    "Desde el gráfico de distribución de tópicos, se tiene que los mayores temas desarrollados por los medios corresponden a:\n",
    "\n",
    "1) Violencia contra la mujer.\n",
    "\n",
    "2) Suscripción al medio.\n",
    "\n",
    "3) Violencia y Mapuches\n",
    "\n",
    "Se destaca que el tema \"Suscripción al medio\" no corresponde a un tema asociado a violencia, sin embargo se mantiene en el análisis debido a que demuestran el interés de los medios por lograr nuevos suscriptores através del uso de noticias de violencia."
   ]
  },
  {
   "cell_type": "markdown",
   "metadata": {},
   "source": [
    "### Respuesta a pregunta de Investigación\n",
    "\n",
    "##### ¿De qué temas relacionados a la violencia hablan los 5 medios con más noticias en Chile?"
   ]
  },
  {
   "cell_type": "code",
   "execution_count": 31,
   "metadata": {},
   "outputs": [],
   "source": [
    "# Name to topic\n",
    "topic_name = ['Juicio legal asociados a violencia',\n",
    "             'Asesinato marcha en USA',\n",
    "              'Violencia contra la mujer',\n",
    "              'Suscripción al medio',\n",
    "              'Crimen en estadio fubtol',\n",
    "              'Violencia Machismo',\n",
    "              'Violencia y Mapuches',\n",
    "             ]"
   ]
  },
  {
   "cell_type": "code",
   "execution_count": 32,
   "metadata": {
    "scrolled": false
   },
   "outputs": [
    {
     "data": {
      "image/png": "[encoded data removed]",
      "text/plain": [
       "<Figure size 432x288 with 1 Axes>"
      ]
     },
     "metadata": {
      "needs_background": "light"
     },
     "output_type": "display_data"
    },
    {
     "data": {
      "image/png": "[encoded data removed]",
      "text/plain": [
       "<Figure size 432x288 with 1 Axes>"
      ]
     },
     "metadata": {
      "needs_background": "light"
     },
     "output_type": "display_data"
    },
    {
     "data": {
      "image/png": "[encoded data removed]",
      "text/plain": [
       "<Figure size 432x288 with 1 Axes>"
      ]
     },
     "metadata": {
      "needs_background": "light"
     },
     "output_type": "display_data"
    },
    {
     "data": {
      "image/png": "[encoded data removed]",
      "text/plain": [
       "<Figure size 432x288 with 1 Axes>"
      ]
     },
     "metadata": {
      "needs_background": "light"
     },
     "output_type": "display_data"
    },
    {
     "data": {
      "image/png": "[encoded data removed]",
      "text/plain": [
       "<Figure size 432x288 with 1 Axes>"
      ]
     },
     "metadata": {
      "needs_background": "light"
     },
     "output_type": "display_data"
    },
    {
     "data": {
      "image/png": "[encoded data removed]",
      "text/plain": [
       "<Figure size 432x288 with 1 Axes>"
      ]
     },
     "metadata": {
      "needs_background": "light"
     },
     "output_type": "display_data"
    },
    {
     "data": {
      "image/png": "[encoded data removed]",
      "text/plain": [
       "<Figure size 432x288 with 1 Axes>"
      ]
     },
     "metadata": {
      "needs_background": "light"
     },
     "output_type": "display_data"
    }
   ],
   "source": [
    "# Assign to each document the most frecuent topic\n",
    "z=[]\n",
    "for i in range(len(news.news)):\n",
    "    z.append(np.argmax(topic_distribution_per_documents[i]))\n",
    "\n",
    "# add a new variable to dataframe\n",
    "news['topic'] = z\n",
    "\n",
    "# iterate over each topic\n",
    "for topic_num in range(0,topics):\n",
    "    \n",
    "    companies_per_topic = news[(news['company'].isin(top_20_companies)) & (news['topic'] == topic_num)].groupby('company').count().sort_values(['news'], ascending=False)\n",
    "    plt.figure()\n",
    "    plt.barh(y = companies_per_topic.index.values, width = companies_per_topic.news)\n",
    "    plt.xlabel('N° News')\n",
    "    plt.ylabel('Company')\n",
    "    plt.title(str(topic_name[topic_num]))\n",
    "    plt.tight_layout()\n"
   ]
  },
  {
   "cell_type": "markdown",
   "metadata": {},
   "source": [
    "De los gráficos se observa que los medios que más hablan por cada tópico corresponden a:\n",
    "\n",
    "- Asesinato marcha en USA: La Tercera.\n",
    "- Violencia contra la mujer: BioBio, El Desconcierto, ADN Radio, La Tercera,\n",
    "- Suscripción al medio: El Mercurio.\n",
    "- Crimen Estadio de Fubtol: ADN Radio.\n",
    "\n",
    "Cabe destacar que existen gráficos sin datos ya que se tomaron solamente los 5 medios con más noticias, por lo que otros medios sean quienes tengan asociados esos tópicos."
   ]
  },
  {
   "cell_type": "code",
   "execution_count": 33,
   "metadata": {
    "scrolled": true
   },
   "outputs": [
    {
     "data": {
      "image/png": "[encoded data removed]",
      "text/plain": [
       "<Figure size 432x288 with 1 Axes>"
      ]
     },
     "metadata": {
      "needs_background": "light"
     },
     "output_type": "display_data"
    },
    {
     "data": {
      "image/png": "[encoded data removed]",
      "text/plain": [
       "<Figure size 432x288 with 1 Axes>"
      ]
     },
     "metadata": {
      "needs_background": "light"
     },
     "output_type": "display_data"
    },
    {
     "data": {
      "image/png": "[encoded data removed]",
      "text/plain": [
       "<Figure size 432x288 with 1 Axes>"
      ]
     },
     "metadata": {
      "needs_background": "light"
     },
     "output_type": "display_data"
    },
    {
     "data": {
      "image/png": "[encoded data removed]",
      "text/plain": [
       "<Figure size 432x288 with 1 Axes>"
      ]
     },
     "metadata": {
      "needs_background": "light"
     },
     "output_type": "display_data"
    },
    {
     "data": {
      "image/png": "[encoded data removed]",
      "text/plain": [
       "<Figure size 432x288 with 1 Axes>"
      ]
     },
     "metadata": {
      "needs_background": "light"
     },
     "output_type": "display_data"
    }
   ],
   "source": [
    "# Print distribution per medium\n",
    "\n",
    "# for idx, medium in top_20_companies:\n",
    "for num, medium in enumerate(top_20_companies):\n",
    "    \n",
    "    asd = news[(news['company'].isin(top_20_companies)) & (news.company == medium)].groupby('topic').count()\n",
    "    \n",
    "    plt.figure()\n",
    "    \n",
    "    plt.barh(y = asd.index.values, width = asd.news)\n",
    "    \n",
    "    plt.xlabel('Distribucion')\n",
    "    \n",
    "    plt.title(medium)"
   ]
  },
  {
   "cell_type": "markdown",
   "metadata": {},
   "source": [
    "De los gráficos se observa que cada medio habla principalmente de los siguientes temas:\n",
    "\n",
    "- Bio Bio: Violencia contra la mujer.\n",
    "- El Desconcierto: Violencia contra la mujer.\n",
    "- Mercurio Valpo: Suscripción.\n",
    "- ADN Radio: Crimen Estadio de Futbol, Violencia contra la mujer.\n",
    "- La Tercera: Violencia contra la mujer, Asesinato en USA (Las Vegas)."
   ]
  },
  {
   "cell_type": "markdown",
   "metadata": {},
   "source": [
    "### Implementación modelo LDA utilizando Gibbs Sampling"
   ]
  },
  {
   "cell_type": "code",
   "execution_count": 38,
   "metadata": {},
   "outputs": [
    {
     "name": "stderr",
     "output_type": "stream",
     "text": [
      "INFO:lda:n_documents: 100\n",
      "INFO:lda:vocab_size: 3534\n",
      "INFO:lda:n_words: 12982\n",
      "INFO:lda:n_topics: 7\n",
      "INFO:lda:n_iter: 10000\n",
      "INFO:lda:<0> log likelihood: -132515\n",
      "INFO:lda:<10> log likelihood: -109237\n",
      "INFO:lda:<20> log likelihood: -105755\n",
      "INFO:lda:<30> log likelihood: -104509\n",
      "INFO:lda:<40> log likelihood: -103808\n",
      "INFO:lda:<50> log likelihood: -103585\n",
      "INFO:lda:<60> log likelihood: -103839\n",
      "INFO:lda:<70> log likelihood: -103654\n",
      "INFO:lda:<80> log likelihood: -103504\n",
      "INFO:lda:<90> log likelihood: -103636\n",
      "INFO:lda:<100> log likelihood: -103568\n",
      "INFO:lda:<110> log likelihood: -103302\n",
      "INFO:lda:<120> log likelihood: -103644\n",
      "INFO:lda:<130> log likelihood: -103347\n",
      "INFO:lda:<140> log likelihood: -103271\n",
      "INFO:lda:<150> log likelihood: -103170\n",
      "INFO:lda:<160> log likelihood: -103068\n",
      "INFO:lda:<170> log likelihood: -103205\n",
      "INFO:lda:<180> log likelihood: -103084\n",
      "INFO:lda:<190> log likelihood: -103373\n",
      "INFO:lda:<200> log likelihood: -103137\n",
      "INFO:lda:<210> log likelihood: -103175\n",
      "INFO:lda:<220> log likelihood: -103268\n",
      "INFO:lda:<230> log likelihood: -103122\n",
      "INFO:lda:<240> log likelihood: -103191\n",
      "INFO:lda:<250> log likelihood: -103276\n",
      "INFO:lda:<260> log likelihood: -103222\n",
      "INFO:lda:<270> log likelihood: -103061\n",
      "INFO:lda:<280> log likelihood: -102877\n",
      "INFO:lda:<290> log likelihood: -103193\n",
      "INFO:lda:<300> log likelihood: -103204\n",
      "INFO:lda:<310> log likelihood: -103507\n",
      "INFO:lda:<320> log likelihood: -102955\n",
      "INFO:lda:<330> log likelihood: -103075\n",
      "INFO:lda:<340> log likelihood: -103401\n",
      "INFO:lda:<350> log likelihood: -102912\n",
      "INFO:lda:<360> log likelihood: -103122\n",
      "INFO:lda:<370> log likelihood: -103229\n",
      "INFO:lda:<380> log likelihood: -103146\n",
      "INFO:lda:<390> log likelihood: -103287\n",
      "INFO:lda:<400> log likelihood: -103218\n",
      "INFO:lda:<410> log likelihood: -103113\n",
      "INFO:lda:<420> log likelihood: -103409\n",
      "INFO:lda:<430> log likelihood: -103345\n",
      "INFO:lda:<440> log likelihood: -103300\n",
      "INFO:lda:<450> log likelihood: -103311\n",
      "INFO:lda:<460> log likelihood: -103240\n",
      "INFO:lda:<470> log likelihood: -103021\n",
      "INFO:lda:<480> log likelihood: -103363\n",
      "INFO:lda:<490> log likelihood: -103167\n",
      "INFO:lda:<500> log likelihood: -103187\n",
      "INFO:lda:<510> log likelihood: -103257\n",
      "INFO:lda:<520> log likelihood: -103042\n",
      "INFO:lda:<530> log likelihood: -103103\n",
      "INFO:lda:<540> log likelihood: -102918\n",
      "INFO:lda:<550> log likelihood: -103014\n",
      "INFO:lda:<560> log likelihood: -103077\n",
      "INFO:lda:<570> log likelihood: -103101\n",
      "INFO:lda:<580> log likelihood: -103329\n",
      "INFO:lda:<590> log likelihood: -103381\n",
      "INFO:lda:<600> log likelihood: -103103\n",
      "INFO:lda:<610> log likelihood: -103438\n",
      "INFO:lda:<620> log likelihood: -103388\n",
      "INFO:lda:<630> log likelihood: -103149\n",
      "INFO:lda:<640> log likelihood: -103034\n",
      "INFO:lda:<650> log likelihood: -103146\n",
      "INFO:lda:<660> log likelihood: -103263\n",
      "INFO:lda:<670> log likelihood: -103173\n",
      "INFO:lda:<680> log likelihood: -103062\n",
      "INFO:lda:<690> log likelihood: -103231\n",
      "INFO:lda:<700> log likelihood: -103044\n",
      "INFO:lda:<710> log likelihood: -102916\n",
      "INFO:lda:<720> log likelihood: -103329\n",
      "INFO:lda:<730> log likelihood: -102857\n",
      "INFO:lda:<740> log likelihood: -103160\n",
      "INFO:lda:<750> log likelihood: -103331\n",
      "INFO:lda:<760> log likelihood: -103089\n",
      "INFO:lda:<770> log likelihood: -103242\n",
      "INFO:lda:<780> log likelihood: -103217\n",
      "INFO:lda:<790> log likelihood: -103124\n",
      "INFO:lda:<800> log likelihood: -103226\n",
      "INFO:lda:<810> log likelihood: -103338\n",
      "INFO:lda:<820> log likelihood: -103081\n",
      "INFO:lda:<830> log likelihood: -103251\n",
      "INFO:lda:<840> log likelihood: -103289\n",
      "INFO:lda:<850> log likelihood: -103048\n",
      "INFO:lda:<860> log likelihood: -103251\n",
      "INFO:lda:<870> log likelihood: -103123\n",
      "INFO:lda:<880> log likelihood: -102847\n",
      "INFO:lda:<890> log likelihood: -103374\n",
      "INFO:lda:<900> log likelihood: -103244\n",
      "INFO:lda:<910> log likelihood: -103153\n",
      "INFO:lda:<920> log likelihood: -103274\n",
      "INFO:lda:<930> log likelihood: -103221\n",
      "INFO:lda:<940> log likelihood: -103036\n",
      "INFO:lda:<950> log likelihood: -103299\n",
      "INFO:lda:<960> log likelihood: -103176\n",
      "INFO:lda:<970> log likelihood: -103264\n",
      "INFO:lda:<980> log likelihood: -103156\n",
      "INFO:lda:<990> log likelihood: -103206\n",
      "INFO:lda:<1000> log likelihood: -102967\n",
      "INFO:lda:<1010> log likelihood: -103046\n",
      "INFO:lda:<1020> log likelihood: -102995\n",
      "INFO:lda:<1030> log likelihood: -102991\n",
      "INFO:lda:<1040> log likelihood: -103046\n",
      "INFO:lda:<1050> log likelihood: -103289\n",
      "INFO:lda:<1060> log likelihood: -103198\n",
      "INFO:lda:<1070> log likelihood: -103291\n",
      "INFO:lda:<1080> log likelihood: -103244\n",
      "INFO:lda:<1090> log likelihood: -103064\n",
      "INFO:lda:<1100> log likelihood: -103380\n",
      "INFO:lda:<1110> log likelihood: -103266\n",
      "INFO:lda:<1120> log likelihood: -103287\n",
      "INFO:lda:<1130> log likelihood: -103218\n",
      "INFO:lda:<1140> log likelihood: -103228\n",
      "INFO:lda:<1150> log likelihood: -103103\n",
      "INFO:lda:<1160> log likelihood: -103224\n",
      "INFO:lda:<1170> log likelihood: -103018\n",
      "INFO:lda:<1180> log likelihood: -103184\n",
      "INFO:lda:<1190> log likelihood: -102949\n",
      "INFO:lda:<1200> log likelihood: -103012\n",
      "INFO:lda:<1210> log likelihood: -103096\n",
      "INFO:lda:<1220> log likelihood: -103091\n",
      "INFO:lda:<1230> log likelihood: -103093\n",
      "INFO:lda:<1240> log likelihood: -103059\n",
      "INFO:lda:<1250> log likelihood: -103257\n",
      "INFO:lda:<1260> log likelihood: -103276\n",
      "INFO:lda:<1270> log likelihood: -103308\n",
      "INFO:lda:<1280> log likelihood: -103216\n",
      "INFO:lda:<1290> log likelihood: -103467\n",
      "INFO:lda:<1300> log likelihood: -103345\n",
      "INFO:lda:<1310> log likelihood: -103162\n",
      "INFO:lda:<1320> log likelihood: -103167\n",
      "INFO:lda:<1330> log likelihood: -102951\n",
      "INFO:lda:<1340> log likelihood: -102878\n",
      "INFO:lda:<1350> log likelihood: -103302\n",
      "INFO:lda:<1360> log likelihood: -103142\n",
      "INFO:lda:<1370> log likelihood: -102874\n",
      "INFO:lda:<1380> log likelihood: -103103\n",
      "INFO:lda:<1390> log likelihood: -103360\n",
      "INFO:lda:<1400> log likelihood: -103239\n",
      "INFO:lda:<1410> log likelihood: -103200\n",
      "INFO:lda:<1420> log likelihood: -103254\n",
      "INFO:lda:<1430> log likelihood: -103186\n",
      "INFO:lda:<1440> log likelihood: -102886\n",
      "INFO:lda:<1450> log likelihood: -103073\n",
      "INFO:lda:<1460> log likelihood: -103140\n",
      "INFO:lda:<1470> log likelihood: -103184\n",
      "INFO:lda:<1480> log likelihood: -103167\n",
      "INFO:lda:<1490> log likelihood: -103157\n",
      "INFO:lda:<1500> log likelihood: -103223\n",
      "INFO:lda:<1510> log likelihood: -102860\n",
      "INFO:lda:<1520> log likelihood: -103138\n",
      "INFO:lda:<1530> log likelihood: -103198\n",
      "INFO:lda:<1540> log likelihood: -103011\n",
      "INFO:lda:<1550> log likelihood: -103246\n",
      "INFO:lda:<1560> log likelihood: -103022\n",
      "INFO:lda:<1570> log likelihood: -102733\n",
      "INFO:lda:<1580> log likelihood: -102954\n",
      "INFO:lda:<1590> log likelihood: -103107\n",
      "INFO:lda:<1600> log likelihood: -103060\n",
      "INFO:lda:<1610> log likelihood: -103312\n",
      "INFO:lda:<1620> log likelihood: -103184\n",
      "INFO:lda:<1630> log likelihood: -103267\n",
      "INFO:lda:<1640> log likelihood: -103017\n",
      "INFO:lda:<1650> log likelihood: -102970\n",
      "INFO:lda:<1660> log likelihood: -102995\n",
      "INFO:lda:<1670> log likelihood: -103003\n",
      "INFO:lda:<1680> log likelihood: -103143\n",
      "INFO:lda:<1690> log likelihood: -103232\n",
      "INFO:lda:<1700> log likelihood: -103127\n",
      "INFO:lda:<1710> log likelihood: -102931\n",
      "INFO:lda:<1720> log likelihood: -102762\n",
      "INFO:lda:<1730> log likelihood: -102874\n",
      "INFO:lda:<1740> log likelihood: -103192\n",
      "INFO:lda:<1750> log likelihood: -102920\n",
      "INFO:lda:<1760> log likelihood: -103233\n",
      "INFO:lda:<1770> log likelihood: -103158\n",
      "INFO:lda:<1780> log likelihood: -103176\n",
      "INFO:lda:<1790> log likelihood: -103061\n",
      "INFO:lda:<1800> log likelihood: -103003\n",
      "INFO:lda:<1810> log likelihood: -103069\n",
      "INFO:lda:<1820> log likelihood: -103099\n",
      "INFO:lda:<1830> log likelihood: -103054\n",
      "INFO:lda:<1840> log likelihood: -103285\n",
      "INFO:lda:<1850> log likelihood: -103089\n",
      "INFO:lda:<1860> log likelihood: -103070\n",
      "INFO:lda:<1870> log likelihood: -102888\n",
      "INFO:lda:<1880> log likelihood: -103014\n",
      "INFO:lda:<1890> log likelihood: -103092\n",
      "INFO:lda:<1900> log likelihood: -102890\n",
      "INFO:lda:<1910> log likelihood: -103218\n",
      "INFO:lda:<1920> log likelihood: -103070\n",
      "INFO:lda:<1930> log likelihood: -103270\n",
      "INFO:lda:<1940> log likelihood: -103070\n",
      "INFO:lda:<1950> log likelihood: -103112\n",
      "INFO:lda:<1960> log likelihood: -102896\n",
      "INFO:lda:<1970> log likelihood: -103184\n",
      "INFO:lda:<1980> log likelihood: -103007\n",
      "INFO:lda:<1990> log likelihood: -103031\n",
      "INFO:lda:<2000> log likelihood: -103038\n",
      "INFO:lda:<2010> log likelihood: -103070\n",
      "INFO:lda:<2020> log likelihood: -103125\n",
      "INFO:lda:<2030> log likelihood: -103352\n",
      "INFO:lda:<2040> log likelihood: -103272\n"
     ]
    },
    {
     "name": "stderr",
     "output_type": "stream",
     "text": [
      "INFO:lda:<2050> log likelihood: -103231\n",
      "INFO:lda:<2060> log likelihood: -103124\n",
      "INFO:lda:<2070> log likelihood: -103217\n",
      "INFO:lda:<2080> log likelihood: -103113\n",
      "INFO:lda:<2090> log likelihood: -102882\n",
      "INFO:lda:<2100> log likelihood: -103187\n",
      "INFO:lda:<2110> log likelihood: -103072\n",
      "INFO:lda:<2120> log likelihood: -102998\n",
      "INFO:lda:<2130> log likelihood: -103036\n",
      "INFO:lda:<2140> log likelihood: -102963\n",
      "INFO:lda:<2150> log likelihood: -103105\n",
      "INFO:lda:<2160> log likelihood: -103065\n",
      "INFO:lda:<2170> log likelihood: -103250\n",
      "INFO:lda:<2180> log likelihood: -103050\n",
      "INFO:lda:<2190> log likelihood: -103195\n",
      "INFO:lda:<2200> log likelihood: -103318\n",
      "INFO:lda:<2210> log likelihood: -103390\n",
      "INFO:lda:<2220> log likelihood: -103345\n",
      "INFO:lda:<2230> log likelihood: -103473\n",
      "INFO:lda:<2240> log likelihood: -103319\n",
      "INFO:lda:<2250> log likelihood: -103064\n",
      "INFO:lda:<2260> log likelihood: -103384\n",
      "INFO:lda:<2270> log likelihood: -103347\n",
      "INFO:lda:<2280> log likelihood: -103213\n",
      "INFO:lda:<2290> log likelihood: -103299\n",
      "INFO:lda:<2300> log likelihood: -103147\n",
      "INFO:lda:<2310> log likelihood: -103068\n",
      "INFO:lda:<2320> log likelihood: -103260\n",
      "INFO:lda:<2330> log likelihood: -103115\n",
      "INFO:lda:<2340> log likelihood: -103134\n",
      "INFO:lda:<2350> log likelihood: -103137\n",
      "INFO:lda:<2360> log likelihood: -102947\n",
      "INFO:lda:<2370> log likelihood: -103049\n",
      "INFO:lda:<2380> log likelihood: -103318\n",
      "INFO:lda:<2390> log likelihood: -103309\n",
      "INFO:lda:<2400> log likelihood: -103143\n",
      "INFO:lda:<2410> log likelihood: -103309\n",
      "INFO:lda:<2420> log likelihood: -103455\n",
      "INFO:lda:<2430> log likelihood: -103082\n",
      "INFO:lda:<2440> log likelihood: -103383\n",
      "INFO:lda:<2450> log likelihood: -102920\n",
      "INFO:lda:<2460> log likelihood: -103099\n",
      "INFO:lda:<2470> log likelihood: -103225\n",
      "INFO:lda:<2480> log likelihood: -103008\n",
      "INFO:lda:<2490> log likelihood: -103023\n",
      "INFO:lda:<2500> log likelihood: -103206\n",
      "INFO:lda:<2510> log likelihood: -103381\n",
      "INFO:lda:<2520> log likelihood: -103288\n",
      "INFO:lda:<2530> log likelihood: -103221\n",
      "INFO:lda:<2540> log likelihood: -102997\n",
      "INFO:lda:<2550> log likelihood: -103295\n",
      "INFO:lda:<2560> log likelihood: -103194\n",
      "INFO:lda:<2570> log likelihood: -103236\n",
      "INFO:lda:<2580> log likelihood: -103246\n",
      "INFO:lda:<2590> log likelihood: -103135\n",
      "INFO:lda:<2600> log likelihood: -103083\n",
      "INFO:lda:<2610> log likelihood: -103243\n",
      "INFO:lda:<2620> log likelihood: -103105\n",
      "INFO:lda:<2630> log likelihood: -102933\n",
      "INFO:lda:<2640> log likelihood: -102940\n",
      "INFO:lda:<2650> log likelihood: -103202\n",
      "INFO:lda:<2660> log likelihood: -103252\n",
      "INFO:lda:<2670> log likelihood: -103258\n",
      "INFO:lda:<2680> log likelihood: -103431\n",
      "INFO:lda:<2690> log likelihood: -103211\n",
      "INFO:lda:<2700> log likelihood: -103305\n",
      "INFO:lda:<2710> log likelihood: -102961\n",
      "INFO:lda:<2720> log likelihood: -102964\n",
      "INFO:lda:<2730> log likelihood: -102949\n",
      "INFO:lda:<2740> log likelihood: -103102\n",
      "INFO:lda:<2750> log likelihood: -103009\n",
      "INFO:lda:<2760> log likelihood: -103180\n",
      "INFO:lda:<2770> log likelihood: -103396\n",
      "INFO:lda:<2780> log likelihood: -102826\n",
      "INFO:lda:<2790> log likelihood: -102982\n",
      "INFO:lda:<2800> log likelihood: -103226\n",
      "INFO:lda:<2810> log likelihood: -103030\n",
      "INFO:lda:<2820> log likelihood: -103076\n",
      "INFO:lda:<2830> log likelihood: -103032\n",
      "INFO:lda:<2840> log likelihood: -103208\n",
      "INFO:lda:<2850> log likelihood: -102980\n",
      "INFO:lda:<2860> log likelihood: -102921\n",
      "INFO:lda:<2870> log likelihood: -103318\n",
      "INFO:lda:<2880> log likelihood: -102939\n",
      "INFO:lda:<2890> log likelihood: -102919\n",
      "INFO:lda:<2900> log likelihood: -103179\n",
      "INFO:lda:<2910> log likelihood: -103245\n",
      "INFO:lda:<2920> log likelihood: -103284\n",
      "INFO:lda:<2930> log likelihood: -103205\n",
      "INFO:lda:<2940> log likelihood: -103375\n",
      "INFO:lda:<2950> log likelihood: -103154\n",
      "INFO:lda:<2960> log likelihood: -103018\n",
      "INFO:lda:<2970> log likelihood: -103410\n",
      "INFO:lda:<2980> log likelihood: -103101\n",
      "INFO:lda:<2990> log likelihood: -103153\n",
      "INFO:lda:<3000> log likelihood: -103077\n",
      "INFO:lda:<3010> log likelihood: -103188\n",
      "INFO:lda:<3020> log likelihood: -103090\n",
      "INFO:lda:<3030> log likelihood: -103238\n",
      "INFO:lda:<3040> log likelihood: -103047\n",
      "INFO:lda:<3050> log likelihood: -103097\n",
      "INFO:lda:<3060> log likelihood: -102932\n",
      "INFO:lda:<3070> log likelihood: -103303\n",
      "INFO:lda:<3080> log likelihood: -103159\n",
      "INFO:lda:<3090> log likelihood: -103169\n",
      "INFO:lda:<3100> log likelihood: -103213\n",
      "INFO:lda:<3110> log likelihood: -103107\n",
      "INFO:lda:<3120> log likelihood: -103091\n",
      "INFO:lda:<3130> log likelihood: -103172\n",
      "INFO:lda:<3140> log likelihood: -102821\n",
      "INFO:lda:<3150> log likelihood: -103158\n",
      "INFO:lda:<3160> log likelihood: -103082\n",
      "INFO:lda:<3170> log likelihood: -103207\n",
      "INFO:lda:<3180> log likelihood: -103068\n",
      "INFO:lda:<3190> log likelihood: -103108\n",
      "INFO:lda:<3200> log likelihood: -103062\n",
      "INFO:lda:<3210> log likelihood: -103252\n",
      "INFO:lda:<3220> log likelihood: -103284\n",
      "INFO:lda:<3230> log likelihood: -103363\n",
      "INFO:lda:<3240> log likelihood: -103074\n",
      "INFO:lda:<3250> log likelihood: -103047\n",
      "INFO:lda:<3260> log likelihood: -103352\n",
      "INFO:lda:<3270> log likelihood: -103297\n",
      "INFO:lda:<3280> log likelihood: -103344\n",
      "INFO:lda:<3290> log likelihood: -103213\n",
      "INFO:lda:<3300> log likelihood: -103080\n",
      "INFO:lda:<3310> log likelihood: -103113\n",
      "INFO:lda:<3320> log likelihood: -103038\n",
      "INFO:lda:<3330> log likelihood: -103163\n",
      "INFO:lda:<3340> log likelihood: -103166\n",
      "INFO:lda:<3350> log likelihood: -103169\n",
      "INFO:lda:<3360> log likelihood: -102993\n",
      "INFO:lda:<3370> log likelihood: -103214\n",
      "INFO:lda:<3380> log likelihood: -103291\n",
      "INFO:lda:<3390> log likelihood: -103245\n",
      "INFO:lda:<3400> log likelihood: -103397\n",
      "INFO:lda:<3410> log likelihood: -103254\n",
      "INFO:lda:<3420> log likelihood: -102990\n",
      "INFO:lda:<3430> log likelihood: -103132\n",
      "INFO:lda:<3440> log likelihood: -103210\n",
      "INFO:lda:<3450> log likelihood: -103311\n",
      "INFO:lda:<3460> log likelihood: -103173\n",
      "INFO:lda:<3470> log likelihood: -102926\n",
      "INFO:lda:<3480> log likelihood: -102969\n",
      "INFO:lda:<3490> log likelihood: -103146\n",
      "INFO:lda:<3500> log likelihood: -103216\n",
      "INFO:lda:<3510> log likelihood: -103472\n",
      "INFO:lda:<3520> log likelihood: -103123\n",
      "INFO:lda:<3530> log likelihood: -103107\n",
      "INFO:lda:<3540> log likelihood: -103168\n",
      "INFO:lda:<3550> log likelihood: -103100\n",
      "INFO:lda:<3560> log likelihood: -103292\n",
      "INFO:lda:<3570> log likelihood: -102996\n",
      "INFO:lda:<3580> log likelihood: -103016\n",
      "INFO:lda:<3590> log likelihood: -103221\n",
      "INFO:lda:<3600> log likelihood: -103128\n",
      "INFO:lda:<3610> log likelihood: -103343\n",
      "INFO:lda:<3620> log likelihood: -103320\n",
      "INFO:lda:<3630> log likelihood: -103045\n",
      "INFO:lda:<3640> log likelihood: -102896\n",
      "INFO:lda:<3650> log likelihood: -103216\n",
      "INFO:lda:<3660> log likelihood: -103148\n",
      "INFO:lda:<3670> log likelihood: -103205\n",
      "INFO:lda:<3680> log likelihood: -102966\n",
      "INFO:lda:<3690> log likelihood: -102914\n",
      "INFO:lda:<3700> log likelihood: -103232\n",
      "INFO:lda:<3710> log likelihood: -102984\n",
      "INFO:lda:<3720> log likelihood: -103245\n",
      "INFO:lda:<3730> log likelihood: -103490\n",
      "INFO:lda:<3740> log likelihood: -103226\n",
      "INFO:lda:<3750> log likelihood: -103002\n",
      "INFO:lda:<3760> log likelihood: -103107\n",
      "INFO:lda:<3770> log likelihood: -103148\n",
      "INFO:lda:<3780> log likelihood: -103182\n",
      "INFO:lda:<3790> log likelihood: -102916\n",
      "INFO:lda:<3800> log likelihood: -103094\n",
      "INFO:lda:<3810> log likelihood: -103186\n",
      "INFO:lda:<3820> log likelihood: -102974\n",
      "INFO:lda:<3830> log likelihood: -103078\n",
      "INFO:lda:<3840> log likelihood: -103331\n",
      "INFO:lda:<3850> log likelihood: -103095\n",
      "INFO:lda:<3860> log likelihood: -103250\n",
      "INFO:lda:<3870> log likelihood: -103492\n",
      "INFO:lda:<3880> log likelihood: -103295\n",
      "INFO:lda:<3890> log likelihood: -103203\n",
      "INFO:lda:<3900> log likelihood: -103052\n",
      "INFO:lda:<3910> log likelihood: -102954\n",
      "INFO:lda:<3920> log likelihood: -103119\n",
      "INFO:lda:<3930> log likelihood: -103054\n",
      "INFO:lda:<3940> log likelihood: -103473\n",
      "INFO:lda:<3950> log likelihood: -103119\n",
      "INFO:lda:<3960> log likelihood: -103237\n",
      "INFO:lda:<3970> log likelihood: -103455\n",
      "INFO:lda:<3980> log likelihood: -103042\n",
      "INFO:lda:<3990> log likelihood: -103437\n",
      "INFO:lda:<4000> log likelihood: -103068\n",
      "INFO:lda:<4010> log likelihood: -103416\n",
      "INFO:lda:<4020> log likelihood: -103010\n",
      "INFO:lda:<4030> log likelihood: -103272\n",
      "INFO:lda:<4040> log likelihood: -103046\n",
      "INFO:lda:<4050> log likelihood: -102924\n",
      "INFO:lda:<4060> log likelihood: -102970\n",
      "INFO:lda:<4070> log likelihood: -103348\n",
      "INFO:lda:<4080> log likelihood: -103260\n",
      "INFO:lda:<4090> log likelihood: -103175\n"
     ]
    },
    {
     "name": "stderr",
     "output_type": "stream",
     "text": [
      "INFO:lda:<4100> log likelihood: -103416\n",
      "INFO:lda:<4110> log likelihood: -103033\n",
      "INFO:lda:<4120> log likelihood: -102939\n",
      "INFO:lda:<4130> log likelihood: -103032\n",
      "INFO:lda:<4140> log likelihood: -103404\n",
      "INFO:lda:<4150> log likelihood: -103087\n",
      "INFO:lda:<4160> log likelihood: -103340\n",
      "INFO:lda:<4170> log likelihood: -103126\n",
      "INFO:lda:<4180> log likelihood: -103139\n",
      "INFO:lda:<4190> log likelihood: -103212\n",
      "INFO:lda:<4200> log likelihood: -103057\n",
      "INFO:lda:<4210> log likelihood: -103031\n",
      "INFO:lda:<4220> log likelihood: -103248\n",
      "INFO:lda:<4230> log likelihood: -103091\n",
      "INFO:lda:<4240> log likelihood: -103151\n",
      "INFO:lda:<4250> log likelihood: -103350\n",
      "INFO:lda:<4260> log likelihood: -103409\n",
      "INFO:lda:<4270> log likelihood: -103254\n",
      "INFO:lda:<4280> log likelihood: -103245\n",
      "INFO:lda:<4290> log likelihood: -102990\n",
      "INFO:lda:<4300> log likelihood: -103030\n",
      "INFO:lda:<4310> log likelihood: -102883\n",
      "INFO:lda:<4320> log likelihood: -103099\n",
      "INFO:lda:<4330> log likelihood: -103099\n",
      "INFO:lda:<4340> log likelihood: -102957\n",
      "INFO:lda:<4350> log likelihood: -103090\n",
      "INFO:lda:<4360> log likelihood: -102867\n",
      "INFO:lda:<4370> log likelihood: -102838\n",
      "INFO:lda:<4380> log likelihood: -102962\n",
      "INFO:lda:<4390> log likelihood: -102778\n",
      "INFO:lda:<4400> log likelihood: -102799\n",
      "INFO:lda:<4410> log likelihood: -102993\n",
      "INFO:lda:<4420> log likelihood: -103023\n",
      "INFO:lda:<4430> log likelihood: -102905\n",
      "INFO:lda:<4440> log likelihood: -102869\n",
      "INFO:lda:<4450> log likelihood: -102719\n",
      "INFO:lda:<4460> log likelihood: -102954\n",
      "INFO:lda:<4470> log likelihood: -102780\n",
      "INFO:lda:<4480> log likelihood: -103081\n",
      "INFO:lda:<4490> log likelihood: -102955\n",
      "INFO:lda:<4500> log likelihood: -102734\n",
      "INFO:lda:<4510> log likelihood: -103032\n",
      "INFO:lda:<4520> log likelihood: -102942\n",
      "INFO:lda:<4530> log likelihood: -103128\n",
      "INFO:lda:<4540> log likelihood: -102920\n",
      "INFO:lda:<4550> log likelihood: -103079\n",
      "INFO:lda:<4560> log likelihood: -102704\n",
      "INFO:lda:<4570> log likelihood: -102761\n",
      "INFO:lda:<4580> log likelihood: -102783\n",
      "INFO:lda:<4590> log likelihood: -103023\n",
      "INFO:lda:<4600> log likelihood: -103068\n",
      "INFO:lda:<4610> log likelihood: -102770\n",
      "INFO:lda:<4620> log likelihood: -103017\n",
      "INFO:lda:<4630> log likelihood: -102855\n",
      "INFO:lda:<4640> log likelihood: -102790\n",
      "INFO:lda:<4650> log likelihood: -102772\n",
      "INFO:lda:<4660> log likelihood: -102972\n",
      "INFO:lda:<4670> log likelihood: -102945\n",
      "INFO:lda:<4680> log likelihood: -102793\n",
      "INFO:lda:<4690> log likelihood: -102727\n",
      "INFO:lda:<4700> log likelihood: -103183\n",
      "INFO:lda:<4710> log likelihood: -102976\n",
      "INFO:lda:<4720> log likelihood: -102746\n",
      "INFO:lda:<4730> log likelihood: -103017\n",
      "INFO:lda:<4740> log likelihood: -102767\n",
      "INFO:lda:<4750> log likelihood: -103090\n",
      "INFO:lda:<4760> log likelihood: -102832\n",
      "INFO:lda:<4770> log likelihood: -102960\n",
      "INFO:lda:<4780> log likelihood: -102680\n",
      "INFO:lda:<4790> log likelihood: -102649\n",
      "INFO:lda:<4800> log likelihood: -102982\n",
      "INFO:lda:<4810> log likelihood: -102585\n",
      "INFO:lda:<4820> log likelihood: -102752\n",
      "INFO:lda:<4830> log likelihood: -102933\n",
      "INFO:lda:<4840> log likelihood: -102902\n",
      "INFO:lda:<4850> log likelihood: -102667\n",
      "INFO:lda:<4860> log likelihood: -102554\n",
      "INFO:lda:<4870> log likelihood: -103127\n",
      "INFO:lda:<4880> log likelihood: -102874\n",
      "INFO:lda:<4890> log likelihood: -103100\n",
      "INFO:lda:<4900> log likelihood: -102947\n",
      "INFO:lda:<4910> log likelihood: -102676\n",
      "INFO:lda:<4920> log likelihood: -102831\n",
      "INFO:lda:<4930> log likelihood: -103000\n",
      "INFO:lda:<4940> log likelihood: -102744\n",
      "INFO:lda:<4950> log likelihood: -102907\n",
      "INFO:lda:<4960> log likelihood: -102826\n",
      "INFO:lda:<4970> log likelihood: -102936\n",
      "INFO:lda:<4980> log likelihood: -102746\n",
      "INFO:lda:<4990> log likelihood: -102946\n",
      "INFO:lda:<5000> log likelihood: -102957\n",
      "INFO:lda:<5010> log likelihood: -102747\n",
      "INFO:lda:<5020> log likelihood: -102925\n",
      "INFO:lda:<5030> log likelihood: -102970\n",
      "INFO:lda:<5040> log likelihood: -102661\n",
      "INFO:lda:<5050> log likelihood: -102747\n",
      "INFO:lda:<5060> log likelihood: -102797\n",
      "INFO:lda:<5070> log likelihood: -102919\n",
      "INFO:lda:<5080> log likelihood: -102989\n",
      "INFO:lda:<5090> log likelihood: -102894\n",
      "INFO:lda:<5100> log likelihood: -102676\n",
      "INFO:lda:<5110> log likelihood: -102946\n",
      "INFO:lda:<5120> log likelihood: -102935\n",
      "INFO:lda:<5130> log likelihood: -102805\n",
      "INFO:lda:<5140> log likelihood: -103036\n",
      "INFO:lda:<5150> log likelihood: -102878\n",
      "INFO:lda:<5160> log likelihood: -102777\n",
      "INFO:lda:<5170> log likelihood: -102871\n",
      "INFO:lda:<5180> log likelihood: -102939\n",
      "INFO:lda:<5190> log likelihood: -102911\n",
      "INFO:lda:<5200> log likelihood: -102701\n",
      "INFO:lda:<5210> log likelihood: -102958\n",
      "INFO:lda:<5220> log likelihood: -102910\n",
      "INFO:lda:<5230> log likelihood: -102760\n",
      "INFO:lda:<5240> log likelihood: -102774\n",
      "INFO:lda:<5250> log likelihood: -102784\n",
      "INFO:lda:<5260> log likelihood: -103035\n",
      "INFO:lda:<5270> log likelihood: -103187\n",
      "INFO:lda:<5280> log likelihood: -102736\n",
      "INFO:lda:<5290> log likelihood: -102790\n",
      "INFO:lda:<5300> log likelihood: -102906\n",
      "INFO:lda:<5310> log likelihood: -102645\n",
      "INFO:lda:<5320> log likelihood: -102747\n",
      "INFO:lda:<5330> log likelihood: -102971\n",
      "INFO:lda:<5340> log likelihood: -102820\n",
      "INFO:lda:<5350> log likelihood: -103123\n",
      "INFO:lda:<5360> log likelihood: -103202\n",
      "INFO:lda:<5370> log likelihood: -102917\n",
      "INFO:lda:<5380> log likelihood: -103015\n",
      "INFO:lda:<5390> log likelihood: -103077\n",
      "INFO:lda:<5400> log likelihood: -103091\n",
      "INFO:lda:<5410> log likelihood: -102920\n",
      "INFO:lda:<5420> log likelihood: -102872\n",
      "INFO:lda:<5430> log likelihood: -102748\n",
      "INFO:lda:<5440> log likelihood: -102861\n",
      "INFO:lda:<5450> log likelihood: -102981\n",
      "INFO:lda:<5460> log likelihood: -102847\n",
      "INFO:lda:<5470> log likelihood: -102901\n",
      "INFO:lda:<5480> log likelihood: -103105\n",
      "INFO:lda:<5490> log likelihood: -102735\n",
      "INFO:lda:<5500> log likelihood: -102729\n",
      "INFO:lda:<5510> log likelihood: -102857\n",
      "INFO:lda:<5520> log likelihood: -102827\n",
      "INFO:lda:<5530> log likelihood: -102973\n",
      "INFO:lda:<5540> log likelihood: -102676\n",
      "INFO:lda:<5550> log likelihood: -103004\n",
      "INFO:lda:<5560> log likelihood: -102669\n",
      "INFO:lda:<5570> log likelihood: -102922\n",
      "INFO:lda:<5580> log likelihood: -102790\n",
      "INFO:lda:<5590> log likelihood: -102869\n",
      "INFO:lda:<5600> log likelihood: -102976\n",
      "INFO:lda:<5610> log likelihood: -102880\n",
      "INFO:lda:<5620> log likelihood: -102979\n",
      "INFO:lda:<5630> log likelihood: -102906\n",
      "INFO:lda:<5640> log likelihood: -102707\n",
      "INFO:lda:<5650> log likelihood: -102998\n",
      "INFO:lda:<5660> log likelihood: -103056\n",
      "INFO:lda:<5670> log likelihood: -103024\n",
      "INFO:lda:<5680> log likelihood: -102834\n",
      "INFO:lda:<5690> log likelihood: -102650\n",
      "INFO:lda:<5700> log likelihood: -103016\n",
      "INFO:lda:<5710> log likelihood: -102922\n",
      "INFO:lda:<5720> log likelihood: -103181\n",
      "INFO:lda:<5730> log likelihood: -102916\n",
      "INFO:lda:<5740> log likelihood: -102992\n",
      "INFO:lda:<5750> log likelihood: -102721\n",
      "INFO:lda:<5760> log likelihood: -102752\n",
      "INFO:lda:<5770> log likelihood: -103060\n",
      "INFO:lda:<5780> log likelihood: -102800\n",
      "INFO:lda:<5790> log likelihood: -102897\n",
      "INFO:lda:<5800> log likelihood: -102927\n",
      "INFO:lda:<5810> log likelihood: -102992\n",
      "INFO:lda:<5820> log likelihood: -102887\n",
      "INFO:lda:<5830> log likelihood: -102822\n",
      "INFO:lda:<5840> log likelihood: -102796\n",
      "INFO:lda:<5850> log likelihood: -102924\n",
      "INFO:lda:<5860> log likelihood: -102829\n",
      "INFO:lda:<5870> log likelihood: -102921\n",
      "INFO:lda:<5880> log likelihood: -102862\n",
      "INFO:lda:<5890> log likelihood: -103047\n",
      "INFO:lda:<5900> log likelihood: -102945\n",
      "INFO:lda:<5910> log likelihood: -102804\n",
      "INFO:lda:<5920> log likelihood: -102760\n",
      "INFO:lda:<5930> log likelihood: -102947\n",
      "INFO:lda:<5940> log likelihood: -102722\n",
      "INFO:lda:<5950> log likelihood: -102729\n",
      "INFO:lda:<5960> log likelihood: -102928\n",
      "INFO:lda:<5970> log likelihood: -102552\n",
      "INFO:lda:<5980> log likelihood: -103116\n",
      "INFO:lda:<5990> log likelihood: -103033\n",
      "INFO:lda:<6000> log likelihood: -102924\n",
      "INFO:lda:<6010> log likelihood: -102748\n",
      "INFO:lda:<6020> log likelihood: -102778\n",
      "INFO:lda:<6030> log likelihood: -102906\n",
      "INFO:lda:<6040> log likelihood: -102611\n",
      "INFO:lda:<6050> log likelihood: -102765\n",
      "INFO:lda:<6060> log likelihood: -102835\n",
      "INFO:lda:<6070> log likelihood: -103024\n",
      "INFO:lda:<6080> log likelihood: -103042\n",
      "INFO:lda:<6090> log likelihood: -103157\n",
      "INFO:lda:<6100> log likelihood: -103029\n",
      "INFO:lda:<6110> log likelihood: -102793\n",
      "INFO:lda:<6120> log likelihood: -102793\n",
      "INFO:lda:<6130> log likelihood: -103060\n",
      "INFO:lda:<6140> log likelihood: -102762\n"
     ]
    },
    {
     "name": "stderr",
     "output_type": "stream",
     "text": [
      "INFO:lda:<6150> log likelihood: -102761\n",
      "INFO:lda:<6160> log likelihood: -102743\n",
      "INFO:lda:<6170> log likelihood: -102958\n",
      "INFO:lda:<6180> log likelihood: -102803\n",
      "INFO:lda:<6190> log likelihood: -102758\n",
      "INFO:lda:<6200> log likelihood: -102756\n",
      "INFO:lda:<6210> log likelihood: -102684\n",
      "INFO:lda:<6220> log likelihood: -102763\n",
      "INFO:lda:<6230> log likelihood: -102819\n",
      "INFO:lda:<6240> log likelihood: -102807\n",
      "INFO:lda:<6250> log likelihood: -102996\n",
      "INFO:lda:<6260> log likelihood: -102997\n",
      "INFO:lda:<6270> log likelihood: -102748\n",
      "INFO:lda:<6280> log likelihood: -102988\n",
      "INFO:lda:<6290> log likelihood: -102947\n",
      "INFO:lda:<6300> log likelihood: -102882\n",
      "INFO:lda:<6310> log likelihood: -102824\n",
      "INFO:lda:<6320> log likelihood: -102750\n",
      "INFO:lda:<6330> log likelihood: -102968\n",
      "INFO:lda:<6340> log likelihood: -102836\n",
      "INFO:lda:<6350> log likelihood: -102740\n",
      "INFO:lda:<6360> log likelihood: -102905\n",
      "INFO:lda:<6370> log likelihood: -102859\n",
      "INFO:lda:<6380> log likelihood: -103029\n",
      "INFO:lda:<6390> log likelihood: -102984\n",
      "INFO:lda:<6400> log likelihood: -102968\n",
      "INFO:lda:<6410> log likelihood: -102857\n",
      "INFO:lda:<6420> log likelihood: -102812\n",
      "INFO:lda:<6430> log likelihood: -102718\n",
      "INFO:lda:<6440> log likelihood: -102960\n",
      "INFO:lda:<6450> log likelihood: -103075\n",
      "INFO:lda:<6460> log likelihood: -102955\n",
      "INFO:lda:<6470> log likelihood: -103083\n",
      "INFO:lda:<6480> log likelihood: -103106\n",
      "INFO:lda:<6490> log likelihood: -103035\n",
      "INFO:lda:<6500> log likelihood: -103079\n",
      "INFO:lda:<6510> log likelihood: -102877\n",
      "INFO:lda:<6520> log likelihood: -102673\n",
      "INFO:lda:<6530> log likelihood: -102775\n",
      "INFO:lda:<6540> log likelihood: -103032\n",
      "INFO:lda:<6550> log likelihood: -103263\n",
      "INFO:lda:<6560> log likelihood: -103193\n",
      "INFO:lda:<6570> log likelihood: -102865\n",
      "INFO:lda:<6580> log likelihood: -102984\n",
      "INFO:lda:<6590> log likelihood: -102885\n",
      "INFO:lda:<6600> log likelihood: -102759\n",
      "INFO:lda:<6610> log likelihood: -102858\n",
      "INFO:lda:<6620> log likelihood: -102861\n",
      "INFO:lda:<6630> log likelihood: -103054\n",
      "INFO:lda:<6640> log likelihood: -102840\n",
      "INFO:lda:<6650> log likelihood: -102757\n",
      "INFO:lda:<6660> log likelihood: -102948\n",
      "INFO:lda:<6670> log likelihood: -103016\n",
      "INFO:lda:<6680> log likelihood: -103074\n",
      "INFO:lda:<6690> log likelihood: -103038\n",
      "INFO:lda:<6700> log likelihood: -102903\n",
      "INFO:lda:<6710> log likelihood: -102827\n",
      "INFO:lda:<6720> log likelihood: -102709\n",
      "INFO:lda:<6730> log likelihood: -102910\n",
      "INFO:lda:<6740> log likelihood: -102690\n",
      "INFO:lda:<6750> log likelihood: -102914\n",
      "INFO:lda:<6760> log likelihood: -102752\n",
      "INFO:lda:<6770> log likelihood: -103079\n",
      "INFO:lda:<6780> log likelihood: -102745\n",
      "INFO:lda:<6790> log likelihood: -102795\n",
      "INFO:lda:<6800> log likelihood: -102787\n",
      "INFO:lda:<6810> log likelihood: -102666\n",
      "INFO:lda:<6820> log likelihood: -102719\n",
      "INFO:lda:<6830> log likelihood: -102862\n",
      "INFO:lda:<6840> log likelihood: -102793\n",
      "INFO:lda:<6850> log likelihood: -102829\n",
      "INFO:lda:<6860> log likelihood: -102679\n",
      "INFO:lda:<6870> log likelihood: -102715\n",
      "INFO:lda:<6880> log likelihood: -102973\n",
      "INFO:lda:<6890> log likelihood: -103106\n",
      "INFO:lda:<6900> log likelihood: -102992\n",
      "INFO:lda:<6910> log likelihood: -102919\n",
      "INFO:lda:<6920> log likelihood: -102900\n",
      "INFO:lda:<6930> log likelihood: -102909\n",
      "INFO:lda:<6940> log likelihood: -102808\n",
      "INFO:lda:<6950> log likelihood: -103002\n",
      "INFO:lda:<6960> log likelihood: -102924\n",
      "INFO:lda:<6970> log likelihood: -103175\n",
      "INFO:lda:<6980> log likelihood: -103071\n",
      "INFO:lda:<6990> log likelihood: -103045\n",
      "INFO:lda:<7000> log likelihood: -102886\n",
      "INFO:lda:<7010> log likelihood: -102976\n",
      "INFO:lda:<7020> log likelihood: -102730\n",
      "INFO:lda:<7030> log likelihood: -103179\n",
      "INFO:lda:<7040> log likelihood: -102894\n",
      "INFO:lda:<7050> log likelihood: -102767\n",
      "INFO:lda:<7060> log likelihood: -102533\n",
      "INFO:lda:<7070> log likelihood: -102975\n",
      "INFO:lda:<7080> log likelihood: -103116\n",
      "INFO:lda:<7090> log likelihood: -102903\n",
      "INFO:lda:<7100> log likelihood: -103006\n",
      "INFO:lda:<7110> log likelihood: -102926\n",
      "INFO:lda:<7120> log likelihood: -102713\n",
      "INFO:lda:<7130> log likelihood: -102947\n",
      "INFO:lda:<7140> log likelihood: -102862\n",
      "INFO:lda:<7150> log likelihood: -103020\n",
      "INFO:lda:<7160> log likelihood: -103092\n",
      "INFO:lda:<7170> log likelihood: -102841\n",
      "INFO:lda:<7180> log likelihood: -102819\n",
      "INFO:lda:<7190> log likelihood: -102909\n",
      "INFO:lda:<7200> log likelihood: -102732\n",
      "INFO:lda:<7210> log likelihood: -103000\n",
      "INFO:lda:<7220> log likelihood: -102873\n",
      "INFO:lda:<7230> log likelihood: -102784\n",
      "INFO:lda:<7240> log likelihood: -102698\n",
      "INFO:lda:<7250> log likelihood: -102854\n",
      "INFO:lda:<7260> log likelihood: -103174\n",
      "INFO:lda:<7270> log likelihood: -103100\n",
      "INFO:lda:<7280> log likelihood: -102982\n",
      "INFO:lda:<7290> log likelihood: -102830\n",
      "INFO:lda:<7300> log likelihood: -102979\n",
      "INFO:lda:<7310> log likelihood: -102743\n",
      "INFO:lda:<7320> log likelihood: -102966\n",
      "INFO:lda:<7330> log likelihood: -102888\n",
      "INFO:lda:<7340> log likelihood: -102839\n",
      "INFO:lda:<7350> log likelihood: -102794\n",
      "INFO:lda:<7360> log likelihood: -102929\n",
      "INFO:lda:<7370> log likelihood: -102844\n",
      "INFO:lda:<7380> log likelihood: -102596\n",
      "INFO:lda:<7390> log likelihood: -102797\n",
      "INFO:lda:<7400> log likelihood: -102778\n",
      "INFO:lda:<7410> log likelihood: -102870\n",
      "INFO:lda:<7420> log likelihood: -102948\n",
      "INFO:lda:<7430> log likelihood: -102822\n",
      "INFO:lda:<7440> log likelihood: -102650\n",
      "INFO:lda:<7450> log likelihood: -102874\n",
      "INFO:lda:<7460> log likelihood: -103006\n",
      "INFO:lda:<7470> log likelihood: -102618\n",
      "INFO:lda:<7480> log likelihood: -102971\n",
      "INFO:lda:<7490> log likelihood: -103099\n",
      "INFO:lda:<7500> log likelihood: -102913\n",
      "INFO:lda:<7510> log likelihood: -102866\n",
      "INFO:lda:<7520> log likelihood: -102787\n",
      "INFO:lda:<7530> log likelihood: -102712\n",
      "INFO:lda:<7540> log likelihood: -102910\n",
      "INFO:lda:<7550> log likelihood: -103026\n",
      "INFO:lda:<7560> log likelihood: -102807\n",
      "INFO:lda:<7570> log likelihood: -103220\n",
      "INFO:lda:<7580> log likelihood: -103042\n",
      "INFO:lda:<7590> log likelihood: -102984\n",
      "INFO:lda:<7600> log likelihood: -103176\n",
      "INFO:lda:<7610> log likelihood: -102949\n",
      "INFO:lda:<7620> log likelihood: -103068\n",
      "INFO:lda:<7630> log likelihood: -103098\n",
      "INFO:lda:<7640> log likelihood: -102767\n",
      "INFO:lda:<7650> log likelihood: -102964\n",
      "INFO:lda:<7660> log likelihood: -103072\n",
      "INFO:lda:<7670> log likelihood: -102725\n",
      "INFO:lda:<7680> log likelihood: -102808\n",
      "INFO:lda:<7690> log likelihood: -103168\n",
      "INFO:lda:<7700> log likelihood: -103002\n",
      "INFO:lda:<7710> log likelihood: -103015\n",
      "INFO:lda:<7720> log likelihood: -102906\n",
      "INFO:lda:<7730> log likelihood: -102870\n",
      "INFO:lda:<7740> log likelihood: -102954\n",
      "INFO:lda:<7750> log likelihood: -102835\n",
      "INFO:lda:<7760> log likelihood: -102977\n",
      "INFO:lda:<7770> log likelihood: -102851\n",
      "INFO:lda:<7780> log likelihood: -102813\n",
      "INFO:lda:<7790> log likelihood: -102968\n",
      "INFO:lda:<7800> log likelihood: -102897\n",
      "INFO:lda:<7810> log likelihood: -102666\n",
      "INFO:lda:<7820> log likelihood: -102785\n",
      "INFO:lda:<7830> log likelihood: -102781\n",
      "INFO:lda:<7840> log likelihood: -102783\n",
      "INFO:lda:<7850> log likelihood: -102739\n",
      "INFO:lda:<7860> log likelihood: -102731\n",
      "INFO:lda:<7870> log likelihood: -102869\n",
      "INFO:lda:<7880> log likelihood: -102920\n",
      "INFO:lda:<7890> log likelihood: -103055\n",
      "INFO:lda:<7900> log likelihood: -102775\n",
      "INFO:lda:<7910> log likelihood: -103171\n",
      "INFO:lda:<7920> log likelihood: -102732\n",
      "INFO:lda:<7930> log likelihood: -102771\n",
      "INFO:lda:<7940> log likelihood: -102903\n",
      "INFO:lda:<7950> log likelihood: -102888\n",
      "INFO:lda:<7960> log likelihood: -102795\n",
      "INFO:lda:<7970> log likelihood: -102962\n",
      "INFO:lda:<7980> log likelihood: -102802\n",
      "INFO:lda:<7990> log likelihood: -102956\n",
      "INFO:lda:<8000> log likelihood: -102714\n",
      "INFO:lda:<8010> log likelihood: -102726\n",
      "INFO:lda:<8020> log likelihood: -102793\n",
      "INFO:lda:<8030> log likelihood: -102619\n",
      "INFO:lda:<8040> log likelihood: -102488\n",
      "INFO:lda:<8050> log likelihood: -102854\n",
      "INFO:lda:<8060> log likelihood: -102793\n",
      "INFO:lda:<8070> log likelihood: -102780\n",
      "INFO:lda:<8080> log likelihood: -102981\n",
      "INFO:lda:<8090> log likelihood: -103144\n",
      "INFO:lda:<8100> log likelihood: -102884\n",
      "INFO:lda:<8110> log likelihood: -102867\n",
      "INFO:lda:<8120> log likelihood: -102685\n",
      "INFO:lda:<8130> log likelihood: -102938\n",
      "INFO:lda:<8140> log likelihood: -103125\n",
      "INFO:lda:<8150> log likelihood: -102842\n",
      "INFO:lda:<8160> log likelihood: -103072\n",
      "INFO:lda:<8170> log likelihood: -102930\n",
      "INFO:lda:<8180> log likelihood: -103191\n",
      "INFO:lda:<8190> log likelihood: -102877\n"
     ]
    },
    {
     "name": "stderr",
     "output_type": "stream",
     "text": [
      "INFO:lda:<8200> log likelihood: -102739\n",
      "INFO:lda:<8210> log likelihood: -103119\n",
      "INFO:lda:<8220> log likelihood: -102825\n",
      "INFO:lda:<8230> log likelihood: -102789\n",
      "INFO:lda:<8240> log likelihood: -102804\n",
      "INFO:lda:<8250> log likelihood: -102807\n",
      "INFO:lda:<8260> log likelihood: -102552\n",
      "INFO:lda:<8270> log likelihood: -102755\n",
      "INFO:lda:<8280> log likelihood: -102758\n",
      "INFO:lda:<8290> log likelihood: -102841\n",
      "INFO:lda:<8300> log likelihood: -103050\n",
      "INFO:lda:<8310> log likelihood: -102769\n",
      "INFO:lda:<8320> log likelihood: -102664\n",
      "INFO:lda:<8330> log likelihood: -102738\n",
      "INFO:lda:<8340> log likelihood: -102918\n",
      "INFO:lda:<8350> log likelihood: -103085\n",
      "INFO:lda:<8360> log likelihood: -102996\n",
      "INFO:lda:<8370> log likelihood: -102784\n",
      "INFO:lda:<8380> log likelihood: -102964\n",
      "INFO:lda:<8390> log likelihood: -102810\n",
      "INFO:lda:<8400> log likelihood: -103032\n",
      "INFO:lda:<8410> log likelihood: -102794\n",
      "INFO:lda:<8420> log likelihood: -102650\n",
      "INFO:lda:<8430> log likelihood: -102797\n",
      "INFO:lda:<8440> log likelihood: -103019\n",
      "INFO:lda:<8450> log likelihood: -102870\n",
      "INFO:lda:<8460> log likelihood: -102787\n",
      "INFO:lda:<8470> log likelihood: -102768\n",
      "INFO:lda:<8480> log likelihood: -102645\n",
      "INFO:lda:<8490> log likelihood: -102716\n",
      "INFO:lda:<8500> log likelihood: -102956\n",
      "INFO:lda:<8510> log likelihood: -102944\n",
      "INFO:lda:<8520> log likelihood: -103089\n",
      "INFO:lda:<8530> log likelihood: -102899\n",
      "INFO:lda:<8540> log likelihood: -102798\n",
      "INFO:lda:<8550> log likelihood: -102764\n",
      "INFO:lda:<8560> log likelihood: -102955\n",
      "INFO:lda:<8570> log likelihood: -102810\n",
      "INFO:lda:<8580> log likelihood: -103108\n",
      "INFO:lda:<8590> log likelihood: -103012\n",
      "INFO:lda:<8600> log likelihood: -102966\n",
      "INFO:lda:<8610> log likelihood: -102939\n",
      "INFO:lda:<8620> log likelihood: -102917\n",
      "INFO:lda:<8630> log likelihood: -102682\n",
      "INFO:lda:<8640> log likelihood: -102831\n",
      "INFO:lda:<8650> log likelihood: -102776\n",
      "INFO:lda:<8660> log likelihood: -102781\n",
      "INFO:lda:<8670> log likelihood: -103006\n",
      "INFO:lda:<8680> log likelihood: -102946\n",
      "INFO:lda:<8690> log likelihood: -102729\n",
      "INFO:lda:<8700> log likelihood: -102846\n",
      "INFO:lda:<8710> log likelihood: -103004\n",
      "INFO:lda:<8720> log likelihood: -103036\n",
      "INFO:lda:<8730> log likelihood: -103272\n",
      "INFO:lda:<8740> log likelihood: -102907\n",
      "INFO:lda:<8750> log likelihood: -102944\n",
      "INFO:lda:<8760> log likelihood: -103039\n",
      "INFO:lda:<8770> log likelihood: -102975\n",
      "INFO:lda:<8780> log likelihood: -102850\n",
      "INFO:lda:<8790> log likelihood: -102789\n",
      "INFO:lda:<8800> log likelihood: -102874\n",
      "INFO:lda:<8810> log likelihood: -103068\n",
      "INFO:lda:<8820> log likelihood: -103034\n",
      "INFO:lda:<8830> log likelihood: -103012\n",
      "INFO:lda:<8840> log likelihood: -102910\n",
      "INFO:lda:<8850> log likelihood: -102884\n",
      "INFO:lda:<8860> log likelihood: -102786\n",
      "INFO:lda:<8870> log likelihood: -102655\n",
      "INFO:lda:<8880> log likelihood: -102981\n",
      "INFO:lda:<8890> log likelihood: -102654\n",
      "INFO:lda:<8900> log likelihood: -103000\n",
      "INFO:lda:<8910> log likelihood: -103040\n",
      "INFO:lda:<8920> log likelihood: -102917\n",
      "INFO:lda:<8930> log likelihood: -102884\n",
      "INFO:lda:<8940> log likelihood: -102912\n",
      "INFO:lda:<8950> log likelihood: -102905\n",
      "INFO:lda:<8960> log likelihood: -103107\n",
      "INFO:lda:<8970> log likelihood: -102944\n",
      "INFO:lda:<8980> log likelihood: -102936\n",
      "INFO:lda:<8990> log likelihood: -102816\n",
      "INFO:lda:<9000> log likelihood: -103015\n",
      "INFO:lda:<9010> log likelihood: -102886\n",
      "INFO:lda:<9020> log likelihood: -102806\n",
      "INFO:lda:<9030> log likelihood: -102750\n",
      "INFO:lda:<9040> log likelihood: -102797\n",
      "INFO:lda:<9050> log likelihood: -102792\n",
      "INFO:lda:<9060> log likelihood: -102814\n",
      "INFO:lda:<9070> log likelihood: -102932\n",
      "INFO:lda:<9080> log likelihood: -102666\n",
      "INFO:lda:<9090> log likelihood: -102865\n",
      "INFO:lda:<9100> log likelihood: -102887\n",
      "INFO:lda:<9110> log likelihood: -102858\n",
      "INFO:lda:<9120> log likelihood: -102851\n",
      "INFO:lda:<9130> log likelihood: -102663\n",
      "INFO:lda:<9140> log likelihood: -102918\n",
      "INFO:lda:<9150> log likelihood: -102779\n",
      "INFO:lda:<9160> log likelihood: -103173\n",
      "INFO:lda:<9170> log likelihood: -103058\n",
      "INFO:lda:<9180> log likelihood: -102743\n",
      "INFO:lda:<9190> log likelihood: -103063\n",
      "INFO:lda:<9200> log likelihood: -102895\n",
      "INFO:lda:<9210> log likelihood: -102983\n",
      "INFO:lda:<9220> log likelihood: -103001\n",
      "INFO:lda:<9230> log likelihood: -102999\n",
      "INFO:lda:<9240> log likelihood: -102848\n",
      "INFO:lda:<9250> log likelihood: -102918\n",
      "INFO:lda:<9260> log likelihood: -102892\n",
      "INFO:lda:<9270> log likelihood: -102864\n",
      "INFO:lda:<9280> log likelihood: -102865\n",
      "INFO:lda:<9290> log likelihood: -102966\n",
      "INFO:lda:<9300> log likelihood: -102655\n",
      "INFO:lda:<9310> log likelihood: -102796\n",
      "INFO:lda:<9320> log likelihood: -102911\n",
      "INFO:lda:<9330> log likelihood: -102813\n",
      "INFO:lda:<9340> log likelihood: -102810\n",
      "INFO:lda:<9350> log likelihood: -102817\n",
      "INFO:lda:<9360> log likelihood: -102848\n",
      "INFO:lda:<9370> log likelihood: -102816\n",
      "INFO:lda:<9380> log likelihood: -102726\n",
      "INFO:lda:<9390> log likelihood: -102846\n",
      "INFO:lda:<9400> log likelihood: -102900\n",
      "INFO:lda:<9410> log likelihood: -103044\n",
      "INFO:lda:<9420> log likelihood: -102864\n",
      "INFO:lda:<9430> log likelihood: -103140\n",
      "INFO:lda:<9440> log likelihood: -103092\n",
      "INFO:lda:<9450> log likelihood: -102903\n",
      "INFO:lda:<9460> log likelihood: -102936\n",
      "INFO:lda:<9470> log likelihood: -102730\n",
      "INFO:lda:<9480> log likelihood: -102777\n",
      "INFO:lda:<9490> log likelihood: -102741\n",
      "INFO:lda:<9500> log likelihood: -102771\n",
      "INFO:lda:<9510> log likelihood: -102888\n",
      "INFO:lda:<9520> log likelihood: -102921\n",
      "INFO:lda:<9530> log likelihood: -103063\n",
      "INFO:lda:<9540> log likelihood: -102986\n",
      "INFO:lda:<9550> log likelihood: -102930\n",
      "INFO:lda:<9560> log likelihood: -102723\n",
      "INFO:lda:<9570> log likelihood: -102796\n",
      "INFO:lda:<9580> log likelihood: -103017\n",
      "INFO:lda:<9590> log likelihood: -102793\n",
      "INFO:lda:<9600> log likelihood: -103062\n",
      "INFO:lda:<9610> log likelihood: -102814\n",
      "INFO:lda:<9620> log likelihood: -102869\n",
      "INFO:lda:<9630> log likelihood: -102954\n",
      "INFO:lda:<9640> log likelihood: -102886\n",
      "INFO:lda:<9650> log likelihood: -103072\n",
      "INFO:lda:<9660> log likelihood: -102811\n",
      "INFO:lda:<9670> log likelihood: -103122\n",
      "INFO:lda:<9680> log likelihood: -103133\n",
      "INFO:lda:<9690> log likelihood: -102826\n",
      "INFO:lda:<9700> log likelihood: -102567\n",
      "INFO:lda:<9710> log likelihood: -102922\n",
      "INFO:lda:<9720> log likelihood: -102676\n",
      "INFO:lda:<9730> log likelihood: -102458\n",
      "INFO:lda:<9740> log likelihood: -102872\n",
      "INFO:lda:<9750> log likelihood: -103089\n",
      "INFO:lda:<9760> log likelihood: -103029\n",
      "INFO:lda:<9770> log likelihood: -102782\n",
      "INFO:lda:<9780> log likelihood: -102857\n",
      "INFO:lda:<9790> log likelihood: -102787\n",
      "INFO:lda:<9800> log likelihood: -103190\n",
      "INFO:lda:<9810> log likelihood: -102884\n",
      "INFO:lda:<9820> log likelihood: -102773\n",
      "INFO:lda:<9830> log likelihood: -102965\n",
      "INFO:lda:<9840> log likelihood: -102981\n",
      "INFO:lda:<9850> log likelihood: -102944\n",
      "INFO:lda:<9860> log likelihood: -102724\n",
      "INFO:lda:<9870> log likelihood: -102868\n",
      "INFO:lda:<9880> log likelihood: -102837\n",
      "INFO:lda:<9890> log likelihood: -102563\n",
      "INFO:lda:<9900> log likelihood: -102845\n",
      "INFO:lda:<9910> log likelihood: -102825\n",
      "INFO:lda:<9920> log likelihood: -102741\n",
      "INFO:lda:<9930> log likelihood: -102704\n",
      "INFO:lda:<9940> log likelihood: -102684\n",
      "INFO:lda:<9950> log likelihood: -102588\n",
      "INFO:lda:<9960> log likelihood: -102819\n",
      "INFO:lda:<9970> log likelihood: -102933\n",
      "INFO:lda:<9980> log likelihood: -103075\n",
      "INFO:lda:<9990> log likelihood: -102783\n",
      "INFO:lda:<9999> log likelihood: -102857\n"
     ]
    },
    {
     "name": "stdout",
     "output_type": "stream",
     "text": [
      "Topic 0: violencia llamar mapuche dejar tierra unidad pedir araucanía conflicto poblar\n",
      "Topic 1: mujer violencia niño género sexual chile derecho país caso víctima\n",
      "Topic 2: recibir ciudad newsletter chile querer mundo futuro suceder elegir violencia\n",
      "Topic 3: violencia denunciar castaldi hecho mujer valentino camilo grave teta parejo\n",
      "Topic 4: violencia región ley nacional político presentar víctima canal temer personar\n",
      "Topic 5: violencia situación estudiante formar joven escolar personar estudiar físico tipo\n",
      "Topic 6: violencia año denunciar intrafamiliar parejo carabinero delito casar detener víctima\n"
     ]
    }
   ],
   "source": [
    "import lda\n",
    "\n",
    "model = lda.LDA(n_topics = topics, n_iter=10000, alpha=0.1, eta=0.1, random_state=3)\n",
    "model.fit(news_vector_count)  # model.fit_transform(X) is also available\n",
    "\n",
    "topic_word = model.topic_word_  # model.components_ also works\n",
    "\n",
    "n_top_words=10\n",
    "\n",
    "for i, topic_dist in enumerate(topic_word):\n",
    "    \n",
    "    topic_words = np.array(news_vector_features)[np.argsort(topic_dist)][:-(n_top_words+1):-1]\n",
    "    \n",
    "    print('Topic {}: {}'.format(i, ' '.join(topic_words)))"
   ]
  },
  {
   "cell_type": "code",
   "execution_count": 39,
   "metadata": {},
   "outputs": [
    {
     "data": {
      "text/plain": [
       "[<matplotlib.lines.Line2D at 0x7f1f3e39aef0>]"
      ]
     },
     "execution_count": 39,
     "metadata": {},
     "output_type": "execute_result"
    },
    {
     "data": {
      "image/png": "[encoded data removed]",
      "text/plain": [
       "<Figure size 432x288 with 1 Axes>"
      ]
     },
     "metadata": {
      "needs_background": "light"
     },
     "output_type": "display_data"
    }
   ],
   "source": [
    "plt.plot(model.loglikelihoods_[5:])"
   ]
  },
  {
   "cell_type": "markdown",
   "metadata": {},
   "source": [
    "El algoritmo converge ya que se mantiene pendiente constante para valores superiores a 500."
   ]
  },
  {
   "cell_type": "code",
   "execution_count": 40,
   "metadata": {},
   "outputs": [
    {
     "data": {
      "image/png": "[encoded data removed]",
      "text/plain": [
       "<Figure size 432x288 with 1 Axes>"
      ]
     },
     "metadata": {
      "needs_background": "light"
     },
     "output_type": "display_data"
    },
    {
     "data": {
      "image/png": "[encoded data removed]",
      "text/plain": [
       "<Figure size 432x288 with 1 Axes>"
      ]
     },
     "metadata": {
      "needs_background": "light"
     },
     "output_type": "display_data"
    },
    {
     "data": {
      "image/png": "[encoded data removed]",
      "text/plain": [
       "<Figure size 432x288 with 1 Axes>"
      ]
     },
     "metadata": {
      "needs_background": "light"
     },
     "output_type": "display_data"
    },
    {
     "data": {
      "image/png": "[encoded data removed]",
      "text/plain": [
       "<Figure size 432x288 with 1 Axes>"
      ]
     },
     "metadata": {
      "needs_background": "light"
     },
     "output_type": "display_data"
    },
    {
     "data": {
      "image/png": "[encoded data removed]",
      "text/plain": [
       "<Figure size 432x288 with 1 Axes>"
      ]
     },
     "metadata": {
      "needs_background": "light"
     },
     "output_type": "display_data"
    },
    {
     "data": {
      "image/png": "[encoded data removed]",
      "text/plain": [
       "<Figure size 432x288 with 1 Axes>"
      ]
     },
     "metadata": {
      "needs_background": "light"
     },
     "output_type": "display_data"
    },
    {
     "data": {
      "image/png": "[encoded data removed]",
      "text/plain": [
       "<Figure size 432x288 with 1 Axes>"
      ]
     },
     "metadata": {
      "needs_background": "light"
     },
     "output_type": "display_data"
    },
    {
     "data": {
      "image/png": "[encoded data removed]",
      "text/plain": [
       "<Figure size 432x288 with 1 Axes>"
      ]
     },
     "metadata": {
      "needs_background": "light"
     },
     "output_type": "display_data"
    }
   ],
   "source": [
    "#Generando algunos gráficos de los resultados\n",
    "#from matplotlib.pylab import hist, show\n",
    "\n",
    "y = model.doc_topic_\n",
    "#distribución de tópicos en todos los documentos\n",
    "dist = sum(y)/len(news.news)\n",
    "\n",
    "w=np.arange(0,topics)\n",
    "\n",
    "plt.bar(w,height=dist,alpha=0.5,tick_label=w)\n",
    "\n",
    "plt.show()\n",
    "\n",
    "#frecuencia de palabras por tópico\n",
    "n_top_words=15\n",
    "numo =np.arange(0,n_top_words)\n",
    "\n",
    "for idx,topic in enumerate(model.topic_word_):\n",
    "    d =[]\n",
    "    s = []\n",
    "    for i in topic.argsort()[:-n_top_words - 1:-1]:\n",
    "          s.append(news_vector_features[i])\n",
    "          d.append(topic[i])\n",
    "    \n",
    "    plt.barh(numo,width=d,alpha=0.5,tick_label=s)\n",
    "    plt.show()\n",
    "\n"
   ]
  },
  {
   "cell_type": "markdown",
   "metadata": {},
   "source": [
    "De los gráficos de topwords, se infieren los siguientes tópicos:\n",
    "\n",
    "- Topico 0: Violencia y Mapuches.\n",
    "- Tópico 1: Violencia contra la mujer.\n",
    "- Tópico 2: Suscripcioń al medio.\n",
    "- Tópico 3: Episodio de violencia de vocalista de grupo \"Los Tetas\"\n",
    "- Tópico 4: Violencia y Política.\n",
    "- Tópico 5: Violencia Escolar.\n",
    "- Tópico 6: Violencia Intrafamiliar.\n",
    "\n",
    "Respecto a la distribución de tópicos en los documentos, se tiene que los mayores temas  corresponden a:\n",
    "\n",
    "1) Violencia Intrafamiliar.\n",
    "\n",
    "2) Suscripción.\n",
    "\n",
    "3) Violencia y Política."
   ]
  },
  {
   "cell_type": "markdown",
   "metadata": {},
   "source": [
    "### Comparación resultados obtenidos por modelos\n",
    "\n",
    "Respecto al número de clusters se tiene:\n",
    "\n",
    "- K-means: 5 tópicos.\n",
    "- LDA Bayesian: 7 tópicos.\n",
    "- LDA Gibbs: 7 tópicos.\n",
    "\n",
    "Por lo tanto, según los diferentes métodos, cada algoritmo logra identificar diferentes números de tópicos en las noticias.\n",
    "\n",
    "Con respecto a los temas identificados por tópicos, se tiene lo siguiente:\n",
    "\n",
    "- K-means:\n",
    "    \n",
    "    - Tópico 0: Llamado a suscripción al medio\n",
    "    - Tópico 1: Violencia contra la mujer\n",
    "    - Tópico 2: Episodio de violencia de vocalista de grupo \"Los Tetas\"\n",
    "    - Tópico 3: Llamado a suscripción al medio\n",
    "    - Tópico 4: Violencia deportiva en estadios\n",
    "    \n",
    "    \n",
    "- LDA Bayesian:\n",
    "    - Topic 0: Juicio legal asociados a Violencia\n",
    "    - Topic 1: Donald Trump - Asesinato en marcha en USA (Las Vegas).\n",
    "    - Topic 2: Violencia contra la mujer.\n",
    "    - Topic 3: Suscripción al medio.\n",
    "    - Topic 4: Crimen en estadio fubtol.\n",
    "    - Topic 5: Violencia Machismo.\n",
    "    - Topic 6: Violencia y Mapuches.\n",
    "    \n",
    "    \n",
    "- LDA Gibbs:\n",
    "\n",
    "    - Topico 0: Violencia y Mapuches.\n",
    "    - Tópico 1: Violencia contra la mujer.\n",
    "    - Tópico 2: Suscripcioń al medio.\n",
    "    - Tópico 3: Episodio de violencia de vocalista de grupo \"Los Tetas\"\n",
    "    - Tópico 4: Violencia y Política.\n",
    "    - Tópico 5: Violencia Escolar.\n",
    "    - Tópico 6: Violencia Intrafamiliar.\n",
    "\n",
    "Existen varios temas que se repiten, tales como la \"Suscripcion\", \"Violencia contra la mujer\", Episodio de violencia de vocalista de grupo \"Los Tetas\" (sólo en K-means y LDA Gibbs), \"Violencia deportiva en estadios\" (solo en K-means y LDA bayesian), y \"Violencia y Mapuches\" (solo en LDA's). Por lo tanto, dada la similaridad de temas identificados, se concluye que existe semejanza entre los resultados obtenidos.\n",
    "\n",
    "Cabe destacar que para propósitos de esta investigación, se asigna un tópico a cada documento, no considerando la distribución entregada por LDA, la cual es una ventaja sobre K-means y la cual es útil para otras implementaciones.\n",
    "\n",
    "Respecto a la pregunta de investigación sobre que temas se hablaron en los medios para el 2017, se tiene lo siguiente:\n",
    "\n",
    "- K-means: \n",
    "\n",
    "    1) Violencia contra la mujer.\n",
    "    \n",
    "    \n",
    "- LDA Bayesian: \n",
    "\n",
    "    1) Violencia contra la mujer.\n",
    "\n",
    "    2) Suscripción al medio.\n",
    "\n",
    "    3) Violencia y Mapuches\n",
    "    \n",
    "    \n",
    "- LDA Gibbs:\n",
    "\n",
    "    1) Violencia Intrafamiliar.\n",
    "\n",
    "    2) Suscripción.\n",
    "\n",
    "    3) Violencia y Política.\n",
    "    \n",
    "De los cuales, se tiene que para los 2 primeros modelos, el tema principal corresponde a \"Violencia contra la mujer\", luego, para la comparacion de LDA's, se tiene que ambos poseen la misma prioridad para \"Suscripción al medio\". Finalmente, para el caso de violencia y mapuches y política existen diferencias.\n",
    "\n",
    "Con respecto a la 2 pregunta de investigación (Tópicos expuestos por los 5 mayores medios), sólo se analiza utilizando LDA Bayesian, ya que la división de tópicos fué mas clara para el analista autor de esta investigación. Los resultados corresponden a:\n",
    "\n",
    "- Bio Bio: Violencia contra la mujer.\n",
    "- El Desconcierto: Violencia contra la mujer.\n",
    "- Mercurio Valpo: Suscripción.\n",
    "- ADN Radio: Crimen Estadio de Futbol, Violencia contra la mujer.\n",
    "- La Tercera: Violencia contra la mujer, Asesinato en USA (Las Vegas).\n"
   ]
  }
 ],
 "metadata": {
  "kernelspec": {
   "display_name": "Python 3",
   "language": "python",
   "name": "python3"
  },
  "language_info": {
   "codemirror_mode": {
    "name": "ipython",
    "version": 3
   },
   "file_extension": ".py",
   "mimetype": "text/x-python",
   "name": "python",
   "nbconvert_exporter": "python",
   "pygments_lexer": "ipython3",
   "version": "3.5.2"
  }
 },
 "nbformat": 4,
 "nbformat_minor": 2
}
