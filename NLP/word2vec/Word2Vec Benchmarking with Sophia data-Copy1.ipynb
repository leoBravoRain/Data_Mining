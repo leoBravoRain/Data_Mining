{
 "cells": [
  {
   "cell_type": "markdown",
   "metadata": {},
   "source": [
    "#### Analisis\n",
    "Entrenar un modelo Word2Vec para el español. Se puede utilizar agrupar datasets de \"Sophia\" en un solo dataset grande.\n",
    "\n",
    "Entrenar distintos modelos de clasificación de textos, utilizando Word2Vec y sin utilizar Word2Vec, para resolver el problema de clasificación siguiente: reconocer automáticamente el medio qlas noticias según el nombre del medio."
   ]
  },
  {
   "cell_type": "code",
   "execution_count": 9,
   "metadata": {},
   "outputs": [],
   "source": [
    "from gensim.models import word2vec\n",
    "from IPython.display import display, HTML\n",
    "import pandas as pd\n",
    "from sklearn.feature_extraction.text import CountVectorizer, TfidfVectorizer\n",
    "from sklearn.pipeline import Pipeline\n",
    "from sklearn.linear_model import LogisticRegression # Log classifier\n",
    "from sklearn.model_selection import train_test_split # Split in train/test\n",
    "from sklearn import metrics\n",
    "import matplotlib.pyplot as plt\n",
    "import gensim \n",
    "import numpy as np\n",
    "import spacy\n",
    "from sklearn.model_selection import StratifiedShuffleSplit # for split data (train/test)\n",
    "from stop_words import get_stop_words # stop words\n",
    "from sklearn.ensemble import ExtraTreesClassifier\n",
    "from sklearn.neural_network import MLPClassifier # MLP NN\n",
    "from sklearn import svm # support vector machine"
   ]
  },
  {
   "cell_type": "code",
   "execution_count": 10,
   "metadata": {},
   "outputs": [
    {
     "name": "stdout",
     "output_type": "stream",
     "text": [
      "(200, 2)\n"
     ]
    },
    {
     "data": {
      "text/html": [
       "<div>\n",
       "<style scoped>\n",
       "    .dataframe tbody tr th:only-of-type {\n",
       "        vertical-align: middle;\n",
       "    }\n",
       "\n",
       "    .dataframe tbody tr th {\n",
       "        vertical-align: top;\n",
       "    }\n",
       "\n",
       "    .dataframe thead th {\n",
       "        text-align: right;\n",
       "    }\n",
       "</style>\n",
       "<table border=\"1\" class=\"dataframe\">\n",
       "  <thead>\n",
       "    <tr style=\"text-align: right;\">\n",
       "      <th></th>\n",
       "      <th>report</th>\n",
       "      <th>company</th>\n",
       "    </tr>\n",
       "  </thead>\n",
       "  <tbody>\n",
       "    <tr>\n",
       "      <th>0</th>\n",
       "      <td>Detectamos que JavaScript está desactivado en...</td>\n",
       "      <td>1</td>\n",
       "    </tr>\n",
       "    <tr>\n",
       "      <th>1</th>\n",
       "      <td>Detectamos que JavaScript está desactivado en...</td>\n",
       "      <td>1</td>\n",
       "    </tr>\n",
       "    <tr>\n",
       "      <th>2</th>\n",
       "      <td>Detectamos que JavaScript está desactivado en...</td>\n",
       "      <td>1</td>\n",
       "    </tr>\n",
       "    <tr>\n",
       "      <th>3</th>\n",
       "      <td>Para los diputados, el informe de auditoría q...</td>\n",
       "      <td>1</td>\n",
       "    </tr>\n",
       "    <tr>\n",
       "      <th>4</th>\n",
       "      <td>Ayer se concretó el cierre del primer Centro ...</td>\n",
       "      <td>1</td>\n",
       "    </tr>\n",
       "  </tbody>\n",
       "</table>\n",
       "</div>"
      ],
      "text/plain": [
       "                                              report  company\n",
       "0   Detectamos que JavaScript está desactivado en...        1\n",
       "1   Detectamos que JavaScript está desactivado en...        1\n",
       "2   Detectamos que JavaScript está desactivado en...        1\n",
       "3   Para los diputados, el informe de auditoría q...        1\n",
       "4   Ayer se concretó el cierre del primer Centro ...        1"
      ]
     },
     "execution_count": 10,
     "metadata": {},
     "output_type": "execute_result"
    }
   ],
   "source": [
    "# Analize data\n",
    "df = pd.read_csv('dataset-cuarta_vs_tercera.csv', sep = '|', header = None)\n",
    "\n",
    "# Get news and medium\n",
    "df = df.iloc[:,[1,3]]\n",
    "\n",
    "# display(df.iloc[1,1])\n",
    "\n",
    "# Get dummies variables\n",
    "dummies = pd.get_dummies(df[1], drop_first = True)\n",
    "df = pd.concat([df, dummies], axis=1)      \n",
    "df.drop([1], inplace=True, axis=1)\n",
    "\n",
    "# Add names\n",
    "df.columns = ['report', 'company']\n",
    "\n",
    "# company:\n",
    "# 0: La cuarta\n",
    "# 1: La tercera\n",
    "\n",
    "print(df.shape)\n",
    "df.head()"
   ]
  },
  {
   "cell_type": "code",
   "execution_count": 11,
   "metadata": {},
   "outputs": [
    {
     "data": {
      "text/plain": [
       "(array([  0.,   0.,   0.,   0.,   0., 100.,   0.,   0.,   0.,   0.]),\n",
       " array([0.5, 0.6, 0.7, 0.8, 0.9, 1. , 1.1, 1.2, 1.3, 1.4, 1.5]),\n",
       " <a list of 10 Patch objects>)"
      ]
     },
     "execution_count": 11,
     "metadata": {},
     "output_type": "execute_result"
    },
    {
     "data": {
      "image/png": "[encoded data removed]",
      "text/plain": [
       "<Figure size 432x288 with 1 Axes>"
      ]
     },
     "metadata": {
      "needs_background": "light"
     },
     "output_type": "display_data"
    }
   ],
   "source": [
    "# Distribution of labels\n",
    "fig, ax = plt.subplots()\n",
    "\n",
    "# plot hist\n",
    "ax.hist(df.loc[df['company'] == 0, 'company'], bins = 10)\n",
    "ax.hist(df.loc[df['company'] == 1, 'company'], bins = 10)"
   ]
  },
  {
   "cell_type": "markdown",
   "metadata": {},
   "source": [
    "Del gráfico anterior se tiene que las clases estan balanceadas."
   ]
  },
  {
   "cell_type": "code",
   "execution_count": 12,
   "metadata": {},
   "outputs": [],
   "source": [
    "# Tokenizer\n",
    "\n",
    "# Define own tokenizer\n",
    "\n",
    "nlp = spacy.load('es_core_news_sm')\n",
    "\n",
    "def own_tokenizer(sentence):\n",
    "    \n",
    "    tokens = []\n",
    "    \n",
    "    doc = nlp(sentence.lower().strip())\n",
    "    \n",
    "    for token in doc:\n",
    "        \n",
    "        # Filtering\n",
    "        if not token.is_space and not token.is_stop and not token.is_punct and not token.is_digit and not token.like_num:\n",
    "            \n",
    "            # add token to list in lemma form\n",
    "            tokens.append(token.lemma_)\n",
    "            \n",
    "    return tokens"
   ]
  },
  {
   "cell_type": "code",
   "execution_count": 13,
   "metadata": {},
   "outputs": [],
   "source": [
    "# Stop words (not has information)\n",
    "stop_words = ['a','e','i','o','u',' ','  ','   ','  ','$','  ','y', '-', 'q','c', 'nna', 'e', 'l', '=', '<', '>','x','href','/',\n",
    "             'JavaScript', 'navegador', '¿', 'Twitter', 'Tweets', 'web', 'URL']\n",
    "\n",
    "# using stop words from library\n",
    "stop_words_lib = get_stop_words('spanish')\n",
    "\n",
    "# joining stop words\n",
    "stop_words = stop_words + stop_words_lib"
   ]
  },
  {
   "cell_type": "code",
   "execution_count": 14,
   "metadata": {},
   "outputs": [],
   "source": [
    "# Vectorizer\n",
    "\n",
    "# Bag of words\n",
    "bow_vector = CountVectorizer(tokenizer = own_tokenizer, ngram_range = (1,1))\n",
    "\n",
    "# TFIDF\n",
    "tfidf_vector = TfidfVectorizer(tokenizer = own_tokenizer, ngram_range = (1,1))"
   ]
  },
  {
   "cell_type": "code",
   "execution_count": 30,
   "metadata": {},
   "outputs": [],
   "source": [
    "# Get data\n",
    "X = df['report'] # the features we want to analyze\n",
    "y = df['company'] # the labels, or answers, we want to test against\n",
    "\n",
    "# Split data in trainig and testing\n",
    "# X_train, X_test, y_train, y_test = train_test_split(X, y, test_size=0.7)\n",
    "\n",
    "# Create split data\n",
    "sss = StratifiedShuffleSplit(n_splits= 1, test_size=0.3, random_state=0)\n",
    "\n",
    "# Generate index for splitting data\n",
    "# It get index first becuase it needs the index for word2vec implementation (and this is another implemenation)\n",
    "for train_index, test_index in sss.split(X, y):\n",
    "    \n",
    "    # Get index\n",
    "    train_id_list = train_index\n",
    "    test_id_list = test_index\n",
    "\n",
    "# Split data\n",
    "X_train, X_test = X[train_id_list], X[test_id_list]\n",
    "y_train, y_test = y[train_id_list], y[test_id_list]"
   ]
  },
  {
   "cell_type": "code",
   "execution_count": 31,
   "metadata": {},
   "outputs": [],
   "source": [
    "# Bag of words\n",
    "\n",
    "# Create pipeline using logistic regression\n",
    "pipe_bow_log = Pipeline([('bow vectorizer', bow_vector),\n",
    "                 ('logistic regression', LogisticRegression(solver = 'lbfgs'))])\n",
    "\n",
    "# Using extra trees classifier (it's base in decision tree (It's like a forest))\n",
    "pipe_bow_extra_trees = Pipeline([\n",
    "    (\"bow vectorizer\", bow_vector),\n",
    "    (\"extra trees\", ExtraTreesClassifier(n_estimators=200))])\n",
    "\n",
    "# using MLP\n",
    "pipe_bow_MLP = Pipeline([\n",
    "    (\"bow vectorizer\", bow_vector),\n",
    "    (\"MLP\", MLPClassifier(solver='lbfgs', alpha=1e-5, hidden_layer_sizes=(1000, 2), random_state=1))\n",
    "])\n",
    "\n",
    "# Using SVM\n",
    "pipe_bow_SVM = Pipeline([\n",
    "    (\"bow vectorizer\", bow_vector),\n",
    "    (\"SVM\", svm.SVC(gamma='scale'))\n",
    "])\n",
    "\n",
    "# TFIDF\n",
    "\n",
    "# log reg using tfidf\n",
    "pipe_tfidf_log = Pipeline([('tfidf vectorizer', tfidf_vector),\n",
    "                 ('logistic regression', LogisticRegression(solver = 'lbfgs'))])\n",
    "\n",
    "# Using extra trees classifier (it's base in decision tree (It's like a forest))\n",
    "pipe_tfidf_extra_trees = Pipeline([\n",
    "    (\"tfidf vectorizer\", tfidf_vector),\n",
    "    (\"extra trees\", ExtraTreesClassifier(n_estimators=200))])\n",
    "\n",
    "# using MLP\n",
    "pipe_tfidf_MLP = Pipeline([\n",
    "    (\"tfidf vectorizer\", tfidf_vector),\n",
    "    (\"MLP\", MLPClassifier(solver='lbfgs', alpha=1e-5, hidden_layer_sizes=(1000, 2), random_state=1))\n",
    "])\n",
    "\n",
    "# Using SVM\n",
    "pipe_tfidf_SVM = Pipeline([\n",
    "    (\"tfidf vectorizer\", tfidf_vector),\n",
    "    (\"SVM\", svm.SVC(gamma='scale'))\n",
    "])\n",
    "\n",
    "\n",
    "# LIST OF MODELS\n",
    "\n",
    "# list of models\n",
    "models_bow_tfidf = [\n",
    "    ('bow + log reg', pipe_bow_log),\n",
    "    ('bow + ext_tree', pipe_bow_extra_trees),\n",
    "    ('bow + MLP', pipe_bow_MLP),\n",
    "    ('bow + SVM', pipe_bow_SVM),\n",
    "    \n",
    "    ('tfidf + log reg', pipe_tfidf_log),\n",
    "    ('tfidf + ext_tree', pipe_tfidf_extra_trees),\n",
    "    ('tfidf + MLP', pipe_tfidf_MLP),\n",
    "    ('tfidf + SVM', pipe_tfidf_SVM)\n",
    "    \n",
    "]"
   ]
  },
  {
   "cell_type": "code",
   "execution_count": null,
   "metadata": {},
   "outputs": [
    {
     "name": "stdout",
     "output_type": "stream",
     "text": [
      "bow + log reg\n",
      "train size:  2\n",
      "train size:  49\n",
      "train size:  96\n"
     ]
    }
   ],
   "source": [
    "# store score of each model\n",
    "scores = []\n",
    "\n",
    "# differents size of training examples\n",
    "num_train = np.linspace(start = 2, stop = y.size - 10, num = 5).astype(int)\n",
    "\n",
    "# iterate through each model of bow and tfidf\n",
    "for name, model in models_bow_tfidf:\n",
    "    \n",
    "    # restart scores for each model\n",
    "    score = []\n",
    "    \n",
    "    print(name)\n",
    "    \n",
    "    # iterate over each train size\n",
    "    for train_size in num_train:\n",
    "        \n",
    "        print('train size: ', train_size)\n",
    "        \n",
    "        test_size = 1 - (train_size / float(len(y)))\n",
    "        \n",
    "        sp = StratifiedShuffleSplit(n_splits=1, test_size = test_size)\n",
    "        \n",
    "        sp.get_n_splits(X, y)\n",
    "        \n",
    "        for train, test in sp.split(X, y):\n",
    "            \n",
    "            X_train, X_test = X[train], X[test]\n",
    "            y_train, y_test = y[train], y[test]\n",
    "            \n",
    "            acc = (metrics.accuracy_score(model.fit(X_train, y_train).predict(X_test), y_test))\n",
    "            \n",
    "            score.append(acc)\n",
    "    \n",
    "    # add scores to list\n",
    "    scores.append({\n",
    "        'name': name,\n",
    "        'accuracy': score\n",
    "    })\n",
    "    \n",
    "    \n",
    "scores"
   ]
  },
  {
   "cell_type": "markdown",
   "metadata": {},
   "source": [
    "# Testing for Word2Vec"
   ]
  },
  {
   "cell_type": "code",
   "execution_count": 118,
   "metadata": {},
   "outputs": [],
   "source": [
    "# Tokenize each doc\n",
    "X_w2v = [ own_tokenizer(report) for report in df['report']]"
   ]
  },
  {
   "cell_type": "code",
   "execution_count": 121,
   "metadata": {},
   "outputs": [],
   "source": [
    "# Transform list to ndarray\n",
    "X_w2v = np.array(X_w2v)"
   ]
  },
  {
   "cell_type": "code",
   "execution_count": 122,
   "metadata": {},
   "outputs": [
    {
     "name": "stderr",
     "output_type": "stream",
     "text": [
      "/home/leo/Desktop/master_UACH/env/lib/python3.6/site-packages/ipykernel_launcher.py:5: DeprecationWarning: Call to deprecated `syn0` (Attribute will be removed in 4.0.0, use self.vectors instead).\n",
      "  \"\"\"\n"
     ]
    }
   ],
   "source": [
    "# Create w2v model\n",
    "model_w2v = gensim.models.Word2Vec(X_w2v, size=100)\n",
    "\n",
    "# Dictionary: key: each word, value: its w2v representation (vector)\n",
    "w2v = dict(zip(model_w2v.wv.index2word, model_w2v.wv.syn0))"
   ]
  },
  {
   "cell_type": "code",
   "execution_count": 130,
   "metadata": {},
   "outputs": [],
   "source": [
    "# Embedding of docs using w2v\n",
    "# this get a vector of each document of dimension (dimension_vector_w2v, 1), so the total array is (n_docs, dimension_vector_w2v)\n",
    "class MeanEmbeddingVectorizer(object):\n",
    "      \n",
    "    def __init__(self, word2vec):\n",
    "        self.word2vec = word2vec\n",
    "        # if a text is empty we should return a vector of zeros\n",
    "        # with the same dimensionality as all the other vectors\n",
    "        self.dim = len(word2vec.values())\n",
    "\n",
    "    def fit(self, X, y):\n",
    "        return self\n",
    "\n",
    "    def transform(self, X):\n",
    "        \n",
    "        # This mean each dimension of each word in doc, it getting the w2v representation of each doc\n",
    "        doc_w2v = np.array([\n",
    "            np.mean([self.word2vec[w] for w in words if w in self.word2vec]\n",
    "                    or [np.zeros(self.dim)], axis=0)\n",
    "            for words in X\n",
    "        ])\n",
    "        \n",
    "#         print(doc_w2v.shape)\n",
    "#         print(doc_w2v)\n",
    "        # Return vlaue\n",
    "        return doc_w2v\n",
    "    "
   ]
  },
  {
   "cell_type": "code",
   "execution_count": 176,
   "metadata": {},
   "outputs": [],
   "source": [
    "# pipe for traing using w2v\n",
    "\n",
    "# using logistic regression\n",
    "pipe_word2vec_log = Pipeline([\n",
    "    (\"word2vec vectorizer\", MeanEmbeddingVectorizer(w2v)),\n",
    "    (\"logistic regression\", LogisticRegression())])\n",
    "\n",
    "# Using extra trees classifier (it's base in decision tree (It's like a forest))\n",
    "pipe_word2vec_extra_trees = Pipeline([\n",
    "    (\"word2vec vectorizer\", MeanEmbeddingVectorizer(w2v)),\n",
    "    (\"extra trees\", ExtraTreesClassifier(n_estimators=200))])\n",
    "\n",
    "# using MLP\n",
    "pipe_word2vec_MLP = Pipeline([\n",
    "    (\"word2vec vectorizer\", MeanEmbeddingVectorizer(w2v)),\n",
    "    (\"MLP\", MLPClassifier(solver='lbfgs', alpha=1e-5, hidden_layer_sizes=(1000, 2), random_state=1))\n",
    "])\n",
    "\n",
    "# Using SVM\n",
    "pipe_word2vec_SVM = Pipeline([\n",
    "    (\"word2vec vectorizer\", MeanEmbeddingVectorizer(w2v)),\n",
    "    (\"SVM\", svm.SVC(gamma='scale'))\n",
    "])\n",
    "\n",
    "# list of models\n",
    "# Add new model here\n",
    "models_w2v = [('w2v + log regg', pipe_word2vec_log), \n",
    "          ('w2v + ext_trees', pipe_word2vec_extra_trees), \n",
    "          ('w2v + MLP', pipe_word2vec_MLP),\n",
    "          ('w2v + SVM', pipe_word2vec_SVM),\n",
    "         ]"
   ]
  },
  {
   "cell_type": "code",
   "execution_count": 149,
   "metadata": {},
   "outputs": [],
   "source": [
    "# Get X train and test\n",
    "\n",
    "# Get train data\n",
    "X_w2v_train = X_w2v[train_id_list]\n",
    "y_w2v_train = df['company'][train_id_list]\n",
    "\n",
    "# Get test data\n",
    "X_w2v_test = X_w2v[test_id_list]\n",
    "y_w2v_test = df['company'][test_id_list]"
   ]
  },
  {
   "cell_type": "code",
   "execution_count": 248,
   "metadata": {},
   "outputs": [
    {
     "name": "stderr",
     "output_type": "stream",
     "text": [
      "/home/leo/Desktop/master_UACH/env/lib/python3.6/site-packages/sklearn/linear_model/logistic.py:432: FutureWarning: Default solver will be changed to 'lbfgs' in 0.22. Specify a solver to silence this warning.\n",
      "  FutureWarning)\n",
      "/home/leo/Desktop/master_UACH/env/lib/python3.6/site-packages/sklearn/linear_model/logistic.py:432: FutureWarning: Default solver will be changed to 'lbfgs' in 0.22. Specify a solver to silence this warning.\n",
      "  FutureWarning)\n",
      "/home/leo/Desktop/master_UACH/env/lib/python3.6/site-packages/sklearn/linear_model/logistic.py:432: FutureWarning: Default solver will be changed to 'lbfgs' in 0.22. Specify a solver to silence this warning.\n",
      "  FutureWarning)\n",
      "/home/leo/Desktop/master_UACH/env/lib/python3.6/site-packages/sklearn/linear_model/logistic.py:432: FutureWarning: Default solver will be changed to 'lbfgs' in 0.22. Specify a solver to silence this warning.\n",
      "  FutureWarning)\n",
      "/home/leo/Desktop/master_UACH/env/lib/python3.6/site-packages/sklearn/linear_model/logistic.py:432: FutureWarning: Default solver will be changed to 'lbfgs' in 0.22. Specify a solver to silence this warning.\n",
      "  FutureWarning)\n",
      "/home/leo/Desktop/master_UACH/env/lib/python3.6/site-packages/sklearn/linear_model/logistic.py:432: FutureWarning: Default solver will be changed to 'lbfgs' in 0.22. Specify a solver to silence this warning.\n",
      "  FutureWarning)\n",
      "/home/leo/Desktop/master_UACH/env/lib/python3.6/site-packages/sklearn/linear_model/logistic.py:432: FutureWarning: Default solver will be changed to 'lbfgs' in 0.22. Specify a solver to silence this warning.\n",
      "  FutureWarning)\n",
      "/home/leo/Desktop/master_UACH/env/lib/python3.6/site-packages/sklearn/linear_model/logistic.py:432: FutureWarning: Default solver will be changed to 'lbfgs' in 0.22. Specify a solver to silence this warning.\n",
      "  FutureWarning)\n",
      "/home/leo/Desktop/master_UACH/env/lib/python3.6/site-packages/sklearn/linear_model/logistic.py:432: FutureWarning: Default solver will be changed to 'lbfgs' in 0.22. Specify a solver to silence this warning.\n",
      "  FutureWarning)\n",
      "/home/leo/Desktop/master_UACH/env/lib/python3.6/site-packages/sklearn/linear_model/logistic.py:432: FutureWarning: Default solver will be changed to 'lbfgs' in 0.22. Specify a solver to silence this warning.\n",
      "  FutureWarning)\n"
     ]
    },
    {
     "data": {
      "text/plain": [
       "[{'name': 'w2v + log regg',\n",
       "  'accuracy': [0.5,\n",
       "   0.5,\n",
       "   0.49044585987261147,\n",
       "   0.6985294117647058,\n",
       "   0.6086956521739131,\n",
       "   0.6382978723404256,\n",
       "   0.6986301369863014,\n",
       "   0.5192307692307693,\n",
       "   0.53125,\n",
       "   0.7272727272727273]},\n",
       " {'name': 'w2v + ext_trees',\n",
       "  'accuracy': [0.5858585858585859,\n",
       "   0.6797752808988764,\n",
       "   0.7834394904458599,\n",
       "   0.7352941176470589,\n",
       "   0.7217391304347827,\n",
       "   0.7340425531914894,\n",
       "   0.726027397260274,\n",
       "   0.7307692307692307,\n",
       "   0.71875,\n",
       "   0.5454545454545454]},\n",
       " {'name': 'w2v + MLP',\n",
       "  'accuracy': [0.6565656565656566,\n",
       "   0.6853932584269663,\n",
       "   0.6687898089171974,\n",
       "   0.75,\n",
       "   0.7043478260869566,\n",
       "   0.7340425531914894,\n",
       "   0.7123287671232876,\n",
       "   0.6538461538461539,\n",
       "   0.625,\n",
       "   0.7272727272727273]},\n",
       " {'name': 'w2v + SVM',\n",
       "  'accuracy': [0.6262626262626263,\n",
       "   0.6235955056179775,\n",
       "   0.4968152866242038,\n",
       "   0.6029411764705882,\n",
       "   0.4956521739130435,\n",
       "   0.6063829787234043,\n",
       "   0.4931506849315068,\n",
       "   0.6153846153846154,\n",
       "   0.5,\n",
       "   0.45454545454545453]}]"
      ]
     },
     "execution_count": 248,
     "metadata": {},
     "output_type": "execute_result"
    }
   ],
   "source": [
    "# # store score of each model\n",
    "# scores = []\n",
    "\n",
    "# # differents size of training examples\n",
    "# num_train = np.linspace(start = 2, stop = y.size - 10, num = 10).astype(int)\n",
    "\n",
    "# get labels\n",
    "y_w2v = df['company']\n",
    "\n",
    "# iterate through each model of w2v\n",
    "for name, model in models_w2v:\n",
    "        \n",
    "    score = []\n",
    "    \n",
    "    # iterate over each train size\n",
    "    for train_size in num_train:\n",
    "        \n",
    "        test_size = 1 - (train_size / float(len(y_w2v)))\n",
    "        \n",
    "        sp = StratifiedShuffleSplit(n_splits=1, test_size = test_size)\n",
    "        \n",
    "        sp.get_n_splits(X_w2v, y_w2v)\n",
    "        \n",
    "        for train, test in sp.split(X_w2v, y_w2v):\n",
    "            \n",
    "            X_train_w2v, X_test_w2v = X[train], X[test]\n",
    "            y_train_w2v, y_test_w2v = y[train], y[test]\n",
    "            \n",
    "            acc = (metrics.accuracy_score(model.fit(X_train_w2v, y_train_w2v).predict(X_test_w2v), y_test_w2v))\n",
    "            \n",
    "            score.append(acc)\n",
    "    \n",
    "    # add scores to list\n",
    "    scores.append({\n",
    "        'name': name,\n",
    "        'accuracy': score\n",
    "    })\n",
    "    \n",
    "    \n",
    "scores"
   ]
  },
  {
   "cell_type": "code",
   "execution_count": 261,
   "metadata": {},
   "outputs": [
    {
     "data": {
      "text/plain": [
       "<matplotlib.legend.Legend at 0x7f2d4ace2cc0>"
      ]
     },
     "execution_count": 261,
     "metadata": {},
     "output_type": "execute_result"
    },
    {
     "data": {
      "image/png": "[encoded data removed]",
      "text/plain": [
       "<Figure size 1080x432 with 1 Axes>"
      ]
     },
     "metadata": {
      "needs_background": "light"
     },
     "output_type": "display_data"
    }
   ],
   "source": [
    "# plotting results\n",
    "fig, ax = plt.subplots(figsize = (15,6))\n",
    "\n",
    "# iterate over each model \n",
    "for model in scores:\n",
    "    \n",
    "    ax.plot(num_train, model['accuracy'], label = model['name'])\n",
    "ax.legend()"
   ]
  }
 ],
 "metadata": {
  "kernelspec": {
   "display_name": "Python 3",
   "language": "python",
   "name": "python3"
  },
  "language_info": {
   "codemirror_mode": {
    "name": "ipython",
    "version": 3
   },
   "file_extension": ".py",
   "mimetype": "text/x-python",
   "name": "python",
   "nbconvert_exporter": "python",
   "pygments_lexer": "ipython3",
   "version": "3.6.7"
  }
 },
 "nbformat": 4,
 "nbformat_minor": 2
}
