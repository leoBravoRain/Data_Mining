{
 "cells": [
  {
   "cell_type": "markdown",
   "metadata": {},
   "source": [
    "# Análisis de embeddings para clasificación de noticias en medios chilenos (BOW, TDFIDF y W2V)\n",
    "\n",
    "1) Se entrena modelo Word2Vec para español.\n",
    "\n",
    "2) Se realiza embedding de noticas del medio \"La Cuarta\" y \"La Tercera\" utiliznado BOW, TFIDF, W2V\n",
    "\n",
    "3) Se entrenan algoritmos de clasificación de medio considernado el corpus de forma vectorizada por cada uno de los embeddings implementados anteriormente.\n",
    "\n",
    "4) Se analizan y comparan resultados."
   ]
  },
  {
   "cell_type": "markdown",
   "metadata": {},
   "source": [
    "### Load libraries"
   ]
  },
  {
   "cell_type": "code",
   "execution_count": 1,
   "metadata": {},
   "outputs": [],
   "source": [
    "from gensim.models import word2vec\n",
    "from IPython.display import display, HTML\n",
    "import pandas as pd\n",
    "from sklearn.feature_extraction.text import CountVectorizer, TfidfVectorizer\n",
    "from sklearn.pipeline import Pipeline\n",
    "from sklearn.linear_model import LogisticRegression # Log classifier\n",
    "from sklearn.model_selection import train_test_split # Split in train/test\n",
    "from sklearn import metrics\n",
    "import matplotlib.pyplot as plt\n",
    "import gensim \n",
    "import numpy as np\n",
    "import spacy\n",
    "from sklearn.model_selection import StratifiedShuffleSplit # for split data (train/test)\n",
    "from stop_words import get_stop_words # stop words\n",
    "from sklearn.ensemble import ExtraTreesClassifier\n",
    "from sklearn.neural_network import MLPClassifier # MLP NN\n",
    "from sklearn import svm # support vector machine"
   ]
  },
  {
   "cell_type": "markdown",
   "metadata": {},
   "source": [
    "### Load data"
   ]
  },
  {
   "cell_type": "code",
   "execution_count": 2,
   "metadata": {},
   "outputs": [
    {
     "data": {
      "text/html": [
       "<div>\n",
       "<style scoped>\n",
       "    .dataframe tbody tr th:only-of-type {\n",
       "        vertical-align: middle;\n",
       "    }\n",
       "\n",
       "    .dataframe tbody tr th {\n",
       "        vertical-align: top;\n",
       "    }\n",
       "\n",
       "    .dataframe thead th {\n",
       "        text-align: right;\n",
       "    }\n",
       "</style>\n",
       "<table border=\"1\" class=\"dataframe\">\n",
       "  <thead>\n",
       "    <tr style=\"text-align: right;\">\n",
       "      <th></th>\n",
       "      <th>report</th>\n",
       "      <th>company</th>\n",
       "    </tr>\n",
       "  </thead>\n",
       "  <tbody>\n",
       "    <tr>\n",
       "      <th>0</th>\n",
       "      <td>Esto te interesa... 22/05/2017 - Autor: La Cu...</td>\n",
       "      <td>0</td>\n",
       "    </tr>\n",
       "    <tr>\n",
       "      <th>1</th>\n",
       "      <td>Esto te interesa... 01/06/2017 - Autor: Docto...</td>\n",
       "      <td>0</td>\n",
       "    </tr>\n",
       "    <tr>\n",
       "      <th>2</th>\n",
       "      <td>Siempre estuve esperando que llegara una muje...</td>\n",
       "      <td>0</td>\n",
       "    </tr>\n",
       "    <tr>\n",
       "      <th>3</th>\n",
       "      <td>Esto te interesa... 02/03/2017 - Autor: Claud...</td>\n",
       "      <td>0</td>\n",
       "    </tr>\n",
       "    <tr>\n",
       "      <th>4</th>\n",
       "      <td>Junto a Nachito Pop revivimos paso a paso la ...</td>\n",
       "      <td>0</td>\n",
       "    </tr>\n",
       "  </tbody>\n",
       "</table>\n",
       "</div>"
      ],
      "text/plain": [
       "                                              report  company\n",
       "0   Esto te interesa... 22/05/2017 - Autor: La Cu...        0\n",
       "1   Esto te interesa... 01/06/2017 - Autor: Docto...        0\n",
       "2   Siempre estuve esperando que llegara una muje...        0\n",
       "3   Esto te interesa... 02/03/2017 - Autor: Claud...        0\n",
       "4   Junto a Nachito Pop revivimos paso a paso la ...        0"
      ]
     },
     "execution_count": 2,
     "metadata": {},
     "output_type": "execute_result"
    }
   ],
   "source": [
    "# Analize data\n",
    "# df = pd.read_csv('dataset-cuarta_vs_tercera.csv', sep = '|', header = None)\n",
    "df = pd.read_csv('MAD2019_dataset_lacuarta_latercera.csv', sep = '|', header = None)\n",
    "\n",
    "# Get news and medium\n",
    "# df = df.iloc[:,[1,3]]\n",
    "\n",
    "df = df.drop(labels = [0,2, 4], axis = 1)\n",
    "\n",
    "# Add names\n",
    "df.columns =  ['company', 'report']\n",
    "\n",
    "# company:\n",
    "# 0: La tercera\n",
    "# 1: La cuarta\n",
    "\n",
    "# Get dummies variables\n",
    "dummies = pd.get_dummies(df['company'], drop_first = True)\n",
    "df = pd.concat([df, dummies], axis=1) \n",
    "df.drop(['company'], inplace=True, axis=1)\n",
    "\n",
    "# rename again\n",
    "df.columns =  ['report', 'company']\n",
    "\n",
    "# display(dummies.head())\n",
    "# print(df.shape)\n",
    "df.head()"
   ]
  },
  {
   "cell_type": "code",
   "execution_count": 3,
   "metadata": {},
   "outputs": [],
   "source": [
    "# # Taking smaller data\n",
    "df = df.sample(3000)\n",
    "df.reset_index(inplace = True)"
   ]
  },
  {
   "cell_type": "code",
   "execution_count": 4,
   "metadata": {},
   "outputs": [
    {
     "data": {
      "text/plain": [
       "(3000, 3)"
      ]
     },
     "metadata": {},
     "output_type": "display_data"
    },
    {
     "data": {
      "text/html": [
       "<div>\n",
       "<style scoped>\n",
       "    .dataframe tbody tr th:only-of-type {\n",
       "        vertical-align: middle;\n",
       "    }\n",
       "\n",
       "    .dataframe tbody tr th {\n",
       "        vertical-align: top;\n",
       "    }\n",
       "\n",
       "    .dataframe thead th {\n",
       "        text-align: right;\n",
       "    }\n",
       "</style>\n",
       "<table border=\"1\" class=\"dataframe\">\n",
       "  <thead>\n",
       "    <tr style=\"text-align: right;\">\n",
       "      <th></th>\n",
       "      <th>index</th>\n",
       "      <th>report</th>\n",
       "      <th>company</th>\n",
       "    </tr>\n",
       "  </thead>\n",
       "  <tbody>\n",
       "    <tr>\n",
       "      <th>0</th>\n",
       "      <td>3328</td>\n",
       "      <td>La muerte de Chris Cornell recuerda a otros q...</td>\n",
       "      <td>1</td>\n",
       "    </tr>\n",
       "    <tr>\n",
       "      <th>1</th>\n",
       "      <td>4625</td>\n",
       "      <td>Un post en el grupo de Facebook de Australian...</td>\n",
       "      <td>1</td>\n",
       "    </tr>\n",
       "    <tr>\n",
       "      <th>2</th>\n",
       "      <td>159</td>\n",
       "      <td>Esto te interesa... 11/08/2017 - Autor: LaCua...</td>\n",
       "      <td>0</td>\n",
       "    </tr>\n",
       "    <tr>\n",
       "      <th>3</th>\n",
       "      <td>733</td>\n",
       "      <td>Esto te interesa... 23/07/2017 - Autor: Docto...</td>\n",
       "      <td>0</td>\n",
       "    </tr>\n",
       "    <tr>\n",
       "      <th>4</th>\n",
       "      <td>1790</td>\n",
       "      <td>El Chile que somos. Noticias, conversación, o...</td>\n",
       "      <td>1</td>\n",
       "    </tr>\n",
       "  </tbody>\n",
       "</table>\n",
       "</div>"
      ],
      "text/plain": [
       "   index                                             report  company\n",
       "0   3328   La muerte de Chris Cornell recuerda a otros q...        1\n",
       "1   4625   Un post en el grupo de Facebook de Australian...        1\n",
       "2    159   Esto te interesa... 11/08/2017 - Autor: LaCua...        0\n",
       "3    733   Esto te interesa... 23/07/2017 - Autor: Docto...        0\n",
       "4   1790   El Chile que somos. Noticias, conversación, o...        1"
      ]
     },
     "execution_count": 4,
     "metadata": {},
     "output_type": "execute_result"
    }
   ],
   "source": [
    "# Displaying shape\n",
    "display(df.shape)\n",
    "df.head()"
   ]
  },
  {
   "cell_type": "markdown",
   "metadata": {},
   "source": [
    "### Analize classes (for check balancing)"
   ]
  },
  {
   "cell_type": "code",
   "execution_count": 5,
   "metadata": {},
   "outputs": [
    {
     "data": {
      "image/png": "[encoded data removed]",
      "text/plain": [
       "<Figure size 432x288 with 1 Axes>"
      ]
     },
     "metadata": {
      "needs_background": "light"
     },
     "output_type": "display_data"
    }
   ],
   "source": [
    "# Distribution of labels\n",
    "fig, ax = plt.subplots()\n",
    "\n",
    "# plot hist\n",
    "ax.hist(df.loc[df['company'] == 0, 'company'], bins = 10)\n",
    "ax.hist(df.loc[df['company'] == 1, 'company'], bins = 10)\n",
    "ax.set_xlabel('Class')\n",
    "ax.set_ylabel('N° instances')\n",
    "ax.title.set_text('N° instances of each class')"
   ]
  },
  {
   "cell_type": "markdown",
   "metadata": {},
   "source": [
    "Se tienen clases desbalanceadas, ya que la clase 'La tercera', posee mas instancias que la otra clase. Por lo que hay que tener precausión en su procesamiento, ya que por ejemplo, si se utilizara accuracy en clasificación, esta métrica no sería del todo correcta para comparar métodos."
   ]
  },
  {
   "cell_type": "markdown",
   "metadata": {},
   "source": [
    "### Define tokenizer of corpus"
   ]
  },
  {
   "cell_type": "code",
   "execution_count": 6,
   "metadata": {},
   "outputs": [],
   "source": [
    "# Tokenizer\n",
    "\n",
    "# Define own tokenizer\n",
    "\n",
    "nlp = spacy.load('es_core_news_sm')\n",
    "\n",
    "def own_tokenizer(sentence):\n",
    "    \n",
    "    tokens = []\n",
    "    \n",
    "    doc = nlp(sentence.lower().strip())\n",
    "    \n",
    "    for token in doc:\n",
    "        \n",
    "        # Filtering\n",
    "        if not token.is_space and not token.is_stop and not token.is_punct and not token.is_digit and not token.like_num:\n",
    "            \n",
    "            # add token to list in lemma form\n",
    "            tokens.append(token.lemma_)\n",
    "            \n",
    "    return tokens"
   ]
  },
  {
   "cell_type": "markdown",
   "metadata": {},
   "source": [
    "# BOW and TFIDF development"
   ]
  },
  {
   "cell_type": "markdown",
   "metadata": {},
   "source": [
    "### Stopwords to use in tokenizer"
   ]
  },
  {
   "cell_type": "code",
   "execution_count": 7,
   "metadata": {},
   "outputs": [],
   "source": [
    "# Stop words (not has information)\n",
    "stop_words = ['a','e','i','o','u',' ','  ','   ','  ','$','  ','y', '-', 'q','c', 'nna', 'e', 'l', '=', '<', '>','x','href','/',\n",
    "             'JavaScript', 'navegador', '¿', 'Twitter', 'Tweets', 'web', 'URL']\n",
    "\n",
    "# using stop words from library\n",
    "stop_words_lib = get_stop_words('spanish')\n",
    "\n",
    "# joining stop words\n",
    "stop_words = stop_words + stop_words_lib"
   ]
  },
  {
   "cell_type": "markdown",
   "metadata": {},
   "source": [
    "### Create vectorizer of BOW and TFIDF"
   ]
  },
  {
   "cell_type": "code",
   "execution_count": 8,
   "metadata": {},
   "outputs": [],
   "source": [
    "# Vectorizer\n",
    "\n",
    "# Bag of words\n",
    "bow_vector = CountVectorizer(tokenizer = own_tokenizer, ngram_range = (1,1))\n",
    "\n",
    "# TFIDF\n",
    "tfidf_vector = TfidfVectorizer(tokenizer = own_tokenizer, ngram_range = (1,1))"
   ]
  },
  {
   "cell_type": "markdown",
   "metadata": {},
   "source": [
    "### Get data individally"
   ]
  },
  {
   "cell_type": "code",
   "execution_count": 9,
   "metadata": {},
   "outputs": [],
   "source": [
    "# Get data\n",
    "X = df['report'] # the features we want to analyze\n",
    "y = df['company'] # the labels, or answers, we want to test against"
   ]
  },
  {
   "cell_type": "markdown",
   "metadata": {},
   "source": [
    "### Crate pipelines for BOW and TFIDF:\n",
    "\n",
    "1) Apply the vectorization\n",
    "\n",
    "2) Model to use"
   ]
  },
  {
   "cell_type": "code",
   "execution_count": 10,
   "metadata": {},
   "outputs": [],
   "source": [
    "# Create pipelines\n",
    "\n",
    "# Bag of words\n",
    "\n",
    "# Create pipeline using logistic regression\n",
    "pipe_bow_log = Pipeline([('bow vectorizer', bow_vector),\n",
    "                 ('logistic regression', LogisticRegression(solver = 'lbfgs'))])\n",
    "\n",
    "# Using extra trees classifier (it's base in decision tree (It's like a forest))\n",
    "pipe_bow_extra_trees = Pipeline([\n",
    "    (\"bow vectorizer\", bow_vector),\n",
    "    (\"extra trees\", ExtraTreesClassifier(n_estimators=200))])\n",
    "\n",
    "# using MLP\n",
    "pipe_bow_MLP = Pipeline([\n",
    "    (\"bow vectorizer\", bow_vector),\n",
    "    (\"MLP\", MLPClassifier(solver='lbfgs', alpha=1e-5, hidden_layer_sizes=(1000, 2), random_state=1))\n",
    "])\n",
    "\n",
    "# Using SVM\n",
    "pipe_bow_SVM = Pipeline([\n",
    "    (\"bow vectorizer\", bow_vector),\n",
    "    (\"SVM\", svm.SVC(gamma='scale'))\n",
    "])\n",
    "\n",
    "# TFIDF\n",
    "\n",
    "# log reg using tfidf\n",
    "pipe_tfidf_log = Pipeline([('tfidf vectorizer', tfidf_vector),\n",
    "                 ('logistic regression', LogisticRegression(solver = 'lbfgs'))])\n",
    "\n",
    "# Using extra trees classifier (it's base in decision tree (It's like a forest))\n",
    "pipe_tfidf_extra_trees = Pipeline([\n",
    "    (\"tfidf vectorizer\", tfidf_vector),\n",
    "    (\"extra trees\", ExtraTreesClassifier(n_estimators=200))])\n",
    "\n",
    "# using MLP\n",
    "pipe_tfidf_MLP = Pipeline([\n",
    "    (\"tfidf vectorizer\", tfidf_vector),\n",
    "    (\"MLP\", MLPClassifier(solver='lbfgs', alpha=1e-5, hidden_layer_sizes=(1000, 2), random_state=1))\n",
    "])\n",
    "\n",
    "# Using SVM\n",
    "pipe_tfidf_SVM = Pipeline([\n",
    "    (\"tfidf vectorizer\", tfidf_vector),\n",
    "    (\"SVM\", svm.SVC(gamma='scale'))\n",
    "])\n",
    "\n",
    "\n",
    "# LIST OF MODELS\n",
    "\n",
    "# list of models\n",
    "models_bow_tfidf = [\n",
    "    ('bow + log reg', pipe_bow_log),\n",
    "    ('bow + ext_tree', pipe_bow_extra_trees),\n",
    "    ('bow + MLP', pipe_bow_MLP),\n",
    "    ('bow + SVM', pipe_bow_SVM),\n",
    "    \n",
    "    ('tfidf + log reg', pipe_tfidf_log),\n",
    "    ('tfidf + ext_tree', pipe_tfidf_extra_trees),\n",
    "    ('tfidf + MLP', pipe_tfidf_MLP),\n",
    "    ('tfidf + SVM', pipe_tfidf_SVM)\n",
    "    \n",
    "]"
   ]
  },
  {
   "cell_type": "markdown",
   "metadata": {},
   "source": [
    "### Train each model (bow and tfidf) considering differentes sizes of trainig data. In each training, it gets the accuracy of each model and store in scores"
   ]
  },
  {
   "cell_type": "code",
   "execution_count": 11,
   "metadata": {},
   "outputs": [],
   "source": [
    "# train model function (this was done for parallelizing models)\n",
    "def train_model(item):\n",
    "    \n",
    "    name = item[0]\n",
    "    model = item[1]\n",
    "    \n",
    "    print('Train model {0} with PID: {1}'.format(name, os.getpid()))\n",
    "    \n",
    "    # restart scores for each model\n",
    "    score = []\n",
    "    \n",
    "    # differents size of training examples\n",
    "    num_train = np.linspace(start = 2, stop = y.size - 10, num = 5).astype(int)\n",
    "    \n",
    "    # iterate over each train size\n",
    "    for train_size in num_train:\n",
    "\n",
    "        print('train size of {0}: {1}\\n'.format(name, train_size))\n",
    "\n",
    "        test_size = 1 - (train_size / float(len(y)))\n",
    "\n",
    "        sp = StratifiedShuffleSplit(n_splits=1, test_size = test_size)\n",
    "\n",
    "        sp.get_n_splits(X, y)\n",
    "\n",
    "        for train, test in sp.split(X, y):\n",
    "\n",
    "            X_train, X_test = X[train], X[test]\n",
    "            y_train, y_test = y[train], y[test]\n",
    "\n",
    "            acc = (metrics.accuracy_score(model.fit(X_train, y_train).predict(X_test), y_test))\n",
    "\n",
    "            score.append(acc)\n",
    "    \n",
    "        \n",
    "    # add scores to list\n",
    "    results = {\n",
    "        'name': name,\n",
    "        'accuracy': score\n",
    "    }\n",
    "        \n",
    "    return results"
   ]
  },
  {
   "cell_type": "code",
   "execution_count": 12,
   "metadata": {},
   "outputs": [
    {
     "name": "stdout",
     "output_type": "stream",
     "text": [
      "Train model bow + SVM with PID: 5925\n",
      "Train model bow + MLP with PID: 5924\n",
      "Train model bow + log reg with PID: 5922\n",
      "Train model tfidf + log reg with PID: 5926\n",
      "Train model tfidf + MLP with PID: 5928\n",
      "Train model tfidf + ext_tree with PID: 5927\n",
      "Train model tfidf + SVM with PID: 5929\n",
      "Train model bow + ext_tree with PID: 5923\n",
      "train size of tfidf + MLP: 2\n",
      "train size of tfidf + log reg: 2\n",
      "train size of bow + SVM: 2\n",
      "train size of bow + ext_tree: 2\n",
      "train size of bow + MLP: 2\n",
      "train size of tfidf + SVM: 2\n",
      "train size of tfidf + ext_tree: 2\n",
      "train size of bow + log reg: 2\n",
      "\n",
      "\n",
      "\n",
      "\n",
      "\n",
      "\n",
      "\n",
      "\n",
      "train size of tfidf + ext_tree: 749\n",
      "\n",
      "train size of tfidf + SVM: 749\n",
      "\n",
      "train size of bow + ext_tree: 749\n",
      "\n",
      "train size of bow + log reg: 749\n",
      "\n",
      "train size of tfidf + log reg: 749\n",
      "\n",
      "train size of bow + MLP: 749\n",
      "\n",
      "train size of bow + SVM: 749\n",
      "\n",
      "train size of tfidf + MLP: 749\n",
      "\n"
     ]
    },
    {
     "name": "stderr",
     "output_type": "stream",
     "text": [
      "/home/leo/Desktop/master_UACH/env/lib/python3.6/site-packages/sklearn/linear_model/logistic.py:947: ConvergenceWarning: lbfgs failed to converge. Increase the number of iterations.\n",
      "  \"of iterations.\", ConvergenceWarning)\n"
     ]
    },
    {
     "name": "stdout",
     "output_type": "stream",
     "text": [
      "train size of tfidf + log reg: 1496\n",
      "train size of tfidf + ext_tree: 1496\n",
      "\n",
      "\n",
      "train size of bow + ext_tree: 1496\n",
      "\n",
      "train size of bow + log reg: 1496\n",
      "\n",
      "train size of tfidf + SVM: 1496\n",
      "\n",
      "train size of bow + SVM: 1496\n",
      "\n",
      "train size of tfidf + MLP: 1496\n",
      "\n",
      "train size of bow + MLP: 1496\n",
      "\n"
     ]
    },
    {
     "name": "stderr",
     "output_type": "stream",
     "text": [
      "/home/leo/Desktop/master_UACH/env/lib/python3.6/site-packages/sklearn/linear_model/logistic.py:947: ConvergenceWarning: lbfgs failed to converge. Increase the number of iterations.\n",
      "  \"of iterations.\", ConvergenceWarning)\n"
     ]
    },
    {
     "name": "stdout",
     "output_type": "stream",
     "text": [
      "train size of tfidf + log reg: 2243\n",
      "\n",
      "train size of tfidf + ext_tree: 2243\n",
      "\n",
      "train size of bow + ext_tree: 2243\n",
      "\n",
      "train size of bow + log reg: 2243\n",
      "\n",
      "train size of tfidf + SVM: 2243\n",
      "\n",
      "train size of bow + SVM: 2243\n",
      "\n",
      "train size of tfidf + MLP: 2243\n",
      "\n",
      "train size of bow + MLP: 2243\n",
      "\n"
     ]
    },
    {
     "name": "stderr",
     "output_type": "stream",
     "text": [
      "/home/leo/Desktop/master_UACH/env/lib/python3.6/site-packages/sklearn/linear_model/logistic.py:947: ConvergenceWarning: lbfgs failed to converge. Increase the number of iterations.\n",
      "  \"of iterations.\", ConvergenceWarning)\n"
     ]
    },
    {
     "name": "stdout",
     "output_type": "stream",
     "text": [
      "train size of tfidf + log reg: 2990\n",
      "\n",
      "train size of tfidf + ext_tree: 2990\n",
      "\n",
      "train size of bow + ext_tree: 2990\n",
      "\n",
      "train size of bow + log reg: 2990\n",
      "\n",
      "train size of tfidf + SVM: 2990\n",
      "\n",
      "train size of bow + SVM: 2990\n",
      "\n",
      "train size of tfidf + MLP: 2990\n",
      "\n",
      "train size of bow + MLP: 2990\n",
      "\n"
     ]
    },
    {
     "name": "stderr",
     "output_type": "stream",
     "text": [
      "/home/leo/Desktop/master_UACH/env/lib/python3.6/site-packages/sklearn/linear_model/logistic.py:947: ConvergenceWarning: lbfgs failed to converge. Increase the number of iterations.\n",
      "  \"of iterations.\", ConvergenceWarning)\n"
     ]
    }
   ],
   "source": [
    "# Train models\n",
    "\n",
    "# using parallelism\n",
    "import multiprocessing as mp\n",
    "import os\n",
    "\n",
    "# Init pool of process\n",
    "pool = mp.Pool(mp.cpu_count())\n",
    "\n",
    "# Exec function in each process\n",
    "scores_bow_tfidf = pool.map(train_model, models_bow_tfidf)"
   ]
  },
  {
   "cell_type": "markdown",
   "metadata": {},
   "source": [
    "# Word2Vec development"
   ]
  },
  {
   "cell_type": "markdown",
   "metadata": {},
   "source": [
    "### get data in format to w2v (tokenize each doc)"
   ]
  },
  {
   "cell_type": "code",
   "execution_count": 13,
   "metadata": {},
   "outputs": [],
   "source": [
    "# Tokenize each doc\n",
    "X_w2v = [ own_tokenizer(report) for report in df['report']]"
   ]
  },
  {
   "cell_type": "code",
   "execution_count": 14,
   "metadata": {},
   "outputs": [],
   "source": [
    "# Transform list to ndarray\n",
    "X_w2v = np.array(X_w2v)"
   ]
  },
  {
   "cell_type": "markdown",
   "metadata": {},
   "source": [
    "### Get w2v model and the representation of each word in w2v"
   ]
  },
  {
   "cell_type": "code",
   "execution_count": 15,
   "metadata": {},
   "outputs": [
    {
     "name": "stderr",
     "output_type": "stream",
     "text": [
      "/home/leo/Desktop/master_UACH/env/lib/python3.6/site-packages/ipykernel_launcher.py:8: DeprecationWarning: Call to deprecated `syn0` (Attribute will be removed in 4.0.0, use self.vectors instead).\n",
      "  \n"
     ]
    }
   ],
   "source": [
    "# dimensions of w2v\n",
    "w2v_dim = 500\n",
    "\n",
    "# Create w2v model\n",
    "model_w2v = gensim.models.Word2Vec(X_w2v, size = w2v_dim)\n",
    "\n",
    "# Dictionary: key: each word, value: its w2v representation (vector)\n",
    "w2v = dict(zip(model_w2v.wv.index2word, model_w2v.wv.syn0))"
   ]
  },
  {
   "cell_type": "markdown",
   "metadata": {},
   "source": [
    "### Embedding of each doc (to format w2v)"
   ]
  },
  {
   "cell_type": "code",
   "execution_count": 16,
   "metadata": {},
   "outputs": [],
   "source": [
    "# Embedding of docs using w2v\n",
    "# this get a vector of each document of dimension (dimension_vector_w2v, 1), so the total array is (n_docs, dimension_vector_w2v)\n",
    "class MeanEmbeddingVectorizer(object):\n",
    "      \n",
    "    def __init__(self, word2vec):\n",
    "        self.word2vec = word2vec\n",
    "        # if a text is empty we should return a vector of zeros\n",
    "        # with the same dimensionality as all the other vectors\n",
    "        self.dim = len(word2vec.values())\n",
    "\n",
    "    def fit(self, X, y):\n",
    "        return self\n",
    "\n",
    "    def transform(self, X):\n",
    "        \n",
    "        # This mean each dimension of each word in doc, it getting the w2v representation of each doc\n",
    "        doc_w2v = np.array([\n",
    "            np.mean([self.word2vec[w] for w in words if w in self.word2vec]\n",
    "                    or [np.zeros(self.dim)], axis=0)\n",
    "            for words in X\n",
    "        ])\n",
    "        \n",
    "#         print(doc_w2v.shape)\n",
    "#         print(doc_w2v)\n",
    "        # Return vlaue\n",
    "        return doc_w2v\n",
    "    "
   ]
  },
  {
   "cell_type": "markdown",
   "metadata": {},
   "source": [
    "### Pipelines for w2v:\n",
    "\n",
    "1) Apply w2v transformation\n",
    "\n",
    "2) Apply model to use"
   ]
  },
  {
   "cell_type": "code",
   "execution_count": 17,
   "metadata": {},
   "outputs": [],
   "source": [
    "# pipe for traing using w2v\n",
    "\n",
    "# using logistic regression\n",
    "pipe_word2vec_log = Pipeline([\n",
    "    (\"word2vec vectorizer\", MeanEmbeddingVectorizer(w2v)),\n",
    "    (\"logistic regression\", LogisticRegression(solver = 'lbfgs'))])\n",
    "\n",
    "# Using extra trees classifier (it's base in decision tree (It's like a forest))\n",
    "pipe_word2vec_extra_trees = Pipeline([\n",
    "    (\"word2vec vectorizer\", MeanEmbeddingVectorizer(w2v)),\n",
    "    (\"extra trees\", ExtraTreesClassifier(n_estimators=200))])\n",
    "\n",
    "# using MLP\n",
    "pipe_word2vec_MLP = Pipeline([\n",
    "    (\"word2vec vectorizer\", MeanEmbeddingVectorizer(w2v)),\n",
    "    (\"MLP\", MLPClassifier(solver='lbfgs', alpha=1e-5, hidden_layer_sizes=(1000, 2), random_state=1))\n",
    "])\n",
    "\n",
    "# Using SVM\n",
    "pipe_word2vec_SVM = Pipeline([\n",
    "    (\"word2vec vectorizer\", MeanEmbeddingVectorizer(w2v)),\n",
    "    (\"SVM\", svm.SVC(gamma='scale'))\n",
    "])\n",
    "\n",
    "# list of models\n",
    "# Add new model here\n",
    "models_w2v = [\n",
    "    ('w2v + log reg', pipe_word2vec_log), \n",
    "    ('w2v + ext_trees', pipe_word2vec_extra_trees), \n",
    "    ('w2v + MLP', pipe_word2vec_MLP),\n",
    "    ('w2v + SVM', pipe_word2vec_SVM),\n",
    "]"
   ]
  },
  {
   "cell_type": "markdown",
   "metadata": {},
   "source": [
    "### Train each model using w2v representation. Training is by differentes training sizes. For each model, it gets the accuracy and add it to score list"
   ]
  },
  {
   "cell_type": "code",
   "execution_count": 18,
   "metadata": {},
   "outputs": [],
   "source": [
    "# train model function (this was done for parallelizing models)\n",
    "def train_model_w2v(item):\n",
    "    \n",
    "    name = item[0]\n",
    "    model = item[1]\n",
    "    \n",
    "    print('Train model {0} with PID: {1}'.format(name, os.getpid()))\n",
    "    \n",
    "    # restart scores for each model\n",
    "    score = []\n",
    "    \n",
    "    # differents size of training examples\n",
    "    num_train = np.linspace(start = 2, stop = y.size - 10, num = 5).astype(int)\n",
    "    \n",
    "    # iterate over each train size\n",
    "    for train_size in num_train:\n",
    "\n",
    "        print('train size of {0}: {1}\\n'.format(name, train_size))\n",
    "\n",
    "        test_size = 1 - (train_size / float(len(y_w2v)))\n",
    "\n",
    "        sp = StratifiedShuffleSplit(n_splits=1, test_size = test_size)\n",
    "\n",
    "        sp.get_n_splits(X_w2v, y_w2v)\n",
    "\n",
    "        for train, test in sp.split(X_w2v, y_w2v):\n",
    "\n",
    "            X_train_w2v, X_test_w2v = X[train], X[test]\n",
    "            y_train_w2v, y_test_w2v = y[train], y[test]\n",
    "            \n",
    "            acc = (metrics.accuracy_score(model.fit(X_train_w2v, y_train_w2v).predict(X_test_w2v), y_test_w2v))\n",
    "\n",
    "            score.append(acc)\n",
    "    \n",
    "        \n",
    "    # add scores to list\n",
    "    results = {\n",
    "        'name': name,\n",
    "        'accuracy': score\n",
    "    }\n",
    "        \n",
    "    return results"
   ]
  },
  {
   "cell_type": "code",
   "execution_count": 19,
   "metadata": {},
   "outputs": [
    {
     "name": "stdout",
     "output_type": "stream",
     "text": [
      "Train model w2v + log reg with PID: 6436\n",
      "Train model w2v + ext_trees with PID: 6435\n",
      "train size of w2v + log reg: 2\n",
      "train size of w2v + ext_trees: 2\n",
      "\n",
      "\n",
      "Train model w2v + MLP with PID: 6432\n",
      "train size of w2v + MLP: 2\n",
      "\n",
      "Train model w2v + SVM with PID: 6434\n",
      "train size of w2v + SVM: 2\n",
      "\n",
      "train size of w2v + log reg: 749\n",
      "train size of w2v + SVM: 749\n",
      "\n",
      "\n",
      "train size of w2v + ext_trees: 749\n",
      "\n",
      "train size of w2v + MLP: 749\n",
      "\n",
      "train size of w2v + log reg: 1496\n",
      "\n",
      "train size of w2v + SVM: 1496\n",
      "\n",
      "train size of w2v + ext_trees: 1496\n",
      "\n",
      "train size of w2v + log reg: 2243\n",
      "\n",
      "train size of w2v + SVM: 2243\n",
      "\n",
      "train size of w2v + ext_trees: 2243\n",
      "\n",
      "train size of w2v + log reg: 2990\n",
      "\n",
      "train size of w2v + MLP: 1496\n",
      "\n",
      "train size of w2v + ext_trees: 2990\n",
      "\n",
      "train size of w2v + SVM: 2990\n",
      "\n",
      "train size of w2v + MLP: 2243\n",
      "\n",
      "train size of w2v + MLP: 2990\n",
      "\n"
     ]
    }
   ],
   "source": [
    "# Train models\n",
    "\n",
    "# using parallelism\n",
    "import multiprocessing as mp\n",
    "import os\n",
    "\n",
    "# get labels\n",
    "y_w2v = df['company']\n",
    "\n",
    "# Init pool of process\n",
    "pool = mp.Pool(mp.cpu_count())\n",
    "\n",
    "# Exec function in each process\n",
    "scores_w2v = pool.map(train_model_w2v, models_w2v)"
   ]
  },
  {
   "cell_type": "code",
   "execution_count": 20,
   "metadata": {},
   "outputs": [],
   "source": [
    "# Join scores\n",
    "scores = scores_bow_tfidf + scores_w2v"
   ]
  },
  {
   "cell_type": "markdown",
   "metadata": {},
   "source": [
    "### Analyze results"
   ]
  },
  {
   "cell_type": "markdown",
   "metadata": {},
   "source": [
    "### Compare results from bow, tfidf and w2v"
   ]
  },
  {
   "cell_type": "code",
   "execution_count": 21,
   "metadata": {},
   "outputs": [
    {
     "data": {
      "text/plain": [
       "Text(0, 0.5, 'Accuracy')"
      ]
     },
     "execution_count": 21,
     "metadata": {},
     "output_type": "execute_result"
    },
    {
     "data": {
      "image/png": "[encoded data removed]",
      "text/plain": [
       "<Figure size 1224x360 with 4 Axes>"
      ]
     },
     "metadata": {
      "needs_background": "light"
     },
     "output_type": "display_data"
    }
   ],
   "source": [
    "# define x axis values\n",
    "num_train = np.linspace(start = 2, stop = y.size - 10, num = 5).astype(int)\n",
    "\n",
    "# Crate figure\n",
    "fig, ax = plt.subplots(1,4, figsize = (17,5))\n",
    "\n",
    "# Log regression\n",
    "num = 0\n",
    "ax[num].plot(num_train, next(item for item in scores if item[\"name\"] == \"bow + log reg\")['accuracy'], label = next(item for item in scores if item[\"name\"] == \"bow + log reg\")['name'], marker = '.')\n",
    "ax[num].plot(num_train, next(item for item in scores if item[\"name\"] == \"tfidf + log reg\")['accuracy'], label = next(item for item in scores if item[\"name\"] == \"tfidf + log reg\")['name'], marker = '.')\n",
    "ax[num].plot(num_train, next(item for item in scores if item[\"name\"] == \"w2v + log reg\")['accuracy'], linewidth = 5, label = next(item for item in scores if item[\"name\"] == \"w2v + log reg\")['name'], marker = '.')\n",
    "ax[num].legend()\n",
    "ax[num].title.set_text('Logistic Regression')\n",
    "ax[num].set_xlabel('Training data')\n",
    "ax[num].set_ylabel('Accuracy')\n",
    "\n",
    "# extra trees\n",
    "num = 1\n",
    "ax[num].plot(num_train, next(item for item in scores if item[\"name\"] == \"bow + ext_tree\")['accuracy'], label = next(item for item in scores if item[\"name\"] == \"bow + ext_tree\")['name'], marker = '.')\n",
    "ax[num].plot(num_train, next(item for item in scores if item[\"name\"] == \"tfidf + ext_tree\")['accuracy'], label = next(item for item in scores if item[\"name\"] == \"tfidf + ext_tree\")['name'], marker = '.')\n",
    "ax[num].plot(num_train, next(item for item in scores if item[\"name\"] == \"w2v + ext_trees\")['accuracy'], linewidth = 5,label = next(item for item in scores if item[\"name\"] == \"w2v + ext_trees\")['name'], marker = '.')\n",
    "ax[num].legend()\n",
    "ax[num].title.set_text('Extra trees')\n",
    "ax[num].set_xlabel('Training data')\n",
    "ax[num].set_ylabel('Accuracy')\n",
    "\n",
    "# MLP\n",
    "num = 2\n",
    "ax[num].plot(num_train, next(item for item in scores if item[\"name\"] == \"bow + MLP\")['accuracy'], label = next(item for item in scores if item[\"name\"] == \"bow + MLP\")['name'], marker = '.')\n",
    "ax[num].plot(num_train, next(item for item in scores if item[\"name\"] == \"tfidf + MLP\")['accuracy'], label = next(item for item in scores if item[\"name\"] == \"tfidf + MLP\")['name'], marker = '.')\n",
    "ax[num].plot(num_train, next(item for item in scores if item[\"name\"] == \"w2v + MLP\")['accuracy'], linewidth = 5,label = next(item for item in scores if item[\"name\"] == \"w2v + MLP\")['name'], marker = '.')\n",
    "ax[num].legend()\n",
    "ax[num].title.set_text('MLP')\n",
    "ax[num].set_xlabel('Training data')\n",
    "ax[num].set_ylabel('Accuracy')\n",
    "\n",
    "# MLP\n",
    "num = 3\n",
    "ax[num].plot(num_train, next(item for item in scores if item[\"name\"] == \"bow + SVM\")['accuracy'], label = next(item for item in scores if item[\"name\"] == \"bow + SVM\")['name'], marker = '.')\n",
    "ax[num].plot(num_train, next(item for item in scores if item[\"name\"] == \"tfidf + SVM\")['accuracy'], label = next(item for item in scores if item[\"name\"] == \"tfidf + SVM\")['name'], marker = '.')\n",
    "ax[num].plot(num_train, next(item for item in scores if item[\"name\"] == \"w2v + SVM\")['accuracy'], linewidth = 5,label = next(item for item in scores if item[\"name\"] == \"w2v + SVM\")['name'], marker = '.')\n",
    "ax[num].legend()\n",
    "ax[num].title.set_text('SVM')\n",
    "ax[num].set_xlabel('Training data')\n",
    "ax[num].set_ylabel('Accuracy')"
   ]
  },
  {
   "cell_type": "markdown",
   "metadata": {},
   "source": [
    "### Discusion\n",
    "\n",
    "#### Regresión logística:\n",
    "\n",
    "Para el caso de embedding utilizando BOW, se requiere solamente 50 ejemplos para alcanzar accuracy altos (superiores a 0,9) y que agregar mas datos para este problema de clasificación logra aumentar el acurracy pero en poca cantidad. Al tener el máximo número de datos de entrenamiento (Se escogen 10 menos que el maximo conjunto de datos), el modelo tiende a sobreajustarse al training set por lo que disminuye el accuracy sobre el testing set. \n",
    "\n",
    "Utilizando TFIDF se obtiene accuracies menores que BOW, lo que sugiere que en esta tarea de clasificación, hacer un embedding que de importancia a las palabras mas relevantes (palabras que logran diferenciar entre documentos) no aporta para la clasificación con logistic regression.\n",
    "\n",
    "Finalmente, para el caso de w2v, se tienen accuracies cercanas a 0,7, las cuales son las menores comparadas con BOW y TFIDF (para 50 o mas datos de entrenamiento). Esto sugiere que el embedding usando w2v no aporta para esta tarea de clasificación, lo que significa que el algoritmo no considera relevante el significado de las palabras (propósito de w2v) para clasificar por medios. \n",
    "\n",
    "Por otro lado, cabe destacar que w2v mantuvo un accuracy cercano a 0,7 para todo conjunto de datos (incluyendo 2 datos de entrenamiento), sin embargo los otros embeddings poseen menores accuracies para pocos datos de entrenamiento.\n",
    "\n",
    "#### Extra trees\n",
    "\n",
    "Utilizando BOW y TFIDF se obtiene accuracies similares para todo tamaño de conjunto de entrenamiento. En cambio, utilizando w2v, se tienen nuevamente acurracies cercanas a 0,7, lo que sugiere que el algoritmo no considera relevante el significado de las palabras para clasificar.\n",
    "\n",
    "#### MLP\n",
    "\n",
    "Nuevamente BOW y TFIDF poseen accuracies similares, sin embargo BOW obtiene en mayores accuracies para algunos largos de train data específicos (50). Para el caso de w2v se tienen accuracies mas irregulares que en los otros algoritmos, ya que varía entre 0,35 y 0,68. Sin embargo para todo largo de train size se tiene que W2V posee menor accuracy que los otros embeddings.\n",
    "\n",
    "#### SVM\n",
    "\n",
    "En este caso, TFIDF posee mayor accuracy que los otros embeddings (excepto para 50). Para el caso de BOW, se tiene menores accuracies que TFIDF. Y para el caso de W2V, para todo largo se tienen menores accuracies, excepto para largo pequeño, en donde los 3 embeddings poseens acurracies similares.\n",
    "\n",
    "#### Conclusiones generales\n",
    "\n",
    "De los resultados y del análisis obtenido, se tiene que para la tarea de clasificación actual, utilizar embeddings BOW o TFIDF permite obtener mayores accuracies que utilizando W2V. Esto implica que en los algoritmos utilizados, estos no consideran relevante la información del significado de las palabras, ya que se obtienen menores accuracies utilizando W2V y, por otro lado, solo realizando un conteo de las palabras dentro de los documentos (BOW) se pueden obtener altos valores de accuracies."
   ]
  }
 ],
 "metadata": {
  "kernelspec": {
   "display_name": "Python 3",
   "language": "python",
   "name": "python3"
  },
  "language_info": {
   "codemirror_mode": {
    "name": "ipython",
    "version": 3
   },
   "file_extension": ".py",
   "mimetype": "text/x-python",
   "name": "python",
   "nbconvert_exporter": "python",
   "pygments_lexer": "ipython3",
   "version": "3.6.7"
  }
 },
 "nbformat": 4,
 "nbformat_minor": 2
}
