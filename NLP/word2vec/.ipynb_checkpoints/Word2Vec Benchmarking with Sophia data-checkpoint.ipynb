{
 "cells": [
  {
   "cell_type": "markdown",
   "metadata": {},
   "source": [
    "# Análisis de embeddings para clasificación de noticias en medios chilenos (BOW, TDFIDF y W2V)\n",
    "\n",
    "1) Se entrena modelo Word2Vec para español.\n",
    "\n",
    "2) Se realiza embedding de noticas del medio \"La Cuarta\" y \"La Tercera\" utiliznado BOW, TFIDF, W2V\n",
    "\n",
    "3) Se entrenan algoritmos de clasificación de medio considernado el corpus de forma vectorizada por cada uno de los embeddings implementados anteriormente.\n",
    "\n",
    "4) Se analizan y comparan resultados."
   ]
  },
  {
   "cell_type": "markdown",
   "metadata": {},
   "source": [
    "### Load libraries"
   ]
  },
  {
   "cell_type": "code",
   "execution_count": 102,
   "metadata": {},
   "outputs": [],
   "source": [
    "from gensim.models import word2vec\n",
    "from IPython.display import display, HTML\n",
    "import pandas as pd\n",
    "from sklearn.feature_extraction.text import CountVectorizer, TfidfVectorizer\n",
    "from sklearn.pipeline import Pipeline\n",
    "from sklearn.linear_model import LogisticRegression # Log classifier\n",
    "from sklearn.model_selection import train_test_split # Split in train/test\n",
    "from sklearn import metrics\n",
    "import matplotlib.pyplot as plt\n",
    "import gensim \n",
    "import numpy as np\n",
    "import spacy\n",
    "from sklearn.model_selection import StratifiedShuffleSplit # for split data (train/test)\n",
    "from stop_words import get_stop_words # stop words\n",
    "from sklearn.ensemble import ExtraTreesClassifier\n",
    "from sklearn.neural_network import MLPClassifier # MLP NN\n",
    "from sklearn import svm # support vector machine"
   ]
  },
  {
   "cell_type": "markdown",
   "metadata": {},
   "source": [
    "### Load data"
   ]
  },
  {
   "cell_type": "code",
   "execution_count": 5,
   "metadata": {},
   "outputs": [
    {
     "name": "stdout",
     "output_type": "stream",
     "text": [
      "(200, 2)\n"
     ]
    },
    {
     "data": {
      "text/html": [
       "<div>\n",
       "<style scoped>\n",
       "    .dataframe tbody tr th:only-of-type {\n",
       "        vertical-align: middle;\n",
       "    }\n",
       "\n",
       "    .dataframe tbody tr th {\n",
       "        vertical-align: top;\n",
       "    }\n",
       "\n",
       "    .dataframe thead th {\n",
       "        text-align: right;\n",
       "    }\n",
       "</style>\n",
       "<table border=\"1\" class=\"dataframe\">\n",
       "  <thead>\n",
       "    <tr style=\"text-align: right;\">\n",
       "      <th></th>\n",
       "      <th>report</th>\n",
       "      <th>company</th>\n",
       "    </tr>\n",
       "  </thead>\n",
       "  <tbody>\n",
       "    <tr>\n",
       "      <th>0</th>\n",
       "      <td>Detectamos que JavaScript está desactivado en...</td>\n",
       "      <td>1</td>\n",
       "    </tr>\n",
       "    <tr>\n",
       "      <th>1</th>\n",
       "      <td>Detectamos que JavaScript está desactivado en...</td>\n",
       "      <td>1</td>\n",
       "    </tr>\n",
       "    <tr>\n",
       "      <th>2</th>\n",
       "      <td>Detectamos que JavaScript está desactivado en...</td>\n",
       "      <td>1</td>\n",
       "    </tr>\n",
       "    <tr>\n",
       "      <th>3</th>\n",
       "      <td>Para los diputados, el informe de auditoría q...</td>\n",
       "      <td>1</td>\n",
       "    </tr>\n",
       "    <tr>\n",
       "      <th>4</th>\n",
       "      <td>Ayer se concretó el cierre del primer Centro ...</td>\n",
       "      <td>1</td>\n",
       "    </tr>\n",
       "  </tbody>\n",
       "</table>\n",
       "</div>"
      ],
      "text/plain": [
       "                                              report  company\n",
       "0   Detectamos que JavaScript está desactivado en...        1\n",
       "1   Detectamos que JavaScript está desactivado en...        1\n",
       "2   Detectamos que JavaScript está desactivado en...        1\n",
       "3   Para los diputados, el informe de auditoría q...        1\n",
       "4   Ayer se concretó el cierre del primer Centro ...        1"
      ]
     },
     "execution_count": 5,
     "metadata": {},
     "output_type": "execute_result"
    }
   ],
   "source": [
    "# Analize data\n",
    "df = pd.read_csv('dataset-cuarta_vs_tercera.csv', sep = '|', header = None)\n",
    "\n",
    "# Get news and medium\n",
    "df = df.iloc[:,[1,3]]\n",
    "\n",
    "# display(df.iloc[1,1])\n",
    "\n",
    "# Get dummies variables\n",
    "dummies = pd.get_dummies(df[1], drop_first = True)\n",
    "df = pd.concat([df, dummies], axis=1)      \n",
    "df.drop([1], inplace=True, axis=1)\n",
    "\n",
    "# Add names\n",
    "df.columns = ['report', 'company']\n",
    "\n",
    "# company:\n",
    "# 0: La cuarta\n",
    "# 1: La tercera\n",
    "\n",
    "print(df.shape)\n",
    "df.head()"
   ]
  },
  {
   "cell_type": "markdown",
   "metadata": {},
   "source": [
    "### Analize classes (for check balancing)"
   ]
  },
  {
   "cell_type": "code",
   "execution_count": 104,
   "metadata": {},
   "outputs": [
    {
     "data": {
      "image/png": "[encoded data removed]",
      "text/plain": [
       "<Figure size 432x288 with 1 Axes>"
      ]
     },
     "metadata": {
      "needs_background": "light"
     },
     "output_type": "display_data"
    }
   ],
   "source": [
    "# Distribution of labels\n",
    "fig, ax = plt.subplots()\n",
    "\n",
    "# plot hist\n",
    "ax.hist(df.loc[df['company'] == 0, 'company'], bins = 10)\n",
    "ax.hist(df.loc[df['company'] == 1, 'company'], bins = 10)\n",
    "ax.set_xlabel('Class')\n",
    "ax.set_ylabel('N° instances')\n",
    "ax.title.set_text('N° instances of each class')"
   ]
  },
  {
   "cell_type": "markdown",
   "metadata": {},
   "source": [
    "#### Del gráfico anterior se tiene que las clases estan balanceadas."
   ]
  },
  {
   "cell_type": "markdown",
   "metadata": {},
   "source": [
    "### Define tokenizer of corpus"
   ]
  },
  {
   "cell_type": "code",
   "execution_count": 7,
   "metadata": {},
   "outputs": [],
   "source": [
    "# Tokenizer\n",
    "\n",
    "# Define own tokenizer\n",
    "\n",
    "nlp = spacy.load('es_core_news_sm')\n",
    "\n",
    "def own_tokenizer(sentence):\n",
    "    \n",
    "    tokens = []\n",
    "    \n",
    "    doc = nlp(sentence.lower().strip())\n",
    "    \n",
    "    for token in doc:\n",
    "        \n",
    "        # Filtering\n",
    "        if not token.is_space and not token.is_stop and not token.is_punct and not token.is_digit and not token.like_num:\n",
    "            \n",
    "            # add token to list in lemma form\n",
    "            tokens.append(token.lemma_)\n",
    "            \n",
    "    return tokens"
   ]
  },
  {
   "cell_type": "markdown",
   "metadata": {},
   "source": [
    "# BOW and TFIDF development"
   ]
  },
  {
   "cell_type": "markdown",
   "metadata": {},
   "source": [
    "### Stopwords to use in tokenizer"
   ]
  },
  {
   "cell_type": "code",
   "execution_count": 8,
   "metadata": {},
   "outputs": [],
   "source": [
    "# Stop words (not has information)\n",
    "stop_words = ['a','e','i','o','u',' ','  ','   ','  ','$','  ','y', '-', 'q','c', 'nna', 'e', 'l', '=', '<', '>','x','href','/',\n",
    "             'JavaScript', 'navegador', '¿', 'Twitter', 'Tweets', 'web', 'URL']\n",
    "\n",
    "# using stop words from library\n",
    "stop_words_lib = get_stop_words('spanish')\n",
    "\n",
    "# joining stop words\n",
    "stop_words = stop_words + stop_words_lib"
   ]
  },
  {
   "cell_type": "markdown",
   "metadata": {},
   "source": [
    "### Create vectorizer of BOW and TFIDF"
   ]
  },
  {
   "cell_type": "code",
   "execution_count": 9,
   "metadata": {},
   "outputs": [],
   "source": [
    "# Vectorizer\n",
    "\n",
    "# Bag of words\n",
    "bow_vector = CountVectorizer(tokenizer = own_tokenizer, ngram_range = (1,1))\n",
    "\n",
    "# TFIDF\n",
    "tfidf_vector = TfidfVectorizer(tokenizer = own_tokenizer, ngram_range = (1,1))"
   ]
  },
  {
   "cell_type": "markdown",
   "metadata": {},
   "source": [
    "### Get data individally"
   ]
  },
  {
   "cell_type": "code",
   "execution_count": 10,
   "metadata": {},
   "outputs": [],
   "source": [
    "# Get data\n",
    "X = df['report'] # the features we want to analyze\n",
    "y = df['company'] # the labels, or answers, we want to test against"
   ]
  },
  {
   "cell_type": "markdown",
   "metadata": {},
   "source": [
    "### Crate pipelines for BOW and TFIDF:\n",
    "\n",
    "1) Apply the vectorization\n",
    "\n",
    "2) Model to use"
   ]
  },
  {
   "cell_type": "code",
   "execution_count": 11,
   "metadata": {},
   "outputs": [],
   "source": [
    "# Create pipelines\n",
    "\n",
    "# Bag of words\n",
    "\n",
    "# Create pipeline using logistic regression\n",
    "pipe_bow_log = Pipeline([('bow vectorizer', bow_vector),\n",
    "                 ('logistic regression', LogisticRegression(solver = 'lbfgs'))])\n",
    "\n",
    "# Using extra trees classifier (it's base in decision tree (It's like a forest))\n",
    "pipe_bow_extra_trees = Pipeline([\n",
    "    (\"bow vectorizer\", bow_vector),\n",
    "    (\"extra trees\", ExtraTreesClassifier(n_estimators=200))])\n",
    "\n",
    "# using MLP\n",
    "pipe_bow_MLP = Pipeline([\n",
    "    (\"bow vectorizer\", bow_vector),\n",
    "    (\"MLP\", MLPClassifier(solver='lbfgs', alpha=1e-5, hidden_layer_sizes=(1000, 2), random_state=1))\n",
    "])\n",
    "\n",
    "# Using SVM\n",
    "pipe_bow_SVM = Pipeline([\n",
    "    (\"bow vectorizer\", bow_vector),\n",
    "    (\"SVM\", svm.SVC(gamma='scale'))\n",
    "])\n",
    "\n",
    "# TFIDF\n",
    "\n",
    "# log reg using tfidf\n",
    "pipe_tfidf_log = Pipeline([('tfidf vectorizer', tfidf_vector),\n",
    "                 ('logistic regression', LogisticRegression(solver = 'lbfgs'))])\n",
    "\n",
    "# Using extra trees classifier (it's base in decision tree (It's like a forest))\n",
    "pipe_tfidf_extra_trees = Pipeline([\n",
    "    (\"tfidf vectorizer\", tfidf_vector),\n",
    "    (\"extra trees\", ExtraTreesClassifier(n_estimators=200))])\n",
    "\n",
    "# using MLP\n",
    "pipe_tfidf_MLP = Pipeline([\n",
    "    (\"tfidf vectorizer\", tfidf_vector),\n",
    "    (\"MLP\", MLPClassifier(solver='lbfgs', alpha=1e-5, hidden_layer_sizes=(1000, 2), random_state=1))\n",
    "])\n",
    "\n",
    "# Using SVM\n",
    "pipe_tfidf_SVM = Pipeline([\n",
    "    (\"tfidf vectorizer\", tfidf_vector),\n",
    "    (\"SVM\", svm.SVC(gamma='scale'))\n",
    "])\n",
    "\n",
    "\n",
    "# LIST OF MODELS\n",
    "\n",
    "# list of models\n",
    "models_bow_tfidf = [\n",
    "    ('bow + log reg', pipe_bow_log),\n",
    "    ('bow + ext_tree', pipe_bow_extra_trees),\n",
    "    ('bow + MLP', pipe_bow_MLP),\n",
    "    ('bow + SVM', pipe_bow_SVM),\n",
    "    \n",
    "    ('tfidf + log reg', pipe_tfidf_log),\n",
    "    ('tfidf + ext_tree', pipe_tfidf_extra_trees),\n",
    "    ('tfidf + MLP', pipe_tfidf_MLP),\n",
    "    ('tfidf + SVM', pipe_tfidf_SVM)\n",
    "    \n",
    "]"
   ]
  },
  {
   "cell_type": "markdown",
   "metadata": {},
   "source": [
    "### Train each model (bow and tfidf) considering differentes sizes of trainig data. In each training, it gets the accuracy of each model and store in scores"
   ]
  },
  {
   "cell_type": "code",
   "execution_count": 12,
   "metadata": {},
   "outputs": [
    {
     "name": "stdout",
     "output_type": "stream",
     "text": [
      "bow + log reg\n",
      "train size:  2\n",
      "train size:  49\n",
      "train size:  96\n",
      "train size:  143\n",
      "train size:  190\n",
      "bow + ext_tree\n",
      "train size:  2\n",
      "train size:  49\n",
      "train size:  96\n",
      "train size:  143\n",
      "train size:  190\n",
      "bow + MLP\n",
      "train size:  2\n",
      "train size:  49\n",
      "train size:  96\n",
      "train size:  143\n",
      "train size:  190\n",
      "bow + SVM\n",
      "train size:  2\n",
      "train size:  49\n",
      "train size:  96\n",
      "train size:  143\n",
      "train size:  190\n",
      "tfidf + log reg\n",
      "train size:  2\n",
      "train size:  49\n",
      "train size:  96\n",
      "train size:  143\n",
      "train size:  190\n",
      "tfidf + ext_tree\n",
      "train size:  2\n",
      "train size:  49\n",
      "train size:  96\n",
      "train size:  143\n",
      "train size:  190\n",
      "tfidf + MLP\n",
      "train size:  2\n",
      "train size:  49\n",
      "train size:  96\n",
      "train size:  143\n",
      "train size:  190\n",
      "tfidf + SVM\n",
      "train size:  2\n",
      "train size:  49\n",
      "train size:  96\n",
      "train size:  143\n",
      "train size:  190\n"
     ]
    },
    {
     "data": {
      "text/plain": [
       "[{'name': 'bow + log reg',\n",
       "  'accuracy': [0.51010101010101,\n",
       "   0.9139072847682119,\n",
       "   0.9230769230769231,\n",
       "   0.9310344827586207,\n",
       "   0.9090909090909091]},\n",
       " {'name': 'bow + ext_tree',\n",
       "  'accuracy': [0.601010101010101,\n",
       "   0.8675496688741722,\n",
       "   0.9423076923076923,\n",
       "   0.9482758620689655,\n",
       "   1.0]},\n",
       " {'name': 'bow + MLP',\n",
       "  'accuracy': [0.35858585858585856,\n",
       "   0.9470198675496688,\n",
       "   0.5,\n",
       "   0.9655172413793104,\n",
       "   1.0]},\n",
       " {'name': 'bow + SVM',\n",
       "  'accuracy': [0.5757575757575758,\n",
       "   0.6821192052980133,\n",
       "   0.7019230769230769,\n",
       "   0.7413793103448276,\n",
       "   0.7272727272727273]},\n",
       " {'name': 'tfidf + log reg',\n",
       "  'accuracy': [0.5353535353535354,\n",
       "   0.6490066225165563,\n",
       "   0.7115384615384616,\n",
       "   0.7241379310344828,\n",
       "   0.8181818181818182]},\n",
       " {'name': 'tfidf + ext_tree',\n",
       "  'accuracy': [0.5050505050505051,\n",
       "   0.9072847682119205,\n",
       "   0.9807692307692307,\n",
       "   0.9482758620689655,\n",
       "   1.0]},\n",
       " {'name': 'tfidf + MLP',\n",
       "  'accuracy': [0.51010101010101,\n",
       "   0.7019867549668874,\n",
       "   0.5,\n",
       "   0.9827586206896551,\n",
       "   0.7272727272727273]},\n",
       " {'name': 'tfidf + SVM',\n",
       "  'accuracy': [0.6565656565656566,\n",
       "   0.6357615894039735,\n",
       "   0.7980769230769231,\n",
       "   0.8620689655172413,\n",
       "   0.8181818181818182]}]"
      ]
     },
     "execution_count": 12,
     "metadata": {},
     "output_type": "execute_result"
    }
   ],
   "source": [
    "# Train models\n",
    "\n",
    "# store score of each model\n",
    "scores = []\n",
    "\n",
    "# differents size of training examples\n",
    "num_train = np.linspace(start = 2, stop = y.size - 10, num = 5).astype(int)\n",
    "\n",
    "# iterate through each model of bow and tfidf\n",
    "for name, model in models_bow_tfidf:\n",
    "    \n",
    "    # restart scores for each model\n",
    "    score = []\n",
    "    \n",
    "    print(name)\n",
    "    \n",
    "    # iterate over each train size\n",
    "    for train_size in num_train:\n",
    "        \n",
    "        print('train size: ', train_size)\n",
    "        \n",
    "        test_size = 1 - (train_size / float(len(y)))\n",
    "        \n",
    "        sp = StratifiedShuffleSplit(n_splits=1, test_size = test_size)\n",
    "        \n",
    "        sp.get_n_splits(X, y)\n",
    "        \n",
    "        for train, test in sp.split(X, y):\n",
    "            \n",
    "            X_train, X_test = X[train], X[test]\n",
    "            y_train, y_test = y[train], y[test]\n",
    "            \n",
    "            acc = (metrics.accuracy_score(model.fit(X_train, y_train).predict(X_test), y_test))\n",
    "            \n",
    "            score.append(acc)\n",
    "    \n",
    "    # add scores to list\n",
    "    scores.append({\n",
    "        'name': name,\n",
    "        'accuracy': score\n",
    "    })\n",
    "    \n",
    "    \n",
    "scores"
   ]
  },
  {
   "cell_type": "markdown",
   "metadata": {},
   "source": [
    "# Word2Vec development"
   ]
  },
  {
   "cell_type": "markdown",
   "metadata": {},
   "source": [
    "### get data in format to w2v (tokenize each doc)"
   ]
  },
  {
   "cell_type": "code",
   "execution_count": 13,
   "metadata": {},
   "outputs": [],
   "source": [
    "# Tokenize each doc\n",
    "X_w2v = [ own_tokenizer(report) for report in df['report']]"
   ]
  },
  {
   "cell_type": "code",
   "execution_count": 14,
   "metadata": {},
   "outputs": [],
   "source": [
    "# Transform list to ndarray\n",
    "X_w2v = np.array(X_w2v)"
   ]
  },
  {
   "cell_type": "markdown",
   "metadata": {},
   "source": [
    "### Get w2v model and the representation of each word in w2v"
   ]
  },
  {
   "cell_type": "code",
   "execution_count": 92,
   "metadata": {},
   "outputs": [
    {
     "name": "stderr",
     "output_type": "stream",
     "text": [
      "/home/leo/Desktop/master_UACH/env/lib/python3.6/site-packages/ipykernel_launcher.py:8: DeprecationWarning: Call to deprecated `syn0` (Attribute will be removed in 4.0.0, use self.vectors instead).\n",
      "  \n"
     ]
    }
   ],
   "source": [
    "# dimensions of w2v\n",
    "w2v_dim = 500\n",
    "\n",
    "# Create w2v model\n",
    "model_w2v = gensim.models.Word2Vec(X_w2v, size = w2v_dim)\n",
    "\n",
    "# Dictionary: key: each word, value: its w2v representation (vector)\n",
    "w2v = dict(zip(model_w2v.wv.index2word, model_w2v.wv.syn0))"
   ]
  },
  {
   "cell_type": "markdown",
   "metadata": {},
   "source": [
    "### Embedding of each doc (to format w2v)"
   ]
  },
  {
   "cell_type": "code",
   "execution_count": 93,
   "metadata": {},
   "outputs": [],
   "source": [
    "# Embedding of docs using w2v\n",
    "# this get a vector of each document of dimension (dimension_vector_w2v, 1), so the total array is (n_docs, dimension_vector_w2v)\n",
    "class MeanEmbeddingVectorizer(object):\n",
    "      \n",
    "    def __init__(self, word2vec):\n",
    "        self.word2vec = word2vec\n",
    "        # if a text is empty we should return a vector of zeros\n",
    "        # with the same dimensionality as all the other vectors\n",
    "        self.dim = len(word2vec.values())\n",
    "\n",
    "    def fit(self, X, y):\n",
    "        return self\n",
    "\n",
    "    def transform(self, X):\n",
    "        \n",
    "        # This mean each dimension of each word in doc, it getting the w2v representation of each doc\n",
    "        doc_w2v = np.array([\n",
    "            np.mean([self.word2vec[w] for w in words if w in self.word2vec]\n",
    "                    or [np.zeros(self.dim)], axis=0)\n",
    "            for words in X\n",
    "        ])\n",
    "        \n",
    "#         print(doc_w2v.shape)\n",
    "#         print(doc_w2v)\n",
    "        # Return vlaue\n",
    "        return doc_w2v\n",
    "    "
   ]
  },
  {
   "cell_type": "markdown",
   "metadata": {},
   "source": [
    "### Pipelines for w2v:\n",
    "\n",
    "1) Apply w2v transformation\n",
    "\n",
    "2) Apply model to use"
   ]
  },
  {
   "cell_type": "code",
   "execution_count": 100,
   "metadata": {},
   "outputs": [],
   "source": [
    "# pipe for traing using w2v\n",
    "\n",
    "# using logistic regression\n",
    "pipe_word2vec_log = Pipeline([\n",
    "    (\"word2vec vectorizer\", MeanEmbeddingVectorizer(w2v)),\n",
    "    (\"logistic regression\", LogisticRegression(solver = 'lbfgs'))])\n",
    "\n",
    "# Using extra trees classifier (it's base in decision tree (It's like a forest))\n",
    "pipe_word2vec_extra_trees = Pipeline([\n",
    "    (\"word2vec vectorizer\", MeanEmbeddingVectorizer(w2v)),\n",
    "    (\"extra trees\", ExtraTreesClassifier(n_estimators=200))])\n",
    "\n",
    "# using MLP\n",
    "pipe_word2vec_MLP = Pipeline([\n",
    "    (\"word2vec vectorizer\", MeanEmbeddingVectorizer(w2v)),\n",
    "    (\"MLP\", MLPClassifier(solver='lbfgs', alpha=1e-5, hidden_layer_sizes=(1000, 2), random_state=1))\n",
    "])\n",
    "\n",
    "# Using SVM\n",
    "pipe_word2vec_SVM = Pipeline([\n",
    "    (\"word2vec vectorizer\", MeanEmbeddingVectorizer(w2v)),\n",
    "    (\"SVM\", svm.SVC(gamma='scale'))\n",
    "])\n",
    "\n",
    "# list of models\n",
    "# Add new model here\n",
    "models_w2v = [\n",
    "    ('w2v + log reg', pipe_word2vec_log), \n",
    "    ('w2v + ext_trees', pipe_word2vec_extra_trees), \n",
    "    ('w2v + MLP', pipe_word2vec_MLP),\n",
    "    ('w2v + SVM', pipe_word2vec_SVM),\n",
    "]"
   ]
  },
  {
   "cell_type": "markdown",
   "metadata": {},
   "source": [
    "### Train each model using w2v representation. Training is by differentes training sizes. For each model, it gets the accuracy and add it to score list"
   ]
  },
  {
   "cell_type": "code",
   "execution_count": 101,
   "metadata": {},
   "outputs": [
    {
     "data": {
      "text/plain": [
       "[{'name': 'bow + log reg',\n",
       "  'accuracy': [0.51010101010101,\n",
       "   0.9139072847682119,\n",
       "   0.9230769230769231,\n",
       "   0.9310344827586207,\n",
       "   0.9090909090909091]},\n",
       " {'name': 'bow + ext_tree',\n",
       "  'accuracy': [0.601010101010101,\n",
       "   0.8675496688741722,\n",
       "   0.9423076923076923,\n",
       "   0.9482758620689655,\n",
       "   1.0]},\n",
       " {'name': 'bow + MLP',\n",
       "  'accuracy': [0.35858585858585856,\n",
       "   0.9470198675496688,\n",
       "   0.5,\n",
       "   0.9655172413793104,\n",
       "   1.0]},\n",
       " {'name': 'bow + SVM',\n",
       "  'accuracy': [0.5757575757575758,\n",
       "   0.6821192052980133,\n",
       "   0.7019230769230769,\n",
       "   0.7413793103448276,\n",
       "   0.7272727272727273]},\n",
       " {'name': 'tfidf + log reg',\n",
       "  'accuracy': [0.5353535353535354,\n",
       "   0.6490066225165563,\n",
       "   0.7115384615384616,\n",
       "   0.7241379310344828,\n",
       "   0.8181818181818182]},\n",
       " {'name': 'tfidf + ext_tree',\n",
       "  'accuracy': [0.5050505050505051,\n",
       "   0.9072847682119205,\n",
       "   0.9807692307692307,\n",
       "   0.9482758620689655,\n",
       "   1.0]},\n",
       " {'name': 'tfidf + MLP',\n",
       "  'accuracy': [0.51010101010101,\n",
       "   0.7019867549668874,\n",
       "   0.5,\n",
       "   0.9827586206896551,\n",
       "   0.7272727272727273]},\n",
       " {'name': 'tfidf + SVM',\n",
       "  'accuracy': [0.6565656565656566,\n",
       "   0.6357615894039735,\n",
       "   0.7980769230769231,\n",
       "   0.8620689655172413,\n",
       "   0.8181818181818182]},\n",
       " {'name': 'w2v + log regg',\n",
       "  'accuracy': [0.6616161616161617,\n",
       "   0.5827814569536424,\n",
       "   0.5961538461538461,\n",
       "   0.603448275862069,\n",
       "   0.45454545454545453]},\n",
       " {'name': 'w2v + ext_trees',\n",
       "  'accuracy': [0.6161616161616161,\n",
       "   0.7417218543046358,\n",
       "   0.7019230769230769,\n",
       "   0.7241379310344828,\n",
       "   0.6363636363636364]},\n",
       " {'name': 'w2v + MLP',\n",
       "  'accuracy': [0.3282828282828283,\n",
       "   0.695364238410596,\n",
       "   0.6346153846153846,\n",
       "   0.6379310344827587,\n",
       "   0.45454545454545453]},\n",
       " {'name': 'w2v + SVM',\n",
       "  'accuracy': [0.6565656565656566,\n",
       "   0.4966887417218543,\n",
       "   0.5865384615384616,\n",
       "   0.5862068965517241,\n",
       "   0.45454545454545453]},\n",
       " {'name': 'w2v + log reg',\n",
       "  'accuracy': [0.6818181818181818,\n",
       "   0.6291390728476821,\n",
       "   0.6730769230769231,\n",
       "   0.7241379310344828,\n",
       "   0.7272727272727273]},\n",
       " {'name': 'w2v + ext_trees',\n",
       "  'accuracy': [0.6212121212121212,\n",
       "   0.7086092715231788,\n",
       "   0.7884615384615384,\n",
       "   0.7758620689655172,\n",
       "   0.6363636363636364]},\n",
       " {'name': 'w2v + MLP',\n",
       "  'accuracy': [0.5252525252525253,\n",
       "   0.7019867549668874,\n",
       "   0.6346153846153846,\n",
       "   0.6206896551724138,\n",
       "   0.6363636363636364]},\n",
       " {'name': 'w2v + SVM',\n",
       "  'accuracy': [0.5909090909090909,\n",
       "   0.4966887417218543,\n",
       "   0.5961538461538461,\n",
       "   0.6724137931034483,\n",
       "   0.45454545454545453]},\n",
       " {'name': 'w2v + log reg',\n",
       "  'accuracy': [0.6363636363636364,\n",
       "   0.6026490066225165,\n",
       "   0.6442307692307693,\n",
       "   0.6379310344827587,\n",
       "   0.5454545454545454]},\n",
       " {'name': 'w2v + ext_trees',\n",
       "  'accuracy': [0.3838383838383838,\n",
       "   0.7218543046357616,\n",
       "   0.7211538461538461,\n",
       "   0.6724137931034483,\n",
       "   0.6363636363636364]},\n",
       " {'name': 'w2v + MLP',\n",
       "  'accuracy': [0.5,\n",
       "   0.6357615894039735,\n",
       "   0.7596153846153846,\n",
       "   0.7413793103448276,\n",
       "   0.5454545454545454]},\n",
       " {'name': 'w2v + SVM',\n",
       "  'accuracy': [0.5757575757575758,\n",
       "   0.4966887417218543,\n",
       "   0.6730769230769231,\n",
       "   0.603448275862069,\n",
       "   0.45454545454545453]},\n",
       " {'name': 'w2v + log reg',\n",
       "  'accuracy': [0.5454545454545454,\n",
       "   0.609271523178808,\n",
       "   0.6153846153846154,\n",
       "   0.6896551724137931,\n",
       "   0.45454545454545453]},\n",
       " {'name': 'w2v + ext_trees',\n",
       "  'accuracy': [0.5858585858585859,\n",
       "   0.695364238410596,\n",
       "   0.7307692307692307,\n",
       "   0.7413793103448276,\n",
       "   0.8181818181818182]},\n",
       " {'name': 'w2v + MLP',\n",
       "  'accuracy': [0.40404040404040403,\n",
       "   0.7549668874172185,\n",
       "   0.6346153846153846,\n",
       "   0.6551724137931034,\n",
       "   0.8181818181818182]},\n",
       " {'name': 'w2v + SVM',\n",
       "  'accuracy': [0.5858585858585859,\n",
       "   0.4966887417218543,\n",
       "   0.6153846153846154,\n",
       "   0.6206896551724138,\n",
       "   0.45454545454545453]},\n",
       " {'name': 'w2v + log reg',\n",
       "  'accuracy': [0.5606060606060606,\n",
       "   0.6357615894039735,\n",
       "   0.6538461538461539,\n",
       "   0.6551724137931034,\n",
       "   0.45454545454545453]},\n",
       " {'name': 'w2v + ext_trees',\n",
       "  'accuracy': [0.5404040404040404,\n",
       "   0.6225165562913907,\n",
       "   0.7211538461538461,\n",
       "   0.7068965517241379,\n",
       "   0.6363636363636364]},\n",
       " {'name': 'w2v + MLP',\n",
       "  'accuracy': [0.5252525252525253,\n",
       "   0.6225165562913907,\n",
       "   0.625,\n",
       "   0.5689655172413793,\n",
       "   0.45454545454545453]},\n",
       " {'name': 'w2v + SVM',\n",
       "  'accuracy': [0.5454545454545454,\n",
       "   0.4966887417218543,\n",
       "   0.6057692307692307,\n",
       "   0.603448275862069,\n",
       "   0.45454545454545453]},\n",
       " {'name': 'w2v + Naive Bayesian',\n",
       "  'accuracy': [0.4393939393939394,\n",
       "   0.6423841059602649,\n",
       "   0.7019230769230769,\n",
       "   0.7413793103448276,\n",
       "   0.6363636363636364]}]"
      ]
     },
     "execution_count": 101,
     "metadata": {},
     "output_type": "execute_result"
    }
   ],
   "source": [
    "# get labels\n",
    "y_w2v = df['company']\n",
    "\n",
    "# iterate through each model of w2v\n",
    "for name, model in models_w2v:\n",
    "        \n",
    "    score = []\n",
    "    \n",
    "    # iterate over each train size\n",
    "    for train_size in num_train:\n",
    "        \n",
    "        test_size = 1 - (train_size / float(len(y_w2v)))\n",
    "        \n",
    "        sp = StratifiedShuffleSplit(n_splits=1, test_size = test_size)\n",
    "        \n",
    "        sp.get_n_splits(X_w2v, y_w2v)\n",
    "        \n",
    "        for train, test in sp.split(X_w2v, y_w2v):\n",
    "            \n",
    "            X_train_w2v, X_test_w2v = X[train], X[test]\n",
    "            y_train_w2v, y_test_w2v = y[train], y[test]\n",
    "            \n",
    "            acc = (metrics.accuracy_score(model.fit(X_train_w2v, y_train_w2v).predict(X_test_w2v), y_test_w2v))\n",
    "            \n",
    "            score.append(acc)\n",
    "    \n",
    "    # add scores to list\n",
    "    scores.append({\n",
    "        'name': name,\n",
    "        'accuracy': score\n",
    "    })\n",
    "    \n",
    "    \n",
    "scores"
   ]
  },
  {
   "cell_type": "markdown",
   "metadata": {},
   "source": [
    "### Analyze results"
   ]
  },
  {
   "cell_type": "markdown",
   "metadata": {},
   "source": [
    "### Compare results from bow, tfidf and w2v"
   ]
  },
  {
   "cell_type": "code",
   "execution_count": 96,
   "metadata": {},
   "outputs": [
    {
     "data": {
      "text/plain": [
       "Text(0, 0.5, 'Accuracy')"
      ]
     },
     "execution_count": 96,
     "metadata": {},
     "output_type": "execute_result"
    },
    {
     "data": {
      "image/png": "[encoded data removed]",
      "text/plain": [
       "<Figure size 1224x360 with 4 Axes>"
      ]
     },
     "metadata": {
      "needs_background": "light"
     },
     "output_type": "display_data"
    }
   ],
   "source": [
    "fig, ax = plt.subplots(1,4, figsize = (17,5))\n",
    "\n",
    "# Log regression\n",
    "num = 0\n",
    "ax[num].plot(num_train, next(item for item in scores if item[\"name\"] == \"bow + log reg\")['accuracy'], label = next(item for item in scores if item[\"name\"] == \"bow + log reg\")['name'], marker = '.')\n",
    "ax[num].plot(num_train, next(item for item in scores if item[\"name\"] == \"tfidf + log reg\")['accuracy'], label = next(item for item in scores if item[\"name\"] == \"tfidf + log reg\")['name'], marker = '.')\n",
    "ax[num].plot(num_train, next(item for item in scores if item[\"name\"] == \"w2v + log reg\")['accuracy'], linewidth = 5, label = next(item for item in scores if item[\"name\"] == \"w2v + log reg\")['name'], marker = '.')\n",
    "ax[num].legend()\n",
    "ax[num].title.set_text('Logistic Regression')\n",
    "ax[num].set_xlabel('Training data')\n",
    "ax[num].set_ylabel('Accuracy')\n",
    "\n",
    "# extra trees\n",
    "num = 1\n",
    "ax[num].plot(num_train, next(item for item in scores if item[\"name\"] == \"bow + ext_tree\")['accuracy'], label = next(item for item in scores if item[\"name\"] == \"bow + ext_tree\")['name'], marker = '.')\n",
    "ax[num].plot(num_train, next(item for item in scores if item[\"name\"] == \"tfidf + ext_tree\")['accuracy'], label = next(item for item in scores if item[\"name\"] == \"tfidf + ext_tree\")['name'], marker = '.')\n",
    "ax[num].plot(num_train, next(item for item in scores if item[\"name\"] == \"w2v + ext_trees\")['accuracy'], linewidth = 5,label = next(item for item in scores if item[\"name\"] == \"w2v + ext_trees\")['name'], marker = '.')\n",
    "ax[num].legend()\n",
    "ax[num].title.set_text('Extra trees')\n",
    "ax[num].set_xlabel('Training data')\n",
    "ax[num].set_ylabel('Accuracy')\n",
    "\n",
    "# MLP\n",
    "num = 2\n",
    "ax[num].plot(num_train, next(item for item in scores if item[\"name\"] == \"bow + MLP\")['accuracy'], label = next(item for item in scores if item[\"name\"] == \"bow + MLP\")['name'], marker = '.')\n",
    "ax[num].plot(num_train, next(item for item in scores if item[\"name\"] == \"tfidf + MLP\")['accuracy'], label = next(item for item in scores if item[\"name\"] == \"tfidf + MLP\")['name'], marker = '.')\n",
    "ax[num].plot(num_train, next(item for item in scores if item[\"name\"] == \"w2v + MLP\")['accuracy'], linewidth = 5,label = next(item for item in scores if item[\"name\"] == \"w2v + MLP\")['name'], marker = '.')\n",
    "ax[num].legend()\n",
    "ax[num].title.set_text('MLP')\n",
    "ax[num].set_xlabel('Training data')\n",
    "ax[num].set_ylabel('Accuracy')\n",
    "\n",
    "# MLP\n",
    "num = 3\n",
    "ax[num].plot(num_train, next(item for item in scores if item[\"name\"] == \"bow + SVM\")['accuracy'], label = next(item for item in scores if item[\"name\"] == \"bow + SVM\")['name'], marker = '.')\n",
    "ax[num].plot(num_train, next(item for item in scores if item[\"name\"] == \"tfidf + SVM\")['accuracy'], label = next(item for item in scores if item[\"name\"] == \"tfidf + SVM\")['name'], marker = '.')\n",
    "ax[num].plot(num_train, next(item for item in scores if item[\"name\"] == \"w2v + SVM\")['accuracy'], linewidth = 5,label = next(item for item in scores if item[\"name\"] == \"w2v + SVM\")['name'], marker = '.')\n",
    "ax[num].legend()\n",
    "ax[num].title.set_text('SVM')\n",
    "ax[num].set_xlabel('Training data')\n",
    "ax[num].set_ylabel('Accuracy')"
   ]
  },
  {
   "cell_type": "markdown",
   "metadata": {},
   "source": [
    "### Discusion\n",
    "\n",
    "#### Regresión logística:\n",
    "\n",
    "Para el caso de embedding utilizando BOW, se requiere solamente 50 ejemplos para alcanzar accuracy altos (superiores a 0,9) y que agregar mas datos para este problema de clasificación logra aumentar el acurracy pero en poca cantidad. Al tener el máximo número de datos de entrenamiento (Se escogen 10 menos que el maximo conjunto de datos), el modelo tiende a sobreajustarse al training set por lo que disminuye el accuracy sobre el testing set. \n",
    "\n",
    "Utilizando TFIDF se obtiene accuracies menores que BOW, lo que sugiere que en esta tarea de clasificación, hacer un embedding que de importancia a las palabras mas relevantes (palabras que logran diferenciar entre documentos) no aporta para la clasificación con logistic regression.\n",
    "\n",
    "Finalmente, para el caso de w2v, se tienen accuracies cercanas a 0,7, las cuales son las menores comparadas con BOW y TFIDF (para 50 o mas datos de entrenamiento). Esto sugiere que el embedding usando w2v no aporta para esta tarea de clasificación, lo que significa que el algoritmo no considera relevante el significado de las palabras (propósito de w2v) para clasificar por medios. \n",
    "\n",
    "Por otro lado, cabe destacar que w2v mantuvo un accuracy cercano a 0,7 para todo conjunto de datos (incluyendo 2 datos de entrenamiento), sin embargo los otros embeddings poseen menores accuracies para pocos datos de entrenamiento.\n",
    "\n",
    "#### Extra trees\n",
    "\n",
    "Utilizando BOW y TFIDF se obtiene accuracies similares para todo tamaño de conjunto de entrenamiento. En cambio, utilizando w2v, se tienen nuevamente acurracies cercanas a 0,7, lo que sugiere que el algoritmo no considera relevante el significado de las palabras para clasificar.\n",
    "\n",
    "#### MLP\n",
    "\n",
    "Nuevamente BOW y TFIDF poseen accuracies similares, sin embargo BOW obtiene en mayores accuracies para algunos largos de train data específicos (50). Para el caso de w2v se tienen accuracies mas irregulares que en los otros algoritmos, ya que varía entre 0,35 y 0,68. Sin embargo para todo largo de train size se tiene que W2V posee menor accuracy que los otros embeddings.\n",
    "\n",
    "#### SVM\n",
    "\n",
    "En este caso, TFIDF posee mayor accuracy que los otros embeddings (excepto para 50). Para el caso de BOW, se tiene menores accuracies que TFIDF. Y para el caso de W2V, para todo largo se tienen menores accuracies, excepto para largo pequeño, en donde los 3 embeddings poseens acurracies similares.\n",
    "\n",
    "#### Conclusiones generales\n",
    "\n",
    "De los resultados y del análisis obtenido, se tiene que para la tarea de clasificación actual, utilizar embeddings BOW o TFIDF permite obtener mayores accuracies que utilizando W2V. Esto implica que en los algoritmos utilizados, estos no consideran relevante la información del significado de las palabras, ya que se obtienen menores accuracies utilizando W2V y, por otro lado, solo realizando un conteo de las palabras dentro de los documentos (BOW) se pueden obtener altos valores de accuracies."
   ]
  }
 ],
 "metadata": {
  "kernelspec": {
   "display_name": "Python 3",
   "language": "python",
   "name": "python3"
  },
  "language_info": {
   "codemirror_mode": {
    "name": "ipython",
    "version": 3
   },
   "file_extension": ".py",
   "mimetype": "text/x-python",
   "name": "python",
   "nbconvert_exporter": "python",
   "pygments_lexer": "ipython3",
   "version": "3.6.7"
  }
 },
 "nbformat": 4,
 "nbformat_minor": 2
}
