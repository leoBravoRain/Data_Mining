{
 "cells": [
  {
   "cell_type": "markdown",
   "metadata": {},
   "source": [
    "#### Analisis\n",
    "Entrenar un modelo Word2Vec para el español. Se puede utilizar agrupar datasets de \"Sophia\" en un solo dataset grande.\n",
    "\n",
    "Entrenar distintos modelos de clasificación de textos, utilizando Word2Vec y sin utilizar Word2Vec, para resolver el problema de clasificación siguiente: reconocer automáticamente el medio qlas noticias según el nombre del medio."
   ]
  },
  {
   "cell_type": "code",
   "execution_count": 1,
   "metadata": {},
   "outputs": [],
   "source": [
    "from gensim.models import word2vec\n",
    "from IPython.display import display, HTML\n",
    "import pandas as pd\n",
    "from sklearn.feature_extraction.text import CountVectorizer, TfidfVectorizer\n",
    "from sklearn.pipeline import Pipeline\n",
    "from sklearn.linear_model import LogisticRegression # Log classifier\n",
    "from sklearn.model_selection import train_test_split # Split in train/test\n",
    "from sklearn import metrics\n",
    "import matplotlib.pyplot as plt\n",
    "import gensim \n",
    "import numpy as np\n",
    "import spacy\n",
    "from sklearn.model_selection import StratifiedShuffleSplit # for split data (train/test)"
   ]
  },
  {
   "cell_type": "code",
   "execution_count": 2,
   "metadata": {},
   "outputs": [
    {
     "data": {
      "text/html": [
       "<div>\n",
       "<style scoped>\n",
       "    .dataframe tbody tr th:only-of-type {\n",
       "        vertical-align: middle;\n",
       "    }\n",
       "\n",
       "    .dataframe tbody tr th {\n",
       "        vertical-align: top;\n",
       "    }\n",
       "\n",
       "    .dataframe thead th {\n",
       "        text-align: right;\n",
       "    }\n",
       "</style>\n",
       "<table border=\"1\" class=\"dataframe\">\n",
       "  <thead>\n",
       "    <tr style=\"text-align: right;\">\n",
       "      <th></th>\n",
       "      <th>report</th>\n",
       "      <th>company</th>\n",
       "    </tr>\n",
       "  </thead>\n",
       "  <tbody>\n",
       "    <tr>\n",
       "      <th>0</th>\n",
       "      <td>Detectamos que JavaScript está desactivado en...</td>\n",
       "      <td>1</td>\n",
       "    </tr>\n",
       "    <tr>\n",
       "      <th>1</th>\n",
       "      <td>Detectamos que JavaScript está desactivado en...</td>\n",
       "      <td>1</td>\n",
       "    </tr>\n",
       "    <tr>\n",
       "      <th>2</th>\n",
       "      <td>Detectamos que JavaScript está desactivado en...</td>\n",
       "      <td>1</td>\n",
       "    </tr>\n",
       "    <tr>\n",
       "      <th>3</th>\n",
       "      <td>Para los diputados, el informe de auditoría q...</td>\n",
       "      <td>1</td>\n",
       "    </tr>\n",
       "    <tr>\n",
       "      <th>4</th>\n",
       "      <td>Ayer se concretó el cierre del primer Centro ...</td>\n",
       "      <td>1</td>\n",
       "    </tr>\n",
       "  </tbody>\n",
       "</table>\n",
       "</div>"
      ],
      "text/plain": [
       "                                              report  company\n",
       "0   Detectamos que JavaScript está desactivado en...        1\n",
       "1   Detectamos que JavaScript está desactivado en...        1\n",
       "2   Detectamos que JavaScript está desactivado en...        1\n",
       "3   Para los diputados, el informe de auditoría q...        1\n",
       "4   Ayer se concretó el cierre del primer Centro ...        1"
      ]
     },
     "execution_count": 2,
     "metadata": {},
     "output_type": "execute_result"
    }
   ],
   "source": [
    "# Analize data\n",
    "df = pd.read_csv('dataset-cuarta_vs_tercera.csv', sep = '|', header = None)\n",
    "\n",
    "# Get news and medium\n",
    "df = df.iloc[:,[1,3]]\n",
    "\n",
    "# display(df.iloc[1,:])\n",
    "\n",
    "# Get dummies variables\n",
    "dummies = pd.get_dummies(df[1], drop_first = True)\n",
    "df = pd.concat([df, dummies], axis=1)      \n",
    "df.drop([1], inplace=True, axis=1)\n",
    "\n",
    "# Add names\n",
    "df.columns = ['report', 'company']\n",
    "\n",
    "# company:\n",
    "# 0: La cuarta\n",
    "# 1: La tercera\n",
    "\n",
    "df.head()"
   ]
  },
  {
   "cell_type": "code",
   "execution_count": 3,
   "metadata": {},
   "outputs": [
    {
     "data": {
      "text/plain": [
       "(array([  0.,   0.,   0.,   0.,   0., 100.,   0.,   0.,   0.,   0.]),\n",
       " array([0.5, 0.6, 0.7, 0.8, 0.9, 1. , 1.1, 1.2, 1.3, 1.4, 1.5]),\n",
       " <a list of 10 Patch objects>)"
      ]
     },
     "execution_count": 3,
     "metadata": {},
     "output_type": "execute_result"
    },
    {
     "data": {
      "image/png": "[encoded data removed]",
      "text/plain": [
       "<Figure size 432x288 with 1 Axes>"
      ]
     },
     "metadata": {
      "needs_background": "light"
     },
     "output_type": "display_data"
    }
   ],
   "source": [
    "# Distribution of labels\n",
    "fig, ax = plt.subplots()\n",
    "\n",
    "# plot hist\n",
    "ax.hist(df.loc[df['company'] == 0, 'company'], bins = 10)\n",
    "ax.hist(df.loc[df['company'] == 1, 'company'], bins = 10)"
   ]
  },
  {
   "cell_type": "markdown",
   "metadata": {},
   "source": [
    "Del gráfico anterior se tiene que las clases estan balanceadas."
   ]
  },
  {
   "cell_type": "code",
   "execution_count": 4,
   "metadata": {},
   "outputs": [],
   "source": [
    "# Tokenizer\n",
    "\n",
    "# Define own tokenizer\n",
    "\n",
    "nlp = spacy.load('es_core_news_sm')\n",
    "\n",
    "def own_tokenizer(sentence):\n",
    "    \n",
    "    tokens = []\n",
    "    \n",
    "    doc = nlp(sentence.lower().strip())\n",
    "    \n",
    "    for token in doc:\n",
    "        \n",
    "        # Filtering\n",
    "        if not token.is_space and not token.is_stop and not token.is_punct and not token.is_digit and not token.like_num:\n",
    "            \n",
    "            # add token to list in lemma form\n",
    "            tokens.append(token.lemma_)\n",
    "            \n",
    "    return tokens"
   ]
  },
  {
   "cell_type": "code",
   "execution_count": 5,
   "metadata": {},
   "outputs": [],
   "source": [
    "# Vectorizer\n",
    "\n",
    "# Bag of words\n",
    "bow_vector = CountVectorizer(tokenizer = own_tokenizer, ngram_range = (1,1))\n",
    "\n",
    "# TFIDF\n",
    "tfidf_vector = TfidfVectorizer(tokenizer = own_tokenizer, ngram_range = (1,1))"
   ]
  },
  {
   "cell_type": "code",
   "execution_count": 6,
   "metadata": {},
   "outputs": [],
   "source": [
    "# Get data\n",
    "X = df['report'] # the features we want to analyze\n",
    "y = df['company'] # the labels, or answers, we want to test against\n",
    "\n",
    "# Split data in trainig and testing\n",
    "# X_train, X_test, y_train, y_test = train_test_split(X, y, test_size=0.7)\n",
    "\n",
    "# Create split data\n",
    "sss = StratifiedShuffleSplit(n_splits= 1, test_size=0.3, random_state=0)\n",
    "\n",
    "# Generate index for splitting data\n",
    "# It get index first becuase it needs the index for word2vec implementation\n",
    "for train_index, test_index in sss.split(X, y):\n",
    "    \n",
    "    # Get index\n",
    "    train_id_list = train_index\n",
    "    test_id_list = test_index\n",
    "\n",
    "# Split data\n",
    "X_train, X_test = X[train_id_list], X[test_id_list]\n",
    "y_train, y_test = y[train_id_list], y[test_id_list]"
   ]
  },
  {
   "cell_type": "code",
   "execution_count": 7,
   "metadata": {},
   "outputs": [],
   "source": [
    "# Create log classifier\n",
    "log_regr = LogisticRegression()\n",
    "\n",
    "# Create pipeline\n",
    "pipe_bow = Pipeline([('preprocessing', bow_vector),\n",
    "                 ('logistic regression', log_regr)])\n",
    "\n",
    "pipe_tfidf = Pipeline([('preprocessing', tfidf_vector),\n",
    "                 ('logistic regression', log_regr)])\n"
   ]
  },
  {
   "cell_type": "code",
   "execution_count": 8,
   "metadata": {},
   "outputs": [
    {
     "name": "stderr",
     "output_type": "stream",
     "text": [
      "/home/leo/Desktop/master_UACH/env/lib/python3.6/site-packages/sklearn/linear_model/logistic.py:432: FutureWarning: Default solver will be changed to 'lbfgs' in 0.22. Specify a solver to silence this warning.\n",
      "  FutureWarning)\n",
      "/home/leo/Desktop/master_UACH/env/lib/python3.6/site-packages/sklearn/linear_model/logistic.py:432: FutureWarning: Default solver will be changed to 'lbfgs' in 0.22. Specify a solver to silence this warning.\n",
      "  FutureWarning)\n"
     ]
    },
    {
     "data": {
      "text/plain": [
       "Pipeline(memory=None,\n",
       "         steps=[('preprocessing',\n",
       "                 TfidfVectorizer(analyzer='word', binary=False,\n",
       "                                 decode_error='strict',\n",
       "                                 dtype=<class 'numpy.float64'>,\n",
       "                                 encoding='utf-8', input='content',\n",
       "                                 lowercase=True, max_df=1.0, max_features=None,\n",
       "                                 min_df=1, ngram_range=(1, 1), norm='l2',\n",
       "                                 preprocessor=None, smooth_idf=True,\n",
       "                                 stop_words=None, strip_accents=None,\n",
       "                                 sublinear_tf=False,\n",
       "                                 token_p...,\n",
       "                                 tokenizer=<function own_tokenizer at 0x7f270ac66f28>,\n",
       "                                 use_idf=True, vocabulary=None)),\n",
       "                ('regression-LR',\n",
       "                 LogisticRegression(C=1.0, class_weight=None, dual=False,\n",
       "                                    fit_intercept=True, intercept_scaling=1,\n",
       "                                    l1_ratio=None, max_iter=100,\n",
       "                                    multi_class='warn', n_jobs=None,\n",
       "                                    penalty='l2', random_state=None,\n",
       "                                    solver='warn', tol=0.0001, verbose=0,\n",
       "                                    warm_start=False))],\n",
       "         verbose=False)"
      ]
     },
     "execution_count": 8,
     "metadata": {},
     "output_type": "execute_result"
    }
   ],
   "source": [
    "# Train model\n",
    "\n",
    "# Using bag of words embedding\n",
    "pipe_bow.fit(X_train, y_train)\n",
    "\n",
    "# Using tfidf word embedding\n",
    "pipe_tfidf.fit(X_train, y_train)"
   ]
  },
  {
   "cell_type": "code",
   "execution_count": 9,
   "metadata": {},
   "outputs": [],
   "source": [
    "# Predicting on test data\n",
    "\n",
    "# using bag of words embedding\n",
    "y_predict_bow = pipe_bow.predict(X_test)\n",
    "\n",
    "# using tfidf embedding\n",
    "y_predict_tfid = pipe_tfidf.predict(X_test)"
   ]
  },
  {
   "cell_type": "code",
   "execution_count": 10,
   "metadata": {},
   "outputs": [
    {
     "name": "stdout",
     "output_type": "stream",
     "text": [
      "\n",
      "BOW embedding\n",
      "\n",
      "Logistic Regression Accuracy: 0.75\n",
      "Logistic Regression Precision: 0.6744186046511628\n",
      "Logistic Regression Recall: 0.9666666666666667\n",
      "Logistic Regression F1 score: 0.7945205479452055\n",
      "\n",
      "TFIDF embedding\n",
      "\n",
      "Logistic Regression Accuracy: 0.7333333333333333\n",
      "Logistic Regression Precision: 0.6944444444444444\n",
      "Logistic Regression Recall: 0.8333333333333334\n",
      "Logistic Regression F1 score: 0.7575757575757577\n"
     ]
    }
   ],
   "source": [
    "print('\\nBOW embedding\\n')\n",
    "print(\"Logistic Regression Accuracy:\",metrics.accuracy_score(y_test, y_predict_bow))\n",
    "print(\"Logistic Regression Precision:\",metrics.precision_score(y_test, y_predict_bow))\n",
    "print(\"Logistic Regression Recall:\",metrics.recall_score(y_test, y_predict_bow))\n",
    "print(\"Logistic Regression F1 score:\",metrics.f1_score(y_test, y_predict_bow))\n",
    "\n",
    "print('\\nTFIDF embedding\\n')\n",
    "print(\"Logistic Regression Accuracy:\",metrics.accuracy_score(y_test, y_predict_tfid))\n",
    "print(\"Logistic Regression Precision:\",metrics.precision_score(y_test, y_predict_tfid))\n",
    "print(\"Logistic Regression Recall:\",metrics.recall_score(y_test, y_predict_tfid))\n",
    "print(\"Logistic Regression F1 score:\",metrics.f1_score(y_test, y_predict_tfid))\n"
   ]
  },
  {
   "cell_type": "markdown",
   "metadata": {},
   "source": [
    "# Testing for Word2Vec"
   ]
  },
  {
   "cell_type": "code",
   "execution_count": 11,
   "metadata": {},
   "outputs": [],
   "source": [
    "# Tokenizer\n",
    "\n",
    "# Define own tokenizer\n",
    "\n",
    "nlp = spacy.load('es_core_news_sm')\n",
    "\n",
    "def own_tokenizer(sentence):\n",
    "    \n",
    "    tokens = []\n",
    "    \n",
    "    doc = nlp(sentence.lower().strip())\n",
    "    \n",
    "    for token in doc:\n",
    "        \n",
    "        # Filtering\n",
    "        if not token.is_space and not token.is_stop and not token.is_punct and not token.is_digit and not token.like_num:\n",
    "            \n",
    "            # add token to list in lemma form\n",
    "            tokens.append(token.lemma_)\n",
    "            \n",
    "    return tokens"
   ]
  },
  {
   "cell_type": "code",
   "execution_count": 29,
   "metadata": {},
   "outputs": [],
   "source": [
    "X_w2v = [ own_tokenizer(report) for report in df['report']]"
   ]
  },
  {
   "cell_type": "code",
   "execution_count": 30,
   "metadata": {},
   "outputs": [],
   "source": [
    "X_w2v = np.array(X_w2v)"
   ]
  },
  {
   "cell_type": "code",
   "execution_count": 32,
   "metadata": {},
   "outputs": [
    {
     "name": "stderr",
     "output_type": "stream",
     "text": [
      "/home/leo/Desktop/master_UACH/env/lib/python3.6/site-packages/ipykernel_launcher.py:3: DeprecationWarning: Call to deprecated `syn0` (Attribute will be removed in 4.0.0, use self.vectors instead).\n",
      "  This is separate from the ipykernel package so we can avoid doing imports until\n"
     ]
    }
   ],
   "source": [
    "# let X be a list of tokenized texts (i.e. list of lists of tokens)\n",
    "model_w2v = gensim.models.Word2Vec(X_w2v, size=11)\n",
    "w2v = dict(zip(model_w2v.wv.index2word, model_w2v.wv.syn0))"
   ]
  },
  {
   "cell_type": "code",
   "execution_count": 33,
   "metadata": {},
   "outputs": [],
   "source": [
    "class MeanEmbeddingVectorizer(object):\n",
    "      \n",
    "    def __init__(self, word2vec):\n",
    "        self.word2vec = word2vec\n",
    "        # if a text is empty we should return a vector of zeros\n",
    "        # with the same dimensionality as all the other vectors\n",
    "        self.dim = len(word2vec.values())\n",
    "\n",
    "    def fit(self, X, y):\n",
    "        return self\n",
    "\n",
    "    def transform(self, X):\n",
    "        \n",
    "        return np.array([\n",
    "            np.mean([self.word2vec[w] for w in words if w in self.word2vec]\n",
    "                    or [np.zeros(self.dim)], axis=0)\n",
    "            for words in X\n",
    "        ])\n"
   ]
  },
  {
   "cell_type": "code",
   "execution_count": 34,
   "metadata": {},
   "outputs": [],
   "source": [
    "pipe_word2vec = Pipeline([\n",
    "    (\"word2vec vectorizer\", MeanEmbeddingVectorizer(w2v)),\n",
    "    (\"logistic regression\", LogisticRegression())])"
   ]
  },
  {
   "cell_type": "code",
   "execution_count": 35,
   "metadata": {},
   "outputs": [],
   "source": [
    "# Get X train and test\n",
    "\n",
    "# Get train data\n",
    "X_w2v_train = X_w2v[train_id_list]\n",
    "y_w2v_train = df['company'][train_id_list]\n",
    "\n",
    "# Get test data\n",
    "X_w2v_test = X_w2v[test_id_list]\n",
    "y_w2v_test = df['company'][test_id_list]"
   ]
  },
  {
   "cell_type": "code",
   "execution_count": 36,
   "metadata": {},
   "outputs": [
    {
     "name": "stderr",
     "output_type": "stream",
     "text": [
      "/home/leo/Desktop/master_UACH/env/lib/python3.6/site-packages/sklearn/linear_model/logistic.py:432: FutureWarning: Default solver will be changed to 'lbfgs' in 0.22. Specify a solver to silence this warning.\n",
      "  FutureWarning)\n"
     ]
    },
    {
     "data": {
      "text/plain": [
       "Pipeline(memory=None,\n",
       "         steps=[('word2vec vectorizer',\n",
       "                 <__main__.MeanEmbeddingVectorizer object at 0x7f26f7f9d5f8>),\n",
       "                ('logistic regression',\n",
       "                 LogisticRegression(C=1.0, class_weight=None, dual=False,\n",
       "                                    fit_intercept=True, intercept_scaling=1,\n",
       "                                    l1_ratio=None, max_iter=100,\n",
       "                                    multi_class='warn', n_jobs=None,\n",
       "                                    penalty='l2', random_state=None,\n",
       "                                    solver='warn', tol=0.0001, verbose=0,\n",
       "                                    warm_start=False))],\n",
       "         verbose=False)"
      ]
     },
     "execution_count": 36,
     "metadata": {},
     "output_type": "execute_result"
    }
   ],
   "source": [
    "pipe_word2vec.fit(X_w2v_train, y_w2v_train)"
   ]
  },
  {
   "cell_type": "code",
   "execution_count": 45,
   "metadata": {},
   "outputs": [],
   "source": [
    "y_predict_w2v = pipe_word2vec.predict(X_w2v_test)"
   ]
  },
  {
   "cell_type": "code",
   "execution_count": 46,
   "metadata": {},
   "outputs": [
    {
     "name": "stdout",
     "output_type": "stream",
     "text": [
      "\n",
      "Word2Vec embedding:\n",
      "\n",
      "Logistic Regression Accuracy: 0.6333333333333333\n",
      "Logistic Regression Precision: 0.6333333333333333\n",
      "Logistic Regression Recall: 0.6333333333333333\n",
      "Logistic Regression F1 score: 0.6333333333333333\n"
     ]
    }
   ],
   "source": [
    "print('\\nWord2Vec embedding:\\n')\n",
    "print(\"Logistic Regression Accuracy:\",metrics.accuracy_score(y_test, y_predict_w2v))\n",
    "print(\"Logistic Regression Precision:\",metrics.precision_score(y_test, y_predict_w2v))\n",
    "print(\"Logistic Regression Recall:\",metrics.recall_score(y_test, y_predict_w2v))\n",
    "print(\"Logistic Regression F1 score:\",metrics.f1_score(y_test, y_predict_w2v))"
   ]
  }
 ],
 "metadata": {
  "kernelspec": {
   "display_name": "Python 3",
   "language": "python",
   "name": "python3"
  },
  "language_info": {
   "codemirror_mode": {
    "name": "ipython",
    "version": 3
   },
   "file_extension": ".py",
   "mimetype": "text/x-python",
   "name": "python",
   "nbconvert_exporter": "python",
   "pygments_lexer": "ipython3",
   "version": "3.6.7"
  }
 },
 "nbformat": 4,
 "nbformat_minor": 2
}
