{
 "cells": [
  {
   "cell_type": "markdown",
   "metadata": {},
   "source": [
    "1. Escriba un autoencoder y entrénelo sobre el dataset [Fashion-MNIST](https://pytorch.org/docs/stable/torchvision/datasets.html#fashion-mnist)\n",
    "    - Use capas convolucionales para el encoder y el decoder\n",
    "    - Usted debe definir la cantidad de capas, la cantidad de filtros por capa y el tamaño de los filtros\n",
    "    - Use 2 dimensiones en el cuello de botella (espacio latente)\n",
    "    - Use activación lineal en el cuello de botella y en la salida\n",
    "    - Use función de costo `BCEWithLogitsLoss`\n",
    "1. Visualice el espacio latente del conjunto de test con un scatter plot (coloree cada clase de forma distinta). Describa el resultado y comente sobre las clases más separadas y más \"confundidas\" en el espacio latente.\n",
    "1. Encuentre y visualize los diez ejemplos con mayor error de reconstrucción del conjunto de test\n",
    "1. Mida la calidad de las reconstrucciones en el conjunto de test por clase. ¿Cúales clases son más difíciles de reconstruir?"
   ]
  },
  {
   "cell_type": "markdown",
   "metadata": {},
   "source": [
    "# Import libraries"
   ]
  },
  {
   "cell_type": "code",
   "execution_count": 129,
   "metadata": {},
   "outputs": [],
   "source": [
    "import torchvision\n",
    "import matplotlib.pyplot as plt\n",
    "import random\n",
    "import sklearn\n",
    "from torch.utils.data import DataLoader, Subset\n",
    "import sklearn.model_selection\n",
    "import numpy as np\n",
    "import torch\n",
    "import torch.nn as nn\n",
    "import torch.nn.functional as F"
   ]
  },
  {
   "cell_type": "markdown",
   "metadata": {},
   "source": [
    "# Load data"
   ]
  },
  {
   "cell_type": "code",
   "execution_count": 2,
   "metadata": {},
   "outputs": [],
   "source": [
    "# Classes\n",
    "classes = ['T-shirt/top', 'Trouser', 'Pullover', 'Dress', 'Coat', 'Sandal', 'Shirt', 'Sneaker', 'Bag', 'Ankle boot']"
   ]
  },
  {
   "cell_type": "code",
   "execution_count": 3,
   "metadata": {},
   "outputs": [],
   "source": [
    "# Get train data\n",
    "train_data = torchvision.datasets.FashionMNIST('mnist_fashion_dataset', \n",
    "                                               train = True, \n",
    "                                               transform = torchvision.transforms.ToTensor(), \n",
    "                                               download = True)\n",
    "\n",
    "# Get test data\n",
    "test_data = torchvision.datasets.FashionMNIST('mnist_fashion_dataset', \n",
    "                                       train=False, \n",
    "                                       download=True,\n",
    "                                       transform=torchvision.transforms.ToTensor())"
   ]
  },
  {
   "cell_type": "markdown",
   "metadata": {},
   "source": [
    "# Display data"
   ]
  },
  {
   "cell_type": "code",
   "execution_count": 7,
   "metadata": {},
   "outputs": [
    {
     "name": "stdout",
     "output_type": "stream",
     "text": [
      "Label:  Shirt\n"
     ]
    },
    {
     "data": {
      "text/plain": [
       "<matplotlib.image.AxesImage at 0x7f25bc8c4fd0>"
      ]
     },
     "execution_count": 7,
     "metadata": {},
     "output_type": "execute_result"
    },
    {
     "data": {
      "image/png": "[encoded data removed]",
      "text/plain": [
       "<Figure size 432x288 with 1 Axes>"
      ]
     },
     "metadata": {
      "needs_background": "light"
     },
     "output_type": "display_data"
    }
   ],
   "source": [
    "# get image\n",
    "image = train_data[random.randint(0, len(train_data))]\n",
    "\n",
    "print('Label: ', classes[image[1]])\n",
    "\n",
    "# plot image\n",
    "plt.figure()\n",
    "plt.imshow(image[0].numpy()[0, :, :], cmap = 'gray')"
   ]
  },
  {
   "cell_type": "markdown",
   "metadata": {},
   "source": [
    "# Create Data Loader"
   ]
  },
  {
   "cell_type": "code",
   "execution_count": 5,
   "metadata": {},
   "outputs": [],
   "source": [
    "# Get spliting data ids\n",
    "sss = sklearn.model_selection.StratifiedShuffleSplit(train_size = 0.6)\n",
    "train_idx, valid_idx = next(sss.split(np.zeros(len(train_data)), train_data.targets))\n",
    "\n",
    "# Get subset for training\n",
    "train_dataset = Subset(train_data, train_idx)\n",
    "\n",
    "# Get dataloader for trainnig\n",
    "train_loader = DataLoader(train_dataset, shuffle=True, batch_size=32)\n",
    "\n",
    "# Get subset for validation\n",
    "valid_dataset = Subset(train_data, valid_idx)\n",
    "\n",
    "# Get dataloader for validation\n",
    "valid_loader = DataLoader(valid_dataset, shuffle=False, batch_size=256)\n",
    "\n",
    "# Get test data loader\n",
    "test_loader = DataLoader(test_data, shuffle=False, batch_size=256)"
   ]
  },
  {
   "cell_type": "markdown",
   "metadata": {},
   "source": [
    "# Define Model"
   ]
  },
  {
   "cell_type": "markdown",
   "metadata": {},
   "source": [
    "- Use capas convolucionales para el encoder y el decoder\n",
    "- Usted debe definir la cantidad de capas, la cantidad de filtros por capa y el tamaño de los filtros\n",
    "- Use 2 dimensiones en el cuello de botella (espacio latente)\n",
    "- Use activación lineal en el cuello de botella y en la salida\n",
    "- Use función de costo BCEWithLogitsLoss"
   ]
  },
  {
   "cell_type": "code",
   "execution_count": 116,
   "metadata": {},
   "outputs": [],
   "source": [
    "class autoencoder(torch.nn.Module):\n",
    "    \n",
    "    # Define architecture\n",
    "    def __init__(self):\n",
    "        \n",
    "        super(autoencoder, self).__init__()\n",
    "         \n",
    "        # Encoder\n",
    "        self.conv1 = torch.nn.Conv2d(1, 10, kernel_size = 3, stride = 1, padding = 1)\n",
    "        self.pool1 = torch.nn.MaxPool2d(kernel_size = 2, stride = 2)\n",
    "        \n",
    "        # Activation\n",
    "        self.act = torch.nn.ReLU()\n",
    "        \n",
    "        # Latent \n",
    "        self.latent = torch.nn.Linear(1960, 2)\n",
    "        \n",
    "        # Decoder\n",
    "        self.deconv1 = torch.nn.ConvTranspose2d(1, 1, kernel_size = 10, stride = 3)\n",
    "#         self.deconv2 = torch.nn.ConvTranspose2d()\n",
    "        \n",
    "    \n",
    "    def encode(self, x, batch_size):\n",
    "        \n",
    "#         # size of minibatch\n",
    "#         input_size = x.size(0) \n",
    "        \n",
    "#         print(input_size)\n",
    "        \n",
    "        # Conv 1\n",
    "        tmp = self.act(self.conv1(x))\n",
    "        \n",
    "        print('out conv 1: ', tmp.size())\n",
    "        \n",
    "        # Pool\n",
    "        tmp = self.pool1(tmp)\n",
    "        \n",
    "        print('out pool 1: ', tmp.size())\n",
    "        \n",
    "        # flatten (reshape)\n",
    "        tmp = tmp.view(batch_size, -1)\n",
    "        \n",
    "        print('out flatten: ', tmp.size())\n",
    "        \n",
    "        # Latent\n",
    "        tmp = self.act(self.latent(tmp))\n",
    "        \n",
    "        print('out latent: ', tmp.size())\n",
    "        \n",
    "        return tmp\n",
    "        \n",
    "    def decode(self, z, batch_size):\n",
    "        # Llenar\n",
    "        \n",
    "        print('input decode: ', z.size())\n",
    "        \n",
    "#         tmp = z.unsqueeze(0).unsqueeze(0)\n",
    "#         tmp[0] = batch_size\n",
    "        \n",
    "        print('output unsqueeze: ', tmp.size())\n",
    "        \n",
    "#         tmp = tmp.view(batch_size, 1, 1, 1)\n",
    "        \n",
    "        print('output reshape')\n",
    "        \n",
    "        tmp = self.act(self.deconv1(tmp))\n",
    "        \n",
    "        print('output deconv1: ', tmp.size())\n",
    "        \n",
    "        return z\n",
    "    \n",
    "    def forward(self, x):\n",
    "        \n",
    "        batch_size = x.size()[0]\n",
    "        \n",
    "        print('input size: ', x.size())\n",
    "        \n",
    "        # Encode\n",
    "        tmp = self.encode(x, batch_size)\n",
    "        \n",
    "        # Decode\n",
    "        tmp = self.decode(tmp, batch_size)\n",
    "        \n",
    "#         print(tmp.size())\n",
    "        \n",
    "        return tmp\n",
    "#         return self.decode(z)"
   ]
  },
  {
   "cell_type": "code",
   "execution_count": 132,
   "metadata": {},
   "outputs": [],
   "source": [
    "class autoencoder(torch.nn.Module):\n",
    "    \n",
    "    def __init__(self):\n",
    "        super(autoencoder, self).__init__()\n",
    "\n",
    "        ## encoder layers ##\n",
    "        # conv layer (depth from 1 --> 16), 3x3 kernels\n",
    "        self.conv1 = nn.Conv2d(1, 16, 3, padding=1)  \n",
    "        # conv layer (depth from 16 --> 4), 3x3 kernels\n",
    "        self.conv2 = nn.Conv2d(16, 4, 3, padding=1)\n",
    "        # pooling layer to reduce x-y dims by two; kernel and stride of 2\n",
    "        self.pool = nn.MaxPool2d(2, 2)\n",
    "\n",
    "        ## decoder layers ##\n",
    "        ## a kernel of 2 and a stride of 2 will increase the spatial dims by 2\n",
    "        self.t_conv1 = nn.ConvTranspose2d(4, 16, 2, stride=2)\n",
    "        self.t_conv2 = nn.ConvTranspose2d(16, 1, 2, stride=2)\n",
    "\n",
    "\n",
    "    def forward(self, x):\n",
    "        ## encode ##\n",
    "        # add hidden layers with relu activation function\n",
    "        # and maxpooling after\n",
    "        x = F.relu(self.conv1(x))\n",
    "        x = self.pool(x)\n",
    "        # add second hidden layer\n",
    "        x = F.relu(self.conv2(x))\n",
    "        x = self.pool(x)  # compressed representation\n",
    "\n",
    "        ## decode ##\n",
    "        # add transpose conv layers, with relu activation function\n",
    "        x = F.relu(self.t_conv1(x))\n",
    "        # output layer (with sigmoid for scaling from 0 to 1)\n",
    "        x = torch.sigmoid(self.t_conv2(x))\n",
    "\n",
    "        return x"
   ]
  },
  {
   "cell_type": "markdown",
   "metadata": {},
   "source": [
    "# Test if the forward method is correct"
   ]
  },
  {
   "cell_type": "code",
   "execution_count": 134,
   "metadata": {},
   "outputs": [
    {
     "name": "stdout",
     "output_type": "stream",
     "text": [
      "torch.Size([1, 28, 28])\n"
     ]
    }
   ],
   "source": [
    "image = train_data[random.randint(0, len(train_data))][0]\n",
    "\n",
    "print(image.size())\n",
    "\n",
    "model = autoencoder()\n",
    "\n",
    "y = model.forward(image.unsqueeze(0))\n",
    "\n",
    "# print(y.size())"
   ]
  },
  {
   "cell_type": "markdown",
   "metadata": {},
   "source": [
    "# Set model and its configurations"
   ]
  },
  {
   "cell_type": "code",
   "execution_count": 137,
   "metadata": {},
   "outputs": [],
   "source": [
    "# define model\n",
    "model = autoencoder()\n",
    "\n",
    "# Define optimizer\n",
    "optimizer = torch.optim.Adam(model.parameters(), lr=1e-3)\n",
    "\n",
    "# Loss function\n",
    "criterion = torch.nn.BCEWithLogitsLoss(reduction='sum')"
   ]
  },
  {
   "cell_type": "markdown",
   "metadata": {},
   "source": [
    "# Train model"
   ]
  },
  {
   "cell_type": "code",
   "execution_count": 166,
   "metadata": {},
   "outputs": [
    {
     "name": "stdout",
     "output_type": "stream",
     "text": [
      "0\n",
      "543.4273681640625\n",
      "1\n",
      "543.4273681640625\n",
      "2\n",
      "543.4273681640625\n",
      "3\n",
      "543.4273681640625\n",
      "4\n",
      "543.4273681640625\n",
      "5\n",
      "543.4273681640625\n",
      "6\n",
      "543.4273681640625\n",
      "7\n",
      "543.4273681640625\n",
      "8\n",
      "543.4273681640625\n",
      "9\n",
      "543.4273681640625\n"
     ]
    }
   ],
   "source": [
    "use_gpu = torch.cuda.is_available()\n",
    "\n",
    "nepochs = 10\n",
    "\n",
    "if use_gpu:\n",
    "    \n",
    "    nnet = model.cuda()\n",
    "\n",
    "import time\n",
    "\n",
    "from torch.utils.tensorboard import SummaryWriter\n",
    "\n",
    "# tensorboard --logdir=/tmp/tensorboard\n",
    "current_time = str(time.time())\n",
    "train_writer = SummaryWriter(\"/tmp/tensorboard/digits/train/\", flush_secs=10)\n",
    "valid_writer = SummaryWriter(\"/tmp/tensorboard/digits/valid/\", flush_secs=10)\n",
    "\n",
    "for epoch in range(nepochs): \n",
    "    \n",
    "    print(epoch)\n",
    "    \n",
    "    # Train\n",
    "    epoch_loss = 0.0\n",
    "    \n",
    "    for mbdata, mblabel in train_loader:\n",
    "        \n",
    "        if use_gpu:\n",
    "            \n",
    "            mbdata, mblabel = mbdata.cuda(), mblabel.cuda()\n",
    "            \n",
    "        prediction = model(mbdata)\n",
    "        \n",
    "        optimizer.zero_grad()    \n",
    "               \n",
    "        loss = criterion(prediction, mbdata)\n",
    "        \n",
    "        epoch_loss += loss.item()\n",
    "        \n",
    "        loss.backward()\n",
    "        \n",
    "        optimizer.step()\n",
    "    \n",
    "    print(epoch_loss/len(train_idx))\n",
    "    train_writer.add_scalar('Loss', epoch_loss/len(train_idx), epoch)\n",
    "    \n",
    "    # Validation    \n",
    "    epoch_loss = 0.0\n",
    "    for mbdata, mblabel in valid_loader:\n",
    "        if use_gpu:\n",
    "            mbdata, mblabel = mbdata.cuda(), mblabel.cuda()\n",
    "        prediction = model(mbdata)\n",
    "        loss = criterion(prediction, mbdata)\n",
    "        epoch_loss += loss.item()\n",
    "    valid_writer.add_scalar('Loss', epoch_loss/len(valid_idx), epoch)\n",
    "\n",
    "if use_gpu:\n",
    "    nnet = nnet.cpu()\n",
    "    \n",
    "train_writer.close()\n",
    "valid_writer.close()"
   ]
  },
  {
   "cell_type": "markdown",
   "metadata": {},
   "source": [
    "# Results visualization"
   ]
  },
  {
   "cell_type": "code",
   "execution_count": 194,
   "metadata": {},
   "outputs": [
    {
     "name": "stdout",
     "output_type": "stream",
     "text": [
      "Sandal\n",
      "torch.Size([1, 1, 28, 28])\n"
     ]
    },
    {
     "data": {
      "text/plain": [
       "<matplotlib.image.AxesImage at 0x7f2580b3efd0>"
      ]
     },
     "execution_count": 194,
     "metadata": {},
     "output_type": "execute_result"
    },
    {
     "data": {
      "image/png": "[encoded data removed]",
      "text/plain": [
       "<Figure size 432x288 with 1 Axes>"
      ]
     },
     "metadata": {
      "needs_background": "light"
     },
     "output_type": "display_data"
    }
   ],
   "source": [
    "import random\n",
    "\n",
    "image = train_data[random.randint(0,1000)]\n",
    "\n",
    "print(classes[image[1]])\n",
    "\n",
    "y = model.forward(image[0].unsqueeze(0))\n",
    "\n",
    "print(y.shape)\n",
    "\n",
    "plt.figure()\n",
    "\n",
    "plt.imshow(y.detach()[0,0, :, :], cmap = 'gray')"
   ]
  }
 ],
 "metadata": {
  "kernelspec": {
   "display_name": "Python 3",
   "language": "python",
   "name": "python3"
  },
  "language_info": {
   "codemirror_mode": {
    "name": "ipython",
    "version": 3
   },
   "file_extension": ".py",
   "mimetype": "text/x-python",
   "name": "python",
   "nbconvert_exporter": "python",
   "pygments_lexer": "ipython3",
   "version": "3.6.7"
  }
 },
 "nbformat": 4,
 "nbformat_minor": 2
}
