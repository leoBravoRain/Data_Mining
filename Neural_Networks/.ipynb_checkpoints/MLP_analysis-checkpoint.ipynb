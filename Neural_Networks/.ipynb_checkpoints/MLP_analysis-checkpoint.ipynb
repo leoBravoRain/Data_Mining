{
 "cells": [
  {
   "cell_type": "markdown",
   "metadata": {},
   "source": [
    "**Ejercicio:** \n",
    "- Complete la implementación de `myMLP`, construya una red neuronal completamente conectada con una capa oculta\n",
    "- Entrene su red por 1000 épocas usando Adam, proponga un criterio para detener el entrenamiento de la red que ayude a evitar el sobreajuste. Justifique\n",
    "\n",
    "<b> Respuesta: </b> Para evitar sobreajuste se comparan los errores sobre training y testing data, en donde si es que superan cierto valor definido, entonces se detiene la iteración. Esto se justifica ya que si se tiene sobreajuste, entonces el error sobre el conjunto de datos de entrenamiento comienza a disminuir y para el caso del conjunto de testing comienza a aumentar.\n",
    "\n",
    "- Haga pruebas con un tamaño de minibatch de entrenamiento de 1, 32 y 256 ¿Qué diferencias nota? Justifique\n",
    "\n",
    "<b> Respuesta: </b> La variable batchsize setea el número de instancias que se utilizan por cada iteración por cada epoch, por lo que a menor valor de batchsize, mas iteraciones se realizan por epoch. \n",
    "Al considerar un tamaño de 1 se tiene un tiempo de ejecuciónd de 5min 8s (utilizando magic %time). Al considerar un valor de 32 se tiene un tiempo de ejecución de 55.5 s, y para 256 se tiene un tiempo de 1min 14s.\n",
    "El menor tiempo para 32 posiblemente se deba a que con ese tamaño, el conjunto de datos puede ser alocado en memoria caché, sin embargo para un tamaño de 256 probablemente no pueda ser alocado completamente en memoria caché.\n",
    "\n",
    "- Experimente con los datasets *two moons* y *blobs* usando distinto número de neuronas en la capa oculta y distintas funciones de activación ¿Qué diferencias puede reportar?\n",
    "\n",
    "<b> Respuesta: </b>  Usando Relu, se obtuvo que a mayor número de neuronas en la capa oculta se obtienen menores valores de la función costo, por lo que el modelo es capaz de predecir correctamente las clases a medida que se aumenta el número de neuronas. Por otro lado, el acurracy aumenta al aumentar el número de neuronas.\n",
    "\n",
    "(De lo anterior, se tiene que a mayor número de neuronas se tiene menor error).\n",
    "\n",
    "Al comparar funciones de activación, se tienen diferentes valores de accuracy, por ejemplo, al comparar RELU con Sigmoid, se tiene que, para la misma arquitectura (número de capas y neuronas), RELU obtiene mayor accuracy.\n",
    "\n",
    "Al comparar para el conjunto de datos (two moons y blobs), se tiene que se requieren mayor número de neuronas para separar blobs debido a la naturaleza de su distribución.\n",
    "\n",
    "- Opcional: Modifique el entrenamiento para correr en GPU. \n",
    "\n",
    "Para correr en GPU se envia el modelo y los datos de training y test a GPU durante entrenamiento."
   ]
  },
  {
   "cell_type": "markdown",
   "metadata": {},
   "source": [
    "### Load libraries"
   ]
  },
  {
   "cell_type": "code",
   "execution_count": 1,
   "metadata": {},
   "outputs": [],
   "source": [
    "import numpy as np\n",
    "import matplotlib.pyplot as plt\n",
    "import sklearn.datasets\n",
    "import sklearn.model_selection\n",
    "import torch\n",
    "import torch.nn as nn\n",
    "import torch.nn.functional as F\n",
    "# Crear conjuntos de entrenamiento y prueba\n",
    "from torch.utils.data import DataLoader, TensorDataset, Subset "
   ]
  },
  {
   "cell_type": "markdown",
   "metadata": {},
   "source": [
    "### Load data"
   ]
  },
  {
   "cell_type": "code",
   "execution_count": 2,
   "metadata": {},
   "outputs": [
    {
     "data": {
      "text/plain": [
       "<matplotlib.collections.PathCollection at 0x7fc79af35128>"
      ]
     },
     "execution_count": 2,
     "metadata": {},
     "output_type": "execute_result"
    },
    {
     "data": {
      "image/png": "[encoded data removed]",
      "text/plain": [
       "<Figure size 432x288 with 1 Axes>"
      ]
     },
     "metadata": {
      "needs_background": "light"
     },
     "output_type": "display_data"
    }
   ],
   "source": [
    "# get data\n",
    "# data, labels = sklearn.datasets.make_circles(n_samples=1000, noise=0.2, factor=0.25)\n",
    "data, labels = sklearn.datasets.make_moons(n_samples=1000, noise=0.05)\n",
    "# data, labels = sklearn.datasets.make_blobs(n_samples=[250]*4, n_features=2, cluster_std=0.1,centers=np.array([[-1, 1], [1, 1], [-1, -1], [1, -1]]))\n",
    "\n",
    "labels[labels==2] = 1; labels[labels==3] = 0;                                        \n",
    "\n",
    "# get train and test idx\n",
    "train_idx, test_idx = next(sklearn.model_selection.ShuffleSplit(train_size=0.5).split(data, labels))\n",
    "\n",
    "# plot data\n",
    "fig, ax = plt.subplots()\n",
    "ax.scatter(data[labels == 0, 0], data[labels == 0, 1])\n",
    "ax.scatter(data[labels == 1, 0], data[labels == 1, 1])"
   ]
  },
  {
   "cell_type": "markdown",
   "metadata": {},
   "source": [
    "### Craete DataLoader from data"
   ]
  },
  {
   "cell_type": "code",
   "execution_count": 3,
   "metadata": {},
   "outputs": [
    {
     "name": "stderr",
     "output_type": "stream",
     "text": [
      "/home/leo/Desktop/master_UACH/env/lib/python3.6/site-packages/ipykernel_launcher.py:1: DeprecationWarning: Numeric-style type codes are deprecated and will result in an error in the future.\n",
      "  \"\"\"Entry point for launching an IPython kernel.\n",
      "/home/leo/Desktop/master_UACH/env/lib/python3.6/site-packages/ipykernel_launcher.py:2: DeprecationWarning: Numeric-style type codes are deprecated and will result in an error in the future.\n",
      "  \n"
     ]
    }
   ],
   "source": [
    "torch_set = TensorDataset(torch.from_numpy(data.astype('Float32')), \n",
    "                          torch.from_numpy(labels.astype('Float32')))\n",
    "\n",
    "# torch_train_loader = DataLoader(Subset(torch_set, train_idx), shuffle=True, batch_size = 1)\n",
    "torch_train_loader = DataLoader(Subset(torch_set, train_idx), shuffle=True, batch_size = 32)\n",
    "# torch_train_loader = DataLoader(Subset(torch_set, train_idx), shuffle=True, batch_size = 256)\n",
    "torch_valid_loader = DataLoader(Subset(torch_set, test_idx), shuffle=False, batch_size=256)"
   ]
  },
  {
   "cell_type": "markdown",
   "metadata": {},
   "source": [
    "### Create Neural Network structure (class)"
   ]
  },
  {
   "cell_type": "code",
   "execution_count": 4,
   "metadata": {},
   "outputs": [],
   "source": [
    "# Neural network architecture\n",
    "class NN(nn.Module):\n",
    "    \n",
    "    # set initial configurations\n",
    "    def __init__(self, hidden_size, num_classes = 2, input_size = 2):\n",
    "        \n",
    "        super(NN, self).__init__()\n",
    "        \n",
    "#         Hidden layer\n",
    "        self.hidden = nn.Linear(input_size, hidden_size)\n",
    "        \n",
    "#         output layer\n",
    "        self.output = nn.Linear(hidden_size, num_classes)\n",
    "        \n",
    "    # How to flow the information?\n",
    "    def forward(self, x):\n",
    "        \n",
    "        x = self.hidden(x)\n",
    "        \n",
    "        # activation function\n",
    "        \n",
    "        # Relu\n",
    "#         x = F.relu(x)\n",
    "\n",
    "        # Sigmoid\n",
    "#         x = torch.sigmoid(x)\n",
    "        \n",
    "        # Tanh\n",
    "        x = torch.tanh(x)\n",
    "    \n",
    "        x = self.output(x)\n",
    "        \n",
    "        # return result\n",
    "        return x"
   ]
  },
  {
   "cell_type": "markdown",
   "metadata": {},
   "source": [
    "### Define activation function and structure of NN"
   ]
  },
  {
   "cell_type": "code",
   "execution_count": 5,
   "metadata": {},
   "outputs": [],
   "source": [
    "# Create nn\n",
    "num_hidden = 4\n",
    "\n",
    "# for title and file name\n",
    "# act_function = 'relu'\n",
    "# act_function = 'sigmoid'\n",
    "act_function = 'tanh'\n",
    "\n",
    "model = NN(hidden_size = num_hidden, num_classes = 2, input_size = 2)"
   ]
  },
  {
   "cell_type": "markdown",
   "metadata": {},
   "source": [
    "### GPU implementation"
   ]
  },
  {
   "cell_type": "code",
   "execution_count": 6,
   "metadata": {},
   "outputs": [
    {
     "name": "stdout",
     "output_type": "stream",
     "text": [
      "cuda:0\n"
     ]
    }
   ],
   "source": [
    "# GPU implementation\n",
    "device = torch.device(\"cuda:0\" if torch.cuda.is_available() else \"cpu\")\n",
    "\n",
    "model.to(device)\n",
    "\n",
    "print(device)"
   ]
  },
  {
   "cell_type": "markdown",
   "metadata": {},
   "source": [
    "### Define Cost function and Optimizer"
   ]
  },
  {
   "cell_type": "code",
   "execution_count": 7,
   "metadata": {},
   "outputs": [],
   "source": [
    "# loss function and optimizer\n",
    "criterion = nn.CrossEntropyLoss()\n",
    "optimizer = torch.optim.Adam(model.parameters(), lr = 1e-3) # 1e-3 is ok"
   ]
  },
  {
   "cell_type": "markdown",
   "metadata": {},
   "source": [
    "### Train neural Network"
   ]
  },
  {
   "cell_type": "code",
   "execution_count": 10,
   "metadata": {},
   "outputs": [
    {
     "name": "stdout",
     "output_type": "stream",
     "text": [
      "Accuracy: 100.0\n"
     ]
    },
    {
     "data": {
      "image/png": "[encoded data removed]",
      "text/plain": [
       "<Figure size 432x288 with 1 Axes>"
      ]
     },
     "metadata": {
      "needs_background": "light"
     },
     "output_type": "display_data"
    }
   ],
   "source": [
    "# %%time\n",
    "\n",
    "# Train NN\n",
    "num_epochs = 1000\n",
    "\n",
    "# loss values\n",
    "train_loss = np.zeros((num_epochs,1))\n",
    "test_loss = np.zeros((num_epochs,1))\n",
    "\n",
    "# threshold for stop epochs\n",
    "threshold = 20 # Percentaje. Find value\n",
    "\n",
    "# plot for errors values\n",
    "fig, ax = plt.subplots()\n",
    "# fig.legend()\n",
    "\n",
    "for epoch in range(num_epochs):\n",
    "    \n",
    "#     print(epoch)\n",
    "    train_loss_tmp = 0\n",
    "    test_loss_tmp = 0\n",
    "    \n",
    "    # training\n",
    "    for data_train in torch_train_loader:\n",
    "\n",
    "#         # CPU implementation\n",
    "#         x_train, y_train = data_train\n",
    "        \n",
    "        # GPU implementation\n",
    "        x_train, y_train = data_train[0].to(device), data_train[1].to(device)\n",
    "        \n",
    "#         x_train, y_train = x_train.to(device), y_train.to(device)\n",
    "        \n",
    "        # forward\n",
    "        outputs = model(x_train)\n",
    "        \n",
    "        optimizer.zero_grad()\n",
    "        \n",
    "        loss = criterion(outputs, y_train.long())\n",
    "        \n",
    "        # update train loss\n",
    "        train_loss_tmp += loss.item()\n",
    "        \n",
    "        # Backward and optimze\n",
    "        loss.backward()\n",
    "        optimizer.step()   \n",
    "        \n",
    "    # testing\n",
    "    for data_test in torch_valid_loader:\n",
    "\n",
    "#         # CPU implementation\n",
    "#         x_test, y_test = data_test\n",
    "\n",
    "        # GPU implementation\n",
    "        x_test, y_test = data_test[0].to(device), data_test[1].to(device)\n",
    "        \n",
    "        # forward\n",
    "        outputs = model(x_test)\n",
    "        \n",
    "        loss = criterion(outputs, y_test.long())\n",
    "        \n",
    "        # update train loss\n",
    "        test_loss_tmp += loss.item()\n",
    "    \n",
    "#     print('Finish epoch {0}\\n'.format(epoch))\n",
    "    \n",
    "    train_loss[epoch] = train_loss_tmp\n",
    "    test_loss[epoch] = test_loss_tmp\n",
    "    \n",
    "    # Compare erros, if they are greather than threshold so stop\n",
    "    if ((test_loss_tmp - train_loss_tmp)/test_loss_tmp) > threshold:\n",
    "        \n",
    "        print('Stop because differences between errors is greather than {0}'.format(threshold))\n",
    "        break\n",
    "    \n",
    "#     print('Finish iteration in epoch')\n",
    "#     print(train_loss)\n",
    "#     Plot test errors\n",
    "\n",
    "ax.plot(train_loss[0:epoch], color = 'red', label = 'train')\n",
    "ax.plot(test_loss[0:epoch], color = 'blue', label = 'test')\n",
    "ax.legend()\n",
    "ax.set_xlabel('Epochs')\n",
    "ax.set_ylabel('Loss')\n",
    "\n",
    "\n",
    "# Test NN\n",
    "with torch.no_grad():\n",
    "    \n",
    "    correct = 0\n",
    "    total = 0\n",
    "    \n",
    "    for data_test in torch_valid_loader:\n",
    "        \n",
    "#         # CPU implementation\n",
    "#         x_test, y_test = data_test\n",
    "        \n",
    "        # GPU implementation\n",
    "        x_test, y_test = data_test[0].to(device), data_test[1].to(device)\n",
    "        \n",
    "        outputs = model(x_test)\n",
    "        \n",
    "        _, predicted = torch.max(outputs.data, 1)\n",
    "        \n",
    "        total += y_test.size(0)\n",
    "        \n",
    "        correct += (predicted == y_test.long()).sum().item()\n",
    "        \n",
    "    print('Accuracy: {0}'.format(correct/total*100))   \n",
    "    \n",
    "\n",
    "title = 'hidden units: ' + str(num_hidden) + ' | act fun: ' + act_function + ' | Acc: ' +  str(correct/total*100)\n",
    "ax.title.set_text(title)\n",
    "# Save plot\n",
    "fig.savefig(title + '.png')"
   ]
  },
  {
   "cell_type": "markdown",
   "metadata": {},
   "source": [
    "### Get accuracy of model"
   ]
  },
  {
   "cell_type": "code",
   "execution_count": 68,
   "metadata": {
    "scrolled": false
   },
   "outputs": [
    {
     "name": "stdout",
     "output_type": "stream",
     "text": [
      "Accuracy: 55.32786885245902\n"
     ]
    }
   ],
   "source": [
    "# Test NN\n",
    "with torch.no_grad():\n",
    "    \n",
    "    correct = 0\n",
    "    total = 0\n",
    "    \n",
    "    for data_ in torch_train_loader:\n",
    "        \n",
    "#         # CPU implementation\n",
    "#         x_test, y_test = data_test\n",
    "        \n",
    "        # GPU implementation\n",
    "        x_test, y_test = data_test[0].to(device), data_test[1].to(device)\n",
    "        \n",
    "        outputs = model(x_test)\n",
    "        \n",
    "        _, predicted = torch.max(outputs.data, 1)\n",
    "        \n",
    "        total += y_test.size(0)\n",
    "        \n",
    "        correct += (predicted == y_test.long()).sum().item()\n",
    "        \n",
    "    print('Accuracy: {0}'.format(correct/total*100))    "
   ]
  }
 ],
 "metadata": {
  "kernelspec": {
   "display_name": "Python 3",
   "language": "python",
   "name": "python3"
  },
  "language_info": {
   "codemirror_mode": {
    "name": "ipython",
    "version": 3
   },
   "file_extension": ".py",
   "mimetype": "text/x-python",
   "name": "python",
   "nbconvert_exporter": "python",
   "pygments_lexer": "ipython3",
   "version": "3.6.7"
  }
 },
 "nbformat": 4,
 "nbformat_minor": 2
}
