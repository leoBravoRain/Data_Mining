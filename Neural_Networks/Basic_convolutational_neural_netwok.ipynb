{
 "cells": [
  {
   "cell_type": "markdown",
   "metadata": {},
   "source": [
    "Escriba una clase que herede de `torch.nn.Module` para clasificar MNIST (10 clases)\n",
    "\n",
    "Implemente\n",
    "1. Una red convolucional con arquitectura Lenet5\n",
    "1. Agregue dropout\n",
    "1. Aumentación de datos en el conjunto de entrenamiento (puede usar las transformaciones de torchvision)\n",
    "\n",
    "Para cada red\n",
    "- Visualice los filtros obtenidos en las primeras tres capas, ¿puede encontrar los filtros asociados a cada clase?\n",
    "- Mida el costo de entrenamiento y validación\n",
    "- Use early-stopping para detener el entrenamiento\n",
    "- Evalue la red detenida en el conjunto de prueba, obtenga la loss y una tabla de confusión\n",
    "\n",
    "\n",
    "Compare y analice sus resultados \n",
    "\n",
    "Puede usar la librería [hiddenlayer](https://github.com/waleedka/hiddenlayer) o [tensorboard](https://pytorch.org/docs/stable/tensorboard.html) para visualizar el entrenamiento"
   ]
  },
  {
   "cell_type": "markdown",
   "metadata": {},
   "source": [
    "### Load library"
   ]
  },
  {
   "cell_type": "code",
   "execution_count": 1,
   "metadata": {},
   "outputs": [],
   "source": [
    "%matplotlib inline\n",
    "import numpy as np\n",
    "import matplotlib.pyplot as plt\n",
    "from matplotlib import animation\n",
    "from tqdm import tqdm_notebook\n",
    "import torch\n",
    "import torchvision\n",
    "import scipy.signal\n",
    "from torch.utils.data import DataLoader, Subset\n",
    "import sklearn.model_selection\n",
    "import torch.nn.functional as F"
   ]
  },
  {
   "cell_type": "markdown",
   "metadata": {},
   "source": [
    "### Load data MNIST"
   ]
  },
  {
   "cell_type": "code",
   "execution_count": 2,
   "metadata": {},
   "outputs": [],
   "source": [
    "# download MNIST \n",
    "mnist = torchvision.datasets.MNIST('dataset', train = True, download = True, transform = torchvision.transforms.ToTensor())"
   ]
  },
  {
   "cell_type": "code",
   "execution_count": 8,
   "metadata": {},
   "outputs": [
    {
     "name": "stdout",
     "output_type": "stream",
     "text": [
      "Image shape:  torch.Size([1, 28, 28])\n",
      "label:  1\n"
     ]
    },
    {
     "data": {
      "text/plain": [
       "<matplotlib.image.AxesImage at 0x7f63f69950f0>"
      ]
     },
     "execution_count": 8,
     "metadata": {},
     "output_type": "execute_result"
    },
    {
     "data": {
      "image/png": "[encoded data removed]",
      "text/plain": [
       "<Figure size 432x288 with 1 Axes>"
      ]
     },
     "metadata": {
      "needs_background": "light"
     },
     "output_type": "display_data"
    }
   ],
   "source": [
    "fig, ax = plt.subplots()\n",
    "\n",
    "image = mnist[200]\n",
    "\n",
    "print('Image shape: ', image[0].shape)\n",
    "\n",
    "print('label: ', image[1])\n",
    "\n",
    "ax.imshow(image[0].numpy()[0, :, :], cmap = plt.cm.Greys_r)"
   ]
  },
  {
   "cell_type": "markdown",
   "metadata": {},
   "source": [
    "### Convolution"
   ]
  },
  {
   "cell_type": "code",
   "execution_count": 9,
   "metadata": {},
   "outputs": [
    {
     "data": {
      "text/plain": [
       "<matplotlib.image.AxesImage at 0x7f63f68c4e48>"
      ]
     },
     "execution_count": 9,
     "metadata": {},
     "output_type": "execute_result"
    },
    {
     "data": {
      "image/png": "[encoded data removed]",
      "text/plain": [
       "<Figure size 432x288 with 2 Axes>"
      ]
     },
     "metadata": {
      "needs_background": "light"
     },
     "output_type": "display_data"
    }
   ],
   "source": [
    "kernel = np.array([[1., -1]]).T\n",
    "\n",
    "conv_image = scipy.signal.convolve2d(image[0].numpy()[0, :, :], kernel, mode = 'valid' )\n",
    "\n",
    "# plot conv image\n",
    "fig, ax = plt.subplots(2, 1)\n",
    "\n",
    "ax[0].imshow(conv_image, cmap = 'gray')\n",
    "ax[1].imshow(kernel, cmap = 'gray')"
   ]
  },
  {
   "cell_type": "markdown",
   "metadata": {},
   "source": [
    "### Loading data for train and test NN"
   ]
  },
  {
   "cell_type": "code",
   "execution_count": 10,
   "metadata": {},
   "outputs": [],
   "source": [
    "# get train and valid idx \n",
    "sss = sklearn.model_selection.StratifiedShuffleSplit(train_size=0.6)\n",
    "train_idx, valid_idx = next(sss.split(np.zeros(len(mnist)), mnist.targets))\n",
    "\n",
    "# Create train data\n",
    "train_dataset = Subset(mnist, train_idx)\n",
    "\n",
    "# Get train and valid loader data\n",
    "train_loader = DataLoader(train_dataset, shuffle = True, batch_size = 32)\n",
    "valid_loader = DataLoader(Subset(mnist, valid_idx), shuffle = False, batch_size = 32)\n",
    "\n",
    "# Get test data\n",
    "mnist_test = torchvision.datasets.MNIST('dataset', train = False, download = True,\n",
    "                                             transform=torchvision.transforms.ToTensor())\n",
    "\n",
    "# test data\n",
    "test_loader = DataLoader(mnist_test, shuffle = False, batch_size = 256)"
   ]
  },
  {
   "cell_type": "markdown",
   "metadata": {},
   "source": [
    "### Train a Convolutional Neural Network"
   ]
  },
  {
   "cell_type": "markdown",
   "metadata": {},
   "source": [
    "#### Neural network Arquitechture"
   ]
  },
  {
   "cell_type": "code",
   "execution_count": 29,
   "metadata": {},
   "outputs": [],
   "source": [
    "class conv_nn(torch.nn.Module):\n",
    "    \n",
    "    def __init__(self):\n",
    "        \n",
    "        super(conv_nn, self).__init__()\n",
    "        \n",
    "        # convolutation layer\n",
    "        # input_chanels = 1\n",
    "        # output: 10\n",
    "        self.conv1 = torch.nn.Conv2d(1, 10, kernel_size = 3, stride = 1, padding = 1)\n",
    "        \n",
    "        # pooling\n",
    "        self.maxpooling = torch.nn.MaxPool2d(kernel_size = 2, stride = 2)\n",
    "\n",
    "        # activation function\n",
    "        self.act = torch.nn.ReLU()\n",
    "        \n",
    "        # final layer\n",
    "        # input (flatten output from the last layer)\n",
    "        # output: 10\n",
    "        self.output = torch.nn.Linear(1960, 10, bias = True)\n",
    "        \n",
    "        \n",
    "    # forward method\n",
    "    def forward(self, x):\n",
    "        \n",
    "        # size of minibatch\n",
    "        input_size = x.size(0)\n",
    "        \n",
    "#         print(x.size(0))\n",
    "        # X dimenions: (num_batches: 32, num_chanels: 1, height: 28, width: 28)\n",
    "        x = self.conv1(x)\n",
    "        \n",
    "#         print('out conv: ', x.shape)\n",
    "        \n",
    "        x = self.act(x)\n",
    "        \n",
    "#         print('out activation: ', x.shape)\n",
    "        \n",
    "        # Reduce dimension\n",
    "        x = self.maxpooling(x)\n",
    "        \n",
    "#         print('pooling: ', x.shape)\n",
    "        \n",
    "        # flatten\n",
    "        x = x.view(input_size, -1)\n",
    "        \n",
    "#         print('out flatten: ', x.shape)\n",
    "        \n",
    "        x = self.output(x)\n",
    "        \n",
    "#         print('output: ',x.shape)\n",
    "        \n",
    "        x = F.log_softmax(x)\n",
    "        \n",
    "#         print('softmax out: ', x.shape)\n",
    "        \n",
    "        return x"
   ]
  },
  {
   "cell_type": "markdown",
   "metadata": {},
   "source": [
    "#### Set configurations for NN"
   ]
  },
  {
   "cell_type": "code",
   "execution_count": 30,
   "metadata": {},
   "outputs": [],
   "source": [
    "# define net\n",
    "net = conv_nn()\n",
    "\n",
    "# Define optimizer\n",
    "optimizer = torch.optim.Adam(net.parameters(), lr=1e-3)\n",
    "criterion = torch.nn.NLLLoss()"
   ]
  },
  {
   "cell_type": "markdown",
   "metadata": {},
   "source": [
    "### Train NN"
   ]
  },
  {
   "cell_type": "code",
   "execution_count": 31,
   "metadata": {},
   "outputs": [
    {
     "name": "stderr",
     "output_type": "stream",
     "text": [
      "/home/leo/Desktop/master_UACH/env/lib/python3.6/site-packages/ipykernel_launcher.py:54: UserWarning: Implicit dimension choice for log_softmax has been deprecated. Change the call to include dim=X as an argument.\n"
     ]
    }
   ],
   "source": [
    "# number of epochs\n",
    "epochs = 5\n",
    "\n",
    "for epoch in range(epochs):\n",
    "    \n",
    "    for data, label in train_loader:\n",
    "        \n",
    "#         print(data.shape)\n",
    "        prediction = net(data)\n",
    "        \n",
    "        optimizer.zero_grad()  \n",
    "#         print(label.shape)\n",
    "#         print(prediction.shape)\n",
    "        loss = criterion(prediction, label)  \n",
    "               \n",
    "        loss.backward()\n",
    "        \n",
    "        optimizer.step()"
   ]
  },
  {
   "cell_type": "code",
   "execution_count": 32,
   "metadata": {},
   "outputs": [
    {
     "name": "stderr",
     "output_type": "stream",
     "text": [
      "/home/leo/Desktop/master_UACH/env/lib/python3.6/site-packages/ipykernel_launcher.py:54: UserWarning: Implicit dimension choice for log_softmax has been deprecated. Change the call to include dim=X as an argument.\n"
     ]
    },
    {
     "name": "stdout",
     "output_type": "stream",
     "text": [
      "Accuracy: 97.33333333333334\n"
     ]
    }
   ],
   "source": [
    "# Without gradient\n",
    "with torch.no_grad():\n",
    "    \n",
    "    # For compute accuracy\n",
    "    correct = 0\n",
    "    total = 0\n",
    "    \n",
    "    # minibatches for validation dataset\n",
    "    for data, label in valid_loader:\n",
    "        \n",
    "#         print(data.shape)\n",
    "        prediction = net(data)\n",
    "               \n",
    "        _, predicted = torch.max(prediction.data, 1)\n",
    "        \n",
    "        total += label.size(0)\n",
    "        \n",
    "        correct += (predicted == label.long()).sum().item()\n",
    "        \n",
    "    print('Accuracy: {0}'.format(correct/total*100))    \n",
    "    "
   ]
  },
  {
   "cell_type": "code",
   "execution_count": 44,
   "metadata": {},
   "outputs": [
    {
     "name": "stderr",
     "output_type": "stream",
     "text": [
      "/home/leo/Desktop/master_UACH/env/lib/python3.6/site-packages/ipykernel_launcher.py:54: UserWarning: Implicit dimension choice for log_softmax has been deprecated. Change the call to include dim=X as an argument.\n"
     ]
    },
    {
     "data": {
      "text/plain": [
       "tensor(0)"
      ]
     },
     "metadata": {},
     "output_type": "display_data"
    },
    {
     "data": {
      "text/plain": [
       "0"
      ]
     },
     "metadata": {},
     "output_type": "display_data"
    },
    {
     "data": {
      "text/plain": [
       "<matplotlib.image.AxesImage at 0x7f63f4047ac8>"
      ]
     },
     "execution_count": 44,
     "metadata": {},
     "output_type": "execute_result"
    },
    {
     "data": {
      "image/png": "[encoded data removed]",
      "text/plain": [
       "<Figure size 432x288 with 1 Axes>"
      ]
     },
     "metadata": {
      "needs_background": "light"
     },
     "output_type": "display_data"
    }
   ],
   "source": [
    "import random \n",
    "\n",
    "\n",
    "image, label = mnist_test[10]\n",
    "\n",
    "# print(net.forward(image.unsqueeze(0)))\n",
    "\n",
    "y = torch.nn.Softmax(dim=1)(net.forward(image.unsqueeze(0)))\n",
    "\n",
    "# display(y)\n",
    "display(torch.argmax(y))\n",
    "display(label)\n",
    "\n",
    "plt.figure()\n",
    "plt.imshow(image.numpy()[0, :, :], cmap=plt.cm.Greys_r)"
   ]
  }
 ],
 "metadata": {
  "kernelspec": {
   "display_name": "Python 3",
   "language": "python",
   "name": "python3"
  },
  "language_info": {
   "codemirror_mode": {
    "name": "ipython",
    "version": 3
   },
   "file_extension": ".py",
   "mimetype": "text/x-python",
   "name": "python",
   "nbconvert_exporter": "python",
   "pygments_lexer": "ipython3",
   "version": "3.6.7"
  }
 },
 "nbformat": 4,
 "nbformat_minor": 2
}
